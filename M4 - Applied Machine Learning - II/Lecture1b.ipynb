{
 "cells": [
  {
   "cell_type": "code",
   "execution_count": 1,
   "metadata": {},
   "outputs": [
    {
     "name": "stdout",
     "output_type": "stream",
     "text": [
      "df Shape:  (500, 15)\n",
      "          A         C         E         K         L         M         O\n",
      "A  1.000000 -0.089632  0.025479  0.007089  0.093479  0.028418  0.198876\n",
      "C -0.089632  1.000000 -0.059630  0.017461 -0.008542 -0.014616 -0.033754\n",
      "E  0.025479 -0.059630  1.000000  0.087972  0.015220  0.214182  0.330314\n",
      "K  0.007089  0.017461  0.087972  1.000000 -0.052422  0.070744  0.258180\n",
      "L  0.093479 -0.008542  0.015220 -0.052422  1.000000  0.034610  0.116636\n",
      "M  0.028418 -0.014616  0.214182  0.070744  0.034610  1.000000  0.219770\n",
      "O  0.198876 -0.033754  0.330314  0.258180  0.116636  0.219770  1.000000\n"
     ]
    },
    {
     "data": {
      "image/png": "[encoded data removed]",
      "text/plain": [
       "<Figure size 432x288 with 2 Axes>"
      ]
     },
     "metadata": {
      "needs_background": "light"
     },
     "output_type": "display_data"
    }
   ],
   "source": [
    "import pandas as pd\n",
    "import numpy as np\n",
    "import seaborn as sns\n",
    "from sklearn.tree import DecisionTreeClassifier # Import Decision Tree Classifier\n",
    "from sklearn.model_selection import train_test_split # Import train_test_split function\n",
    "from sklearn import metrics #Import scikit-learn metrics module for accuracy calculation\n",
    "from sklearn.metrics import roc_auc_score\n",
    "from sklearn.metrics import confusion_matrix\n",
    "from sklearn.metrics import precision_score\n",
    "from sklearn.metrics import recall_score\n",
    "from sklearn.metrics import f1_score\n",
    "from sklearn.ensemble import BaggingClassifier\n",
    "from sklearn.ensemble import RandomForestClassifier\n",
    "from sklearn.ensemble import AdaBoostClassifier\n",
    "from sklearn.ensemble import GradientBoostingClassifier\n",
    "from sklearn.ensemble import ExtraTreesClassifier \n",
    "from sklearn import svm\n",
    "\n",
    "\n",
    "df = pd.read_csv('bench.csv', encoding='latin-1')\n",
    " \n",
    "df = df[:500]\n",
    "    \n",
    "df.dropna(inplace= True)\n",
    "print (\"df Shape: \", df.shape)\n",
    "\n",
    "\n",
    "#Generating the correlation matrix\n",
    "corr = df.corr()\n",
    "\n",
    "#Generating the correlation heat-map\n",
    "sns.heatmap(corr)\n",
    "\n",
    "print(corr)"
   ]
  },
  {
   "cell_type": "code",
   "execution_count": 2,
   "metadata": {
    "scrolled": true
   },
   "outputs": [
    {
     "name": "stdout",
     "output_type": "stream",
     "text": [
      "Train_x Shape:  (400, 89)\n",
      "Train_y Shape:  (400,)\n",
      "Test_x Shape:  (100, 89)\n",
      "Test_y Shape:  (100,)\n"
     ]
    }
   ],
   "source": [
    "df = pd.get_dummies(df)\n",
    "labels = np.array(df['O'])\n",
    "df= df.drop('O', axis = 1)\n",
    "df_list = list(df.columns)\n",
    "\n",
    "train_x, test_x, train_y, test_y = train_test_split(df, labels, test_size = 0.2, random_state = 42)\n",
    "\n",
    "print (\"Train_x Shape: \",train_x.shape)\n",
    "print (\"Train_y Shape: \", train_y.shape)\n",
    "print (\"Test_x Shape: \", test_x.shape)\n",
    "print (\"Test_y Shape: \", test_y.shape)"
   ]
  },
  {
   "cell_type": "code",
   "execution_count": 3,
   "metadata": {},
   "outputs": [
    {
     "name": "stdout",
     "output_type": "stream",
     "text": [
      "[[66 13]\n",
      " [12  9]]\n",
      "Accuracy: 0.75\n",
      "AUC Score: 0.6320072332730561\n",
      "AUC Score prob: 0.6320072332730561\n",
      "Precision: 0.4090909090909091\n",
      "Recall: 0.42857142857142855\n",
      "F1 Score: 0.4186046511627907\n"
     ]
    }
   ],
   "source": [
    "# Create Decision Tree classifer object\n",
    "clf = DecisionTreeClassifier()\n",
    "\n",
    "# Train Decision Tree Classifer\n",
    "clf = clf.fit(train_x,train_y)\n",
    "\n",
    "#Predict the response for test dataset\n",
    "y_pred1 = clf.predict(test_x)\n",
    "y_pred_prob = clf.predict_proba(test_x)[:,1]\n",
    "\n",
    "print(confusion_matrix(test_y, y_pred1))\n",
    "print(\"Accuracy:\",metrics.accuracy_score(test_y, y_pred1))\n",
    "print (\"AUC Score:\", roc_auc_score(test_y, y_pred1))\n",
    "print (\"AUC Score prob:\", roc_auc_score(test_y, y_pred_prob))\n",
    "print (\"Precision:\", precision_score(test_y, y_pred1))\n",
    "print (\"Recall:\", recall_score(test_y, y_pred1))\n",
    "print (\"F1 Score:\", f1_score(test_y, y_pred1))\n"
   ]
  },
  {
   "cell_type": "code",
   "execution_count": 4,
   "metadata": {},
   "outputs": [
    {
     "name": "stdout",
     "output_type": "stream",
     "text": [
      "[[72  7]\n",
      " [ 8 13]]\n",
      "Accuracy: 0.85\n",
      "AUC Score: 0.7652200120554551\n",
      "AUC Score prob: 0.863170584689572\n",
      "Precision: 0.65\n",
      "Recall: 0.6190476190476191\n",
      "F1 Score: 0.6341463414634146\n"
     ]
    }
   ],
   "source": [
    "rfc = RandomForestClassifier(n_estimators=100, max_features=10)\n",
    "\n",
    "rfc = rfc.fit(train_x,train_y)\n",
    "\n",
    "#Predict the response for test dataset\n",
    "y_pred3 = rfc.predict(test_x)\n",
    "\n",
    "y_pred_prob = rfc.predict_proba(test_x)[:,1]\n",
    "\n",
    "print(confusion_matrix(test_y, y_pred3))\n",
    "print(\"Accuracy:\",metrics.accuracy_score(test_y, y_pred3))\n",
    "print (\"AUC Score:\", roc_auc_score(test_y, y_pred3))\n",
    "print (\"AUC Score prob:\", roc_auc_score(test_y, y_pred_prob))\n",
    "print (\"Precision:\", precision_score(test_y, y_pred3))\n",
    "print (\"Recall:\", recall_score(test_y, y_pred3))\n",
    "print (\"F1 Score:\", f1_score(test_y, y_pred3))\n"
   ]
  },
  {
   "cell_type": "code",
   "execution_count": null,
   "metadata": {},
   "outputs": [],
   "source": [
    "svcf = svm.SVC(kernel='linear', probability=True)\n",
    "svcf.fit(train_x,train_y)\n",
    "y_pred = svcf.predict(test_x)\n",
    "\n",
    "y_pred_prob = svcf.predict_proba(test_x)[:,1]\n",
    "\n",
    "print(confusion_matrix(test_y, y_pred))\n",
    "print(\"Accuracy:\",metrics.accuracy_score(test_y, y_pred))\n",
    "print (\"AUC Score:\", roc_auc_score(test_y, y_pred))\n",
    "print (\"AUC Score prob:\", roc_auc_score(test_y, y_pred_prob))\n",
    "print (\"Precision:\", precision_score(test_y, y_pred))\n",
    "print (\"Recall:\", recall_score(test_y, y_pred))\n",
    "print (\"F1 Score:\", f1_score(test_y, y_pred))"
   ]
  },
  {
   "cell_type": "code",
   "execution_count": null,
   "metadata": {},
   "outputs": [],
   "source": [
    "svcf = svm.LinearSVC()\n",
    "svcf.fit(train_x,train_y)\n",
    "y_pred = svcf.predict(test_x)\n",
    "\n",
    "print(confusion_matrix(test_y, y_pred))\n",
    "print(\"Accuracy:\",metrics.accuracy_score(test_y, y_pred))\n",
    "print (\"AUC Score:\", roc_auc_score(test_y, y_pred))\n",
    "print (\"Precision:\", precision_score(test_y, y_pred))\n",
    "print (\"Recall:\", recall_score(test_y, y_pred))\n",
    "print (\"F1 Score:\", f1_score(test_y, y_pred))"
   ]
  },
  {
   "cell_type": "code",
   "execution_count": null,
   "metadata": {},
   "outputs": [],
   "source": [
    "svcf = svm.SVC(kernel='linear', C=0.1, probability=True)\n",
    "svcf.fit(train_x,train_y)\n",
    "y_pred = svcf.predict(test_x)\n",
    "\n",
    "y_pred_prob = svcf.predict_proba(test_x)[:,1]\n",
    "\n",
    "print(confusion_matrix(test_y, y_pred))\n",
    "print(\"Accuracy:\",metrics.accuracy_score(test_y, y_pred))\n",
    "print (\"AUC Score:\", roc_auc_score(test_y, y_pred))\n",
    "print (\"AUC Score prob:\", roc_auc_score(test_y, y_pred_prob))\n",
    "print (\"Precision:\", precision_score(test_y, y_pred))\n",
    "print (\"Recall:\", recall_score(test_y, y_pred))\n",
    "print (\"F1 Score:\", f1_score(test_y, y_pred))"
   ]
  },
  {
   "cell_type": "code",
   "execution_count": null,
   "metadata": {},
   "outputs": [],
   "source": [
    "svcf = svm.SVC(kernel='poly', probability=True)\n",
    "svcf.fit(train_x,train_y)\n",
    "y_pred = svcf.predict(test_x)\n",
    "\n",
    "y_pred_prob = svcf.predict_proba(test_x)[:,1]\n",
    "\n",
    "print(confusion_matrix(test_y, y_pred))\n",
    "print(\"Accuracy:\",metrics.accuracy_score(test_y, y_pred))\n",
    "print (\"AUC Score:\", roc_auc_score(test_y, y_pred))\n",
    "print (\"AUC Score prob:\", roc_auc_score(test_y, y_pred_prob))\n",
    "print (\"Precision:\", precision_score(test_y, y_pred))\n",
    "print (\"Recall:\", recall_score(test_y, y_pred))\n",
    "print (\"F1 Score:\", f1_score(test_y, y_pred))"
   ]
  },
  {
   "cell_type": "code",
   "execution_count": null,
   "metadata": {},
   "outputs": [],
   "source": [
    "svcf = svm.SVC(kernel='rbf', probability=True)\n",
    "svcf.fit(train_x,train_y)\n",
    "y_pred = svcf.predict(test_x)\n",
    "\n",
    "y_pred_prob = svcf.predict_proba(test_x)[:,1]\n",
    "\n",
    "print(confusion_matrix(test_y, y_pred))\n",
    "print(\"Accuracy:\",metrics.accuracy_score(test_y, y_pred))\n",
    "print (\"AUC Score:\", roc_auc_score(test_y, y_pred))\n",
    "print (\"AUC Score prob:\", roc_auc_score(test_y, y_pred_prob))\n",
    "print (\"Precision:\", precision_score(test_y, y_pred))\n",
    "print (\"Recall:\", recall_score(test_y, y_pred))\n",
    "print (\"F1 Score:\", f1_score(test_y, y_pred))"
   ]
  },
  {
   "cell_type": "code",
   "execution_count": null,
   "metadata": {},
   "outputs": [],
   "source": []
  },
  {
   "cell_type": "code",
   "execution_count": null,
   "metadata": {},
   "outputs": [],
   "source": []
  },
  {
   "cell_type": "code",
   "execution_count": null,
   "metadata": {},
   "outputs": [],
   "source": []
  }
 ],
 "metadata": {
  "kernelspec": {
   "display_name": "Python 3",
   "language": "python",
   "name": "python3"
  },
  "language_info": {
   "codemirror_mode": {
    "name": "ipython",
    "version": 3
   },
   "file_extension": ".py",
   "mimetype": "text/x-python",
   "name": "python",
   "nbconvert_exporter": "python",
   "pygments_lexer": "ipython3",
   "version": "3.7.6"
  }
 },
 "nbformat": 4,
 "nbformat_minor": 2
}
