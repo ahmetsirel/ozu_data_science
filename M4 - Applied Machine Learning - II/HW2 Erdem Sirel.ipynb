{
 "cells": [
  {
   "cell_type": "code",
   "execution_count": 1,
   "metadata": {},
   "outputs": [],
   "source": [
    "import numpy as np\n",
    "import pandas as pd\n",
    "\n",
    "import keras\n",
    "from keras import models\n",
    "from keras import layers\n",
    "import tensorflow as tf\n",
    "\n",
    "from sklearn.model_selection import train_test_split\n",
    "from sklearn.preprocessing import StandardScaler\n",
    "\n",
    "from sklearn.metrics import f1_score, accuracy_score, roc_auc_score, average_precision_score\n"
   ]
  },
  {
   "cell_type": "code",
   "execution_count": 2,
   "metadata": {},
   "outputs": [],
   "source": [
    "# accuracy, AUC and F-1\n",
    "# f1_score(), accuracy_score(), auc(), average_precision_score()\n",
    "\n",
    "def evaluate (y_true_train, y_pred_prob_train, y_true_test, y_pred_prob_test,  threshold=0.5):\n",
    "    y_pred_train = pd.Series(np.reshape(y_pred_prob_train, (1,np.product(y_pred_prob_train.shape)))[0])\n",
    "    y_pred_test = pd.Series(np.reshape(y_pred_prob_test, (1,np.product(y_pred_prob_test.shape)))[0])\n",
    "    \n",
    "    y_pred_train = y_pred_train.apply(lambda x: 1 if x >= threshold else 0 )\n",
    "    y_pred_test = y_pred_test.apply(lambda x: 1 if x >= threshold else 0 )\n",
    "    \n",
    "    confusion_matrix = pd.crosstab(y_true_test, y_pred_test, rownames=['Actual'], colnames=['Predicted'])\n",
    "    print('Test Set Confusion Matrix')\n",
    "    print(confusion_matrix)\n",
    "    \n",
    "    return pd.DataFrame.from_records([[f1_score(y_true_train, y_pred_train), \n",
    "                                       accuracy_score(y_true_train, y_pred_train), \n",
    "                                       roc_auc_score(y_true_train, y_pred_prob_train), \n",
    "                                       average_precision_score(y_true_train, y_pred_prob_train),\n",
    "                                      (y_pred_train.sum() / y_pred_train.count())], \n",
    "                                      \n",
    "                                      [f1_score(y_true_test, y_pred_test), \n",
    "                                       accuracy_score(y_true_test, y_pred_test), \n",
    "                                       roc_auc_score(y_true_test, y_pred_prob_test), \n",
    "                                       average_precision_score(y_true_test, y_pred_prob_test),\n",
    "                                      (y_pred_test.sum() / y_pred_test.count())]], \n",
    "                                     index=['Train', 'Test'], \n",
    "                                     columns=['f1_score', 'accuracy_score', 'auc', 'average_precision_score', 'positive_ratio'])"
   ]
  },
  {
   "cell_type": "code",
   "execution_count": 3,
   "metadata": {},
   "outputs": [],
   "source": [
    "data = pd.read_csv('Call Details-Data.csv')\n",
    "\n",
    "def prepare_data(data=data, scaler = StandardScaler()):\n",
    "    data.drop('Phone Number', axis=1, inplace=True)\n",
    "\n",
    "    data['Churn'] = data['Churn'].apply(lambda x: 1 if x else 0)\n",
    "\n",
    "    x = data.drop('Churn', axis=1)\n",
    "    y = data['Churn']\n",
    "    x_train, x_test, y_train, y_test = train_test_split(x, y, test_size=0.33, random_state=0)\n",
    "    \n",
    "    # Scale Train\n",
    "    if scaler is not None:\n",
    "        scaler_train = scaler\n",
    "        scaler_train.fit(x_train)\n",
    "        x_train_s = scaler_train.transform(x_train)\n",
    "        x_train = pd.DataFrame(x_train_s, index=x_train.index, columns=x_train.columns)\n",
    "\n",
    "        # Scale Test\n",
    "        scaler_test = scaler\n",
    "        scaler_test.fit(x_test)\n",
    "        x_test_s = scaler_test.transform(x_test)\n",
    "        x_test = pd.DataFrame(x_test_s, index=x_test.index, columns=x_test.columns)\n",
    "    \n",
    "    return x_train, x_test, y_train, y_test\n",
    "    "
   ]
  },
  {
   "cell_type": "code",
   "execution_count": 4,
   "metadata": {},
   "outputs": [],
   "source": [
    "x_train, x_test, y_train, y_test = prepare_data(data=data, scaler=StandardScaler())"
   ]
  },
  {
   "cell_type": "code",
   "execution_count": 5,
   "metadata": {},
   "outputs": [
    {
     "name": "stdout",
     "output_type": "stream",
     "text": [
      "Positive Ratio 0.10409789076244885\n"
     ]
    }
   ],
   "source": [
    "print('Positive Ratio', data.Churn.sum() / data.Churn.count())"
   ]
  },
  {
   "cell_type": "code",
   "execution_count": 6,
   "metadata": {
    "scrolled": false
   },
   "outputs": [
    {
     "name": "stdout",
     "output_type": "stream",
     "text": [
      "Epoch 1/5\n",
      "5423/5423 [==============================] - 21s 4ms/step - loss: 0.3349 - acc: 0.8945 - val_loss: 0.3244 - val_acc: 0.8961\n",
      "Epoch 2/5\n",
      "5423/5423 [==============================] - 18s 3ms/step - loss: 0.3207 - acc: 0.8953 - val_loss: 0.3152 - val_acc: 0.8960\n",
      "Epoch 3/5\n",
      "5423/5423 [==============================] - 18s 3ms/step - loss: 0.3155 - acc: 0.8954 - val_loss: 0.3137 - val_acc: 0.8964\n",
      "Epoch 4/5\n",
      "5423/5423 [==============================] - 10s 2ms/step - loss: 0.3110 - acc: 0.8958 - val_loss: 0.3208 - val_acc: 0.8964\n",
      "Epoch 5/5\n",
      "5423/5423 [==============================] - 14s 3ms/step - loss: 0.3068 - acc: 0.8959 - val_loss: 0.3072 - val_acc: 0.8969\n",
      "1044/1044 [==============================] - 1s 1ms/step - loss: 0.3092 - acc: 0.8967\n",
      "Model: \"sequential\"\n",
      "_________________________________________________________________\n",
      "Layer (type)                 Output Shape              Param #   \n",
      "=================================================================\n",
      "dense (Dense)                (None, 64)                1024      \n",
      "_________________________________________________________________\n",
      "dense_1 (Dense)              (None, 64)                4160      \n",
      "_________________________________________________________________\n",
      "dense_2 (Dense)              (None, 1)                 65        \n",
      "=================================================================\n",
      "Total params: 5,249\n",
      "Trainable params: 5,249\n",
      "Non-trainable params: 0\n",
      "_________________________________________________________________\n"
     ]
    }
   ],
   "source": [
    "model = models.Sequential()\n",
    "model.add(layers.Dense(64, activation='relu', input_shape=(x_train.shape[1],)))\n",
    "model.add(layers.Dense(64, activation='relu'))\n",
    "model.add(layers.Dense(1, activation='sigmoid'))\n",
    "model.compile(optimizer='adam', loss='binary_crossentropy', metrics=['acc'])\n",
    "\n",
    "history = model.fit(x_train, y_train, epochs=5, batch_size=10,  verbose=1, validation_split=0.2)\n",
    "\n",
    "test_acc_score, test_f1_score = model.evaluate(x_test, y_test)\n",
    "\n",
    "y_train_pred = model.predict(x_train)\n",
    "y_test_pred = model.predict(x_test)\n",
    "model.summary()"
   ]
  },
  {
   "cell_type": "code",
   "execution_count": 10,
   "metadata": {},
   "outputs": [
    {
     "name": "stdout",
     "output_type": "stream",
     "text": [
      "Test Set Confusion Matrix\n",
      "Predicted     0    1\n",
      "Actual              \n",
      "0          8593  815\n",
      "1          1430  144\n"
     ]
    },
    {
     "data": {
      "text/html": [
       "<div>\n",
       "<style scoped>\n",
       "    .dataframe tbody tr th:only-of-type {\n",
       "        vertical-align: middle;\n",
       "    }\n",
       "\n",
       "    .dataframe tbody tr th {\n",
       "        vertical-align: top;\n",
       "    }\n",
       "\n",
       "    .dataframe thead th {\n",
       "        text-align: right;\n",
       "    }\n",
       "</style>\n",
       "<table border=\"1\" class=\"dataframe\">\n",
       "  <thead>\n",
       "    <tr style=\"text-align: right;\">\n",
       "      <th></th>\n",
       "      <th>f1_score</th>\n",
       "      <th>accuracy_score</th>\n",
       "      <th>auc</th>\n",
       "      <th>average_precision_score</th>\n",
       "      <th>positive_ratio</th>\n",
       "    </tr>\n",
       "  </thead>\n",
       "  <tbody>\n",
       "    <tr>\n",
       "      <th>Train</th>\n",
       "      <td>0.279827</td>\n",
       "      <td>0.862331</td>\n",
       "      <td>0.720394</td>\n",
       "      <td>0.261736</td>\n",
       "      <td>0.08695</td>\n",
       "    </tr>\n",
       "    <tr>\n",
       "      <th>Test</th>\n",
       "      <td>0.247969</td>\n",
       "      <td>0.853031</td>\n",
       "      <td>0.698533</td>\n",
       "      <td>0.224851</td>\n",
       "      <td>0.09156</td>\n",
       "    </tr>\n",
       "  </tbody>\n",
       "</table>\n",
       "</div>"
      ],
      "text/plain": [
       "       f1_score  accuracy_score       auc  average_precision_score  \\\n",
       "Train  0.279827        0.862331  0.720394                 0.261736   \n",
       "Test   0.247969        0.853031  0.698533                 0.224851   \n",
       "\n",
       "       positive_ratio  \n",
       "Train         0.08695  \n",
       "Test          0.09156  "
      ]
     },
     "execution_count": 10,
     "metadata": {},
     "output_type": "execute_result"
    }
   ],
   "source": [
    "evaluate(y_train, y_train_pred, y_test, y_test_pred, threshold=0.2)"
   ]
  },
  {
   "cell_type": "code",
   "execution_count": 8,
   "metadata": {},
   "outputs": [
    {
     "data": {
      "text/plain": [
       "array([[0.13729462],\n",
       "       [0.05941761],\n",
       "       [0.1063467 ],\n",
       "       ...,\n",
       "       [0.09618428],\n",
       "       [0.04914737],\n",
       "       [0.0828504 ]], dtype=float32)"
      ]
     },
     "execution_count": 8,
     "metadata": {},
     "output_type": "execute_result"
    }
   ],
   "source": [
    "y_test_pred"
   ]
  },
  {
   "cell_type": "code",
   "execution_count": null,
   "metadata": {},
   "outputs": [],
   "source": []
  }
 ],
 "metadata": {
  "jupytext": {
   "formats": "ipynb,py:light"
  },
  "kernelspec": {
   "display_name": "Python 3",
   "language": "python",
   "name": "python3"
  },
  "language_info": {
   "codemirror_mode": {
    "name": "ipython",
    "version": 3
   },
   "file_extension": ".py",
   "mimetype": "text/x-python",
   "name": "python",
   "nbconvert_exporter": "python",
   "pygments_lexer": "ipython3",
   "version": "3.8.3"
  }
 },
 "nbformat": 4,
 "nbformat_minor": 4
}
