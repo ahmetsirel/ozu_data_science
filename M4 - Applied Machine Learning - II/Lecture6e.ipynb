{
 "cells": [
  {
   "cell_type": "code",
   "execution_count": 1,
   "metadata": {},
   "outputs": [
    {
     "name": "stderr",
     "output_type": "stream",
     "text": [
      "Using TensorFlow backend.\n"
     ]
    }
   ],
   "source": [
    "from numpy.random import seed\n",
    "import numpy as np\n",
    "import pandas as pd\n",
    "from sklearn.model_selection import train_test_split\n",
    "from sklearn.preprocessing import StandardScaler\n",
    "import tensorflow\n",
    "from keras import models\n",
    "from keras import layers\n",
    "from keras.utils import to_categorical\n",
    "from keras.callbacks import ModelCheckpoint\n",
    "from keras.callbacks import EarlyStopping\n",
    "from keras import Input\n",
    "from keras.utils import plot_model\n",
    "from sklearn.preprocessing import LabelEncoder\n",
    "from sklearn import metrics\n",
    "\n",
    "tensorflow.random.set_seed(2)\n",
    "np.random.seed(1907)\n",
    "\n",
    "seed(1907)\n",
    "tensorflow.random.set_seed(2)"
   ]
  },
  {
   "cell_type": "code",
   "execution_count": 2,
   "metadata": {},
   "outputs": [
    {
     "name": "stdout",
     "output_type": "stream",
     "text": [
      "The data size: (7043, 46)\n"
     ]
    }
   ],
   "source": [
    "df = pd.read_csv(\"WA_Fn-UseC_-Telco-Customer-Churn.csv\")\n",
    "\n",
    "## Convert TotalCharges to numeric\n",
    "df['TotalCharges']=pd.to_numeric(df['TotalCharges'],errors='coerce')\n",
    "\n",
    "## Replace yes and No in the Churn column to 1 and 0. 1 for the event and 0 for the censured data.\n",
    "df['Churn']=df['Churn'].apply(lambda x: 1 if x == 'Yes' else 0 )\n",
    "\n",
    "## Impute the null value with the median value\n",
    "\n",
    "df.TotalCharges.fillna(value=df['TotalCharges'].median(),inplace=True)\n",
    "df= df.drop('customerID', axis = 1)\n",
    "\n",
    "df = pd.get_dummies(df)\n",
    "print(\"The data size:\", df.shape)\n",
    "\n",
    "labels = np.array(df['TotalCharges'])\n",
    "labelsChurn = np.array(df['Churn'])\n",
    "df= df.drop('TotalCharges', axis = 1)\n",
    "df= df.drop('MonthlyCharges', axis = 1)\n",
    "df= df.drop('Churn', axis = 1)\n",
    "\n",
    "train_x, test_x, train_y, test_y, trainChurn_y, testChurn_y = train_test_split(df, labels, labelsChurn, test_size = 0.25, shuffle=False)"
   ]
  },
  {
   "cell_type": "code",
   "execution_count": 3,
   "metadata": {},
   "outputs": [],
   "source": [
    "# created scaler\n",
    "scaler = StandardScaler()\n",
    "# fit scaler on training dataset\n",
    "scaler.fit(train_x)\n",
    "# transform training dataset\n",
    "train_x = scaler.transform(train_x)\n",
    "# transform test dataset\n",
    "test_x = scaler.transform(test_x)"
   ]
  },
  {
   "cell_type": "code",
   "execution_count": 4,
   "metadata": {},
   "outputs": [
    {
     "name": "stdout",
     "output_type": "stream",
     "text": [
      "Train on 4225 samples, validate on 1057 samples\n",
      "Epoch 1/30\n",
      "4225/4225 [==============================] - 0s 75us/step - loss: 8374696.4315 - mse: 8374697.0000 - val_loss: 3803839.8415 - val_mse: 3803839.5000\n",
      "Epoch 2/30\n",
      "4225/4225 [==============================] - 0s 37us/step - loss: 1279199.3395 - mse: 1279199.2500 - val_loss: 768874.7552 - val_mse: 768874.8125\n",
      "Epoch 3/30\n",
      "4225/4225 [==============================] - 0s 51us/step - loss: 600248.1269 - mse: 600248.0625 - val_loss: 500797.9693 - val_mse: 500798.0000\n",
      "Epoch 4/30\n",
      "4225/4225 [==============================] - 0s 39us/step - loss: 372885.2380 - mse: 372885.2812 - val_loss: 281126.1232 - val_mse: 281126.1562\n",
      "Epoch 5/30\n",
      "4225/4225 [==============================] - 0s 44us/step - loss: 186495.9786 - mse: 186496.0156 - val_loss: 132210.1622 - val_mse: 132210.1719\n",
      "Epoch 6/30\n",
      "4225/4225 [==============================] - 0s 36us/step - loss: 70528.1193 - mse: 70528.1250 - val_loss: 43888.1491 - val_mse: 43888.1484\n",
      "Epoch 7/30\n",
      "4225/4225 [==============================] - 0s 42us/step - loss: 37638.2155 - mse: 37638.2266 - val_loss: 47273.2772 - val_mse: 47273.2734\n",
      "Epoch 8/30\n",
      "4225/4225 [==============================] - 0s 36us/step - loss: 31569.9593 - mse: 31569.9707 - val_loss: 44809.4782 - val_mse: 44809.4805\n",
      "Epoch 9/30\n",
      "4225/4225 [==============================] - 0s 33us/step - loss: 27440.3809 - mse: 27440.3809 - val_loss: 43520.8681 - val_mse: 43520.8711\n",
      "Epoch 10/30\n",
      "4225/4225 [==============================] - 0s 38us/step - loss: 24619.6069 - mse: 24619.6016 - val_loss: 25421.7448 - val_mse: 25421.7402\n",
      "Epoch 11/30\n",
      "4225/4225 [==============================] - 0s 42us/step - loss: 23034.6196 - mse: 23034.6191 - val_loss: 22882.5457 - val_mse: 22882.5410\n",
      "Epoch 12/30\n",
      "4225/4225 [==============================] - 0s 35us/step - loss: 21009.0317 - mse: 21009.0352 - val_loss: 25238.8797 - val_mse: 25238.8789\n",
      "Epoch 13/30\n",
      "4225/4225 [==============================] - 0s 36us/step - loss: 19307.1549 - mse: 19307.1504 - val_loss: 23195.6170 - val_mse: 23195.6191\n",
      "Epoch 14/30\n",
      "4225/4225 [==============================] - 0s 40us/step - loss: 18661.0720 - mse: 18661.0703 - val_loss: 22506.0366 - val_mse: 22506.0352\n",
      "Epoch 15/30\n",
      "4225/4225 [==============================] - 0s 41us/step - loss: 17365.4620 - mse: 17365.4688 - val_loss: 23646.7355 - val_mse: 23646.7344\n",
      "Epoch 16/30\n",
      "4225/4225 [==============================] - 0s 34us/step - loss: 16426.7201 - mse: 16426.7188 - val_loss: 22172.9846 - val_mse: 22172.9824\n",
      "Epoch 17/30\n",
      "4225/4225 [==============================] - 0s 34us/step - loss: 15849.2735 - mse: 15849.2764 - val_loss: 33484.0980 - val_mse: 33484.0977\n",
      "Epoch 18/30\n",
      "4225/4225 [==============================] - 0s 36us/step - loss: 15355.6016 - mse: 15355.6035 - val_loss: 17403.4865 - val_mse: 17403.4844\n",
      "Epoch 19/30\n",
      "4225/4225 [==============================] - 0s 34us/step - loss: 14567.4829 - mse: 14567.4834 - val_loss: 41036.9492 - val_mse: 41036.9453\n",
      "Epoch 20/30\n",
      "4225/4225 [==============================] - 0s 36us/step - loss: 14136.0456 - mse: 14136.0469 - val_loss: 15140.8160 - val_mse: 15140.8174\n",
      "Epoch 21/30\n",
      "4225/4225 [==============================] - 0s 37us/step - loss: 13951.8901 - mse: 13951.8906 - val_loss: 15109.3175 - val_mse: 15109.3164\n",
      "Epoch 22/30\n",
      "4225/4225 [==============================] - 0s 34us/step - loss: 13131.3877 - mse: 13131.3877 - val_loss: 19624.2455 - val_mse: 19624.2441\n",
      "Epoch 23/30\n",
      "4225/4225 [==============================] - 0s 37us/step - loss: 12811.1433 - mse: 12811.1436 - val_loss: 14405.2908 - val_mse: 14405.2910\n",
      "Epoch 24/30\n",
      "4225/4225 [==============================] - 0s 38us/step - loss: 12703.4993 - mse: 12703.4990 - val_loss: 16742.6552 - val_mse: 16742.6543\n",
      "Epoch 25/30\n",
      "4225/4225 [==============================] - 0s 37us/step - loss: 12188.7299 - mse: 12188.7305 - val_loss: 14507.0298 - val_mse: 14507.0283\n",
      "Epoch 26/30\n",
      "4225/4225 [==============================] - 0s 42us/step - loss: 11874.5622 - mse: 11874.5605 - val_loss: 14445.7038 - val_mse: 14445.7031\n",
      "Epoch 27/30\n",
      "4225/4225 [==============================] - 0s 39us/step - loss: 11501.6689 - mse: 11501.6680 - val_loss: 14860.3799 - val_mse: 14860.3809\n",
      "Epoch 28/30\n",
      "4225/4225 [==============================] - 0s 42us/step - loss: 11451.1768 - mse: 11451.1768 - val_loss: 14639.7189 - val_mse: 14639.7158\n",
      "Epoch 29/30\n",
      "4225/4225 [==============================] - 0s 36us/step - loss: 11360.9455 - mse: 11360.9443 - val_loss: 13275.6573 - val_mse: 13275.6553\n",
      "Epoch 30/30\n",
      "4225/4225 [==============================] - 0s 38us/step - loss: 10979.1732 - mse: 10979.1709 - val_loss: 16164.8977 - val_mse: 16164.8965\n",
      "1761/1761 [==============================] - 0s 14us/step\n"
     ]
    }
   ],
   "source": [
    "model = models.Sequential()\n",
    "model.add(layers.Dense(128, activation='relu', input_shape=(train_x.shape[1],)))\n",
    "model.add(layers.Dense(64, activation='relu'))\n",
    "model.add(layers.Dense(32, activation='relu'))\n",
    "model.add(layers.Dense(1))\n",
    "model.compile(optimizer='rmsprop', loss='mse', metrics=['mse'])\n",
    "\n",
    "history = model.fit(train_x, train_y, epochs=30, batch_size=32,  verbose=1, validation_split=0.2)\n",
    "\n",
    "test_mse_score, test_mae_score = model.evaluate(test_x, test_y)"
   ]
  },
  {
   "cell_type": "code",
   "execution_count": 5,
   "metadata": {},
   "outputs": [
    {
     "data": {
      "text/plain": [
       "13694.168690774062"
      ]
     },
     "execution_count": 5,
     "metadata": {},
     "output_type": "execute_result"
    }
   ],
   "source": [
    "test_mse_score"
   ]
  },
  {
   "cell_type": "code",
   "execution_count": 6,
   "metadata": {},
   "outputs": [
    {
     "name": "stdout",
     "output_type": "stream",
     "text": [
      "Model: \"model_1\"\n",
      "__________________________________________________________________________________________________\n",
      "Layer (type)                    Output Shape         Param #     Connected to                     \n",
      "==================================================================================================\n",
      "input_1 (InputLayer)            (None, 43)           0                                            \n",
      "__________________________________________________________________________________________________\n",
      "dense_5 (Dense)                 (None, 128)          5632        input_1[0][0]                    \n",
      "__________________________________________________________________________________________________\n",
      "dense_6 (Dense)                 (None, 64)           8256        dense_5[0][0]                    \n",
      "__________________________________________________________________________________________________\n",
      "dense_7 (Dense)                 (None, 32)           2080        dense_6[0][0]                    \n",
      "__________________________________________________________________________________________________\n",
      "charge (Dense)                  (None, 1)            33          dense_7[0][0]                    \n",
      "__________________________________________________________________________________________________\n",
      "churn (Dense)                   (None, 1)            33          dense_7[0][0]                    \n",
      "==================================================================================================\n",
      "Total params: 16,034\n",
      "Trainable params: 16,034\n",
      "Non-trainable params: 0\n",
      "__________________________________________________________________________________________________\n",
      "None\n"
     ]
    },
    {
     "data": {
      "image/png": "[encoded data removed]",
      "text/plain": [
       "<IPython.core.display.Image object>"
      ]
     },
     "execution_count": 6,
     "metadata": {},
     "output_type": "execute_result"
    }
   ],
   "source": [
    "ModelInput = Input(shape=(train_x.shape[1],))\n",
    "\n",
    "ModelLayer = layers.Dense(128, activation='relu')(ModelInput)\n",
    "ModelLayer = layers.Dense(64, activation='relu')(ModelLayer)\n",
    "ModelLayer = layers.Dense(32, activation='relu')(ModelLayer)\n",
    "\n",
    "# prediction output\n",
    "charge_pred = layers.Dense(1, name='charge')(ModelLayer)\n",
    "churn_pred = layers.Dense(1, activation='sigmoid',name='churn')(ModelLayer)\n",
    "\n",
    "model = models.Model(ModelInput, outputs=[charge_pred, churn_pred])\n",
    "\n",
    "print(model.summary())\n",
    "plot_model(model, to_file='shared_input_layer.png')"
   ]
  },
  {
   "cell_type": "code",
   "execution_count": 7,
   "metadata": {},
   "outputs": [
    {
     "name": "stdout",
     "output_type": "stream",
     "text": [
      "Epoch 1/30\n",
      "5282/5282 [==============================] - 0s 71us/step - loss: 79015.6671 - charge_loss: 7857446.5000 - churn_loss: 0.6238\n",
      "Epoch 2/30\n",
      "5282/5282 [==============================] - 0s 43us/step - loss: 9531.3401 - charge_loss: 948231.6875 - churn_loss: 1.4425\n",
      "Epoch 3/30\n",
      "5282/5282 [==============================] - 0s 33us/step - loss: 4906.7129 - charge_loss: 487775.8125 - churn_loss: 1.5543\n",
      "Epoch 4/30\n",
      "5282/5282 [==============================] - 0s 41us/step - loss: 2514.3753 - charge_loss: 249683.5938 - churn_loss: 1.5378\n",
      "Epoch 5/30\n",
      "5282/5282 [==============================] - 0s 40us/step - loss: 869.1289 - charge_loss: 85213.4688 - churn_loss: 1.4882\n",
      "Epoch 6/30\n",
      "5282/5282 [==============================] - 0s 42us/step - loss: 395.3050 - charge_loss: 37844.0742 - churn_loss: 1.4901\n",
      "Epoch 7/30\n",
      "5282/5282 [==============================] - 0s 43us/step - loss: 318.1067 - charge_loss: 30235.9941 - churn_loss: 1.4966\n",
      "Epoch 8/30\n",
      "5282/5282 [==============================] - 0s 34us/step - loss: 275.6390 - charge_loss: 26119.9102 - churn_loss: 1.4744\n",
      "Epoch 9/30\n",
      "5282/5282 [==============================] - 0s 40us/step - loss: 246.2496 - charge_loss: 23177.0371 - churn_loss: 1.3739\n",
      "Epoch 10/30\n",
      "5282/5282 [==============================] - 0s 35us/step - loss: 225.7505 - charge_loss: 21062.3965 - churn_loss: 1.4059\n",
      "Epoch 11/30\n",
      "5282/5282 [==============================] - 0s 34us/step - loss: 208.3742 - charge_loss: 19456.3262 - churn_loss: 1.3101\n",
      "Epoch 12/30\n",
      "5282/5282 [==============================] - 0s 34us/step - loss: 191.3828 - charge_loss: 18021.5391 - churn_loss: 1.2208\n",
      "Epoch 13/30\n",
      "5282/5282 [==============================] - 0s 36us/step - loss: 183.1725 - charge_loss: 17068.1875 - churn_loss: 1.2738\n",
      "Epoch 14/30\n",
      "5282/5282 [==============================] - ETA: 0s - loss: 179.2618 - charge_loss: 16796.9805 - churn_loss: 1.12 - 0s 37us/step - loss: 174.0300 - charge_loss: 16173.2314 - churn_loss: 1.1436\n",
      "Epoch 15/30\n",
      "5282/5282 [==============================] - 0s 38us/step - loss: 165.8579 - charge_loss: 15215.0703 - churn_loss: 1.2855\n",
      "Epoch 16/30\n",
      "5282/5282 [==============================] - 0s 35us/step - loss: 160.1062 - charge_loss: 15169.0742 - churn_loss: 1.2196\n",
      "Epoch 17/30\n",
      "5282/5282 [==============================] - 0s 33us/step - loss: 158.1543 - charge_loss: 14621.7480 - churn_loss: 1.2018\n",
      "Epoch 18/30\n",
      "5282/5282 [==============================] - 0s 33us/step - loss: 152.0166 - charge_loss: 13922.7695 - churn_loss: 1.2095\n",
      "Epoch 19/30\n",
      "5282/5282 [==============================] - 0s 32us/step - loss: 146.1666 - charge_loss: 13321.3311 - churn_loss: 1.2298\n",
      "Epoch 20/30\n",
      "5282/5282 [==============================] - 0s 41us/step - loss: 143.0206 - charge_loss: 13001.9980 - churn_loss: 1.2647\n",
      "Epoch 21/30\n",
      "5282/5282 [==============================] - 0s 39us/step - loss: 137.5124 - charge_loss: 12510.5176 - churn_loss: 1.1734\n",
      "Epoch 22/30\n",
      "5282/5282 [==============================] - 0s 45us/step - loss: 134.6521 - charge_loss: 12160.5371 - churn_loss: 1.2401\n",
      "Epoch 23/30\n",
      "5282/5282 [==============================] - 0s 34us/step - loss: 131.3664 - charge_loss: 12047.3242 - churn_loss: 1.2026\n",
      "Epoch 24/30\n",
      "5282/5282 [==============================] - 0s 40us/step - loss: 128.5423 - charge_loss: 11593.6953 - churn_loss: 1.2294\n",
      "Epoch 25/30\n",
      "5282/5282 [==============================] - 0s 39us/step - loss: 126.8168 - charge_loss: 11589.0723 - churn_loss: 1.2468\n",
      "Epoch 26/30\n",
      "5282/5282 [==============================] - 0s 40us/step - loss: 127.0466 - charge_loss: 11589.7168 - churn_loss: 1.1491\n",
      "Epoch 27/30\n",
      "5282/5282 [==============================] - 0s 43us/step - loss: 124.8385 - charge_loss: 11230.2549 - churn_loss: 1.2111\n",
      "Epoch 28/30\n",
      "5282/5282 [==============================] - 0s 38us/step - loss: 120.6624 - charge_loss: 10839.6123 - churn_loss: 1.1693\n",
      "Epoch 29/30\n",
      "5282/5282 [==============================] - 0s 42us/step - loss: 121.5344 - charge_loss: 11004.8320 - churn_loss: 1.0885\n",
      "Epoch 30/30\n",
      "5282/5282 [==============================] - 0s 40us/step - loss: 120.8690 - charge_loss: 10872.7021 - churn_loss: 1.1865\n",
      "NN Test Accuracy:  0.760931289040318\n",
      "NN Test MSE:  21101.205832165317\n"
     ]
    }
   ],
   "source": [
    "model.compile(optimizer='rmsprop',\n",
    "loss={'charge': 'mse','churn': 'binary_crossentropy'}, loss_weights=[0.01, 10])\n",
    "\n",
    "\n",
    "model.fit(train_x, {'charge': train_y, 'churn': trainChurn_y}, epochs=30, batch_size=32)\n",
    "\n",
    "(nn_pred_test, nn_pred_testChurn)= model.predict(test_x)\n",
    "\n",
    "nn_pred_testChurnClass = np.round(nn_pred_testChurn)\n",
    "\n",
    "print (\"NN Test Accuracy: \", metrics.accuracy_score(testChurn_y, nn_pred_testChurnClass))\n",
    "print (\"NN Test MSE: \", metrics.mean_squared_error(test_y, nn_pred_test))"
   ]
  },
  {
   "cell_type": "code",
   "execution_count": null,
   "metadata": {},
   "outputs": [],
   "source": []
  }
 ],
 "metadata": {
  "kernelspec": {
   "display_name": "Python 3",
   "language": "python",
   "name": "python3"
  },
  "language_info": {
   "codemirror_mode": {
    "name": "ipython",
    "version": 3
   },
   "file_extension": ".py",
   "mimetype": "text/x-python",
   "name": "python",
   "nbconvert_exporter": "python",
   "pygments_lexer": "ipython3",
   "version": "3.7.6"
  }
 },
 "nbformat": 4,
 "nbformat_minor": 2
}
