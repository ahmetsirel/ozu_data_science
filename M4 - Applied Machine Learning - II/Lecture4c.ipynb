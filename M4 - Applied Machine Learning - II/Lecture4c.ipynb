{
 "cells": [
  {
   "cell_type": "code",
   "execution_count": 1,
   "metadata": {},
   "outputs": [
    {
     "name": "stdout",
     "output_type": "stream",
     "text": [
      "df Shape:  (31321, 15)\n",
      "          A         C         E         K         L         M         O\n",
      "A  1.000000 -0.077369  0.022270  0.071350  0.058579  0.067277  0.224656\n",
      "C -0.077369  1.000000 -0.038342 -0.005941 -0.001596 -0.009567 -0.006185\n",
      "E  0.022270 -0.038342  1.000000  0.125241  0.081180  0.139487  0.326353\n",
      "K  0.071350 -0.005941  0.125241  1.000000 -0.031297  0.082815  0.221688\n",
      "L  0.058579 -0.001596  0.081180 -0.031297  1.000000  0.054575  0.147742\n",
      "M  0.067277 -0.009567  0.139487  0.082815  0.054575  1.000000  0.223298\n",
      "O  0.224656 -0.006185  0.326353  0.221688  0.147742  0.223298  1.000000\n"
     ]
    },
    {
     "data": {
      "image/png": "[encoded data removed]",
      "text/plain": [
       "<Figure size 432x288 with 2 Axes>"
      ]
     },
     "metadata": {
      "needs_background": "light"
     },
     "output_type": "display_data"
    }
   ],
   "source": [
    "import pandas as pd\n",
    "import numpy as np\n",
    "import seaborn as sns\n",
    "from sklearn.tree import DecisionTreeClassifier # Import Decision Tree Classifier\n",
    "from sklearn.model_selection import train_test_split # Import train_test_split function\n",
    "from sklearn import metrics #Import scikit-learn metrics module for accuracy calculation\n",
    "from sklearn.metrics import roc_auc_score\n",
    "from sklearn.metrics import confusion_matrix\n",
    "from sklearn.metrics import precision_score\n",
    "from sklearn.metrics import recall_score\n",
    "from sklearn.metrics import f1_score\n",
    "from sklearn.ensemble import BaggingClassifier\n",
    "from sklearn.ensemble import RandomForestClassifier\n",
    "from sklearn.ensemble import AdaBoostClassifier\n",
    "from sklearn.ensemble import GradientBoostingClassifier\n",
    "from sklearn.ensemble import ExtraTreesClassifier \n",
    "from sklearn import svm\n",
    "\n",
    "\n",
    "df = pd.read_csv('bench.csv', encoding='latin-1')\n",
    "    \n",
    "df.dropna(inplace= True)\n",
    "print (\"df Shape: \", df.shape)\n",
    "\n",
    "\n",
    "#Generating the correlation matrix\n",
    "corr = df.corr()\n",
    "\n",
    "#Generating the correlation heat-map\n",
    "sns.heatmap(corr)\n",
    "\n",
    "print(corr)"
   ]
  },
  {
   "cell_type": "code",
   "execution_count": 2,
   "metadata": {
    "scrolled": true
   },
   "outputs": [
    {
     "name": "stdout",
     "output_type": "stream",
     "text": [
      "Train_x Shape:  (25056, 107)\n",
      "Train_y Shape:  (25056,)\n",
      "Test_x Shape:  (6265, 107)\n",
      "Test_y Shape:  (6265,)\n"
     ]
    }
   ],
   "source": [
    "df = pd.get_dummies(df)\n",
    "labels = np.array(df['O'])\n",
    "df= df.drop('O', axis = 1)\n",
    "df_list = list(df.columns)\n",
    "\n",
    "train_x, test_x, train_y, test_y = train_test_split(df, labels, test_size = 0.2, random_state = 42)\n",
    "\n",
    "print (\"Train_x Shape: \",train_x.shape)\n",
    "print (\"Train_y Shape: \", train_y.shape)\n",
    "print (\"Test_x Shape: \", test_x.shape)\n",
    "print (\"Test_y Shape: \", test_y.shape)"
   ]
  },
  {
   "cell_type": "code",
   "execution_count": 3,
   "metadata": {},
   "outputs": [
    {
     "name": "stdout",
     "output_type": "stream",
     "text": [
      "[[4160  600]\n",
      " [ 545  960]]\n",
      "Accuracy: 0.8172386272944933\n",
      "AUC Score: 0.7559116669923783\n",
      "AUC Score prob: 0.7559116669923783\n",
      "Precision: 0.6153846153846154\n",
      "Recall: 0.6378737541528239\n",
      "F1 Score: 0.6264274061990213\n"
     ]
    }
   ],
   "source": [
    "# Create Decision Tree classifer object\n",
    "clf = DecisionTreeClassifier()\n",
    "\n",
    "# Train Decision Tree Classifer\n",
    "clf = clf.fit(train_x,train_y)\n",
    "\n",
    "#Predict the response for test dataset\n",
    "y_pred1 = clf.predict(test_x)\n",
    "y_pred_prob = clf.predict_proba(test_x)[:,1]\n",
    "\n",
    "print(confusion_matrix(test_y, y_pred1))\n",
    "print(\"Accuracy:\",metrics.accuracy_score(test_y, y_pred1))\n",
    "print (\"AUC Score:\", roc_auc_score(test_y, y_pred1))\n",
    "print (\"AUC Score prob:\", roc_auc_score(test_y, y_pred_prob))\n",
    "print (\"Precision:\", precision_score(test_y, y_pred1))\n",
    "print (\"Recall:\", recall_score(test_y, y_pred1))\n",
    "print (\"F1 Score:\", f1_score(test_y, y_pred1))\n"
   ]
  },
  {
   "cell_type": "code",
   "execution_count": 4,
   "metadata": {},
   "outputs": [
    {
     "name": "stdout",
     "output_type": "stream",
     "text": [
      "[[4411  349]\n",
      " [ 587  918]]\n",
      "Accuracy: 0.8505985634477254\n",
      "AUC Score: 0.7683237248387728\n",
      "AUC Score prob: 0.901140944749993\n",
      "Precision: 0.7245461720599842\n",
      "Recall: 0.6099667774086379\n",
      "F1 Score: 0.6623376623376623\n"
     ]
    }
   ],
   "source": [
    "rfc = RandomForestClassifier(n_estimators=100, max_features=10)\n",
    "\n",
    "rfc = rfc.fit(train_x,train_y)\n",
    "\n",
    "#Predict the response for test dataset\n",
    "y_pred3 = rfc.predict(test_x)\n",
    "\n",
    "y_pred_prob = rfc.predict_proba(test_x)[:,1]\n",
    "\n",
    "print(confusion_matrix(test_y, y_pred3))\n",
    "print(\"Accuracy:\",metrics.accuracy_score(test_y, y_pred3))\n",
    "print (\"AUC Score:\", roc_auc_score(test_y, y_pred3))\n",
    "print (\"AUC Score prob:\", roc_auc_score(test_y, y_pred_prob))\n",
    "print (\"Precision:\", precision_score(test_y, y_pred3))\n",
    "print (\"Recall:\", recall_score(test_y, y_pred3))\n",
    "print (\"F1 Score:\", f1_score(test_y, y_pred3))\n"
   ]
  },
  {
   "cell_type": "code",
   "execution_count": 5,
   "metadata": {},
   "outputs": [
    {
     "name": "stderr",
     "output_type": "stream",
     "text": [
      "Using TensorFlow backend.\n"
     ]
    },
    {
     "name": "stdout",
     "output_type": "stream",
     "text": [
      "Epoch 1/10\n",
      "25056/25056 [==============================] - 2s 74us/step - loss: 0.1780 - accuracy: 0.7677\n",
      "Epoch 2/10\n",
      "25056/25056 [==============================] - 2s 70us/step - loss: 0.1771 - accuracy: 0.7693\n",
      "Epoch 3/10\n",
      "25056/25056 [==============================] - 2s 70us/step - loss: 0.1720 - accuracy: 0.7768\n",
      "Epoch 4/10\n",
      "25056/25056 [==============================] - 2s 70us/step - loss: 0.1685 - accuracy: 0.7819\n",
      "Epoch 5/10\n",
      "25056/25056 [==============================] - 2s 71us/step - loss: 0.1700 - accuracy: 0.7813 0s -\n",
      "Epoch 6/10\n",
      "25056/25056 [==============================] - 2s 71us/step - loss: 0.1678 - accuracy: 0.7878\n",
      "Epoch 7/10\n",
      "25056/25056 [==============================] - 2s 71us/step - loss: 0.1689 - accuracy: 0.7850\n",
      "Epoch 8/10\n",
      "25056/25056 [==============================] - 2s 70us/step - loss: 0.1715 - accuracy: 0.7793\n",
      "Epoch 9/10\n",
      "25056/25056 [==============================] - 2s 72us/step - loss: 0.1753 - accuracy: 0.7704 \n",
      "Epoch 10/10\n",
      "25056/25056 [==============================] - 2s 73us/step - loss: 0.1698 - accuracy: 0.7794 0s - loss: 0.1689 - accuracy:  - ETA: 0s - loss: 0.1696 -  - ETA: 0s - loss: 0.1702 - accu\n",
      "[[4692   68]\n",
      " [1197  308]]\n",
      "Accuracy: 0.7980845969672785\n",
      "AUC Score: 0.5951827242524917\n",
      "AUC Score prob: 0.59531072894274\n",
      "Precision: 0.8191489361702128\n",
      "Recall: 0.20465116279069767\n",
      "F1 Score: 0.32748538011695905\n"
     ]
    }
   ],
   "source": [
    "from keras import models\n",
    "from keras import layers\n",
    "network = models.Sequential()\n",
    "network.add(layers.Dense(100, input_dim=107, activation='sigmoid'))\n",
    "network.add(layers.Dense(1, activation='sigmoid'))\n",
    "\n",
    "network.compile(optimizer='rmsprop',\n",
    "loss='mse',\n",
    "metrics=['accuracy'])\n",
    "\n",
    "network.fit(train_x,train_y, epochs=10, batch_size=10)\n",
    "\n",
    "nn_pred = network.predict_classes(test_x)\n",
    "nn_pred_prob= network.predict(test_x)\n",
    "\n",
    "print(confusion_matrix(test_y, nn_pred))\n",
    "print(\"Accuracy:\",metrics.accuracy_score(test_y, nn_pred))\n",
    "print (\"AUC Score:\", roc_auc_score(test_y, nn_pred))\n",
    "print (\"AUC Score prob:\", roc_auc_score(test_y, nn_pred_prob))\n",
    "print (\"Precision:\", precision_score(test_y, nn_pred))\n",
    "print (\"Recall:\", recall_score(test_y, nn_pred))\n",
    "print (\"F1 Score:\", f1_score(test_y, nn_pred))"
   ]
  },
  {
   "cell_type": "code",
   "execution_count": 6,
   "metadata": {},
   "outputs": [
    {
     "name": "stdout",
     "output_type": "stream",
     "text": [
      "Epoch 1/10\n",
      "25056/25056 [==============================] - 2s 77us/step - loss: 0.5307 - accuracy: 0.7717\n",
      "Epoch 2/10\n",
      "25056/25056 [==============================] - 2s 71us/step - loss: 0.5295 - accuracy: 0.7744\n",
      "Epoch 3/10\n",
      "25056/25056 [==============================] - 2s 76us/step - loss: 0.5358 - accuracy: 0.7739\n",
      "Epoch 4/10\n",
      "25056/25056 [==============================] - 2s 79us/step - loss: 0.5252 - accuracy: 0.7836 0s - loss: 0.5269 - ac - ETA: 0s - loss: 0.5266 \n",
      "Epoch 5/10\n",
      "25056/25056 [==============================] - 2s 73us/step - loss: 0.5250 - accuracy: 0.7809 0s - loss: 0.5201 - ac\n",
      "Epoch 6/10\n",
      "25056/25056 [==============================] - 2s 72us/step - loss: 0.5429 - accuracy: 0.7665\n",
      "Epoch 7/10\n",
      "25056/25056 [==============================] - 2s 73us/step - loss: 0.5421 - accuracy: 0.7666 0s - loss: 0.5421 - accuracy\n",
      "Epoch 8/10\n",
      "25056/25056 [==============================] - 2s 73us/step - loss: 0.5383 - accuracy: 0.7666\n",
      "Epoch 9/10\n",
      "25056/25056 [==============================] - 2s 74us/step - loss: 0.5401 - accuracy: 0.7666 1s - loss: 0 - ETA: 0s - loss: 0.5407 - accura - ETA: 0s - loss: 0.539\n",
      "Epoch 10/10\n",
      "25056/25056 [==============================] - 2s 72us/step - loss: 0.5350 - accuracy: 0.7666\n",
      "[[4760    0]\n",
      " [1470   35]]\n",
      "Accuracy: 0.7653631284916201\n",
      "AUC Score: 0.5116279069767442\n",
      "AUC Score prob: 0.5971153577710154\n",
      "Precision: 1.0\n",
      "Recall: 0.023255813953488372\n",
      "F1 Score: 0.04545454545454545\n"
     ]
    }
   ],
   "source": [
    "network = models.Sequential()\n",
    "network.add(layers.Dense(100, input_dim=107, activation='sigmoid'))\n",
    "network.add(layers.Dense(1, activation='sigmoid'))\n",
    "\n",
    "network.compile(optimizer='rmsprop',\n",
    "loss='binary_crossentropy',\n",
    "metrics=['accuracy'])\n",
    "\n",
    "network.fit(train_x,train_y, epochs=10, batch_size=10)\n",
    "\n",
    "nn_pred = network.predict_classes(test_x)\n",
    "nn_pred_prob= network.predict(test_x)\n",
    "\n",
    "print(confusion_matrix(test_y, nn_pred))\n",
    "print(\"Accuracy:\",metrics.accuracy_score(test_y, nn_pred))\n",
    "print (\"AUC Score:\", roc_auc_score(test_y, nn_pred))\n",
    "print (\"AUC Score prob:\", roc_auc_score(test_y, nn_pred_prob))\n",
    "print (\"Precision:\", precision_score(test_y, nn_pred))\n",
    "print (\"Recall:\", recall_score(test_y, nn_pred))\n",
    "print (\"F1 Score:\", f1_score(test_y, nn_pred))"
   ]
  },
  {
   "cell_type": "code",
   "execution_count": 7,
   "metadata": {},
   "outputs": [
    {
     "name": "stdout",
     "output_type": "stream",
     "text": [
      "Epoch 1/10\n",
      "25056/25056 [==============================] - 2s 76us/step - loss: 0.1833 - accuracy: 0.7533\n",
      "Epoch 2/10\n",
      "25056/25056 [==============================] - 2s 72us/step - loss: 0.1788 - accuracy: 0.7639 0s -\n",
      "Epoch 3/10\n",
      "25056/25056 [==============================] - 2s 81us/step - loss: 0.1764 - accuracy: 0.7734\n",
      "Epoch 4/10\n",
      "25056/25056 [==============================] - 2s 71us/step - loss: 0.1676 - accuracy: 0.7877\n",
      "Epoch 5/10\n",
      "25056/25056 [==============================] - 2s 71us/step - loss: 0.1673 - accuracy: 0.7875\n",
      "Epoch 6/10\n",
      "25056/25056 [==============================] - 2s 72us/step - loss: 0.1672 - accuracy: 0.7878 0s - loss:\n",
      "Epoch 7/10\n",
      "25056/25056 [==============================] - 2s 72us/step - loss: 0.1663 - accuracy: 0.7894\n",
      "Epoch 8/10\n",
      "25056/25056 [==============================] - 2s 70us/step - loss: 0.1671 - accuracy: 0.7884 0s\n",
      "Epoch 9/10\n",
      "25056/25056 [==============================] - 2s 71us/step - loss: 0.1753 - accuracy: 0.7731 1s - loss: 0.1732  - ETA: 0s - loss: 0.1710 - accuracy - ETA: 0s - loss: 0.1\n",
      "Epoch 10/10\n",
      "25056/25056 [==============================] - 2s 70us/step - loss: 0.1700 - accuracy: 0.7816\n",
      "[[4735   25]\n",
      " [1297  208]]\n",
      "Accuracy: 0.7889864325618515\n",
      "AUC Score: 0.5664769396130546\n",
      "AUC Score prob: 0.5679205170440269\n",
      "Precision: 0.8927038626609443\n",
      "Recall: 0.1382059800664452\n",
      "F1 Score: 0.23935558112773303\n"
     ]
    }
   ],
   "source": [
    "network = models.Sequential()\n",
    "network.add(layers.Dense(12, input_dim=107, activation='sigmoid'))\n",
    "network.add(layers.Dense(7, activation='sigmoid'))\n",
    "network.add(layers.Dense(1, activation='sigmoid'))\n",
    "\n",
    "network.compile(optimizer='rmsprop',\n",
    "loss='mse',\n",
    "metrics=['accuracy'])\n",
    "\n",
    "network.fit(train_x,train_y, epochs=10, batch_size=10)\n",
    "\n",
    "nn_pred = network.predict_classes(test_x)\n",
    "nn_pred_prob= network.predict(test_x)\n",
    "\n",
    "print(confusion_matrix(test_y, nn_pred))\n",
    "print(\"Accuracy:\",metrics.accuracy_score(test_y, nn_pred))\n",
    "print (\"AUC Score:\", roc_auc_score(test_y, nn_pred))\n",
    "print (\"AUC Score prob:\", roc_auc_score(test_y, nn_pred_prob))\n",
    "print (\"Precision:\", precision_score(test_y, nn_pred))\n",
    "print (\"Recall:\", recall_score(test_y, nn_pred))\n",
    "print (\"F1 Score:\", f1_score(test_y, nn_pred))"
   ]
  },
  {
   "cell_type": "code",
   "execution_count": 8,
   "metadata": {},
   "outputs": [
    {
     "name": "stdout",
     "output_type": "stream",
     "text": [
      "Epoch 1/10\n",
      "25056/25056 [==============================] - 2s 76us/step - loss: 0.5507 - accuracy: 0.7624 0s - loss: 0.5508 - accuracy: 0.\n",
      "Epoch 2/10\n",
      "25056/25056 [==============================] - 2s 69us/step - loss: 0.5470 - accuracy: 0.7630\n",
      "Epoch 3/10\n",
      "25056/25056 [==============================] - 2s 68us/step - loss: 0.5467 - accuracy: 0.7630\n",
      "Epoch 4/10\n",
      "25056/25056 [==============================] - 2s 73us/step - loss: 0.5465 - accuracy: 0.7630 1s - loss: 0.5 - ETA: 0s -\n",
      "Epoch 5/10\n",
      "25056/25056 [==============================] - 2s 76us/step - loss: 0.5462 - accuracy: 0.7630\n",
      "Epoch 6/10\n",
      "25056/25056 [==============================] - 2s 75us/step - loss: 0.5459 - accuracy: 0.7630\n",
      "Epoch 7/10\n",
      "25056/25056 [==============================] - ETA: 0s - loss: 0.5458 - accuracy: 0.76 - 2s 74us/step - loss: 0.5458 - accuracy: 0.7630\n",
      "Epoch 8/10\n",
      "25056/25056 [==============================] - 2s 79us/step - loss: 0.5456 - accuracy: 0.7632\n",
      "Epoch 9/10\n",
      "25056/25056 [==============================] - 2s 77us/step - loss: 0.5451 - accuracy: 0.7633\n",
      "Epoch 10/10\n",
      "25056/25056 [==============================] - 2s 78us/step - loss: 0.5449 - accuracy: 0.7634\n",
      "[[4760    0]\n",
      " [1501    4]]\n",
      "Accuracy: 0.7604150039904229\n",
      "AUC Score: 0.501328903654485\n",
      "AUC Score prob: 0.5165097434322566\n",
      "Precision: 1.0\n",
      "Recall: 0.0026578073089701\n",
      "F1 Score: 0.00530152418820411\n"
     ]
    }
   ],
   "source": [
    "network = models.Sequential()\n",
    "network.add(layers.Dense(12, input_dim=107, activation='sigmoid'))\n",
    "network.add(layers.Dense(7, activation='sigmoid'))\n",
    "network.add(layers.Dense(1, activation='sigmoid'))\n",
    "\n",
    "network.compile(optimizer='rmsprop',\n",
    "loss='binary_crossentropy',\n",
    "metrics=['accuracy'])\n",
    "\n",
    "network.fit(train_x,train_y, epochs=10, batch_size=10)\n",
    "\n",
    "nn_pred = network.predict_classes(test_x)\n",
    "nn_pred_prob= network.predict(test_x)\n",
    "\n",
    "print(confusion_matrix(test_y, nn_pred))\n",
    "print(\"Accuracy:\",metrics.accuracy_score(test_y, nn_pred))\n",
    "print (\"AUC Score:\", roc_auc_score(test_y, nn_pred))\n",
    "print (\"AUC Score prob:\", roc_auc_score(test_y, nn_pred_prob))\n",
    "print (\"Precision:\", precision_score(test_y, nn_pred))\n",
    "print (\"Recall:\", recall_score(test_y, nn_pred))\n",
    "print (\"F1 Score:\", f1_score(test_y, nn_pred))"
   ]
  },
  {
   "cell_type": "code",
   "execution_count": 9,
   "metadata": {},
   "outputs": [
    {
     "name": "stdout",
     "output_type": "stream",
     "text": [
      "Epoch 1/10\n",
      "25056/25056 [==============================] - 2s 88us/step - loss: 0.1719 - accuracy: 0.7785\n",
      "Epoch 2/10\n",
      "25056/25056 [==============================] - 2s 78us/step - loss: 0.1679 - accuracy: 0.7882\n",
      "Epoch 3/10\n",
      "25056/25056 [==============================] - 2s 91us/step - loss: 0.1665 - accuracy: 0.7894\n",
      "Epoch 4/10\n",
      "25056/25056 [==============================] - 2s 91us/step - loss: 0.1690 - accuracy: 0.7846\n",
      "Epoch 5/10\n",
      "25056/25056 [==============================] - 2s 85us/step - loss: 0.1691 - accuracy: 0.7830\n",
      "Epoch 6/10\n",
      "25056/25056 [==============================] - 2s 76us/step - loss: 0.1724 - accuracy: 0.7781\n",
      "Epoch 7/10\n",
      "25056/25056 [==============================] - 2s 79us/step - loss: 0.1761 - accuracy: 0.7732\n",
      "Epoch 8/10\n",
      "25056/25056 [==============================] - 2s 84us/step - loss: 0.1753 - accuracy: 0.7742\n",
      "Epoch 9/10\n",
      "25056/25056 [==============================] - 2s 75us/step - loss: 0.1761 - accuracy: 0.7725\n",
      "Epoch 10/10\n",
      "25056/25056 [==============================] - 2s 75us/step - loss: 0.1739 - accuracy: 0.7754\n",
      "[[4735   25]\n",
      " [1302  203]]\n",
      "Accuracy: 0.7881883479648842\n",
      "AUC Score: 0.5648158100449482\n",
      "AUC Score prob: 0.5657836623021301\n",
      "Precision: 0.8903508771929824\n",
      "Recall: 0.13488372093023257\n",
      "F1 Score: 0.23427582227351418\n"
     ]
    }
   ],
   "source": [
    "network = models.Sequential()\n",
    "network.add(layers.Dense(150, input_dim=107, activation='sigmoid'))\n",
    "network.add(layers.Dense(50, activation='sigmoid'))\n",
    "network.add(layers.Dense(1, activation='sigmoid'))\n",
    "\n",
    "network.compile(optimizer='rmsprop',\n",
    "loss='mse',\n",
    "metrics=['accuracy'])\n",
    "\n",
    "network.fit(train_x,train_y, epochs=10, batch_size=10)\n",
    "\n",
    "nn_pred = network.predict_classes(test_x)\n",
    "nn_pred_prob= network.predict(test_x)\n",
    "\n",
    "print(confusion_matrix(test_y, nn_pred))\n",
    "print(\"Accuracy:\",metrics.accuracy_score(test_y, nn_pred))\n",
    "print (\"AUC Score:\", roc_auc_score(test_y, nn_pred))\n",
    "print (\"AUC Score prob:\", roc_auc_score(test_y, nn_pred_prob))\n",
    "print (\"Precision:\", precision_score(test_y, nn_pred))\n",
    "print (\"Recall:\", recall_score(test_y, nn_pred))\n",
    "print (\"F1 Score:\", f1_score(test_y, nn_pred))"
   ]
  },
  {
   "cell_type": "code",
   "execution_count": null,
   "metadata": {},
   "outputs": [
    {
     "name": "stdout",
     "output_type": "stream",
     "text": [
      "Epoch 1/10\n",
      "25056/25056 [==============================] - 2s 85us/step - loss: 0.5366 - accuracy: 0.7726\n",
      "Epoch 2/10\n",
      "25056/25056 [==============================] - 2s 90us/step - loss: 0.5244 - accuracy: 0.7818 0s - loss: 0.5259 - accuracy: 0.\n",
      "Epoch 3/10\n",
      "25056/25056 [==============================] - 2s 89us/step - loss: 0.5226 - accuracy: 0.7822 0s - loss: 0.5249 - accuracy: \n",
      "Epoch 4/10\n",
      "25056/25056 [==============================] - 2s 78us/step - loss: 0.5181 - accuracy: 0.7872 1s - loss: 0.521\n",
      "Epoch 5/10\n",
      "25056/25056 [==============================] - 2s 100us/step - loss: 0.5204 - accuracy: 0.78371s - loss:\n",
      "Epoch 6/10\n",
      "25056/25056 [==============================] - 2s 87us/step - loss: 0.5203 - accuracy: 0.7860 0s - loss: 0.5212 \n",
      "Epoch 7/10\n",
      "25056/25056 [==============================] - 2s 86us/step - loss: 0.5150 - accuracy: 0.7883\n",
      "Epoch 8/10\n",
      "25056/25056 [==============================] - 2s 78us/step - loss: 0.5157 - accuracy: 0.7891\n",
      "Epoch 9/10\n",
      "25056/25056 [==============================] - 2s 79us/step - loss: 0.5158 - accuracy: 0.7878\n",
      "Epoch 10/10\n",
      "17130/25056 [===================>..........] - ETA: 0s - loss: 0.5258 - accuracy: 0.7779"
     ]
    }
   ],
   "source": [
    "network = models.Sequential()\n",
    "network.add(layers.Dense(150, input_dim=107, activation='sigmoid'))\n",
    "network.add(layers.Dense(50, activation='sigmoid'))\n",
    "network.add(layers.Dense(1, activation='sigmoid'))\n",
    "\n",
    "network.compile(optimizer='rmsprop',\n",
    "loss='binary_crossentropy',\n",
    "metrics=['accuracy'])\n",
    "\n",
    "network.fit(train_x,train_y, epochs=10, batch_size=10)\n",
    "\n",
    "nn_pred = network.predict_classes(test_x)\n",
    "nn_pred_prob= network.predict(test_x)\n",
    "\n",
    "print(confusion_matrix(test_y, nn_pred))\n",
    "print(\"Accuracy:\",metrics.accuracy_score(test_y, nn_pred))\n",
    "print (\"AUC Score:\", roc_auc_score(test_y, nn_pred))\n",
    "print (\"AUC Score prob:\", roc_auc_score(test_y, nn_pred_prob))\n",
    "print (\"Precision:\", precision_score(test_y, nn_pred))\n",
    "print (\"Recall:\", recall_score(test_y, nn_pred))\n",
    "print (\"F1 Score:\", f1_score(test_y, nn_pred))"
   ]
  },
  {
   "cell_type": "code",
   "execution_count": null,
   "metadata": {},
   "outputs": [],
   "source": []
  }
 ],
 "metadata": {
  "kernelspec": {
   "display_name": "Python 3",
   "language": "python",
   "name": "python3"
  },
  "language_info": {
   "codemirror_mode": {
    "name": "ipython",
    "version": 3
   },
   "file_extension": ".py",
   "mimetype": "text/x-python",
   "name": "python",
   "nbconvert_exporter": "python",
   "pygments_lexer": "ipython3",
   "version": "3.7.6"
  }
 },
 "nbformat": 4,
 "nbformat_minor": 2
}
