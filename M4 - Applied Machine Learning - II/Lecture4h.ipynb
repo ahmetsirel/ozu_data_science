{
 "cells": [
  {
   "cell_type": "code",
   "execution_count": 1,
   "metadata": {},
   "outputs": [
    {
     "name": "stderr",
     "output_type": "stream",
     "text": [
      "Using TensorFlow backend.\n"
     ]
    }
   ],
   "source": [
    "from keras.datasets import reuters\n",
    "(train_data, train_labels), (test_data, test_labels) = reuters.load_data(\n",
    "num_words=10000)"
   ]
  },
  {
   "cell_type": "code",
   "execution_count": 2,
   "metadata": {},
   "outputs": [
    {
     "data": {
      "text/plain": [
       "8982"
      ]
     },
     "execution_count": 2,
     "metadata": {},
     "output_type": "execute_result"
    }
   ],
   "source": [
    "len(train_data)"
   ]
  },
  {
   "cell_type": "code",
   "execution_count": 3,
   "metadata": {},
   "outputs": [
    {
     "data": {
      "text/plain": [
       "2246"
      ]
     },
     "execution_count": 3,
     "metadata": {},
     "output_type": "execute_result"
    }
   ],
   "source": [
    "len(test_data)"
   ]
  },
  {
   "cell_type": "code",
   "execution_count": 4,
   "metadata": {},
   "outputs": [
    {
     "data": {
      "text/plain": [
       "[1,\n",
       " 245,\n",
       " 273,\n",
       " 207,\n",
       " 156,\n",
       " 53,\n",
       " 74,\n",
       " 160,\n",
       " 26,\n",
       " 14,\n",
       " 46,\n",
       " 296,\n",
       " 26,\n",
       " 39,\n",
       " 74,\n",
       " 2979,\n",
       " 3554,\n",
       " 14,\n",
       " 46,\n",
       " 4689,\n",
       " 4329,\n",
       " 86,\n",
       " 61,\n",
       " 3499,\n",
       " 4795,\n",
       " 14,\n",
       " 61,\n",
       " 451,\n",
       " 4329,\n",
       " 17,\n",
       " 12]"
      ]
     },
     "execution_count": 4,
     "metadata": {},
     "output_type": "execute_result"
    }
   ],
   "source": [
    "train_data[10]"
   ]
  },
  {
   "cell_type": "code",
   "execution_count": 5,
   "metadata": {},
   "outputs": [],
   "source": [
    "word_index = reuters.get_word_index()\n",
    "reverse_word_index = dict([(value, key) for (key, value) in word_index.items()])\n",
    "decoded_newswire = ' '.join([reverse_word_index.get(i - 3, '?') for i in\n",
    "train_data[0]])"
   ]
  },
  {
   "cell_type": "code",
   "execution_count": 6,
   "metadata": {},
   "outputs": [
    {
     "data": {
      "text/plain": [
       "'? ? ? said as a result of its december acquisition of space co it expects earnings per share in 1987 of 1 15 to 1 30 dlrs per share up from 70 cts in 1986 the company said pretax net should rise to nine to 10 mln dlrs from six mln dlrs in 1986 and rental operation revenues to 19 to 22 mln dlrs from 12 5 mln dlrs it said cash flow per share this year should be 2 50 to three dlrs reuter 3'"
      ]
     },
     "execution_count": 6,
     "metadata": {},
     "output_type": "execute_result"
    }
   ],
   "source": [
    "decoded_newswire"
   ]
  },
  {
   "cell_type": "code",
   "execution_count": 7,
   "metadata": {},
   "outputs": [
    {
     "data": {
      "text/plain": [
       "3"
      ]
     },
     "execution_count": 7,
     "metadata": {},
     "output_type": "execute_result"
    }
   ],
   "source": [
    "train_labels[10]"
   ]
  },
  {
   "cell_type": "code",
   "execution_count": 8,
   "metadata": {},
   "outputs": [],
   "source": [
    "import numpy as np\n",
    "\n",
    "def vectorize_sequences(sequences, dimension=10000):\n",
    "    results = np.zeros((len(sequences), dimension))\n",
    "    for i, sequence in enumerate(sequences):\n",
    "        results[i, sequence] = 1.\n",
    "    return results\n",
    "\n",
    "x_train = vectorize_sequences(train_data)\n",
    "x_test = vectorize_sequences(test_data)"
   ]
  },
  {
   "cell_type": "code",
   "execution_count": 9,
   "metadata": {},
   "outputs": [],
   "source": [
    "from keras.utils.np_utils import to_categorical\n",
    "one_hot_train_labels = to_categorical(train_labels)\n",
    "one_hot_test_labels = to_categorical(test_labels)"
   ]
  },
  {
   "cell_type": "code",
   "execution_count": 10,
   "metadata": {},
   "outputs": [],
   "source": [
    "from keras import models\n",
    "from keras import layers\n",
    "model = models.Sequential()\n",
    "model.add(layers.Dense(64, activation='relu', input_shape=(10000,)))\n",
    "model.add(layers.Dense(64, activation='relu'))\n",
    "model.add(layers.Dense(46, activation='softmax'))"
   ]
  },
  {
   "cell_type": "code",
   "execution_count": 11,
   "metadata": {},
   "outputs": [],
   "source": [
    "model.compile(optimizer='rmsprop',\n",
    "loss='categorical_crossentropy',\n",
    "metrics=['accuracy'])"
   ]
  },
  {
   "cell_type": "code",
   "execution_count": 12,
   "metadata": {},
   "outputs": [],
   "source": [
    "x_val = x_train[:1000]\n",
    "partial_x_train = x_train[1000:]\n",
    "y_val = one_hot_train_labels[:1000]\n",
    "partial_y_train = one_hot_train_labels[1000:]"
   ]
  },
  {
   "cell_type": "code",
   "execution_count": 13,
   "metadata": {},
   "outputs": [
    {
     "name": "stdout",
     "output_type": "stream",
     "text": [
      "Train on 7982 samples, validate on 1000 samples\n",
      "Epoch 1/20\n",
      "7982/7982 [==============================] - 1s 102us/step - loss: 2.4614 - accuracy: 0.5187 - val_loss: 1.6340 - val_accuracy: 0.6480\n",
      "Epoch 2/20\n",
      "7982/7982 [==============================] - 1s 72us/step - loss: 1.3615 - accuracy: 0.7066 - val_loss: 1.2850 - val_accuracy: 0.7210\n",
      "Epoch 3/20\n",
      "7982/7982 [==============================] - 1s 72us/step - loss: 1.0262 - accuracy: 0.7806 - val_loss: 1.1210 - val_accuracy: 0.7500\n",
      "Epoch 4/20\n",
      "7982/7982 [==============================] - 1s 72us/step - loss: 0.8095 - accuracy: 0.8262 - val_loss: 1.0208 - val_accuracy: 0.7750\n",
      "Epoch 5/20\n",
      "7982/7982 [==============================] - 1s 72us/step - loss: 0.6424 - accuracy: 0.8592 - val_loss: 0.9680 - val_accuracy: 0.7990\n",
      "Epoch 6/20\n",
      "7982/7982 [==============================] - 1s 76us/step - loss: 0.5183 - accuracy: 0.8898 - val_loss: 0.9358 - val_accuracy: 0.7970\n",
      "Epoch 7/20\n",
      "7982/7982 [==============================] - 1s 72us/step - loss: 0.4151 - accuracy: 0.9123 - val_loss: 0.9347 - val_accuracy: 0.8010\n",
      "Epoch 8/20\n",
      "7982/7982 [==============================] - 1s 74us/step - loss: 0.3386 - accuracy: 0.9291 - val_loss: 0.9035 - val_accuracy: 0.8120\n",
      "Epoch 9/20\n",
      "7982/7982 [==============================] - 1s 72us/step - loss: 0.2853 - accuracy: 0.9379 - val_loss: 0.9217 - val_accuracy: 0.8080\n",
      "Epoch 10/20\n",
      "7982/7982 [==============================] - 1s 73us/step - loss: 0.2367 - accuracy: 0.9460 - val_loss: 0.9297 - val_accuracy: 0.8120\n",
      "Epoch 11/20\n",
      "7982/7982 [==============================] - 1s 72us/step - loss: 0.2042 - accuracy: 0.9520 - val_loss: 0.9530 - val_accuracy: 0.8060\n",
      "Epoch 12/20\n",
      "7982/7982 [==============================] - 1s 72us/step - loss: 0.1807 - accuracy: 0.9520 - val_loss: 1.0463 - val_accuracy: 0.8030\n",
      "Epoch 13/20\n",
      "7982/7982 [==============================] - 1s 72us/step - loss: 0.1623 - accuracy: 0.9549 - val_loss: 0.9994 - val_accuracy: 0.8120\n",
      "Epoch 14/20\n",
      "7982/7982 [==============================] - 1s 73us/step - loss: 0.1487 - accuracy: 0.9560 - val_loss: 1.0129 - val_accuracy: 0.8090\n",
      "Epoch 15/20\n",
      "7982/7982 [==============================] - 1s 73us/step - loss: 0.1367 - accuracy: 0.9551 - val_loss: 1.0066 - val_accuracy: 0.8130\n",
      "Epoch 16/20\n",
      "7982/7982 [==============================] - 1s 72us/step - loss: 0.1326 - accuracy: 0.9570 - val_loss: 1.0759 - val_accuracy: 0.8010\n",
      "Epoch 17/20\n",
      "7982/7982 [==============================] - 1s 73us/step - loss: 0.1208 - accuracy: 0.9562 - val_loss: 1.1440 - val_accuracy: 0.8010\n",
      "Epoch 18/20\n",
      "7982/7982 [==============================] - 1s 72us/step - loss: 0.1223 - accuracy: 0.9578 - val_loss: 1.1596 - val_accuracy: 0.7960\n",
      "Epoch 19/20\n",
      "7982/7982 [==============================] - 1s 72us/step - loss: 0.1132 - accuracy: 0.9570 - val_loss: 1.0948 - val_accuracy: 0.8080\n",
      "Epoch 20/20\n",
      "7982/7982 [==============================] - 1s 72us/step - loss: 0.1106 - accuracy: 0.9603 - val_loss: 1.1559 - val_accuracy: 0.8050\n"
     ]
    }
   ],
   "source": [
    "history = model.fit(partial_x_train,\n",
    "partial_y_train,\n",
    "epochs=20,\n",
    "batch_size=512,\n",
    "validation_data=(x_val, y_val))"
   ]
  },
  {
   "cell_type": "code",
   "execution_count": 14,
   "metadata": {},
   "outputs": [
    {
     "data": {
      "image/png": "[encoded data removed]",
      "text/plain": [
       "<Figure size 432x288 with 1 Axes>"
      ]
     },
     "metadata": {
      "needs_background": "light"
     },
     "output_type": "display_data"
    }
   ],
   "source": [
    "import matplotlib.pyplot as plt\n",
    "loss = history.history['loss']\n",
    "val_loss = history.history['val_loss']\n",
    "epochs = range(1, len(loss) + 1)\n",
    "plt.plot(epochs, loss, 'bo', label='Training loss')\n",
    "plt.plot(epochs, val_loss, 'b', label='Validation loss')\n",
    "plt.title('Training and validation loss')\n",
    "plt.xlabel('Epochs')\n",
    "plt.ylabel('Loss')\n",
    "plt.legend()\n",
    "plt.show()"
   ]
  },
  {
   "cell_type": "code",
   "execution_count": 15,
   "metadata": {},
   "outputs": [
    {
     "data": {
      "image/png": "[encoded data removed]",
      "text/plain": [
       "<Figure size 432x288 with 1 Axes>"
      ]
     },
     "metadata": {
      "needs_background": "light"
     },
     "output_type": "display_data"
    }
   ],
   "source": [
    "plt.clf()\n",
    "acc = history.history['accuracy']\n",
    "val_acc = history.history['val_accuracy']\n",
    "plt.plot(epochs, acc, 'bo', label='Training acc')\n",
    "plt.plot(epochs, val_acc, 'b', label='Validation acc')\n",
    "plt.title('Training and validation accuracy')\n",
    "plt.xlabel('Epochs')\n",
    "plt.ylabel('Loss')\n",
    "plt.legend()\n",
    "plt.show()"
   ]
  },
  {
   "cell_type": "code",
   "execution_count": 16,
   "metadata": {},
   "outputs": [
    {
     "name": "stdout",
     "output_type": "stream",
     "text": [
      "Train on 7982 samples, validate on 1000 samples\n",
      "Epoch 1/9\n",
      "7982/7982 [==============================] - 1s 81us/step - loss: 2.6495 - accuracy: 0.5368 - val_loss: 1.7505 - val_accuracy: 0.6430\n",
      "Epoch 2/9\n",
      "7982/7982 [==============================] - 1s 73us/step - loss: 1.4386 - accuracy: 0.7018 - val_loss: 1.3322 - val_accuracy: 0.7080\n",
      "Epoch 3/9\n",
      "7982/7982 [==============================] - 1s 73us/step - loss: 1.0725 - accuracy: 0.7720 - val_loss: 1.1360 - val_accuracy: 0.7550\n",
      "Epoch 4/9\n",
      "7982/7982 [==============================] - 1s 73us/step - loss: 0.8448 - accuracy: 0.8227 - val_loss: 1.0268 - val_accuracy: 0.7940\n",
      "Epoch 5/9\n",
      "7982/7982 [==============================] - 1s 72us/step - loss: 0.6779 - accuracy: 0.8569 - val_loss: 0.9616 - val_accuracy: 0.8070\n",
      "Epoch 6/9\n",
      "7982/7982 [==============================] - 1s 72us/step - loss: 0.5435 - accuracy: 0.8872 - val_loss: 0.9146 - val_accuracy: 0.8150\n",
      "Epoch 7/9\n",
      "7982/7982 [==============================] - 1s 72us/step - loss: 0.4385 - accuracy: 0.9084 - val_loss: 0.8986 - val_accuracy: 0.8100\n",
      "Epoch 8/9\n",
      "7982/7982 [==============================] - 1s 73us/step - loss: 0.3583 - accuracy: 0.9231 - val_loss: 0.8839 - val_accuracy: 0.8170\n",
      "Epoch 9/9\n",
      "7982/7982 [==============================] - 1s 72us/step - loss: 0.2971 - accuracy: 0.9365 - val_loss: 0.8850 - val_accuracy: 0.8200\n",
      "2246/2246 [==============================] - 0s 98us/step\n"
     ]
    }
   ],
   "source": [
    "model = models.Sequential()\n",
    "model.add(layers.Dense(64, activation='relu', input_shape=(10000,)))\n",
    "model.add(layers.Dense(64, activation='relu'))\n",
    "model.add(layers.Dense(46, activation='softmax'))\n",
    "model.compile(optimizer='rmsprop',\n",
    "loss='categorical_crossentropy',\n",
    "metrics=['accuracy'])\n",
    "model.fit(partial_x_train,\n",
    "partial_y_train,\n",
    "epochs=9,\n",
    "batch_size=512,\n",
    "validation_data=(x_val, y_val))\n",
    "results = model.evaluate(x_test, one_hot_test_labels)"
   ]
  },
  {
   "cell_type": "code",
   "execution_count": 17,
   "metadata": {},
   "outputs": [
    {
     "data": {
      "text/plain": [
       "[0.9746449481984493, 0.790739119052887]"
      ]
     },
     "execution_count": 17,
     "metadata": {},
     "output_type": "execute_result"
    }
   ],
   "source": [
    "results"
   ]
  },
  {
   "cell_type": "code",
   "execution_count": 18,
   "metadata": {},
   "outputs": [],
   "source": [
    "predictions = model.predict(x_test)"
   ]
  },
  {
   "cell_type": "code",
   "execution_count": 19,
   "metadata": {},
   "outputs": [
    {
     "name": "stdout",
     "output_type": "stream",
     "text": [
      "Train on 7982 samples, validate on 1000 samples\n",
      "Epoch 1/9\n",
      "7982/7982 [==============================] - 1s 79us/step - loss: 3.5476 - accuracy: 0.2071 - val_loss: 3.3160 - val_accuracy: 0.2510\n",
      "Epoch 2/9\n",
      "7982/7982 [==============================] - 1s 72us/step - loss: 3.0726 - accuracy: 0.2779 - val_loss: 2.9434 - val_accuracy: 0.2730\n",
      "Epoch 3/9\n",
      "7982/7982 [==============================] - 1s 72us/step - loss: 2.6846 - accuracy: 0.2888 - val_loss: 2.6191 - val_accuracy: 0.2810\n",
      "Epoch 4/9\n",
      "7982/7982 [==============================] - 1s 72us/step - loss: 2.3508 - accuracy: 0.2972 - val_loss: 2.3444 - val_accuracy: 0.2840\n",
      "Epoch 5/9\n",
      "7982/7982 [==============================] - 1s 72us/step - loss: 2.0283 - accuracy: 0.4211 - val_loss: 2.0473 - val_accuracy: 0.5760\n",
      "Epoch 6/9\n",
      "7982/7982 [==============================] - 1s 73us/step - loss: 1.7045 - accuracy: 0.6254 - val_loss: 1.7950 - val_accuracy: 0.6110\n",
      "Epoch 7/9\n",
      "7982/7982 [==============================] - 1s 71us/step - loss: 1.4564 - accuracy: 0.6700 - val_loss: 1.6333 - val_accuracy: 0.6400\n",
      "Epoch 8/9\n",
      "7982/7982 [==============================] - 1s 71us/step - loss: 1.3025 - accuracy: 0.6923 - val_loss: 1.5588 - val_accuracy: 0.6490\n",
      "Epoch 9/9\n",
      "7982/7982 [==============================] - 1s 71us/step - loss: 1.1992 - accuracy: 0.7056 - val_loss: 1.5166 - val_accuracy: 0.6560\n",
      "2246/2246 [==============================] - 0s 85us/step\n"
     ]
    },
    {
     "data": {
      "text/plain": [
       "[1.547367584248897, 0.6509349942207336]"
      ]
     },
     "execution_count": 19,
     "metadata": {},
     "output_type": "execute_result"
    }
   ],
   "source": [
    "model = models.Sequential()\n",
    "model.add(layers.Dense(64, activation='relu', input_shape=(10000,)))\n",
    "model.add(layers.Dense(4, activation='relu'))\n",
    "model.add(layers.Dense(46, activation='softmax'))\n",
    "model.compile(optimizer='rmsprop',\n",
    "loss='categorical_crossentropy',\n",
    "metrics=['accuracy'])\n",
    "model.fit(partial_x_train,\n",
    "partial_y_train,\n",
    "epochs=9,\n",
    "batch_size=512,\n",
    "validation_data=(x_val, y_val))\n",
    "results = model.evaluate(x_test, one_hot_test_labels)\n",
    "results"
   ]
  },
  {
   "cell_type": "code",
   "execution_count": 22,
   "metadata": {},
   "outputs": [
    {
     "data": {
      "text/plain": [
       "array([2.8734334e-04, 2.7071894e-05, 1.3407684e-03, 6.0025442e-01,\n",
       "       3.1867459e-01, 1.6417210e-03, 8.3440922e-05, 1.0827534e-05,\n",
       "       8.0987636e-05, 4.9490038e-05, 5.0464750e-04, 1.2830109e-02,\n",
       "       6.5415748e-05, 8.0088194e-04, 1.0697752e-06, 8.0116306e-06,\n",
       "       4.2554908e-03, 8.8964567e-05, 1.3364364e-03, 7.8649977e-03,\n",
       "       1.5851378e-04, 1.3372265e-06, 6.5463461e-04, 1.9026417e-03,\n",
       "       1.9906852e-03, 1.3065159e-02, 1.0928400e-05, 1.1797057e-04,\n",
       "       2.5597408e-06, 5.8316851e-05, 2.9374032e-06, 9.6026866e-04,\n",
       "       2.7972794e-04, 2.2076502e-02, 1.9872612e-05, 1.2342092e-07,\n",
       "       7.5788489e-07, 3.0414638e-04, 7.2206422e-03, 2.0061259e-05,\n",
       "       9.2988892e-05, 3.5677542e-04, 2.2902497e-04, 2.0356358e-05,\n",
       "       1.4058202e-04, 1.0570094e-04], dtype=float32)"
      ]
     },
     "execution_count": 22,
     "metadata": {},
     "output_type": "execute_result"
    }
   ],
   "source": [
    "a = model.predict(x_test)\n",
    "a[0]"
   ]
  },
  {
   "cell_type": "code",
   "execution_count": 23,
   "metadata": {},
   "outputs": [
    {
     "data": {
      "text/plain": [
       "'? the great atlantic and pacific tea co said its three year 345 mln dlr capital program will be be substantially increased to ? growth and expansion plans for ? inc and ? inc over the next two years a and p said the acquisition of ? in august 1986 and ? in december helped us achieve better than expected results in the fourth quarter ended february 28 its net income from continuing operations jumped 52 6 pct to 20 7 mln dlrs or 55 cts a share in the latest quarter as sales increased 48 3 pct to 1 58 billion dlrs a and p gave no details on the expanded capital program but it did say it completed the first year of the program during 1986 a and p is 52 4 pct owned by lt ? ? of west germany reuter 3'"
      ]
     },
     "execution_count": 23,
     "metadata": {},
     "output_type": "execute_result"
    }
   ],
   "source": [
    "reverse_word_index = dict([(value, key) for (key, value) in word_index.items()])\n",
    "decoded_review = ' '.join([reverse_word_index.get(i - 3, '?') for i in test_data[0]])\n",
    "decoded_review"
   ]
  },
  {
   "cell_type": "code",
   "execution_count": null,
   "metadata": {},
   "outputs": [],
   "source": []
  }
 ],
 "metadata": {
  "kernelspec": {
   "display_name": "Python 3",
   "language": "python",
   "name": "python3"
  },
  "language_info": {
   "codemirror_mode": {
    "name": "ipython",
    "version": 3
   },
   "file_extension": ".py",
   "mimetype": "text/x-python",
   "name": "python",
   "nbconvert_exporter": "python",
   "pygments_lexer": "ipython3",
   "version": "3.7.6"
  }
 },
 "nbformat": 4,
 "nbformat_minor": 2
}
