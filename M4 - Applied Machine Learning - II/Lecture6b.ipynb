{
 "cells": [
  {
   "cell_type": "code",
   "execution_count": 12,
   "metadata": {},
   "outputs": [],
   "source": [
    "from numpy.random import seed\n",
    "import numpy as np\n",
    "import pandas as pd\n",
    "from sklearn.model_selection import train_test_split\n",
    "import tensorflow\n",
    "from sklearn.preprocessing import StandardScaler\n",
    "\n",
    "seed(1907)\n",
    "tensorflow.random.set_seed(2)"
   ]
  },
  {
   "cell_type": "code",
   "execution_count": 13,
   "metadata": {},
   "outputs": [
    {
     "name": "stdout",
     "output_type": "stream",
     "text": [
      "The data size: (7043, 46)\n"
     ]
    }
   ],
   "source": [
    "df = pd.read_csv(\"WA_Fn-UseC_-Telco-Customer-Churn.csv\")\n",
    "\n",
    "## Convert TotalCharges to numeric\n",
    "df['TotalCharges']=pd.to_numeric(df['TotalCharges'],errors='coerce')\n",
    "\n",
    "## Replace yes and No in the Churn column to 1 and 0. 1 for the event and 0 for the censured data.\n",
    "df['Churn']=df['Churn'].apply(lambda x: 1 if x == 'Yes' else 0 )\n",
    "\n",
    "## Impute the null value with the median value\n",
    "\n",
    "df.TotalCharges.fillna(value=df['TotalCharges'].median(),inplace=True)\n",
    "df= df.drop('customerID', axis = 1)\n",
    "\n",
    "df = pd.get_dummies(df)\n",
    "print(\"The data size:\", df.shape)\n",
    "\n",
    "labels = np.array(df['TotalCharges'])\n",
    "df= df.drop('TotalCharges', axis = 1)\n",
    "df= df.drop('MonthlyCharges', axis = 1)\n",
    "\n",
    "train_x, test_x, train_y, test_y = train_test_split(df, labels, test_size = 0.25, shuffle=False)"
   ]
  },
  {
   "cell_type": "code",
   "execution_count": 14,
   "metadata": {},
   "outputs": [],
   "source": [
    "# created scaler\n",
    "scaler = StandardScaler()\n",
    "# fit scaler on training dataset\n",
    "scaler.fit(train_x)\n",
    "# transform training dataset\n",
    "train_x = scaler.transform(train_x)\n",
    "# transform test dataset\n",
    "test_x = scaler.transform(test_x)"
   ]
  },
  {
   "cell_type": "code",
   "execution_count": 15,
   "metadata": {},
   "outputs": [
    {
     "name": "stdout",
     "output_type": "stream",
     "text": [
      "Train on 4225 samples, validate on 1057 samples\n",
      "Epoch 1/20\n",
      "4225/4225 [==============================] - 0s 103us/step - loss: 8024871.8147 - mse: 8024876.5000 - val_loss: 3159588.6285 - val_mse: 3159589.2500\n",
      "Epoch 2/20\n",
      "4225/4225 [==============================] - 0s 84us/step - loss: 1096976.5137 - mse: 1096976.5000 - val_loss: 734785.1551 - val_mse: 734784.9375\n",
      "Epoch 3/20\n",
      "4225/4225 [==============================] - 0s 89us/step - loss: 556389.8288 - mse: 556389.4375 - val_loss: 444655.0071 - val_mse: 444655.0312\n",
      "Epoch 4/20\n",
      "4225/4225 [==============================] - 0s 89us/step - loss: 314522.2956 - mse: 314522.3438 - val_loss: 238900.6395 - val_mse: 238900.6406\n",
      "Epoch 5/20\n",
      "4225/4225 [==============================] - 0s 80us/step - loss: 153449.5298 - mse: 153449.4375 - val_loss: 101859.5155 - val_mse: 101859.5234\n",
      "Epoch 6/20\n",
      "4225/4225 [==============================] - 0s 87us/step - loss: 63253.8450 - mse: 63253.8633 - val_loss: 44070.0149 - val_mse: 44070.0078\n",
      "Epoch 7/20\n",
      "4225/4225 [==============================] - 0s 81us/step - loss: 37419.0643 - mse: 37419.0625 - val_loss: 34648.7138 - val_mse: 34648.7188\n",
      "Epoch 8/20\n",
      "4225/4225 [==============================] - 0s 82us/step - loss: 30875.2817 - mse: 30875.2773 - val_loss: 29657.6051 - val_mse: 29657.6055\n",
      "Epoch 9/20\n",
      "4225/4225 [==============================] - 0s 81us/step - loss: 26973.5191 - mse: 26973.5176 - val_loss: 26075.3603 - val_mse: 26075.3555\n",
      "Epoch 10/20\n",
      "4225/4225 [==============================] - 0s 80us/step - loss: 24117.8246 - mse: 24117.8184 - val_loss: 24085.9100 - val_mse: 24085.9121\n",
      "Epoch 11/20\n",
      "4225/4225 [==============================] - 0s 80us/step - loss: 22084.6451 - mse: 22084.6387 - val_loss: 22443.3708 - val_mse: 22443.3711\n",
      "Epoch 12/20\n",
      "4225/4225 [==============================] - 0s 87us/step - loss: 20281.7364 - mse: 20281.7441 - val_loss: 21540.2595 - val_mse: 21540.2559\n",
      "Epoch 13/20\n",
      "4225/4225 [==============================] - 0s 81us/step - loss: 19187.4686 - mse: 19187.4668 - val_loss: 20456.1373 - val_mse: 20456.1406\n",
      "Epoch 14/20\n",
      "4225/4225 [==============================] - ETA: 0s - loss: 18237.2939 - mse: 18237.293 - 0s 84us/step - loss: 18175.3480 - mse: 18175.3438 - val_loss: 19338.3238 - val_mse: 19338.3164\n",
      "Epoch 15/20\n",
      "4225/4225 [==============================] - 0s 83us/step - loss: 17047.0228 - mse: 17047.0273 - val_loss: 20178.8727 - val_mse: 20178.8711\n",
      "Epoch 16/20\n",
      "4225/4225 [==============================] - 0s 81us/step - loss: 16674.8819 - mse: 16674.8828 - val_loss: 17892.1687 - val_mse: 17892.1680\n",
      "Epoch 17/20\n",
      "4225/4225 [==============================] - 0s 81us/step - loss: 15972.1734 - mse: 15972.1709 - val_loss: 17709.7592 - val_mse: 17709.7578\n",
      "Epoch 18/20\n",
      "4225/4225 [==============================] - 0s 81us/step - loss: 15456.9186 - mse: 15456.9189 - val_loss: 16954.8572 - val_mse: 16954.8535\n",
      "Epoch 19/20\n",
      "4225/4225 [==============================] - 0s 81us/step - loss: 14870.3823 - mse: 14870.3857 - val_loss: 17606.6976 - val_mse: 17606.6973\n",
      "Epoch 20/20\n",
      "4225/4225 [==============================] - 0s 84us/step - loss: 14126.7439 - mse: 14126.7441 - val_loss: 15872.9023 - val_mse: 15872.9023\n",
      "1761/1761 [==============================] - 0s 13us/step\n"
     ]
    }
   ],
   "source": [
    "from keras import models\n",
    "from keras import layers\n",
    "\n",
    "model = models.Sequential()\n",
    "model.add(layers.Dense(64, activation='relu', input_shape=(train_x.shape[1],)))\n",
    "model.add(layers.Dense(64, activation='relu'))\n",
    "model.add(layers.Dense(1))\n",
    "model.compile(optimizer='rmsprop', loss='mse', metrics=['mse'])\n",
    "\n",
    "history = model.fit(train_x, train_y, epochs=20, batch_size=10,  verbose=1, validation_split=0.2)\n",
    "\n",
    "test_mse_score, test_mae_score = model.evaluate(test_x, test_y)"
   ]
  },
  {
   "cell_type": "code",
   "execution_count": 16,
   "metadata": {},
   "outputs": [
    {
     "data": {
      "text/plain": [
       "14831.8769520159"
      ]
     },
     "execution_count": 16,
     "metadata": {},
     "output_type": "execute_result"
    }
   ],
   "source": [
    "test_mse_score"
   ]
  },
  {
   "cell_type": "code",
   "execution_count": 17,
   "metadata": {},
   "outputs": [
    {
     "name": "stdout",
     "output_type": "stream",
     "text": [
      "Train on 4225 samples, validate on 1057 samples\n",
      "Epoch 1/20\n",
      "4225/4225 [==============================] - 0s 111us/step - loss: 3935187.3687 - mse: 3935188.7500 - val_loss: 548999.6987 - val_mse: 548999.8750\n",
      "Epoch 2/20\n",
      "4225/4225 [==============================] - 0s 89us/step - loss: 307203.2704 - mse: 307203.3750 - val_loss: 136407.3473 - val_mse: 136407.3750\n",
      "Epoch 3/20\n",
      "4225/4225 [==============================] - 0s 92us/step - loss: 61194.4640 - mse: 61194.4883 - val_loss: 41665.7045 - val_mse: 41665.7109\n",
      "Epoch 4/20\n",
      "4225/4225 [==============================] - 0s 93us/step - loss: 34592.9938 - mse: 34592.9844 - val_loss: 32924.9446 - val_mse: 32924.9492\n",
      "Epoch 5/20\n",
      "4225/4225 [==============================] - 0s 92us/step - loss: 28236.8660 - mse: 28236.8770 - val_loss: 29667.7573 - val_mse: 29667.7559\n",
      "Epoch 6/20\n",
      "4225/4225 [==============================] - 0s 94us/step - loss: 23477.0498 - mse: 23477.0410 - val_loss: 26598.5650 - val_mse: 26598.5664\n",
      "Epoch 7/20\n",
      "4225/4225 [==============================] - 0s 98us/step - loss: 20668.8134 - mse: 20668.8184 - val_loss: 22620.1845 - val_mse: 22620.1855\n",
      "Epoch 8/20\n",
      "4225/4225 [==============================] - 0s 93us/step - loss: 18264.7719 - mse: 18264.7656 - val_loss: 19605.6917 - val_mse: 19605.6914\n",
      "Epoch 9/20\n",
      "4225/4225 [==============================] - 0s 91us/step - loss: 16349.4267 - mse: 16349.4229 - val_loss: 21747.0617 - val_mse: 21747.0645\n",
      "Epoch 10/20\n",
      "4225/4225 [==============================] - 0s 86us/step - loss: 15213.7229 - mse: 15213.7236 - val_loss: 16409.7117 - val_mse: 16409.7090\n",
      "Epoch 11/20\n",
      "4225/4225 [==============================] - ETA: 0s - loss: 14291.8676 - mse: 14291.865 - 0s 89us/step - loss: 14279.9300 - mse: 14279.9287 - val_loss: 18240.8668 - val_mse: 18240.8652\n",
      "Epoch 12/20\n",
      "4225/4225 [==============================] - 0s 90us/step - loss: 13553.9945 - mse: 13553.9951 - val_loss: 16707.5616 - val_mse: 16707.5625\n",
      "Epoch 13/20\n",
      "4225/4225 [==============================] - 0s 88us/step - loss: 12950.0392 - mse: 12950.0459 - val_loss: 14627.9722 - val_mse: 14627.9717\n",
      "Epoch 14/20\n",
      "4225/4225 [==============================] - 0s 96us/step - loss: 12845.4759 - mse: 12845.4697 - val_loss: 27537.3665 - val_mse: 27537.3672\n",
      "Epoch 15/20\n",
      "4225/4225 [==============================] - 0s 93us/step - loss: 12350.4054 - mse: 12350.4102 - val_loss: 13877.2415 - val_mse: 13877.2393\n",
      "Epoch 16/20\n",
      "4225/4225 [==============================] - 0s 91us/step - loss: 12339.3608 - mse: 12339.3564 - val_loss: 14093.4749 - val_mse: 14093.4785\n",
      "Epoch 17/20\n",
      "4225/4225 [==============================] - 0s 91us/step - loss: 12294.0680 - mse: 12294.0684 - val_loss: 15355.6226 - val_mse: 15355.6221\n",
      "Epoch 18/20\n",
      "4225/4225 [==============================] - 0s 94us/step - loss: 11770.6819 - mse: 11770.6846 - val_loss: 15550.1722 - val_mse: 15550.1748\n",
      "Epoch 19/20\n",
      "4225/4225 [==============================] - 0s 91us/step - loss: 11869.0060 - mse: 11869.0049 - val_loss: 13708.2307 - val_mse: 13708.2295\n",
      "Epoch 20/20\n",
      "4225/4225 [==============================] - 0s 88us/step - loss: 11657.3207 - mse: 11657.3223 - val_loss: 13491.9791 - val_mse: 13491.9824\n",
      "1761/1761 [==============================] - 0s 10us/step\n"
     ]
    }
   ],
   "source": [
    "model = models.Sequential()\n",
    "model.add(layers.Dense(128, activation='relu', input_shape=(train_x.shape[1],)))\n",
    "model.add(layers.Dense(64, activation='relu'))\n",
    "model.add(layers.Dense(32, activation='relu'))\n",
    "model.add(layers.Dense(1))\n",
    "model.compile(optimizer='rmsprop', loss='mse', metrics=['mse'])\n",
    "\n",
    "history = model.fit(train_x, train_y, epochs=20, batch_size=10,  verbose=1, validation_split=0.2)\n",
    "\n",
    "test_mse_score, test_mae_score = model.evaluate(test_x, test_y)"
   ]
  },
  {
   "cell_type": "code",
   "execution_count": 18,
   "metadata": {},
   "outputs": [
    {
     "data": {
      "text/plain": [
       "11717.304741014072"
      ]
     },
     "execution_count": 18,
     "metadata": {},
     "output_type": "execute_result"
    }
   ],
   "source": [
    "test_mse_score"
   ]
  },
  {
   "cell_type": "code",
   "execution_count": 19,
   "metadata": {},
   "outputs": [
    {
     "name": "stdout",
     "output_type": "stream",
     "text": [
      "Train on 4225 samples, validate on 1057 samples\n",
      "Epoch 1/20\n",
      "4225/4225 [==============================] - 1s 146us/step - loss: 1421813.3830 - mse: 1421814.1250 - val_loss: 143530.4494 - val_mse: 143530.4219\n",
      "Epoch 2/20\n",
      "4225/4225 [==============================] - 0s 106us/step - loss: 58291.6867 - mse: 58291.6602 - val_loss: 32186.0219 - val_mse: 32186.0293\n",
      "Epoch 3/20\n",
      "4225/4225 [==============================] - 0s 114us/step - loss: 30917.9779 - mse: 30917.9863 - val_loss: 24518.5382 - val_mse: 24518.5352\n",
      "Epoch 4/20\n",
      "4225/4225 [==============================] - 1s 128us/step - loss: 27246.8325 - mse: 27246.8340 - val_loss: 19428.5390 - val_mse: 19428.5371\n",
      "Epoch 5/20\n",
      "4225/4225 [==============================] - 1s 146us/step - loss: 26257.1823 - mse: 26257.1719 - val_loss: 23715.2492 - val_mse: 23715.2500\n",
      "Epoch 6/20\n",
      "4225/4225 [==============================] - 1s 127us/step - loss: 24592.6900 - mse: 24592.6797 - val_loss: 27058.1874 - val_mse: 27058.1934\n",
      "Epoch 7/20\n",
      "4225/4225 [==============================] - 1s 128us/step - loss: 24027.1097 - mse: 24027.1113 - val_loss: 57156.0019 - val_mse: 57156.0039\n",
      "Epoch 8/20\n",
      "4225/4225 [==============================] - 1s 129us/step - loss: 23803.8972 - mse: 23803.9102 - val_loss: 15682.0711 - val_mse: 15682.0703\n",
      "Epoch 9/20\n",
      "4225/4225 [==============================] - 0s 116us/step - loss: 23318.3007 - mse: 23318.3008 - val_loss: 19474.6065 - val_mse: 19474.6074\n",
      "Epoch 10/20\n",
      "4225/4225 [==============================] - 1s 120us/step - loss: 22411.9626 - mse: 22411.9648 - val_loss: 60025.3471 - val_mse: 60025.3438\n",
      "Epoch 11/20\n",
      "4225/4225 [==============================] - 1s 125us/step - loss: 22253.6307 - mse: 22253.6387 - val_loss: 21580.0571 - val_mse: 21580.0547\n",
      "Epoch 12/20\n",
      "4225/4225 [==============================] - 1s 137us/step - loss: 21132.7338 - mse: 21132.7383 - val_loss: 18071.6118 - val_mse: 18071.6094\n",
      "Epoch 13/20\n",
      "4225/4225 [==============================] - 1s 135us/step - loss: 20802.8558 - mse: 20802.8633 - val_loss: 16555.9544 - val_mse: 16555.9551\n",
      "Epoch 14/20\n",
      "4225/4225 [==============================] - 1s 135us/step - loss: 20274.2923 - mse: 20274.2891 - val_loss: 26522.5447 - val_mse: 26522.5488\n",
      "Epoch 15/20\n",
      "4225/4225 [==============================] - 1s 134us/step - loss: 21122.4648 - mse: 21122.4570 - val_loss: 16756.2570 - val_mse: 16756.2559\n",
      "Epoch 16/20\n",
      "4225/4225 [==============================] - 1s 132us/step - loss: 19803.7554 - mse: 19803.7598 - val_loss: 18704.0641 - val_mse: 18704.0625\n",
      "Epoch 17/20\n",
      "4225/4225 [==============================] - 1s 141us/step - loss: 20112.3871 - mse: 20112.3984 - val_loss: 78007.7463 - val_mse: 78007.7422\n",
      "Epoch 18/20\n",
      "4225/4225 [==============================] - 1s 135us/step - loss: 19077.2302 - mse: 19077.2266 - val_loss: 24577.5296 - val_mse: 24577.5273\n",
      "Epoch 19/20\n",
      "4225/4225 [==============================] - 0s 116us/step - loss: 19073.9202 - mse: 19073.9180 - val_loss: 31212.7323 - val_mse: 31212.7305\n",
      "Epoch 20/20\n",
      "4225/4225 [==============================] - 1s 120us/step - loss: 19044.0606 - mse: 19044.0586 - val_loss: 16747.8192 - val_mse: 16747.8184\n",
      "1761/1761 [==============================] - 0s 23us/step\n"
     ]
    }
   ],
   "source": [
    "model = models.Sequential()\n",
    "model.add(layers.Dense(128, activation='relu', input_shape=(train_x.shape[1],)))\n",
    "model.add(layers.Dense(128, activation='relu'))\n",
    "model.add(layers.Dense(64, activation='relu'))\n",
    "model.add(layers.Dense(64, activation='relu'))\n",
    "model.add(layers.Dense(32, activation='relu'))\n",
    "model.add(layers.Dense(1))\n",
    "model.compile(optimizer='rmsprop', loss='mse', metrics=['mse'])\n",
    "\n",
    "history = model.fit(train_x, train_y, epochs=20, batch_size=10,  verbose=1, validation_split=0.2)\n",
    "\n",
    "test_mse_score, test_mae_score = model.evaluate(test_x, test_y)"
   ]
  },
  {
   "cell_type": "code",
   "execution_count": 20,
   "metadata": {},
   "outputs": [
    {
     "data": {
      "text/plain": [
       "15443.508473523567"
      ]
     },
     "execution_count": 20,
     "metadata": {},
     "output_type": "execute_result"
    }
   ],
   "source": [
    "test_mse_score"
   ]
  },
  {
   "cell_type": "code",
   "execution_count": 29,
   "metadata": {},
   "outputs": [
    {
     "name": "stdout",
     "output_type": "stream",
     "text": [
      "Train on 4225 samples, validate on 1057 samples\n",
      "Epoch 1/20\n",
      "4225/4225 [==============================] - 1s 276us/step - loss: 1386716.6727 - mse: 1386716.8750 - val_loss: 215197.8478 - val_mse: 215197.8438\n",
      "Epoch 2/20\n",
      "4225/4225 [==============================] - 1s 148us/step - loss: 107547.1854 - mse: 107547.2266 - val_loss: 44791.5053 - val_mse: 44791.4961\n",
      "Epoch 3/20\n",
      "4225/4225 [==============================] - 1s 156us/step - loss: 79865.4890 - mse: 79865.5000 - val_loss: 43238.6136 - val_mse: 43238.6211\n",
      "Epoch 4/20\n",
      "4225/4225 [==============================] - 1s 136us/step - loss: 72624.8917 - mse: 72624.8984 - val_loss: 54831.8709 - val_mse: 54831.8555\n",
      "Epoch 5/20\n",
      "4225/4225 [==============================] - 1s 138us/step - loss: 67482.4804 - mse: 67482.4688 - val_loss: 33317.7288 - val_mse: 33317.7344\n",
      "Epoch 6/20\n",
      "4225/4225 [==============================] - 1s 140us/step - loss: 61795.1440 - mse: 61795.1641 - val_loss: 83180.4799 - val_mse: 83180.4688\n",
      "Epoch 7/20\n",
      "4225/4225 [==============================] - 1s 144us/step - loss: 65494.6011 - mse: 65494.5859 - val_loss: 82892.8888 - val_mse: 82892.8906\n",
      "Epoch 8/20\n",
      "4225/4225 [==============================] - 1s 139us/step - loss: 60666.2471 - mse: 60666.2305 - val_loss: 48410.5428 - val_mse: 48410.5430\n",
      "Epoch 9/20\n",
      "4225/4225 [==============================] - 1s 158us/step - loss: 56576.5398 - mse: 56576.5820 - val_loss: 27618.6239 - val_mse: 27618.6191\n",
      "Epoch 10/20\n",
      "4225/4225 [==============================] - 1s 147us/step - loss: 59246.9942 - mse: 59246.9961 - val_loss: 23588.9082 - val_mse: 23588.9062\n",
      "Epoch 11/20\n",
      "4225/4225 [==============================] - 1s 152us/step - loss: 57751.9850 - mse: 57752.0000 - val_loss: 27368.6986 - val_mse: 27368.6914\n",
      "Epoch 12/20\n",
      "4225/4225 [==============================] - 1s 141us/step - loss: 58387.8870 - mse: 58387.8672 - val_loss: 40498.6481 - val_mse: 40498.6523\n",
      "Epoch 13/20\n",
      "4225/4225 [==============================] - 1s 146us/step - loss: 56507.9246 - mse: 56507.9141 - val_loss: 40760.7180 - val_mse: 40760.7227\n",
      "Epoch 14/20\n",
      "4225/4225 [==============================] - 1s 139us/step - loss: 55470.6384 - mse: 55470.6445 - val_loss: 47967.5181 - val_mse: 47967.5195\n",
      "Epoch 15/20\n",
      "4225/4225 [==============================] - 1s 144us/step - loss: 56951.2626 - mse: 56951.2695 - val_loss: 20205.3638 - val_mse: 20205.3691\n",
      "Epoch 16/20\n",
      "4225/4225 [==============================] - 1s 151us/step - loss: 52917.4797 - mse: 52917.5000 - val_loss: 22458.2032 - val_mse: 22458.2031\n",
      "Epoch 17/20\n",
      "4225/4225 [==============================] - 1s 157us/step - loss: 54366.3991 - mse: 54366.4219 - val_loss: 57634.4922 - val_mse: 57634.4844\n",
      "Epoch 18/20\n",
      "4225/4225 [==============================] - 1s 183us/step - loss: 52905.1865 - mse: 52905.2109 - val_loss: 28704.4679 - val_mse: 28704.4707\n",
      "Epoch 19/20\n",
      "4225/4225 [==============================] - 1s 149us/step - loss: 53432.5803 - mse: 53432.5742 - val_loss: 115792.6397 - val_mse: 115792.6328\n",
      "Epoch 20/20\n",
      "4225/4225 [==============================] - 1s 142us/step - loss: 51027.7598 - mse: 51027.7578 - val_loss: 42738.6682 - val_mse: 42738.6680\n",
      "1761/1761 [==============================] - 0s 15us/step\n"
     ]
    }
   ],
   "source": [
    "model = models.Sequential()\n",
    "model.add(layers.Dense(128, activation='relu', input_shape=(train_x.shape[1],)))\n",
    "model.add(layers.Dropout(0.1))\n",
    "model.add(layers.Dense(128, activation='relu'))\n",
    "model.add(layers.Dropout(0.1))\n",
    "model.add(layers.Dense(64, activation='relu'))\n",
    "model.add(layers.Dropout(0.1))\n",
    "model.add(layers.Dense(64, activation='relu'))\n",
    "model.add(layers.Dropout(0.1))\n",
    "model.add(layers.Dense(32, activation='relu'))\n",
    "model.add(layers.Dense(1))\n",
    "model.compile(optimizer='rmsprop', loss='mse', metrics=['mse'])\n",
    "\n",
    "history = model.fit(train_x, train_y, epochs=20, batch_size=10,  verbose=1, validation_split=0.2)\n",
    "\n",
    "test_mse_score, test_mae_score = model.evaluate(test_x, test_y)"
   ]
  },
  {
   "cell_type": "code",
   "execution_count": 28,
   "metadata": {},
   "outputs": [
    {
     "data": {
      "text/plain": [
       "27245.142931927883"
      ]
     },
     "execution_count": 28,
     "metadata": {},
     "output_type": "execute_result"
    }
   ],
   "source": [
    "test_mse_score"
   ]
  },
  {
   "cell_type": "code",
   "execution_count": null,
   "metadata": {},
   "outputs": [],
   "source": []
  }
 ],
 "metadata": {
  "kernelspec": {
   "display_name": "Python 3",
   "language": "python",
   "name": "python3"
  },
  "language_info": {
   "codemirror_mode": {
    "name": "ipython",
    "version": 3
   },
   "file_extension": ".py",
   "mimetype": "text/x-python",
   "name": "python",
   "nbconvert_exporter": "python",
   "pygments_lexer": "ipython3",
   "version": "3.7.6"
  }
 },
 "nbformat": 4,
 "nbformat_minor": 2
}
