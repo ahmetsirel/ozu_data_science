{
 "cells": [
  {
   "cell_type": "code",
   "execution_count": 1,
   "metadata": {},
   "outputs": [
    {
     "name": "stdout",
     "output_type": "stream",
     "text": [
      "   Pregnancies  Glucose  BloodPressure  SkinThickness  Insulin   BMI  \\\n",
      "0            6      148             72             35        0  33.6   \n",
      "1            1       85             66             29        0  26.6   \n",
      "2            8      183             64              0        0  23.3   \n",
      "3            1       89             66             23       94  28.1   \n",
      "4            0      137             40             35      168  43.1   \n",
      "\n",
      "   DiabetesPedigreeFunction  Age  Outcome  \n",
      "0                     0.627   50        1  \n",
      "1                     0.351   31        0  \n",
      "2                     0.672   32        1  \n",
      "3                     0.167   21        0  \n",
      "4                     2.288   33        1  \n",
      "     Pregnancies  Insulin   BMI  Age  Glucose  BloodPressure  \\\n",
      "88            15      110  37.1   43      136             70   \n",
      "467            0      100  36.8   25       97             64   \n",
      "550            1        0  27.4   21      116             70   \n",
      "147            2      119  30.5   34      106             64   \n",
      "481            0        0  35.2   29      123             88   \n",
      "\n",
      "     DiabetesPedigreeFunction  \n",
      "88                      0.153  \n",
      "467                     0.600  \n",
      "550                     0.204  \n",
      "147                     1.400  \n",
      "481                     0.197  \n"
     ]
    }
   ],
   "source": [
    "import pandas as pd\n",
    "import numpy as np\n",
    "from sklearn.tree import DecisionTreeClassifier # Import Decision Tree Classifier\n",
    "from sklearn.model_selection import train_test_split # Import train_test_split function\n",
    "from sklearn import metrics #Import scikit-learn metrics module for accuracy calculation\n",
    "from sklearn.metrics import roc_auc_score\n",
    "from sklearn.metrics import confusion_matrix\n",
    "from sklearn.metrics import precision_score\n",
    "from sklearn.metrics import recall_score\n",
    "from sklearn.metrics import f1_score\n",
    "from sklearn.ensemble import BaggingClassifier\n",
    "from sklearn.ensemble import RandomForestClassifier\n",
    "from sklearn.ensemble import AdaBoostClassifier\n",
    "from sklearn.ensemble import GradientBoostingClassifier\n",
    "from sklearn.ensemble import ExtraTreesClassifier \n",
    "from sklearn import svm\n",
    "\n",
    "\n",
    "# load dataset\n",
    "df = pd.read_csv(\"diabetes.csv\")\n",
    "\n",
    "print(df.head())\n",
    "\n",
    "#split dataset in features and target variable\n",
    "feature_cols = ['Pregnancies', 'Insulin', 'BMI', 'Age','Glucose','BloodPressure','DiabetesPedigreeFunction']\n",
    "X = df[feature_cols] # Features\n",
    "y = df.Outcome # Target variable\n",
    "\n",
    "# Split dataset into training set and test set\n",
    "X_train, X_test, y_train, y_test = train_test_split(X, y, test_size=0.3, random_state=1) # 70% training and 30% test\n",
    "\n",
    "print(X_train.head())"
   ]
  },
  {
   "cell_type": "code",
   "execution_count": 2,
   "metadata": {},
   "outputs": [
    {
     "name": "stdout",
     "output_type": "stream",
     "text": [
      "[[116  30]\n",
      " [ 41  44]]\n",
      "Accuracy: 0.6926406926406926\n",
      "AUC Score: 0.6560838033843674\n",
      "AUC Score prob: 0.6560838033843674\n",
      "Precision: 0.5945945945945946\n",
      "Recall: 0.5176470588235295\n",
      "F1 Score: 0.5534591194968554\n"
     ]
    }
   ],
   "source": [
    "# Create Decision Tree classifer object\n",
    "clf = DecisionTreeClassifier()\n",
    "\n",
    "# Train Decision Tree Classifer\n",
    "clf = clf.fit(X_train,y_train)\n",
    "\n",
    "#Predict the response for test dataset\n",
    "y_pred = clf.predict(X_test)\n",
    "\n",
    "y_pred_prob = clf.predict_proba(X_test)[:,1]\n",
    "\n",
    "print(confusion_matrix(y_test, y_pred))\n",
    "print(\"Accuracy:\",metrics.accuracy_score(y_test, y_pred))\n",
    "print (\"AUC Score:\", roc_auc_score(y_test, y_pred))\n",
    "print (\"AUC Score prob:\", roc_auc_score(y_test, y_pred_prob))\n",
    "print (\"Precision:\", precision_score(y_test, y_pred))\n",
    "print (\"Recall:\", recall_score(y_test, y_pred))\n",
    "print (\"F1 Score:\", f1_score(y_test, y_pred))"
   ]
  },
  {
   "cell_type": "code",
   "execution_count": 3,
   "metadata": {},
   "outputs": [
    {
     "name": "stdout",
     "output_type": "stream",
     "text": [
      "[[131  15]\n",
      " [ 33  52]]\n",
      "Accuracy: 0.7922077922077922\n",
      "AUC Score: 0.7545124899274779\n",
      "AUC Score prob: 0.8573327961321514\n",
      "Precision: 0.7761194029850746\n",
      "Recall: 0.611764705882353\n",
      "F1 Score: 0.6842105263157895\n"
     ]
    }
   ],
   "source": [
    "rfc = RandomForestClassifier(n_estimators=100, max_features=3)\n",
    "\n",
    "rfc = rfc.fit(X_train,y_train)\n",
    "\n",
    "#Predict the response for test dataset\n",
    "y_pred = rfc.predict(X_test)\n",
    "\n",
    "y_pred_prob = rfc.predict_proba(X_test)[:,1]\n",
    "\n",
    "print(confusion_matrix(y_test, y_pred))\n",
    "print(\"Accuracy:\",metrics.accuracy_score(y_test, y_pred))\n",
    "print (\"AUC Score:\", roc_auc_score(y_test, y_pred))\n",
    "print (\"AUC Score prob:\", roc_auc_score(y_test, y_pred_prob))\n",
    "print (\"Precision:\", precision_score(y_test, y_pred))\n",
    "print (\"Recall:\", recall_score(y_test, y_pred))\n",
    "print (\"F1 Score:\", f1_score(y_test, y_pred))"
   ]
  },
  {
   "cell_type": "code",
   "execution_count": 4,
   "metadata": {},
   "outputs": [
    {
     "name": "stderr",
     "output_type": "stream",
     "text": [
      "Using TensorFlow backend.\n"
     ]
    }
   ],
   "source": [
    "from keras import models\n",
    "from keras import layers\n",
    "network = models.Sequential()\n",
    "network.add(layers.Dense(100, input_dim=7, activation='sigmoid'))\n",
    "network.add(layers.Dense(1, activation='sigmoid'))"
   ]
  },
  {
   "cell_type": "code",
   "execution_count": 5,
   "metadata": {},
   "outputs": [],
   "source": [
    "network.compile(optimizer='rmsprop',\n",
    "loss='mse',\n",
    "metrics=['accuracy'])"
   ]
  },
  {
   "cell_type": "code",
   "execution_count": 7,
   "metadata": {},
   "outputs": [
    {
     "name": "stdout",
     "output_type": "stream",
     "text": [
      "Epoch 1/20\n",
      "537/537 [==============================] - 0s 97us/step - loss: 0.1920 - accuracy: 0.7002\n",
      "Epoch 2/20\n",
      "537/537 [==============================] - 0s 113us/step - loss: 0.1915 - accuracy: 0.7039\n",
      "Epoch 3/20\n",
      "537/537 [==============================] - 0s 87us/step - loss: 0.1893 - accuracy: 0.7300\n",
      "Epoch 4/20\n",
      "537/537 [==============================] - 0s 99us/step - loss: 0.1893 - accuracy: 0.7002\n",
      "Epoch 5/20\n",
      "537/537 [==============================] - 0s 91us/step - loss: 0.1883 - accuracy: 0.7151\n",
      "Epoch 6/20\n",
      "537/537 [==============================] - 0s 82us/step - loss: 0.1866 - accuracy: 0.7095\n",
      "Epoch 7/20\n",
      "537/537 [==============================] - 0s 89us/step - loss: 0.1835 - accuracy: 0.7207\n",
      "Epoch 8/20\n",
      "537/537 [==============================] - 0s 83us/step - loss: 0.1859 - accuracy: 0.7132\n",
      "Epoch 9/20\n",
      "537/537 [==============================] - 0s 89us/step - loss: 0.1845 - accuracy: 0.7188\n",
      "Epoch 10/20\n",
      "537/537 [==============================] - 0s 96us/step - loss: 0.1845 - accuracy: 0.7095\n",
      "Epoch 11/20\n",
      "537/537 [==============================] - 0s 81us/step - loss: 0.1820 - accuracy: 0.7374\n",
      "Epoch 12/20\n",
      "537/537 [==============================] - 0s 111us/step - loss: 0.1844 - accuracy: 0.7151\n",
      "Epoch 13/20\n",
      "537/537 [==============================] - 0s 85us/step - loss: 0.1823 - accuracy: 0.7225\n",
      "Epoch 14/20\n",
      "537/537 [==============================] - 0s 91us/step - loss: 0.1795 - accuracy: 0.7318\n",
      "Epoch 15/20\n",
      "537/537 [==============================] - 0s 82us/step - loss: 0.1833 - accuracy: 0.7281\n",
      "Epoch 16/20\n",
      "537/537 [==============================] - 0s 100us/step - loss: 0.1836 - accuracy: 0.7207\n",
      "Epoch 17/20\n",
      "537/537 [==============================] - 0s 100us/step - loss: 0.1806 - accuracy: 0.7412\n",
      "Epoch 18/20\n",
      "537/537 [==============================] - 0s 129us/step - loss: 0.1816 - accuracy: 0.7169\n",
      "Epoch 19/20\n",
      "537/537 [==============================] - 0s 166us/step - loss: 0.1817 - accuracy: 0.7114\n",
      "Epoch 20/20\n",
      "537/537 [==============================] - 0s 146us/step - loss: 0.1786 - accuracy: 0.7430\n"
     ]
    }
   ],
   "source": [
    "network.fit(X_train, y_train, epochs=20, batch_size=10)\n",
    "\n",
    "#nn_pred= network.predict(X_test)\n",
    "nn_pred = network.predict_classes(X_test)\n",
    "nn_pred_prob= network.predict(X_test)"
   ]
  },
  {
   "cell_type": "code",
   "execution_count": 8,
   "metadata": {},
   "outputs": [
    {
     "name": "stdout",
     "output_type": "stream",
     "text": [
      "[[133  13]\n",
      " [ 52  33]]\n",
      "Accuracy: 0.7186147186147186\n",
      "AUC Score: 0.6495970991136181\n",
      "AUC Score prob: 0.7642224012892828\n",
      "Precision: 0.717391304347826\n",
      "Recall: 0.38823529411764707\n",
      "F1 Score: 0.5038167938931297\n"
     ]
    }
   ],
   "source": [
    "print(confusion_matrix(y_test, nn_pred))\n",
    "print(\"Accuracy:\",metrics.accuracy_score(y_test, nn_pred))\n",
    "print (\"AUC Score:\", roc_auc_score(y_test, nn_pred))\n",
    "print (\"AUC Score prob:\", roc_auc_score(y_test, nn_pred_prob))\n",
    "print (\"Precision:\", precision_score(y_test, nn_pred))\n",
    "print (\"Recall:\", recall_score(y_test, nn_pred))\n",
    "print (\"F1 Score:\", f1_score(y_test, nn_pred))"
   ]
  },
  {
   "cell_type": "code",
   "execution_count": 9,
   "metadata": {},
   "outputs": [
    {
     "name": "stdout",
     "output_type": "stream",
     "text": [
      "Epoch 1/20\n",
      "537/537 [==============================] - 0s 225us/step - loss: 0.6487 - accuracy: 0.6592\n",
      "Epoch 2/20\n",
      "537/537 [==============================] - 0s 141us/step - loss: 0.6012 - accuracy: 0.6574\n",
      "Epoch 3/20\n",
      "537/537 [==============================] - 0s 163us/step - loss: 0.5835 - accuracy: 0.6797\n",
      "Epoch 4/20\n",
      "537/537 [==============================] - 0s 145us/step - loss: 0.5797 - accuracy: 0.6927\n",
      "Epoch 5/20\n",
      "537/537 [==============================] - 0s 111us/step - loss: 0.5724 - accuracy: 0.6965\n",
      "Epoch 6/20\n",
      "537/537 [==============================] - 0s 104us/step - loss: 0.5665 - accuracy: 0.7020\n",
      "Epoch 7/20\n",
      "537/537 [==============================] - 0s 111us/step - loss: 0.5648 - accuracy: 0.7095\n",
      "Epoch 8/20\n",
      "537/537 [==============================] - 0s 102us/step - loss: 0.5602 - accuracy: 0.7114\n",
      "Epoch 9/20\n",
      "537/537 [==============================] - 0s 119us/step - loss: 0.5574 - accuracy: 0.7039\n",
      "Epoch 10/20\n",
      "537/537 [==============================] - 0s 105us/step - loss: 0.5548 - accuracy: 0.7114\n",
      "Epoch 11/20\n",
      "537/537 [==============================] - 0s 96us/step - loss: 0.5551 - accuracy: 0.7114\n",
      "Epoch 12/20\n",
      "537/537 [==============================] - 0s 78us/step - loss: 0.5517 - accuracy: 0.7058\n",
      "Epoch 13/20\n",
      "537/537 [==============================] - 0s 94us/step - loss: 0.5531 - accuracy: 0.7039\n",
      "Epoch 14/20\n",
      "537/537 [==============================] - 0s 91us/step - loss: 0.5464 - accuracy: 0.7281\n",
      "Epoch 15/20\n",
      "537/537 [==============================] - 0s 102us/step - loss: 0.5474 - accuracy: 0.7169\n",
      "Epoch 16/20\n",
      "537/537 [==============================] - 0s 98us/step - loss: 0.5441 - accuracy: 0.7169\n",
      "Epoch 17/20\n",
      "537/537 [==============================] - 0s 91us/step - loss: 0.5465 - accuracy: 0.7132\n",
      "Epoch 18/20\n",
      "537/537 [==============================] - 0s 109us/step - loss: 0.5435 - accuracy: 0.7188\n",
      "Epoch 19/20\n",
      "537/537 [==============================] - 0s 89us/step - loss: 0.5428 - accuracy: 0.7095\n",
      "Epoch 20/20\n",
      "537/537 [==============================] - 0s 87us/step - loss: 0.5434 - accuracy: 0.7169\n",
      "[[120  26]\n",
      " [ 36  49]]\n",
      "Accuracy: 0.7316017316017316\n",
      "AUC Score: 0.699194198227236\n",
      "AUC Score prob: 0.8573327961321514\n",
      "Precision: 0.6533333333333333\n",
      "Recall: 0.5764705882352941\n",
      "F1 Score: 0.6124999999999999\n"
     ]
    }
   ],
   "source": [
    "network = models.Sequential()\n",
    "network.add(layers.Dense(100, input_dim=7, activation='sigmoid'))\n",
    "network.add(layers.Dense(1, activation='sigmoid'))\n",
    "\n",
    "network.compile(optimizer='rmsprop',\n",
    "loss='binary_crossentropy',\n",
    "metrics=['accuracy'])\n",
    "\n",
    "network.fit(X_train, y_train, epochs=20, batch_size=10)\n",
    "\n",
    "#nn_pred= network.predict(X_test)\n",
    "nn_pred = network.predict_classes(X_test)\n",
    "nn_pred_prob= network.predict(X_test)\n",
    "\n",
    "print(confusion_matrix(y_test, nn_pred))\n",
    "print(\"Accuracy:\",metrics.accuracy_score(y_test, nn_pred))\n",
    "print (\"AUC Score:\", roc_auc_score(y_test, nn_pred))\n",
    "print (\"AUC Score prob:\", roc_auc_score(y_test, y_pred_prob))\n",
    "print (\"Precision:\", precision_score(y_test, nn_pred))\n",
    "print (\"Recall:\", recall_score(y_test, nn_pred))\n",
    "print (\"F1 Score:\", f1_score(y_test, nn_pred))"
   ]
  },
  {
   "cell_type": "code",
   "execution_count": 10,
   "metadata": {},
   "outputs": [
    {
     "name": "stdout",
     "output_type": "stream",
     "text": [
      "Epoch 1/20\n",
      "537/537 [==============================] - 0s 202us/step - loss: 0.2419 - accuracy: 0.6034\n",
      "Epoch 2/20\n",
      "537/537 [==============================] - 0s 90us/step - loss: 0.2258 - accuracy: 0.6592\n",
      "Epoch 3/20\n",
      "537/537 [==============================] - 0s 95us/step - loss: 0.2221 - accuracy: 0.6592\n",
      "Epoch 4/20\n",
      "537/537 [==============================] - 0s 110us/step - loss: 0.2204 - accuracy: 0.6592\n",
      "Epoch 5/20\n",
      "537/537 [==============================] - 0s 119us/step - loss: 0.2193 - accuracy: 0.6592\n",
      "Epoch 6/20\n",
      "537/537 [==============================] - 0s 102us/step - loss: 0.2181 - accuracy: 0.6592\n",
      "Epoch 7/20\n",
      "537/537 [==============================] - 0s 93us/step - loss: 0.2167 - accuracy: 0.6592\n",
      "Epoch 8/20\n",
      "537/537 [==============================] - 0s 84us/step - loss: 0.2156 - accuracy: 0.6592\n",
      "Epoch 9/20\n",
      "537/537 [==============================] - 0s 82us/step - loss: 0.2146 - accuracy: 0.6592\n",
      "Epoch 10/20\n",
      "537/537 [==============================] - 0s 92us/step - loss: 0.2134 - accuracy: 0.6592\n",
      "Epoch 11/20\n",
      "537/537 [==============================] - 0s 80us/step - loss: 0.2123 - accuracy: 0.6592\n",
      "Epoch 12/20\n",
      "537/537 [==============================] - 0s 95us/step - loss: 0.2118 - accuracy: 0.6592\n",
      "Epoch 13/20\n",
      "537/537 [==============================] - 0s 110us/step - loss: 0.2106 - accuracy: 0.6592\n",
      "Epoch 14/20\n",
      "537/537 [==============================] - 0s 143us/step - loss: 0.2098 - accuracy: 0.6592\n",
      "Epoch 15/20\n",
      "537/537 [==============================] - 0s 140us/step - loss: 0.2089 - accuracy: 0.6592\n",
      "Epoch 16/20\n",
      "537/537 [==============================] - 0s 145us/step - loss: 0.2081 - accuracy: 0.6592\n",
      "Epoch 17/20\n",
      "537/537 [==============================] - 0s 106us/step - loss: 0.2068 - accuracy: 0.6592\n",
      "Epoch 18/20\n",
      "537/537 [==============================] - 0s 87us/step - loss: 0.2062 - accuracy: 0.6592\n",
      "Epoch 19/20\n",
      "537/537 [==============================] - 0s 85us/step - loss: 0.2048 - accuracy: 0.6574\n",
      "Epoch 20/20\n",
      "537/537 [==============================] - 0s 101us/step - loss: 0.2044 - accuracy: 0.6685\n",
      "[[141   5]\n",
      " [ 78   7]]\n",
      "Accuracy: 0.6406926406926406\n",
      "AUC Score: 0.5240531829170024\n",
      "AUC Score prob: 0.8573327961321514\n",
      "Precision: 0.5833333333333334\n",
      "Recall: 0.08235294117647059\n",
      "F1 Score: 0.14432989690721648\n"
     ]
    }
   ],
   "source": [
    "network = models.Sequential()\n",
    "network.add(layers.Dense(12, input_dim=7, activation='sigmoid'))\n",
    "network.add(layers.Dense(7, activation='sigmoid'))\n",
    "network.add(layers.Dense(1, activation='sigmoid'))\n",
    "\n",
    "network.compile(optimizer='rmsprop',\n",
    "loss='mse',\n",
    "metrics=['accuracy'])\n",
    "\n",
    "network.fit(X_train, y_train, epochs=20, batch_size=10)\n",
    "\n",
    "#nn_pred= network.predict(X_test)\n",
    "nn_pred = network.predict_classes(X_test)\n",
    "nn_pred_prob= network.predict(X_test)\n",
    "\n",
    "print(confusion_matrix(y_test, nn_pred))\n",
    "print(\"Accuracy:\",metrics.accuracy_score(y_test, nn_pred))\n",
    "print (\"AUC Score:\", roc_auc_score(y_test, nn_pred))\n",
    "print (\"AUC Score prob:\", roc_auc_score(y_test, y_pred_prob))\n",
    "print (\"Precision:\", precision_score(y_test, nn_pred))\n",
    "print (\"Recall:\", recall_score(y_test, nn_pred))\n",
    "print (\"F1 Score:\", f1_score(y_test, nn_pred))"
   ]
  },
  {
   "cell_type": "code",
   "execution_count": null,
   "metadata": {},
   "outputs": [],
   "source": [
    "network = models.Sequential()\n",
    "network.add(layers.Dense(12, input_dim=7, activation='sigmoid'))\n",
    "network.add(layers.Dense(7, activation='sigmoid'))\n",
    "network.add(layers.Dense(1, activation='sigmoid'))\n",
    "\n",
    "network.compile(optimizer='rmsprop',\n",
    "loss='binary_crossentropy',\n",
    "metrics=['accuracy'])\n",
    "\n",
    "network.fit(X_train, y_train, epochs=20, batch_size=10)\n",
    "\n",
    "#nn_pred= network.predict(X_test)\n",
    "nn_pred = network.predict_classes(X_test)\n",
    "nn_pred_prob= network.predict(X_test)\n",
    "\n",
    "print(confusion_matrix(y_test, nn_pred))\n",
    "print(\"Accuracy:\",metrics.accuracy_score(y_test, nn_pred))\n",
    "print (\"AUC Score:\", roc_auc_score(y_test, nn_pred))\n",
    "print (\"AUC Score prob:\", roc_auc_score(y_test, y_pred_prob))\n",
    "print (\"Precision:\", precision_score(y_test, nn_pred))\n",
    "print (\"Recall:\", recall_score(y_test, nn_pred))\n",
    "print (\"F1 Score:\", f1_score(y_test, nn_pred))"
   ]
  },
  {
   "cell_type": "code",
   "execution_count": null,
   "metadata": {},
   "outputs": [],
   "source": []
  }
 ],
 "metadata": {
  "kernelspec": {
   "display_name": "Python 3",
   "language": "python",
   "name": "python3"
  },
  "language_info": {
   "codemirror_mode": {
    "name": "ipython",
    "version": 3
   },
   "file_extension": ".py",
   "mimetype": "text/x-python",
   "name": "python",
   "nbconvert_exporter": "python",
   "pygments_lexer": "ipython3",
   "version": "3.7.6"
  }
 },
 "nbformat": 4,
 "nbformat_minor": 2
}
