{
 "cells": [
  {
   "cell_type": "code",
   "execution_count": 3,
   "metadata": {},
   "outputs": [],
   "source": [
    "import numpy as np\n",
    "import pandas as pd\n",
    "\n",
    "import keras\n",
    "from keras import models\n",
    "from keras import layers\n",
    "import tensorflow as tf\n",
    "\n",
    "from sklearn.model_selection import train_test_split\n",
    "from sklearn.preprocessing import StandardScaler\n",
    "\n",
    "from sklearn.metrics import f1_score, accuracy_score, roc_auc_score, average_precision_score"
   ]
  },
  {
   "cell_type": "code",
   "execution_count": 4,
   "metadata": {},
   "outputs": [],
   "source": [
    "# accuracy, AUC and F-1\n",
    "# f1_score(), accuracy_score(), auc(), average_precision_score()\n",
    "\n",
    "def evaluate (y_true_train, y_pred_prob_train, y_true_test, y_pred_prob_test,  threshold=0.5):\n",
    "    y_pred_train = pd.Series(np.reshape(y_pred_prob_train, (1,np.product(y_pred_prob_train.shape)))[0])\n",
    "    y_pred_test = pd.Series(np.reshape(y_pred_prob_test, (1,np.product(y_pred_prob_test.shape)))[0])\n",
    "    \n",
    "    y_pred_train = y_pred_train.apply(lambda x: 1 if x >= threshold else 0 )\n",
    "    y_pred_test = y_pred_test.apply(lambda x: 1 if x >= threshold else 0 )\n",
    "    \n",
    "    confusion_matrix = pd.crosstab(y_true_test, y_pred_test, rownames=['Actual'], colnames=['Predicted'])\n",
    "    print('Test Set Confusion Matrix')\n",
    "    print(confusion_matrix)\n",
    "    \n",
    "    return pd.DataFrame.from_records([[f1_score(y_true_train, y_pred_train), \n",
    "                                       accuracy_score(y_true_train, y_pred_train), \n",
    "                                       roc_auc_score(y_true_train, y_pred_prob_train), \n",
    "                                       average_precision_score(y_true_train, y_pred_prob_train),\n",
    "                                      (y_pred_train.sum() / y_pred_train.count())], \n",
    "                                      \n",
    "                                      [f1_score(y_true_test, y_pred_test), \n",
    "                                       accuracy_score(y_true_test, y_pred_test), \n",
    "                                       roc_auc_score(y_true_test, y_pred_prob_test), \n",
    "                                       average_precision_score(y_true_test, y_pred_prob_test),\n",
    "                                      (y_pred_test.sum() / y_pred_test.count())]], \n",
    "                                     index=['Train', 'Test'], \n",
    "                                     columns=['f1_score', 'accuracy_score', 'auc', 'average_precision_score', 'positive_ratio'])"
   ]
  },
  {
   "cell_type": "code",
   "execution_count": 5,
   "metadata": {},
   "outputs": [],
   "source": [
    "data = pd.read_csv('Call Details-Data.csv')\n",
    "\n",
    "def prepare_data(data=data, scaler = StandardScaler()):\n",
    "    data.drop('Phone Number', axis=1, inplace=True)\n",
    "\n",
    "    data['Churn'] = data['Churn'].apply(lambda x: 1 if x else 0)\n",
    "\n",
    "    x = data.drop('Churn', axis=1)\n",
    "    y = data['Churn']\n",
    "    x_train, x_test, y_train, y_test = train_test_split(x, y, test_size=0.33, random_state=0)\n",
    "    \n",
    "    # Scale Train\n",
    "    if scaler is not None:\n",
    "        scaler_train = scaler\n",
    "        scaler_train.fit(x_train)\n",
    "        x_train_s = scaler_train.transform(x_train)\n",
    "        x_train = pd.DataFrame(x_train_s, index=x_train.index, columns=x_train.columns)\n",
    "\n",
    "        # Scale Test\n",
    "        scaler_test = scaler\n",
    "        scaler_test.fit(x_test)\n",
    "        x_test_s = scaler_test.transform(x_test)\n",
    "        x_test = pd.DataFrame(x_test_s, index=x_test.index, columns=x_test.columns)\n",
    "    \n",
    "    return x_train, x_test, y_train, y_test\n",
    "    \n",
    "\n"
   ]
  },
  {
   "cell_type": "code",
   "execution_count": 6,
   "metadata": {},
   "outputs": [],
   "source": [
    "x_train, x_test, y_train, y_test = prepare_data(data=data, scaler=StandardScaler())"
   ]
  },
  {
   "cell_type": "code",
   "execution_count": 7,
   "metadata": {},
   "outputs": [
    {
     "name": "stdout",
     "output_type": "stream",
     "text": [
      "Positive Ratio 0.10409789076244885\n"
     ]
    }
   ],
   "source": [
    "print('Positive Ratio', data.Churn.sum() / data.Churn.count())"
   ]
  },
  {
   "cell_type": "markdown",
   "metadata": {},
   "source": [
    "---"
   ]
  },
  {
   "cell_type": "markdown",
   "metadata": {},
   "source": [
    "# Experiments"
   ]
  },
  {
   "cell_type": "markdown",
   "metadata": {},
   "source": [
    "## Lightweight Model"
   ]
  },
  {
   "cell_type": "code",
   "execution_count": 8,
   "metadata": {},
   "outputs": [
    {
     "name": "stdout",
     "output_type": "stream",
     "text": [
      "Epoch 1/5\n",
      "5423/5423 [==============================] - 21s 4ms/step - loss: 0.3454 - acc: 0.8932 - val_loss: 0.3337 - val_acc: 0.8960\n",
      "Epoch 2/5\n",
      "5423/5423 [==============================] - 20s 4ms/step - loss: 0.3300 - acc: 0.8955 - val_loss: 0.3321 - val_acc: 0.8958\n",
      "Epoch 3/5\n",
      "5423/5423 [==============================] - 17s 3ms/step - loss: 0.3281 - acc: 0.8954 - val_loss: 0.3276 - val_acc: 0.8958\n",
      "Epoch 4/5\n",
      "5423/5423 [==============================] - 29s 5ms/step - loss: 0.3261 - acc: 0.8957 - val_loss: 0.3268 - val_acc: 0.8956A: 7s - loss: 0.3252 - acc: 0.896 - ETA: 7s - loss: 0.3252 - acc: 0.896 - ETA: 7s - loss: 0 - ETA: 7s - loss: 0.3269 - acc:  - ETA - ET - E - ETA: 3s - loss: 0.3267  - ETA: 3s - loss: 0.327 - ETA: 3s - loss: 0.3267 - acc: 0 -\n",
      "Epoch 5/5\n",
      "5423/5423 [==============================] - 26s 5ms/step - loss: 0.3247 - acc: 0.8957 - val_loss: 0.3248 - val_acc: 0.8961\n",
      "1044/1044 [==============================] - 3s 3ms/step - loss: 0.3237 - acc: 0.8961A: - ETA:\n",
      "Model: \"sequential\"\n",
      "_________________________________________________________________\n",
      "Layer (type)                 Output Shape              Param #   \n",
      "=================================================================\n",
      "dense (Dense)                (None, 8)                 128       \n",
      "_________________________________________________________________\n",
      "dense_1 (Dense)              (None, 8)                 72        \n",
      "_________________________________________________________________\n",
      "dense_2 (Dense)              (None, 1)                 9         \n",
      "=================================================================\n",
      "Total params: 209\n",
      "Trainable params: 209\n",
      "Non-trainable params: 0\n",
      "_________________________________________________________________\n"
     ]
    }
   ],
   "source": [
    "model = models.Sequential()\n",
    "model.add(layers.Dense(8, activation='relu', input_shape=(x_train.shape[1],)))\n",
    "model.add(layers.Dense(8, activation='relu'))\n",
    "model.add(layers.Dense(1, activation='sigmoid'))\n",
    "model.compile(optimizer='adam', loss='binary_crossentropy', metrics=['acc'])\n",
    "\n",
    "history = model.fit(x_train, y_train, epochs=5, batch_size=10,  verbose=1, validation_split=0.2)\n",
    "\n",
    "test_acc_score, test_f1_score = model.evaluate(x_test, y_test)\n",
    "\n",
    "y_train_pred = model.predict(x_train)\n",
    "y_test_pred = model.predict(x_test)\n",
    "model.summary()"
   ]
  },
  {
   "cell_type": "code",
   "execution_count": 12,
   "metadata": {},
   "outputs": [
    {
     "name": "stdout",
     "output_type": "stream",
     "text": [
      "Test Set Confusion Matrix\n",
      "Predicted    0     1\n",
      "Actual              \n",
      "0          826  8582\n",
      "1          140  1434\n"
     ]
    },
    {
     "data": {
      "text/html": [
       "<div>\n",
       "<style scoped>\n",
       "    .dataframe tbody tr th:only-of-type {\n",
       "        vertical-align: middle;\n",
       "    }\n",
       "\n",
       "    .dataframe tbody tr th {\n",
       "        vertical-align: top;\n",
       "    }\n",
       "\n",
       "    .dataframe thead th {\n",
       "        text-align: right;\n",
       "    }\n",
       "</style>\n",
       "<table border=\"1\" class=\"dataframe\">\n",
       "  <thead>\n",
       "    <tr style=\"text-align: right;\">\n",
       "      <th></th>\n",
       "      <th>f1_score</th>\n",
       "      <th>accuracy_score</th>\n",
       "      <th>auc</th>\n",
       "      <th>average_precision_score</th>\n",
       "      <th>positive_ratio</th>\n",
       "    </tr>\n",
       "  </thead>\n",
       "  <tbody>\n",
       "    <tr>\n",
       "      <th>Train</th>\n",
       "      <td>0.197523</td>\n",
       "      <td>0.181896</td>\n",
       "      <td>0.641678</td>\n",
       "      <td>0.168542</td>\n",
       "      <td>0.915263</td>\n",
       "    </tr>\n",
       "    <tr>\n",
       "      <th>Test</th>\n",
       "      <td>0.196555</td>\n",
       "      <td>0.181442</td>\n",
       "      <td>0.633306</td>\n",
       "      <td>0.161514</td>\n",
       "      <td>0.914939</td>\n",
       "    </tr>\n",
       "  </tbody>\n",
       "</table>\n",
       "</div>"
      ],
      "text/plain": [
       "       f1_score  accuracy_score       auc  average_precision_score  \\\n",
       "Train  0.197523        0.181896  0.641678                 0.168542   \n",
       "Test   0.196555        0.181442  0.633306                 0.161514   \n",
       "\n",
       "       positive_ratio  \n",
       "Train        0.915263  \n",
       "Test         0.914939  "
      ]
     },
     "execution_count": 12,
     "metadata": {},
     "output_type": "execute_result"
    }
   ],
   "source": [
    "evaluate(y_train, y_train_pred, y_test, y_test_pred, threshold=0.05)"
   ]
  },
  {
   "cell_type": "markdown",
   "metadata": {},
   "source": [
    "---"
   ]
  },
  {
   "cell_type": "code",
   "execution_count": 13,
   "metadata": {},
   "outputs": [
    {
     "name": "stdout",
     "output_type": "stream",
     "text": [
      "Epoch 1/5\n",
      "5423/5423 [==============================] - 39s 7ms/step - loss: 0.3341 - acc: 0.8951 - val_loss: 0.3246 - val_acc: 0.8961\n",
      "Epoch 2/5\n",
      "5423/5423 [==============================] - 27s 5ms/step - loss: 0.3209 - acc: 0.8953 - val_loss: 0.3170 - val_acc: 0.8959 ETA: 1s - loss: 0\n",
      "Epoch 3/5\n",
      "5423/5423 [==============================] - 34s 6ms/step - loss: 0.3156 - acc: 0.8954 - val_loss: 0.3140 - val_acc: 0.8963: 0.3166 - acc: 0. - ETA: 2s - loss: 0.316 - ETA: 2s - loss: 0.3169 \n",
      "Epoch 4/5\n",
      "5423/5423 [==============================] - 38s 7ms/step - loss: 0.3114 - acc: 0.8955 - val_loss: 0.3098 - val_acc: 0.8962\n",
      "Epoch 5/5\n",
      "5423/5423 [==============================] - 24s 5ms/step - loss: 0.3068 - acc: 0.8960 - val_loss: 0.3071 - val_acc: 0.8967\n",
      "1044/1044 [==============================] - 1s 1ms/step - loss: 0.3080 - acc: 0.8968\n",
      "Model: \"sequential_1\"\n",
      "_________________________________________________________________\n",
      "Layer (type)                 Output Shape              Param #   \n",
      "=================================================================\n",
      "dense_3 (Dense)              (None, 64)                1024      \n",
      "_________________________________________________________________\n",
      "dense_4 (Dense)              (None, 64)                4160      \n",
      "_________________________________________________________________\n",
      "dense_5 (Dense)              (None, 1)                 65        \n",
      "=================================================================\n",
      "Total params: 5,249\n",
      "Trainable params: 5,249\n",
      "Non-trainable params: 0\n",
      "_________________________________________________________________\n"
     ]
    }
   ],
   "source": [
    "model = models.Sequential()\n",
    "model.add(layers.Dense(64, activation='relu', input_shape=(x_train.shape[1],)))\n",
    "model.add(layers.Dense(64, activation='relu'))\n",
    "model.add(layers.Dense(1, activation='sigmoid'))\n",
    "model.compile(optimizer='adam', loss='binary_crossentropy', metrics=['acc'])\n",
    "\n",
    "history = model.fit(x_train, y_train, epochs=5, batch_size=10,  verbose=1, validation_split=0.2)\n",
    "\n",
    "test_acc_score, test_f1_score = model.evaluate(x_test, y_test)\n",
    "\n",
    "y_train_pred = model.predict(x_train)\n",
    "y_test_pred = model.predict(x_test)\n",
    "model.summary()"
   ]
  },
  {
   "cell_type": "code",
   "execution_count": 17,
   "metadata": {},
   "outputs": [
    {
     "name": "stdout",
     "output_type": "stream",
     "text": [
      "Test Set Confusion Matrix\n",
      "Predicted     0    1\n",
      "Actual              \n",
      "0          8430  978\n",
      "1          1418  156\n"
     ]
    },
    {
     "data": {
      "text/html": [
       "<div>\n",
       "<style scoped>\n",
       "    .dataframe tbody tr th:only-of-type {\n",
       "        vertical-align: middle;\n",
       "    }\n",
       "\n",
       "    .dataframe tbody tr th {\n",
       "        vertical-align: top;\n",
       "    }\n",
       "\n",
       "    .dataframe thead th {\n",
       "        text-align: right;\n",
       "    }\n",
       "</style>\n",
       "<table border=\"1\" class=\"dataframe\">\n",
       "  <thead>\n",
       "    <tr style=\"text-align: right;\">\n",
       "      <th></th>\n",
       "      <th>f1_score</th>\n",
       "      <th>accuracy_score</th>\n",
       "      <th>auc</th>\n",
       "      <th>average_precision_score</th>\n",
       "      <th>positive_ratio</th>\n",
       "    </tr>\n",
       "  </thead>\n",
       "  <tbody>\n",
       "    <tr>\n",
       "      <th>Train</th>\n",
       "      <td>0.276447</td>\n",
       "      <td>0.853893</td>\n",
       "      <td>0.728143</td>\n",
       "      <td>0.252690</td>\n",
       "      <td>0.097719</td>\n",
       "    </tr>\n",
       "    <tr>\n",
       "      <th>Test</th>\n",
       "      <td>0.257074</td>\n",
       "      <td>0.843507</td>\n",
       "      <td>0.707177</td>\n",
       "      <td>0.233912</td>\n",
       "      <td>0.106775</td>\n",
       "    </tr>\n",
       "  </tbody>\n",
       "</table>\n",
       "</div>"
      ],
      "text/plain": [
       "       f1_score  accuracy_score       auc  average_precision_score  \\\n",
       "Train  0.276447        0.853893  0.728143                 0.252690   \n",
       "Test   0.257074        0.843507  0.707177                 0.233912   \n",
       "\n",
       "       positive_ratio  \n",
       "Train        0.097719  \n",
       "Test         0.106775  "
      ]
     },
     "execution_count": 17,
     "metadata": {},
     "output_type": "execute_result"
    }
   ],
   "source": [
    "evaluate(y_train, y_train_pred, y_test, y_test_pred, threshold=0.21)"
   ]
  },
  {
   "cell_type": "markdown",
   "metadata": {},
   "source": [
    "---"
   ]
  },
  {
   "cell_type": "code",
   "execution_count": 18,
   "metadata": {},
   "outputs": [
    {
     "name": "stdout",
     "output_type": "stream",
     "text": [
      "Epoch 1/5\n",
      "5423/5423 [==============================] - 36s 7ms/step - loss: 0.3316 - acc: 0.8954 - val_loss: 0.3266 - val_acc: 0.8961\n",
      "Epoch 2/5\n",
      "5423/5423 [==============================] - 26s 5ms/step - loss: 0.3189 - acc: 0.8958 - val_loss: 0.3148 - val_acc: 0.89613189 -\n",
      "Epoch 3/5\n",
      "5423/5423 [==============================] - 13s 2ms/step - loss: 0.3137 - acc: 0.8957 - val_loss: 0.3097 - val_acc: 0.8961\n",
      "Epoch 4/5\n",
      "5423/5423 [==============================] - 38s 7ms/step - loss: 0.3081 - acc: 0.8957 - val_loss: 0.3052 - val_acc: 0.8961: 0s - loss: 0.3080 - ac - ETA: 0s - loss: 0.3\n",
      "Epoch 5/5\n",
      "5423/5423 [==============================] - 34s 6ms/step - loss: 0.3026 - acc: 0.8956 - val_loss: 0.3038 - val_acc: 0.8961\n",
      "1044/1044 [==============================] - 1s 1ms/step - loss: 0.3046 - acc: 0.8962\n",
      "Model: \"sequential_2\"\n",
      "_________________________________________________________________\n",
      "Layer (type)                 Output Shape              Param #   \n",
      "=================================================================\n",
      "dense_6 (Dense)              (None, 64)                1024      \n",
      "_________________________________________________________________\n",
      "dense_7 (Dense)              (None, 64)                4160      \n",
      "_________________________________________________________________\n",
      "dense_8 (Dense)              (None, 64)                4160      \n",
      "_________________________________________________________________\n",
      "dense_9 (Dense)              (None, 1)                 65        \n",
      "=================================================================\n",
      "Total params: 9,409\n",
      "Trainable params: 9,409\n",
      "Non-trainable params: 0\n",
      "_________________________________________________________________\n"
     ]
    }
   ],
   "source": [
    "model = models.Sequential()\n",
    "model.add(layers.Dense(64, activation='relu', input_shape=(x_train.shape[1],)))\n",
    "model.add(layers.Dense(64, activation='relu'))\n",
    "model.add(layers.Dense(64, activation='relu'))\n",
    "model.add(layers.Dense(1, activation='sigmoid'))\n",
    "model.compile(optimizer='adam', loss='binary_crossentropy', metrics=['acc'])\n",
    "\n",
    "history = model.fit(x_train, y_train, epochs=5, batch_size=10,  verbose=1, validation_split=0.2)\n",
    "\n",
    "test_acc_score, test_f1_score = model.evaluate(x_test, y_test)\n",
    "\n",
    "y_train_pred = model.predict(x_train)\n",
    "y_test_pred = model.predict(x_test)\n",
    "model.summary()"
   ]
  },
  {
   "cell_type": "code",
   "execution_count": 22,
   "metadata": {},
   "outputs": [
    {
     "name": "stdout",
     "output_type": "stream",
     "text": [
      "Test Set Confusion Matrix\n",
      "Predicted     0    1\n",
      "Actual              \n",
      "0          8448  960\n",
      "1          1419  155\n"
     ]
    },
    {
     "data": {
      "text/html": [
       "<div>\n",
       "<style scoped>\n",
       "    .dataframe tbody tr th:only-of-type {\n",
       "        vertical-align: middle;\n",
       "    }\n",
       "\n",
       "    .dataframe tbody tr th {\n",
       "        vertical-align: top;\n",
       "    }\n",
       "\n",
       "    .dataframe thead th {\n",
       "        text-align: right;\n",
       "    }\n",
       "</style>\n",
       "<table border=\"1\" class=\"dataframe\">\n",
       "  <thead>\n",
       "    <tr style=\"text-align: right;\">\n",
       "      <th></th>\n",
       "      <th>f1_score</th>\n",
       "      <th>accuracy_score</th>\n",
       "      <th>auc</th>\n",
       "      <th>average_precision_score</th>\n",
       "      <th>positive_ratio</th>\n",
       "    </tr>\n",
       "  </thead>\n",
       "  <tbody>\n",
       "    <tr>\n",
       "      <th>Train</th>\n",
       "      <td>0.295865</td>\n",
       "      <td>0.859071</td>\n",
       "      <td>0.745709</td>\n",
       "      <td>0.275322</td>\n",
       "      <td>0.095934</td>\n",
       "    </tr>\n",
       "    <tr>\n",
       "      <th>Test</th>\n",
       "      <td>0.272582</td>\n",
       "      <td>0.849736</td>\n",
       "      <td>0.723720</td>\n",
       "      <td>0.245092</td>\n",
       "      <td>0.102702</td>\n",
       "    </tr>\n",
       "  </tbody>\n",
       "</table>\n",
       "</div>"
      ],
      "text/plain": [
       "       f1_score  accuracy_score       auc  average_precision_score  \\\n",
       "Train  0.295865        0.859071  0.745709                 0.275322   \n",
       "Test   0.272582        0.849736  0.723720                 0.245092   \n",
       "\n",
       "       positive_ratio  \n",
       "Train        0.095934  \n",
       "Test         0.102702  "
      ]
     },
     "execution_count": 22,
     "metadata": {},
     "output_type": "execute_result"
    }
   ],
   "source": [
    "evaluate(y_train, y_train_pred, y_test, y_test_pred, threshold=0.175)"
   ]
  },
  {
   "cell_type": "markdown",
   "metadata": {},
   "source": [
    "---"
   ]
  },
  {
   "cell_type": "code",
   "execution_count": 25,
   "metadata": {},
   "outputs": [
    {
     "name": "stdout",
     "output_type": "stream",
     "text": [
      "Epoch 1/5\n",
      "5423/5423 [==============================] - 40s 7ms/step - loss: 0.3485 - acc: 0.8952 - val_loss: 0.3474 - val_acc: 0.8961\n",
      "Epoch 2/5\n",
      "5423/5423 [==============================] - 26s 5ms/step - loss: 0.3418 - acc: 0.8957 - val_loss: 0.3450 - val_acc: 0.8961\n",
      "Epoch 3/5\n",
      "5423/5423 [==============================] - 11s 2ms/step - loss: 0.3419 - acc: 0.8957 - val_loss: 0.3496 - val_acc: 0.8961\n",
      "Epoch 4/5\n",
      "5423/5423 [==============================] - 18s 3ms/step - loss: 0.3421 - acc: 0.8957 - val_loss: 0.3446 - val_acc: 0.8961\n",
      "Epoch 5/5\n",
      "5423/5423 [==============================] - 19s 3ms/step - loss: 0.3418 - acc: 0.8957 - val_loss: 0.3456 - val_acc: 0.8961\n",
      "1044/1044 [==============================] - 1s 1ms/step - loss: 0.3407 - acc: 0.8961\n",
      "Model: \"sequential_5\"\n",
      "_________________________________________________________________\n",
      "Layer (type)                 Output Shape              Param #   \n",
      "=================================================================\n",
      "dense_16 (Dense)             (None, 64)                1024      \n",
      "_________________________________________________________________\n",
      "dense_17 (Dense)             (None, 64)                4160      \n",
      "_________________________________________________________________\n",
      "dense_18 (Dense)             (None, 1)                 65        \n",
      "=================================================================\n",
      "Total params: 5,249\n",
      "Trainable params: 5,249\n",
      "Non-trainable params: 0\n",
      "_________________________________________________________________\n"
     ]
    }
   ],
   "source": [
    "model = models.Sequential()\n",
    "model.add(layers.Dense(64, activation='relu', input_shape=(x_train.shape[1],)))\n",
    "model.add(layers.Dense(64, activation='relu'))\n",
    "model.add(layers.Dense(1, activation='sigmoid'))\n",
    "model.compile(optimizer='rmsprop', loss='binary_crossentropy', metrics=['acc'])\n",
    "\n",
    "history = model.fit(x_train, y_train, epochs=5, batch_size=10,  verbose=1, validation_split=0.2)\n",
    "\n",
    "test_acc_score, test_f1_score = model.evaluate(x_test, y_test)\n",
    "\n",
    "y_train_pred = model.predict(x_train)\n",
    "y_test_pred = model.predict(x_test)\n",
    "model.summary()"
   ]
  },
  {
   "cell_type": "code",
   "execution_count": 32,
   "metadata": {},
   "outputs": [
    {
     "name": "stdout",
     "output_type": "stream",
     "text": [
      "Test Set Confusion Matrix\n",
      "Predicted    0     1\n",
      "Actual              \n",
      "0          786  8622\n",
      "1          129  1445\n"
     ]
    },
    {
     "data": {
      "text/html": [
       "<div>\n",
       "<style scoped>\n",
       "    .dataframe tbody tr th:only-of-type {\n",
       "        vertical-align: middle;\n",
       "    }\n",
       "\n",
       "    .dataframe tbody tr th {\n",
       "        vertical-align: top;\n",
       "    }\n",
       "\n",
       "    .dataframe thead th {\n",
       "        text-align: right;\n",
       "    }\n",
       "</style>\n",
       "<table border=\"1\" class=\"dataframe\">\n",
       "  <thead>\n",
       "    <tr style=\"text-align: right;\">\n",
       "      <th></th>\n",
       "      <th>f1_score</th>\n",
       "      <th>accuracy_score</th>\n",
       "      <th>auc</th>\n",
       "      <th>average_precision_score</th>\n",
       "      <th>positive_ratio</th>\n",
       "    </tr>\n",
       "  </thead>\n",
       "  <tbody>\n",
       "    <tr>\n",
       "      <th>Train</th>\n",
       "      <td>0.190402</td>\n",
       "      <td>0.169740</td>\n",
       "      <td>0.599152</td>\n",
       "      <td>0.146823</td>\n",
       "      <td>0.921311</td>\n",
       "    </tr>\n",
       "    <tr>\n",
       "      <th>Test</th>\n",
       "      <td>0.191275</td>\n",
       "      <td>0.173835</td>\n",
       "      <td>0.586153</td>\n",
       "      <td>0.138857</td>\n",
       "      <td>0.917695</td>\n",
       "    </tr>\n",
       "  </tbody>\n",
       "</table>\n",
       "</div>"
      ],
      "text/plain": [
       "       f1_score  accuracy_score       auc  average_precision_score  \\\n",
       "Train  0.190402        0.169740  0.599152                 0.146823   \n",
       "Test   0.191275        0.173835  0.586153                 0.138857   \n",
       "\n",
       "       positive_ratio  \n",
       "Train        0.921311  \n",
       "Test         0.917695  "
      ]
     },
     "execution_count": 32,
     "metadata": {},
     "output_type": "execute_result"
    }
   ],
   "source": [
    "evaluate(y_train, y_train_pred, y_test, y_test_pred, threshold=0.04)"
   ]
  },
  {
   "cell_type": "markdown",
   "metadata": {},
   "source": [
    "---"
   ]
  },
  {
   "cell_type": "code",
   "execution_count": 25,
   "metadata": {},
   "outputs": [
    {
     "name": "stdout",
     "output_type": "stream",
     "text": [
      "Epoch 1/5\n",
      "5423/5423 [==============================] - 40s 7ms/step - loss: 0.3485 - acc: 0.8952 - val_loss: 0.3474 - val_acc: 0.8961\n",
      "Epoch 2/5\n",
      "5423/5423 [==============================] - 26s 5ms/step - loss: 0.3418 - acc: 0.8957 - val_loss: 0.3450 - val_acc: 0.8961\n",
      "Epoch 3/5\n",
      "5423/5423 [==============================] - 11s 2ms/step - loss: 0.3419 - acc: 0.8957 - val_loss: 0.3496 - val_acc: 0.8961\n",
      "Epoch 4/5\n",
      "5423/5423 [==============================] - 18s 3ms/step - loss: 0.3421 - acc: 0.8957 - val_loss: 0.3446 - val_acc: 0.8961\n",
      "Epoch 5/5\n",
      "5423/5423 [==============================] - 19s 3ms/step - loss: 0.3418 - acc: 0.8957 - val_loss: 0.3456 - val_acc: 0.8961\n",
      "1044/1044 [==============================] - 1s 1ms/step - loss: 0.3407 - acc: 0.8961\n",
      "Model: \"sequential_5\"\n",
      "_________________________________________________________________\n",
      "Layer (type)                 Output Shape              Param #   \n",
      "=================================================================\n",
      "dense_16 (Dense)             (None, 64)                1024      \n",
      "_________________________________________________________________\n",
      "dense_17 (Dense)             (None, 64)                4160      \n",
      "_________________________________________________________________\n",
      "dense_18 (Dense)             (None, 1)                 65        \n",
      "=================================================================\n",
      "Total params: 5,249\n",
      "Trainable params: 5,249\n",
      "Non-trainable params: 0\n",
      "_________________________________________________________________\n"
     ]
    }
   ],
   "source": [
    "model = models.Sequential()\n",
    "model.add(layers.Dense(64, activation='relu', input_shape=(x_train.shape[1],)))\n",
    "model.add(layers.Dense(64, activation='relu'))\n",
    "model.add(layers.Dense(1, activation='sigmoid'))\n",
    "model.compile(optimizer='adam', loss='mse', metrics=['acc'])\n",
    "\n",
    "history = model.fit(x_train, y_train, epochs=5, batch_size=10,  verbose=1, validation_split=0.2)\n",
    "\n",
    "test_acc_score, test_f1_score = model.evaluate(x_test, y_test)\n",
    "\n",
    "y_train_pred = model.predict(x_train)\n",
    "y_test_pred = model.predict(x_test)\n",
    "model.summary()"
   ]
  },
  {
   "cell_type": "code",
   "execution_count": 32,
   "metadata": {},
   "outputs": [
    {
     "name": "stdout",
     "output_type": "stream",
     "text": [
      "Test Set Confusion Matrix\n",
      "Predicted    0     1\n",
      "Actual              \n",
      "0          786  8622\n",
      "1          129  1445\n"
     ]
    },
    {
     "data": {
      "text/html": [
       "<div>\n",
       "<style scoped>\n",
       "    .dataframe tbody tr th:only-of-type {\n",
       "        vertical-align: middle;\n",
       "    }\n",
       "\n",
       "    .dataframe tbody tr th {\n",
       "        vertical-align: top;\n",
       "    }\n",
       "\n",
       "    .dataframe thead th {\n",
       "        text-align: right;\n",
       "    }\n",
       "</style>\n",
       "<table border=\"1\" class=\"dataframe\">\n",
       "  <thead>\n",
       "    <tr style=\"text-align: right;\">\n",
       "      <th></th>\n",
       "      <th>f1_score</th>\n",
       "      <th>accuracy_score</th>\n",
       "      <th>auc</th>\n",
       "      <th>average_precision_score</th>\n",
       "      <th>positive_ratio</th>\n",
       "    </tr>\n",
       "  </thead>\n",
       "  <tbody>\n",
       "    <tr>\n",
       "      <th>Train</th>\n",
       "      <td>0.190402</td>\n",
       "      <td>0.169740</td>\n",
       "      <td>0.599152</td>\n",
       "      <td>0.146823</td>\n",
       "      <td>0.921311</td>\n",
       "    </tr>\n",
       "    <tr>\n",
       "      <th>Test</th>\n",
       "      <td>0.191275</td>\n",
       "      <td>0.173835</td>\n",
       "      <td>0.586153</td>\n",
       "      <td>0.138857</td>\n",
       "      <td>0.917695</td>\n",
       "    </tr>\n",
       "  </tbody>\n",
       "</table>\n",
       "</div>"
      ],
      "text/plain": [
       "       f1_score  accuracy_score       auc  average_precision_score  \\\n",
       "Train  0.190402        0.169740  0.599152                 0.146823   \n",
       "Test   0.191275        0.173835  0.586153                 0.138857   \n",
       "\n",
       "       positive_ratio  \n",
       "Train        0.921311  \n",
       "Test         0.917695  "
      ]
     },
     "execution_count": 32,
     "metadata": {},
     "output_type": "execute_result"
    }
   ],
   "source": [
    "evaluate(y_train, y_train_pred, y_test, y_test_pred, threshold=0.04)"
   ]
  }
 ],
 "metadata": {
  "jupytext": {
   "formats": "ipynb,py:light",
   "text_representation": {
    "extension": ".py",
    "format_name": "light",
    "format_version": "1.5",
    "jupytext_version": "1.7.1"
   }
  },
  "kernelspec": {
   "display_name": "Python 3",
   "language": "python",
   "name": "python3"
  },
  "language_info": {
   "codemirror_mode": {
    "name": "ipython",
    "version": 3
   },
   "file_extension": ".py",
   "mimetype": "text/x-python",
   "name": "python",
   "nbconvert_exporter": "python",
   "pygments_lexer": "ipython3",
   "version": "3.8.3"
  }
 },
 "nbformat": 4,
 "nbformat_minor": 4
}
