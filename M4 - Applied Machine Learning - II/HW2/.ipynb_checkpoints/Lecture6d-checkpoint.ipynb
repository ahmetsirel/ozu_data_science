{
 "cells": [
  {
   "cell_type": "code",
   "execution_count": null,
   "metadata": {},
   "outputs": [],
   "source": [
    "# Import required libraries\n",
    "import pandas as pd\n",
    "import numpy as np\n",
    "import matplotlib.pyplot as plt\n",
    "from matplotlib.ticker import PercentFormatter\n",
    "from sklearn import metrics\n",
    "from sklearn.model_selection import train_test_split, cross_val_score, RandomizedSearchCV, GridSearchCV\n",
    "import tensorflow\n",
    "from keras import models\n",
    "from keras import layers\n",
    "from keras.utils import to_categorical\n",
    "from keras.callbacks import ModelCheckpoint\n",
    "from keras.callbacks import EarlyStopping\n",
    "from keras import Input\n",
    "from keras.utils import plot_model\n",
    "from sklearn.preprocessing import LabelEncoder\n",
    "\n",
    "tensorflow.random.set_seed(2)\n",
    "np.random.seed(1907)\n",
    "\n",
    "\n",
    "\n",
    "# load dataset\n",
    "df = pd.read_csv(\"FullData.csv\")\n",
    "\n",
    "df.head()"
   ]
  },
  {
   "cell_type": "code",
   "execution_count": null,
   "metadata": {},
   "outputs": [],
   "source": [
    "df= df.drop('Name', axis = 1)\n",
    "df= df.drop('Nationality', axis = 1)\n",
    "df= df.drop('National_Position', axis = 1)\n",
    "df= df.drop('National_Kit', axis = 1)\n",
    "df= df.drop('Club_Kit', axis = 1)\n",
    "df= df.drop('Club_Joining', axis = 1)\n",
    "df= df.drop('Club', axis = 1)\n",
    "df= df.drop('Height', axis = 1)\n",
    "df= df.drop('Weight', axis = 1)\n",
    "df= df.drop('Birth_Date', axis = 1)\n",
    "df= df.drop('Contract_Expiry', axis = 1)\n",
    "df= df.drop('Preffered_Position', axis = 1)"
   ]
  },
  {
   "cell_type": "code",
   "execution_count": null,
   "metadata": {
    "scrolled": true
   },
   "outputs": [],
   "source": [
    "df = df.dropna()\n",
    "df.shape\n",
    "dfCopy= df.copy()"
   ]
  },
  {
   "cell_type": "code",
   "execution_count": null,
   "metadata": {},
   "outputs": [],
   "source": [
    "lb_make = LabelEncoder()\n",
    "df['Club_Position'] = lb_make.fit_transform(df['Club_Position'])\n",
    "labels = np.array(df['Club_Position'])\n",
    "df = pd.get_dummies(df)\n",
    "\n",
    "\n",
    "from sklearn.model_selection import train_test_split\n",
    "train_x, test_x, train_y, test_y = train_test_split(df, labels, test_size = 0.25, random_state = 42)\n",
    "df.shape"
   ]
  },
  {
   "cell_type": "code",
   "execution_count": null,
   "metadata": {},
   "outputs": [],
   "source": [
    "model = models.Sequential()\n",
    "model.add(layers.Dense(70, activation='relu', input_shape=(train_x.shape[1],)))\n",
    "model.add(layers.Dense(50, activation='relu'))\n",
    "model.add(layers.Dense(29, activation='softmax'))\n",
    "\n",
    "model.compile(optimizer='rmsprop', loss='categorical_crossentropy', metrics=['categorical_accuracy'])\n",
    "\n",
    "\n",
    "train_yC = to_categorical(train_y)\n",
    "test_yC = to_categorical(test_y)\n",
    "\n",
    "# history = model.fit(train_x, train_yC, epochs=200, batch_size=32,  verbose=0, validation_split=0.25)\n",
    "\n",
    "best_weights = ModelCheckpoint('best.h5', verbose=1, monitor='val_loss', save_best_only=True, mode='min')\n",
    "callbacks_list = [best_weights]\n",
    "history = model.fit(train_x, train_yC,epochs=10, batch_size=32,  callbacks=callbacks_list, verbose=0, validation_split=0.25)\n",
    "model.load_weights(\"best.h5\")#loads the best model saved wrt to validation loss during training\n",
    "\n",
    "nn_pred_train = model.predict_classes(train_x)\n",
    "nn_pred_test= model.predict_classes(test_x)\n",
    "\n",
    "\n",
    "print (\"NN Train Accuracy: \", metrics.accuracy_score(train_y, nn_pred_train))\n",
    "print (\"NN Test Accuracy: \", metrics.accuracy_score(test_y, nn_pred_test))\n",
    "print (\"NN Test MSE: \", metrics.mean_squared_error(test_y, nn_pred_test))"
   ]
  },
  {
   "cell_type": "code",
   "execution_count": null,
   "metadata": {},
   "outputs": [],
   "source": [
    "dfCopy"
   ]
  },
  {
   "cell_type": "code",
   "execution_count": null,
   "metadata": {},
   "outputs": [],
   "source": [
    "lb_make = LabelEncoder()\n",
    "dfCopy['Club_Position'] = lb_make.fit_transform(dfCopy['Club_Position'])\n",
    "labels = np.array(dfCopy['Club_Position'])\n",
    "\n",
    "dfGK = dfCopy[['GK_Positioning', 'GK_Diving', 'GK_Kicking', 'GK_Handling', 'GK_Reflexes']]\n",
    "dfDef = dfCopy[['Marking', 'Sliding_Tackle', 'Standing_Tackle', 'Aggression', 'Interceptions']]\n",
    "dfFor = dfCopy[['Shot_Power', 'Finishing', 'Long_Shots', 'Freekick_Accuracy', 'Penalties', 'Volleys', 'Jumping', 'Heading']]\n",
    "dfDefMid = dfCopy[['Speed', 'Stamina', 'Strength', 'Acceleration', 'Balance', 'Agility']]\n",
    "dfMid = dfCopy[['Composure','Skill_Moves', 'Ball_Control', 'Dribbling', 'Reactions', 'Attacking_Position', 'Vision', 'Curve', 'Short_Pass', 'Long_Pass', 'Crossing']]\n",
    "dfRem = dfCopy[['Rating', 'Preffered_Foot', 'Age', 'Work_Rate', 'Weak_foot']]\n",
    "\n",
    "dfGK = pd.get_dummies(dfGK)\n",
    "dfDef = pd.get_dummies(dfDef)\n",
    "dfFor = pd.get_dummies(dfFor)\n",
    "dfDefMid = pd.get_dummies(dfDefMid)\n",
    "dfMid = pd.get_dummies(dfMid)\n",
    "dfRem = pd.get_dummies(dfRem)\n",
    "\n",
    "\n",
    "from sklearn.model_selection import train_test_split\n",
    "train_xGK, test_xGK, train_xDef, test_xDef, train_xFor, test_xFor, train_xDefMid, \\\n",
    "test_xDefMid, train_xMid, test_xMid, train_xRem, \\\n",
    "test_xRem, train_y, test_y = train_test_split(dfGK, dfDef, dfFor, dfDefMid,dfMid, dfRem, labels, test_size = 0.25, random_state = 42)\n",
    "\n",
    "from sklearn.preprocessing import StandardScaler\n",
    "scaler = StandardScaler()\n",
    "scaler.fit(train_xGK)\n",
    "train_xGK = scaler.transform(train_xGK)\n",
    "test_xGK = scaler.transform(test_xGK)\n",
    "\n",
    "scalerDef = StandardScaler()\n",
    "scalerDef.fit(train_xDef)\n",
    "train_xDef = scalerDef.transform(train_xDef)\n",
    "test_xDef = scalerDef.transform(test_xDef)\n",
    "\n",
    "scalerFor = StandardScaler()\n",
    "scalerFor.fit(train_xFor)\n",
    "train_xFor = scalerFor.transform(train_xFor)\n",
    "test_xFor = scalerFor.transform(test_xFor)\n",
    "\n",
    "scalerDefMid = StandardScaler()\n",
    "scalerDefMid.fit(train_xDefMid)\n",
    "train_xDefMid = scalerDefMid.transform(train_xDefMid)\n",
    "test_xDefMid = scalerDefMid.transform(test_xDefMid)\n",
    "\n",
    "scalerMid = StandardScaler()\n",
    "scalerMid.fit(train_xMid)\n",
    "train_xMid = scalerMid.transform(train_xMid)\n",
    "test_xMid = scalerMid.transform(test_xMid)\n",
    "\n",
    "scalerRem = StandardScaler()\n",
    "scalerRem.fit(train_xRem)\n",
    "train_xRem = scalerRem.transform(train_xRem)\n",
    "test_xRem = scalerRem.transform(test_xRem)\n"
   ]
  },
  {
   "cell_type": "code",
   "execution_count": null,
   "metadata": {},
   "outputs": [],
   "source": [
    "train_xRem.shape"
   ]
  },
  {
   "cell_type": "code",
   "execution_count": null,
   "metadata": {},
   "outputs": [],
   "source": [
    "GKInput = Input(shape=(train_xGK.shape[1],))\n",
    "DefInput = Input(shape=(train_xDef.shape[1],))\n",
    "ForInput = Input(shape=(train_xFor.shape[1],))\n",
    "DefMidInput = Input(shape=(train_xDefMid.shape[1],))\n",
    "MidInput = Input(shape=(train_xMid.shape[1],))\n",
    "RemInput = Input(shape=(train_xRem.shape[1],))\n",
    "\n",
    "GKLayer = layers.Dense(10, activation='relu')(GKInput)\n",
    "DefLayer = layers.Dense(10, activation='relu')(DefInput)\n",
    "ForLayer = layers.Dense(15, activation='relu')(ForInput)\n",
    "DefMidLayer = layers.Dense(12, activation='relu')(DefMidInput)\n",
    "MidLayer = layers.Dense(25, activation='relu')(MidInput)\n",
    "RemLayer = layers.Dense(30, activation='relu')(RemInput)\n",
    "\n",
    "merge = layers.concatenate([GKLayer, DefLayer, ForLayer, DefMidLayer, MidLayer, RemLayer])\n",
    "\n",
    "hidden = layers.Dense(50, activation='relu')(merge)\n",
    "# prediction output\n",
    "output = layers.Dense(29, activation='softmax')(hidden)\n",
    "model = models.Model(inputs=[GKInput,DefInput,ForInput,DefMidInput,MidInput, RemInput], outputs=output)\n",
    "\n",
    "print(model.summary())\n",
    "#plot_model(model, to_file='shared_input_layer.png')"
   ]
  },
  {
   "cell_type": "code",
   "execution_count": null,
   "metadata": {},
   "outputs": [],
   "source": [
    "model.compile(optimizer='rmsprop', loss='categorical_crossentropy', metrics=['categorical_accuracy'])\n",
    "\n",
    "train_yC = to_categorical(train_y)\n",
    "test_yC = to_categorical(test_y)\n",
    "\n",
    "best_weights = ModelCheckpoint('best.h5', verbose=1, monitor='val_loss', save_best_only=True, mode='min')\n",
    "callbacks_list = [best_weights]\n",
    "history = model.fit([train_xGK, train_xDef, train_xFor, train_xDefMid, train_xMid, train_xRem], train_yC, epochs=10, batch_size=32,  callbacks=callbacks_list, verbose=0, validation_split=0.25)\n",
    "model.load_weights(\"best.h5\")#loads the best model saved wrt to validation loss during training\n",
    "\n",
    "nn_pred_train= model.predict([train_xGK, train_xDef, train_xFor, train_xDefMid, train_xMid, train_xRem])\n",
    "nn_pred_test= model.predict([test_xGK, test_xDef, test_xFor, test_xDefMid, test_xMid, test_xRem])\n",
    "\n",
    "nn_pred_train = np.argmax(nn_pred_train,axis=1)\n",
    "nn_pred_test = np.argmax(nn_pred_test,axis=1)\n",
    "\n",
    "print (\"NN Train Accuracy: \", metrics.accuracy_score(train_y, nn_pred_train))\n",
    "print (\"NN Test Accuracy: \", metrics.accuracy_score(test_y, nn_pred_test))\n",
    "print (\"NN Test MSE: \", metrics.mean_squared_error(test_y, nn_pred_test))"
   ]
  },
  {
   "cell_type": "code",
   "execution_count": null,
   "metadata": {},
   "outputs": [],
   "source": []
  }
 ],
 "metadata": {
  "kernelspec": {
   "display_name": "Python 3",
   "language": "python",
   "name": "python3"
  },
  "language_info": {
   "codemirror_mode": {
    "name": "ipython",
    "version": 3
   },
   "file_extension": ".py",
   "mimetype": "text/x-python",
   "name": "python",
   "nbconvert_exporter": "python",
   "pygments_lexer": "ipython3",
   "version": "3.8.3"
  }
 },
 "nbformat": 4,
 "nbformat_minor": 4
}
