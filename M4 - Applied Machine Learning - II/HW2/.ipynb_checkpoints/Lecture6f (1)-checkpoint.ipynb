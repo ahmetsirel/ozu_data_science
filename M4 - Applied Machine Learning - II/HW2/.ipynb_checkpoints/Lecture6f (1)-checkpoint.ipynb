{
 "cells": [
  {
   "cell_type": "code",
   "execution_count": 1,
   "metadata": {},
   "outputs": [
    {
     "name": "stderr",
     "output_type": "stream",
     "text": [
      "Using TensorFlow backend.\n"
     ]
    }
   ],
   "source": [
    "import pandas as pd\n",
    "import numpy as np\n",
    "import seaborn as sns\n",
    "import matplotlib.pyplot as plt\n",
    "from sklearn.tree import DecisionTreeClassifier # Import Decision Tree Classifier\n",
    "from sklearn.model_selection import train_test_split # Import train_test_split function\n",
    "from numpy.random import seed\n",
    "import math\n",
    "import tensorflow\n",
    "from sklearn.preprocessing import StandardScaler\n",
    "from sklearn.preprocessing import MinMaxScaler\n",
    "from keras.callbacks import ModelCheckpoint\n",
    "from keras.callbacks import EarlyStopping\n",
    "from keras.models import Sequential\n",
    "from keras.layers import Dense\n",
    "from keras.layers import LSTM\n",
    "from sklearn.metrics import mean_squared_error\n",
    "\n",
    "seed(1907)\n",
    "tensorflow.random.set_seed(2)\n",
    "\n",
    "df = pd.read_csv('Airline.csv', usecols=[1], encoding='latin-1')"
   ]
  },
  {
   "cell_type": "code",
   "execution_count": 2,
   "metadata": {},
   "outputs": [
    {
     "data": {
      "image/png": "[encoded data removed]",
      "text/plain": [
       "<Figure size 432x288 with 1 Axes>"
      ]
     },
     "metadata": {
      "needs_background": "light"
     },
     "output_type": "display_data"
    }
   ],
   "source": [
    "plt.plot(df)\n",
    "plt.show()"
   ]
  },
  {
   "cell_type": "code",
   "execution_count": 3,
   "metadata": {},
   "outputs": [],
   "source": [
    "df = df.values\n",
    "df = df.astype('float32')"
   ]
  },
  {
   "cell_type": "code",
   "execution_count": 4,
   "metadata": {},
   "outputs": [],
   "source": [
    "scaler = MinMaxScaler(feature_range=(0, 1))\n",
    "df = scaler.fit_transform(df)"
   ]
  },
  {
   "cell_type": "code",
   "execution_count": 5,
   "metadata": {},
   "outputs": [
    {
     "name": "stdout",
     "output_type": "stream",
     "text": [
      "96 48\n"
     ]
    }
   ],
   "source": [
    "# split into train and test sets\n",
    "train_size = int(len(df) * 0.67)\n",
    "test_size = len(df) - train_size\n",
    "train, test = df[0:train_size,:], df[train_size:len(df),:]\n",
    "print(len(train), len(test))"
   ]
  },
  {
   "cell_type": "code",
   "execution_count": 6,
   "metadata": {},
   "outputs": [],
   "source": [
    "# convert an array of values into a dataset matrix\n",
    "def create_dataset(df, look_back):\n",
    "    dataX, dataY = [], []\n",
    "    for i in range(len(df)-look_back-1):\n",
    "        a = df[i:(i+look_back), 0]\n",
    "        dataX.append(a)\n",
    "        dataY.append(df[i + look_back, 0])\n",
    "    return np.array(dataX), np.array(dataY)"
   ]
  },
  {
   "cell_type": "code",
   "execution_count": 7,
   "metadata": {},
   "outputs": [],
   "source": [
    "# reshape into X=t and Y=t+1\n",
    "look_back = 1\n",
    "trainX, trainY = create_dataset(train, look_back)\n",
    "testX, testY = create_dataset(test, look_back)"
   ]
  },
  {
   "cell_type": "code",
   "execution_count": 8,
   "metadata": {},
   "outputs": [
    {
     "name": "stdout",
     "output_type": "stream",
     "text": [
      "[[0.01544401 0.02702703]\n",
      " [0.02702703 0.05405405]\n",
      " [0.05405405 0.04826255]\n",
      " [0.04826255 0.03281853]\n",
      " [0.03281853 0.05984557]\n",
      " [0.05984557 0.08494207]\n",
      " [0.08494207 0.08494207]\n",
      " [0.08494207 0.06177607]\n",
      " [0.06177607 0.02895753]\n",
      " [0.02895753 0.        ]\n",
      " [0.         0.02702703]\n",
      " [0.02702703 0.02123553]\n",
      " [0.02123553 0.04247104]\n",
      " [0.04247104 0.07142857]\n",
      " [0.07142857 0.05984557]\n",
      " [0.05984557 0.04054055]\n",
      " [0.04054055 0.08687258]\n",
      " [0.08687258 0.12741312]\n",
      " [0.12741312 0.12741312]\n",
      " [0.12741312 0.10424709]\n",
      " [0.10424709 0.05598456]\n",
      " [0.05598456 0.01930502]\n",
      " [0.01930502 0.06949806]\n",
      " [0.06949806 0.07915059]\n",
      " [0.07915059 0.08880308]\n",
      " [0.08880308 0.14285713]\n",
      " [0.14285713 0.11389962]\n",
      " [0.11389962 0.13127413]\n",
      " [0.13127413 0.14285713]\n",
      " [0.14285713 0.18339768]\n",
      " [0.18339768 0.18339768]\n",
      " [0.18339768 0.15444016]\n",
      " [0.15444016 0.11196911]\n",
      " [0.11196911 0.08108109]\n",
      " [0.08108109 0.1196911 ]\n",
      " [0.1196911  0.12934363]\n",
      " [0.12934363 0.14671814]\n",
      " [0.14671814 0.17181468]\n",
      " [0.17181468 0.14864865]\n",
      " [0.14864865 0.15250966]\n",
      " [0.15250966 0.22007722]\n",
      " [0.22007722 0.24324325]\n",
      " [0.24324325 0.26640925]\n",
      " [0.26640925 0.2027027 ]\n",
      " [0.2027027  0.16795367]\n",
      " [0.16795367 0.13127413]\n",
      " [0.13127413 0.17374519]\n",
      " [0.17374519 0.17760617]\n",
      " [0.17760617 0.17760617]\n",
      " [0.17760617 0.25482625]\n",
      " [0.25482625 0.25289574]\n",
      " [0.25289574 0.24131274]\n",
      " [0.24131274 0.26833975]\n",
      " [0.26833975 0.3088803 ]\n",
      " [0.3088803  0.32432434]\n",
      " [0.32432434 0.25675675]\n",
      " [0.25675675 0.20656371]\n",
      " [0.20656371 0.14671814]\n",
      " [0.14671814 0.18725869]\n",
      " [0.18725869 0.19305018]\n",
      " [0.19305018 0.16216215]\n",
      " [0.16216215 0.25289574]\n",
      " [0.25289574 0.23745173]\n",
      " [0.23745173 0.25096524]\n",
      " [0.25096524 0.3088803 ]\n",
      " [0.3088803  0.38223937]\n",
      " [0.38223937 0.36486486]\n",
      " [0.36486486 0.2992278 ]\n",
      " [0.2992278  0.24131274]\n",
      " [0.24131274 0.1911197 ]\n",
      " [0.1911197  0.24131274]\n",
      " [0.24131274 0.26640925]\n",
      " [0.26640925 0.24903473]\n",
      " [0.24903473 0.31467178]\n",
      " [0.31467178 0.3185328 ]\n",
      " [0.3185328  0.32046333]\n",
      " [0.32046333 0.4073359 ]\n",
      " [0.4073359  0.5019305 ]\n",
      " [0.5019305  0.46911195]\n",
      " [0.46911195 0.40154442]\n",
      " [0.40154442 0.32818535]\n",
      " [0.32818535 0.25675675]\n",
      " [0.25675675 0.3359073 ]\n",
      " [0.3359073  0.34749034]\n",
      " [0.34749034 0.33397684]\n",
      " [0.33397684 0.41119692]\n",
      " [0.41119692 0.4034749 ]\n",
      " [0.4034749  0.4131274 ]\n",
      " [0.4131274  0.52123547]\n",
      " [0.52123547 0.5965251 ]\n",
      " [0.5965251  0.58108103]\n",
      " [0.58108103 0.484556  ]\n",
      " [0.484556   0.3899614 ]\n",
      " [0.3899614  0.3223938 ]]\n"
     ]
    }
   ],
   "source": [
    "print(np.c_[trainX, trainY])"
   ]
  },
  {
   "cell_type": "code",
   "execution_count": 9,
   "metadata": {},
   "outputs": [],
   "source": [
    "# reshape input to be [samples, time steps, features]\n",
    "trainX = np.reshape(trainX, (trainX.shape[0], 1, trainX.shape[1]))\n",
    "testX = np.reshape(testX, (testX.shape[0], 1, testX.shape[1]))"
   ]
  },
  {
   "cell_type": "code",
   "execution_count": 10,
   "metadata": {},
   "outputs": [
    {
     "data": {
      "text/plain": [
       "(94, 1, 1)"
      ]
     },
     "execution_count": 10,
     "metadata": {},
     "output_type": "execute_result"
    }
   ],
   "source": [
    "trainX.shape[0], trainX.shape[1], trainX.shape[2]"
   ]
  },
  {
   "cell_type": "code",
   "execution_count": 11,
   "metadata": {},
   "outputs": [
    {
     "data": {
      "text/plain": [
       "(46, 1, 1)"
      ]
     },
     "execution_count": 11,
     "metadata": {},
     "output_type": "execute_result"
    }
   ],
   "source": [
    "testX.shape[0], testX.shape[1], testX.shape[2]"
   ]
  },
  {
   "cell_type": "code",
   "execution_count": 12,
   "metadata": {},
   "outputs": [
    {
     "name": "stdout",
     "output_type": "stream",
     "text": [
      "Epoch 1/10\n",
      " - 1s - loss: 0.0287\n",
      "Epoch 2/10\n",
      " - 0s - loss: 0.0131\n",
      "Epoch 3/10\n",
      " - 0s - loss: 0.0103\n",
      "Epoch 4/10\n",
      " - 0s - loss: 0.0093\n",
      "Epoch 5/10\n",
      " - 0s - loss: 0.0085\n",
      "Epoch 6/10\n",
      " - 0s - loss: 0.0075\n",
      "Epoch 7/10\n",
      " - 0s - loss: 0.0067\n",
      "Epoch 8/10\n",
      " - 0s - loss: 0.0059\n",
      "Epoch 9/10\n",
      " - 0s - loss: 0.0052\n",
      "Epoch 10/10\n",
      " - 0s - loss: 0.0044\n"
     ]
    },
    {
     "data": {
      "text/plain": [
       "<keras.callbacks.callbacks.History at 0x1c2a6f2ecc8>"
      ]
     },
     "execution_count": 12,
     "metadata": {},
     "output_type": "execute_result"
    }
   ],
   "source": [
    "# create and fit the LSTM network\n",
    "model = Sequential()\n",
    "model.add(LSTM(4, input_shape=(1, look_back)))\n",
    "model.add(Dense(1))\n",
    "model.compile(loss='mean_squared_error', optimizer='adam')\n",
    "model.fit(trainX, trainY, epochs=10, batch_size=1, verbose=2)"
   ]
  },
  {
   "cell_type": "code",
   "execution_count": 13,
   "metadata": {},
   "outputs": [
    {
     "name": "stdout",
     "output_type": "stream",
     "text": [
      "Train Score: 33.19 RMSE\n",
      "Test Score: 86.08 RMSE\n"
     ]
    }
   ],
   "source": [
    "# make predictions\n",
    "trainPredict = model.predict(trainX)\n",
    "testPredict = model.predict(testX)\n",
    "# invert predictions\n",
    "trainPredict = scaler.inverse_transform(trainPredict)\n",
    "trainY = scaler.inverse_transform([trainY])\n",
    "testPredict = scaler.inverse_transform(testPredict)\n",
    "testY = scaler.inverse_transform([testY])\n",
    "# calculate root mean squared error\n",
    "trainScore = math.sqrt(mean_squared_error(trainY[0], trainPredict[:,0]))\n",
    "print('Train Score: %.2f RMSE' % (trainScore))\n",
    "testScore = math.sqrt(mean_squared_error(testY[0], testPredict[:,0]))\n",
    "print('Test Score: %.2f RMSE' % (testScore))"
   ]
  },
  {
   "cell_type": "code",
   "execution_count": 14,
   "metadata": {},
   "outputs": [
    {
     "data": {
      "image/png": "[encoded data removed]",
      "text/plain": [
       "<Figure size 432x288 with 1 Axes>"
      ]
     },
     "metadata": {
      "needs_background": "light"
     },
     "output_type": "display_data"
    }
   ],
   "source": [
    "# shift train predictions for plotting\n",
    "trainPredictPlot = np.empty_like(df)\n",
    "trainPredictPlot[:, :] = np.nan\n",
    "trainPredictPlot[look_back:len(trainPredict)+look_back, :] = trainPredict\n",
    "# shift test predictions for plotting\n",
    "testPredictPlot = np.empty_like(df)\n",
    "testPredictPlot[:, :] = np.nan\n",
    "testPredictPlot[len(trainPredict)+(look_back*2)+1:len(df)-1, :] = testPredict\n",
    "# plot baseline and predictions\n",
    "plt.plot(scaler.inverse_transform(df))\n",
    "plt.plot(trainPredictPlot)\n",
    "plt.plot(testPredictPlot)\n",
    "plt.show()"
   ]
  },
  {
   "cell_type": "code",
   "execution_count": null,
   "metadata": {},
   "outputs": [],
   "source": []
  },
  {
   "cell_type": "code",
   "execution_count": 15,
   "metadata": {},
   "outputs": [],
   "source": [
    "# reshape into X=t and Y=t+1\n",
    "look_back = 3\n",
    "trainX, trainY = create_dataset(train, look_back)\n",
    "testX, testY = create_dataset(test, look_back)"
   ]
  },
  {
   "cell_type": "code",
   "execution_count": 16,
   "metadata": {},
   "outputs": [
    {
     "name": "stdout",
     "output_type": "stream",
     "text": [
      "[[0.01544401 0.02702703 0.05405405 0.04826255]\n",
      " [0.02702703 0.05405405 0.04826255 0.03281853]\n",
      " [0.05405405 0.04826255 0.03281853 0.05984557]\n",
      " [0.04826255 0.03281853 0.05984557 0.08494207]\n",
      " [0.03281853 0.05984557 0.08494207 0.08494207]\n",
      " [0.05984557 0.08494207 0.08494207 0.06177607]\n",
      " [0.08494207 0.08494207 0.06177607 0.02895753]\n",
      " [0.08494207 0.06177607 0.02895753 0.        ]\n",
      " [0.06177607 0.02895753 0.         0.02702703]\n",
      " [0.02895753 0.         0.02702703 0.02123553]\n",
      " [0.         0.02702703 0.02123553 0.04247104]\n",
      " [0.02702703 0.02123553 0.04247104 0.07142857]\n",
      " [0.02123553 0.04247104 0.07142857 0.05984557]\n",
      " [0.04247104 0.07142857 0.05984557 0.04054055]\n",
      " [0.07142857 0.05984557 0.04054055 0.08687258]\n",
      " [0.05984557 0.04054055 0.08687258 0.12741312]\n",
      " [0.04054055 0.08687258 0.12741312 0.12741312]\n",
      " [0.08687258 0.12741312 0.12741312 0.10424709]\n",
      " [0.12741312 0.12741312 0.10424709 0.05598456]\n",
      " [0.12741312 0.10424709 0.05598456 0.01930502]\n",
      " [0.10424709 0.05598456 0.01930502 0.06949806]\n",
      " [0.05598456 0.01930502 0.06949806 0.07915059]\n",
      " [0.01930502 0.06949806 0.07915059 0.08880308]\n",
      " [0.06949806 0.07915059 0.08880308 0.14285713]\n",
      " [0.07915059 0.08880308 0.14285713 0.11389962]\n",
      " [0.08880308 0.14285713 0.11389962 0.13127413]\n",
      " [0.14285713 0.11389962 0.13127413 0.14285713]\n",
      " [0.11389962 0.13127413 0.14285713 0.18339768]\n",
      " [0.13127413 0.14285713 0.18339768 0.18339768]\n",
      " [0.14285713 0.18339768 0.18339768 0.15444016]\n",
      " [0.18339768 0.18339768 0.15444016 0.11196911]\n",
      " [0.18339768 0.15444016 0.11196911 0.08108109]\n",
      " [0.15444016 0.11196911 0.08108109 0.1196911 ]\n",
      " [0.11196911 0.08108109 0.1196911  0.12934363]\n",
      " [0.08108109 0.1196911  0.12934363 0.14671814]\n",
      " [0.1196911  0.12934363 0.14671814 0.17181468]\n",
      " [0.12934363 0.14671814 0.17181468 0.14864865]\n",
      " [0.14671814 0.17181468 0.14864865 0.15250966]\n",
      " [0.17181468 0.14864865 0.15250966 0.22007722]\n",
      " [0.14864865 0.15250966 0.22007722 0.24324325]\n",
      " [0.15250966 0.22007722 0.24324325 0.26640925]\n",
      " [0.22007722 0.24324325 0.26640925 0.2027027 ]\n",
      " [0.24324325 0.26640925 0.2027027  0.16795367]\n",
      " [0.26640925 0.2027027  0.16795367 0.13127413]\n",
      " [0.2027027  0.16795367 0.13127413 0.17374519]\n",
      " [0.16795367 0.13127413 0.17374519 0.17760617]\n",
      " [0.13127413 0.17374519 0.17760617 0.17760617]\n",
      " [0.17374519 0.17760617 0.17760617 0.25482625]\n",
      " [0.17760617 0.17760617 0.25482625 0.25289574]\n",
      " [0.17760617 0.25482625 0.25289574 0.24131274]\n",
      " [0.25482625 0.25289574 0.24131274 0.26833975]\n",
      " [0.25289574 0.24131274 0.26833975 0.3088803 ]\n",
      " [0.24131274 0.26833975 0.3088803  0.32432434]\n",
      " [0.26833975 0.3088803  0.32432434 0.25675675]\n",
      " [0.3088803  0.32432434 0.25675675 0.20656371]\n",
      " [0.32432434 0.25675675 0.20656371 0.14671814]\n",
      " [0.25675675 0.20656371 0.14671814 0.18725869]\n",
      " [0.20656371 0.14671814 0.18725869 0.19305018]\n",
      " [0.14671814 0.18725869 0.19305018 0.16216215]\n",
      " [0.18725869 0.19305018 0.16216215 0.25289574]\n",
      " [0.19305018 0.16216215 0.25289574 0.23745173]\n",
      " [0.16216215 0.25289574 0.23745173 0.25096524]\n",
      " [0.25289574 0.23745173 0.25096524 0.3088803 ]\n",
      " [0.23745173 0.25096524 0.3088803  0.38223937]\n",
      " [0.25096524 0.3088803  0.38223937 0.36486486]\n",
      " [0.3088803  0.38223937 0.36486486 0.2992278 ]\n",
      " [0.38223937 0.36486486 0.2992278  0.24131274]\n",
      " [0.36486486 0.2992278  0.24131274 0.1911197 ]\n",
      " [0.2992278  0.24131274 0.1911197  0.24131274]\n",
      " [0.24131274 0.1911197  0.24131274 0.26640925]\n",
      " [0.1911197  0.24131274 0.26640925 0.24903473]\n",
      " [0.24131274 0.26640925 0.24903473 0.31467178]\n",
      " [0.26640925 0.24903473 0.31467178 0.3185328 ]\n",
      " [0.24903473 0.31467178 0.3185328  0.32046333]\n",
      " [0.31467178 0.3185328  0.32046333 0.4073359 ]\n",
      " [0.3185328  0.32046333 0.4073359  0.5019305 ]\n",
      " [0.32046333 0.4073359  0.5019305  0.46911195]\n",
      " [0.4073359  0.5019305  0.46911195 0.40154442]\n",
      " [0.5019305  0.46911195 0.40154442 0.32818535]\n",
      " [0.46911195 0.40154442 0.32818535 0.25675675]\n",
      " [0.40154442 0.32818535 0.25675675 0.3359073 ]\n",
      " [0.32818535 0.25675675 0.3359073  0.34749034]\n",
      " [0.25675675 0.3359073  0.34749034 0.33397684]\n",
      " [0.3359073  0.34749034 0.33397684 0.41119692]\n",
      " [0.34749034 0.33397684 0.41119692 0.4034749 ]\n",
      " [0.33397684 0.41119692 0.4034749  0.4131274 ]\n",
      " [0.41119692 0.4034749  0.4131274  0.52123547]\n",
      " [0.4034749  0.4131274  0.52123547 0.5965251 ]\n",
      " [0.4131274  0.52123547 0.5965251  0.58108103]\n",
      " [0.52123547 0.5965251  0.58108103 0.484556  ]\n",
      " [0.5965251  0.58108103 0.484556   0.3899614 ]\n",
      " [0.58108103 0.484556   0.3899614  0.3223938 ]]\n"
     ]
    }
   ],
   "source": [
    "print(np.c_[trainX, trainY])"
   ]
  },
  {
   "cell_type": "code",
   "execution_count": 17,
   "metadata": {},
   "outputs": [],
   "source": [
    "# reshape input to be [samples, time steps, features]\n",
    "trainX = np.reshape(trainX, (trainX.shape[0], 1, trainX.shape[1]))\n",
    "testX = np.reshape(testX, (testX.shape[0], 1, testX.shape[1]))"
   ]
  },
  {
   "cell_type": "code",
   "execution_count": 18,
   "metadata": {},
   "outputs": [
    {
     "data": {
      "text/plain": [
       "(92, 1, 3)"
      ]
     },
     "execution_count": 18,
     "metadata": {},
     "output_type": "execute_result"
    }
   ],
   "source": [
    "trainX.shape[0], trainX.shape[1], trainX.shape[2]"
   ]
  },
  {
   "cell_type": "code",
   "execution_count": 19,
   "metadata": {},
   "outputs": [
    {
     "data": {
      "text/plain": [
       "(44, 1, 3)"
      ]
     },
     "execution_count": 19,
     "metadata": {},
     "output_type": "execute_result"
    }
   ],
   "source": [
    "testX.shape[0], testX.shape[1], testX.shape[2]"
   ]
  },
  {
   "cell_type": "code",
   "execution_count": 20,
   "metadata": {},
   "outputs": [
    {
     "name": "stdout",
     "output_type": "stream",
     "text": [
      "Epoch 1/10\n",
      " - 1s - loss: 0.0222\n",
      "Epoch 2/10\n",
      " - 0s - loss: 0.0092\n",
      "Epoch 3/10\n",
      " - 0s - loss: 0.0074\n",
      "Epoch 4/10\n",
      " - 0s - loss: 0.0069\n",
      "Epoch 5/10\n",
      " - 0s - loss: 0.0064\n",
      "Epoch 6/10\n",
      " - 0s - loss: 0.0060\n",
      "Epoch 7/10\n",
      " - 0s - loss: 0.0056\n",
      "Epoch 8/10\n",
      " - 0s - loss: 0.0053\n",
      "Epoch 9/10\n",
      " - 0s - loss: 0.0051\n",
      "Epoch 10/10\n",
      " - 0s - loss: 0.0052\n"
     ]
    },
    {
     "data": {
      "text/plain": [
       "<keras.callbacks.callbacks.History at 0x1c2b046d608>"
      ]
     },
     "execution_count": 20,
     "metadata": {},
     "output_type": "execute_result"
    }
   ],
   "source": [
    "# create and fit the LSTM network\n",
    "model = Sequential()\n",
    "model.add(LSTM(4, input_shape=(1, look_back)))\n",
    "model.add(Dense(1))\n",
    "model.compile(loss='mean_squared_error', optimizer='adam')\n",
    "model.fit(trainX, trainY, epochs=10, batch_size=1, verbose=2)"
   ]
  },
  {
   "cell_type": "code",
   "execution_count": 21,
   "metadata": {},
   "outputs": [
    {
     "name": "stdout",
     "output_type": "stream",
     "text": [
      "Train Score: 35.97 RMSE\n",
      "Test Score: 83.33 RMSE\n"
     ]
    }
   ],
   "source": [
    "# make predictions\n",
    "trainPredict = model.predict(trainX)\n",
    "testPredict = model.predict(testX)\n",
    "# invert predictions\n",
    "trainPredict = scaler.inverse_transform(trainPredict)\n",
    "trainY = scaler.inverse_transform([trainY])\n",
    "testPredict = scaler.inverse_transform(testPredict)\n",
    "testY = scaler.inverse_transform([testY])\n",
    "# calculate root mean squared error\n",
    "trainScore = math.sqrt(mean_squared_error(trainY[0], trainPredict[:,0]))\n",
    "print('Train Score: %.2f RMSE' % (trainScore))\n",
    "testScore = math.sqrt(mean_squared_error(testY[0], testPredict[:,0]))\n",
    "print('Test Score: %.2f RMSE' % (testScore))"
   ]
  },
  {
   "cell_type": "code",
   "execution_count": 22,
   "metadata": {},
   "outputs": [
    {
     "data": {
      "image/png": "[encoded data removed]",
      "text/plain": [
       "<Figure size 432x288 with 1 Axes>"
      ]
     },
     "metadata": {
      "needs_background": "light"
     },
     "output_type": "display_data"
    }
   ],
   "source": [
    "# shift train predictions for plotting\n",
    "trainPredictPlot = np.empty_like(df)\n",
    "trainPredictPlot[:, :] = np.nan\n",
    "trainPredictPlot[look_back:len(trainPredict)+look_back, :] = trainPredict\n",
    "# shift test predictions for plotting\n",
    "testPredictPlot = np.empty_like(df)\n",
    "testPredictPlot[:, :] = np.nan\n",
    "testPredictPlot[len(trainPredict)+(look_back*2)+1:len(df)-1, :] = testPredict\n",
    "# plot baseline and predictions\n",
    "plt.plot(scaler.inverse_transform(df))\n",
    "plt.plot(trainPredictPlot)\n",
    "plt.plot(testPredictPlot)\n",
    "plt.show()"
   ]
  },
  {
   "cell_type": "code",
   "execution_count": 23,
   "metadata": {},
   "outputs": [],
   "source": [
    "# reshape into X=t and Y=t+1\n",
    "look_back = 3\n",
    "trainX, trainY = create_dataset(train, look_back)\n",
    "testX, testY = create_dataset(test, look_back)"
   ]
  },
  {
   "cell_type": "code",
   "execution_count": 24,
   "metadata": {},
   "outputs": [],
   "source": [
    "# reshape input to be [samples, time steps, features]\n",
    "trainX = np.reshape(trainX, (trainX.shape[0], trainX.shape[1], 1))\n",
    "testX = np.reshape(testX, (testX.shape[0], testX.shape[1], 1))"
   ]
  },
  {
   "cell_type": "code",
   "execution_count": 25,
   "metadata": {},
   "outputs": [
    {
     "data": {
      "text/plain": [
       "(92, 3, 1)"
      ]
     },
     "execution_count": 25,
     "metadata": {},
     "output_type": "execute_result"
    }
   ],
   "source": [
    "trainX.shape[0], trainX.shape[1], trainX.shape[2]"
   ]
  },
  {
   "cell_type": "code",
   "execution_count": 26,
   "metadata": {},
   "outputs": [
    {
     "data": {
      "text/plain": [
       "(44, 3, 1)"
      ]
     },
     "execution_count": 26,
     "metadata": {},
     "output_type": "execute_result"
    }
   ],
   "source": [
    "testX.shape[0], testX.shape[1], testX.shape[2]"
   ]
  },
  {
   "cell_type": "code",
   "execution_count": 27,
   "metadata": {},
   "outputs": [
    {
     "name": "stdout",
     "output_type": "stream",
     "text": [
      "Epoch 1/10\n",
      " - 1s - loss: 0.0573\n",
      "Epoch 2/10\n",
      " - 0s - loss: 0.0219\n",
      "Epoch 3/10\n",
      " - 0s - loss: 0.0166\n",
      "Epoch 4/10\n",
      " - 0s - loss: 0.0145\n",
      "Epoch 5/10\n",
      " - 0s - loss: 0.0125\n",
      "Epoch 6/10\n",
      " - 0s - loss: 0.0106\n",
      "Epoch 7/10\n",
      " - 0s - loss: 0.0090\n",
      "Epoch 8/10\n",
      " - 0s - loss: 0.0076\n",
      "Epoch 9/10\n",
      " - 0s - loss: 0.0064\n",
      "Epoch 10/10\n",
      " - 0s - loss: 0.0055\n"
     ]
    },
    {
     "data": {
      "text/plain": [
       "<keras.callbacks.callbacks.History at 0x1c2b275da48>"
      ]
     },
     "execution_count": 27,
     "metadata": {},
     "output_type": "execute_result"
    }
   ],
   "source": [
    "# create and fit the LSTM network\n",
    "model = Sequential()\n",
    "model.add(LSTM(4, input_shape=(look_back, 1)))\n",
    "model.add(Dense(1))\n",
    "model.compile(loss='mean_squared_error', optimizer='adam')\n",
    "model.fit(trainX, trainY, epochs=10, batch_size=1, verbose=2)"
   ]
  },
  {
   "cell_type": "code",
   "execution_count": 28,
   "metadata": {},
   "outputs": [
    {
     "name": "stdout",
     "output_type": "stream",
     "text": [
      "Train Score: 37.20 RMSE\n",
      "Test Score: 89.66 RMSE\n"
     ]
    }
   ],
   "source": [
    "# make predictions\n",
    "trainPredict = model.predict(trainX)\n",
    "testPredict = model.predict(testX)\n",
    "# invert predictions\n",
    "trainPredict = scaler.inverse_transform(trainPredict)\n",
    "trainY = scaler.inverse_transform([trainY])\n",
    "testPredict = scaler.inverse_transform(testPredict)\n",
    "testY = scaler.inverse_transform([testY])\n",
    "# calculate root mean squared error\n",
    "trainScore = math.sqrt(mean_squared_error(trainY[0], trainPredict[:,0]))\n",
    "print('Train Score: %.2f RMSE' % (trainScore))\n",
    "testScore = math.sqrt(mean_squared_error(testY[0], testPredict[:,0]))\n",
    "print('Test Score: %.2f RMSE' % (testScore))"
   ]
  },
  {
   "cell_type": "code",
   "execution_count": 29,
   "metadata": {},
   "outputs": [
    {
     "data": {
      "image/png": "[encoded data removed]",
      "text/plain": [
       "<Figure size 432x288 with 1 Axes>"
      ]
     },
     "metadata": {
      "needs_background": "light"
     },
     "output_type": "display_data"
    }
   ],
   "source": [
    "# shift train predictions for plotting\n",
    "trainPredictPlot = np.empty_like(df)\n",
    "trainPredictPlot[:, :] = np.nan\n",
    "trainPredictPlot[look_back:len(trainPredict)+look_back, :] = trainPredict\n",
    "# shift test predictions for plotting\n",
    "testPredictPlot = np.empty_like(df)\n",
    "testPredictPlot[:, :] = np.nan\n",
    "testPredictPlot[len(trainPredict)+(look_back*2)+1:len(df)-1, :] = testPredict\n",
    "# plot baseline and predictions\n",
    "plt.plot(scaler.inverse_transform(df))\n",
    "plt.plot(trainPredictPlot)\n",
    "plt.plot(testPredictPlot)\n",
    "plt.show()"
   ]
  },
  {
   "cell_type": "code",
   "execution_count": null,
   "metadata": {},
   "outputs": [],
   "source": []
  }
 ],
 "metadata": {
  "kernelspec": {
   "display_name": "Python 3",
   "language": "python",
   "name": "python3"
  },
  "language_info": {
   "codemirror_mode": {
    "name": "ipython",
    "version": 3
   },
   "file_extension": ".py",
   "mimetype": "text/x-python",
   "name": "python",
   "nbconvert_exporter": "python",
   "pygments_lexer": "ipython3",
   "version": "3.8.3"
  }
 },
 "nbformat": 4,
 "nbformat_minor": 2
}
