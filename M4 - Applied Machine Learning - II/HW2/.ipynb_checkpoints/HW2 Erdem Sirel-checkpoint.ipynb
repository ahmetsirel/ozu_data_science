{
 "cells": [
  {
   "cell_type": "code",
   "execution_count": null,
   "metadata": {},
   "outputs": [],
   "source": [
    "import numpy as np\n",
    "import pandas as pd\n",
    "\n",
    "import keras\n",
    "from keras import models\n",
    "from keras import layers\n",
    "import tensorflow as tf\n",
    "\n",
    "from sklearn.model_selection import train_test_split\n",
    "from sklearn.preprocessing import StandardScaler\n",
    "\n",
    "from sklearn.metrics import f1_score, accuracy_score, roc_auc_score, average_precision_score"
   ]
  },
  {
   "cell_type": "code",
   "execution_count": null,
   "metadata": {},
   "outputs": [],
   "source": [
    "# accuracy, AUC and F-1\n",
    "# f1_score(), accuracy_score(), auc(), average_precision_score()\n",
    "\n",
    "def evaluate (y_true_train, y_pred_prob_train, y_true_test, y_pred_prob_test,  threshold=0.5):\n",
    "    y_pred_train = pd.Series(np.reshape(y_pred_prob_train, (1,np.product(y_pred_prob_train.shape)))[0])\n",
    "    y_pred_test = pd.Series(np.reshape(y_pred_prob_test, (1,np.product(y_pred_prob_test.shape)))[0])\n",
    "    \n",
    "    y_pred_train = y_pred_train.apply(lambda x: 1 if x >= threshold else 0 )\n",
    "    y_pred_test = y_pred_test.apply(lambda x: 1 if x >= threshold else 0 )\n",
    "    \n",
    "    confusion_matrix = pd.crosstab(y_true_test, y_pred_test, rownames=['Actual'], colnames=['Predicted'])\n",
    "    print('Test Set Confusion Matrix')\n",
    "    print(confusion_matrix)\n",
    "    \n",
    "    return pd.DataFrame.from_records([[f1_score(y_true_train, y_pred_train), \n",
    "                                       accuracy_score(y_true_train, y_pred_train), \n",
    "                                       roc_auc_score(y_true_train, y_pred_prob_train), \n",
    "                                       average_precision_score(y_true_train, y_pred_prob_train),\n",
    "                                      (y_pred_train.sum() / y_pred_train.count())], \n",
    "                                      \n",
    "                                      [f1_score(y_true_test, y_pred_test), \n",
    "                                       accuracy_score(y_true_test, y_pred_test), \n",
    "                                       roc_auc_score(y_true_test, y_pred_prob_test), \n",
    "                                       average_precision_score(y_true_test, y_pred_prob_test),\n",
    "                                      (y_pred_test.sum() / y_pred_test.count())]], \n",
    "                                     index=['Train', 'Test'], \n",
    "                                     columns=['f1_score', 'accuracy_score', 'auc', 'average_precision_score', 'positive_ratio'])"
   ]
  },
  {
   "cell_type": "code",
   "execution_count": null,
   "metadata": {},
   "outputs": [],
   "source": [
    "data = pd.read_csv('Call Details-Data.csv')\n",
    "\n",
    "def prepare_data(data=data, scaler = StandardScaler()):\n",
    "    data.drop('Phone Number', axis=1, inplace=True)\n",
    "\n",
    "    data['Churn'] = data['Churn'].apply(lambda x: 1 if x else 0)\n",
    "\n",
    "    x = data.drop('Churn', axis=1)\n",
    "    y = data['Churn']\n",
    "    x_train, x_test, y_train, y_test = train_test_split(x, y, test_size=0.33, random_state=0)\n",
    "    \n",
    "    # Scale Train\n",
    "    if scaler is not None:\n",
    "        scaler_train = scaler\n",
    "        scaler_train.fit(x_train)\n",
    "        x_train_s = scaler_train.transform(x_train)\n",
    "        x_train = pd.DataFrame(x_train_s, index=x_train.index, columns=x_train.columns)\n",
    "\n",
    "        # Scale Test\n",
    "        scaler_test = scaler\n",
    "        scaler_test.fit(x_test)\n",
    "        x_test_s = scaler_test.transform(x_test)\n",
    "        x_test = pd.DataFrame(x_test_s, index=x_test.index, columns=x_test.columns)\n",
    "    \n",
    "    return x_train, x_test, y_train, y_test\n",
    "    \n",
    "\n"
   ]
  },
  {
   "cell_type": "code",
   "execution_count": null,
   "metadata": {},
   "outputs": [],
   "source": [
    "x_train, x_test, y_train, y_test = prepare_data(data=data, scaler=StandardScaler())"
   ]
  },
  {
   "cell_type": "code",
   "execution_count": null,
   "metadata": {},
   "outputs": [],
   "source": [
    "print('Positive Ratio', data.Churn.sum() / data.Churn.count())"
   ]
  },
  {
   "cell_type": "code",
   "execution_count": null,
   "metadata": {},
   "outputs": [],
   "source": [
    "model = models.Sequential()\n",
    "model.add(layers.Dense(64, activation='relu', input_shape=(x_train.shape[1],)))\n",
    "model.add(layers.Dense(64, activation='relu'))\n",
    "model.add(layers.Dense(1, activation='sigmoid'))\n",
    "model.compile(optimizer='adam', loss='binary_crossentropy', metrics=['acc'])\n",
    "\n",
    "history = model.fit(x_train, y_train, epochs=5, batch_size=10,  verbose=1, validation_split=0.2)\n",
    "\n",
    "test_acc_score, test_f1_score = model.evaluate(x_test, y_test)\n",
    "\n",
    "y_train_pred = model.predict(x_train)\n",
    "y_test_pred = model.predict(x_test)\n",
    "model.summary()"
   ]
  },
  {
   "cell_type": "code",
   "execution_count": null,
   "metadata": {},
   "outputs": [],
   "source": [
    "evaluate(y_train, y_train_pred, y_test, y_test_pred, threshold=0.2)"
   ]
  },
  {
   "cell_type": "code",
   "execution_count": null,
   "metadata": {},
   "outputs": [],
   "source": [
    "y_test_pred"
   ]
  },
  {
   "cell_type": "code",
   "execution_count": null,
   "metadata": {},
   "outputs": [],
   "source": []
  }
 ],
 "metadata": {
  "jupytext": {
   "formats": "ipynb,py:light",
   "text_representation": {
    "extension": ".py",
    "format_name": "light",
    "format_version": "1.5",
    "jupytext_version": "1.7.1"
   }
  },
  "kernelspec": {
   "display_name": "Python 3",
   "language": "python",
   "name": "python3"
  },
  "language_info": {
   "codemirror_mode": {
    "name": "ipython",
    "version": 3
   },
   "file_extension": ".py",
   "mimetype": "text/x-python",
   "name": "python",
   "nbconvert_exporter": "python",
   "pygments_lexer": "ipython3",
   "version": "3.8.3"
  }
 },
 "nbformat": 4,
 "nbformat_minor": 4
}
