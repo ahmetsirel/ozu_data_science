{
 "metadata": {
  "language_info": {
   "codemirror_mode": {
    "name": "ipython",
    "version": 3
   },
   "file_extension": ".py",
   "mimetype": "text/x-python",
   "name": "python",
   "nbconvert_exporter": "python",
   "pygments_lexer": "ipython3",
   "version": "3.8.3-final"
  },
  "orig_nbformat": 2,
  "kernelspec": {
   "name": "python3",
   "display_name": "Python 3"
  }
 },
 "nbformat": 4,
 "nbformat_minor": 2,
 "cells": [
  {
   "cell_type": "code",
   "execution_count": 1,
   "metadata": {},
   "outputs": [],
   "source": [
    "import pandas as pd\n",
    "import numpy as np\n",
    "import matplotlib.pyplot as plt\n",
    "from sklearn import datasets, linear_model, svm, tree\n",
    "from sklearn.ensemble import RandomForestRegressor\n",
    "from  sklearn import metrics\n",
    "from sklearn.metrics import mean_squared_error, r2_score\n",
    "from sklearn.model_selection import train_test_split\n",
    "from sklearn.preprocessing import MinMaxScaler, StandardScaler\n"
   ]
  },
  {
   "cell_type": "code",
   "execution_count": 2,
   "metadata": {},
   "outputs": [],
   "source": [
    "data = pd.read_csv(\"communities.csv\")"
   ]
  },
  {
   "cell_type": "code",
   "execution_count": 3,
   "metadata": {},
   "outputs": [],
   "source": [
    "def prepare_data(exclude_columns):\n",
    "    data = pd.read_csv(\"communities.csv\")\n",
    "    data = data.drop(exclude_columns, axis=1)\n",
    "\n",
    "    # One hot encoding for state column.\n",
    "    data = pd.get_dummies(data, columns=[\"state\"])\n",
    "\n",
    "    x = data.drop('ViolentCrimesPerPop', axis=1)\n",
    "    \n",
    "    y = data['ViolentCrimesPerPop']\n",
    "\n",
    "    x_train, x_test, y_train, y_test = train_test_split(\n",
    "        x, y, test_size=0.25, random_state=42)\n",
    "    return x_train, x_test, y_train, y_test"
   ]
  },
  {
   "cell_type": "code",
   "execution_count": 4,
   "metadata": {},
   "outputs": [],
   "source": [
    "def scale_data(x_train, x_test, scaler=StandardScaler):\n",
    "\n",
    "    scaler = scaler()\n",
    "    scaler.fit(x_train)\n",
    "\n",
    "    x_train_scaled = scaler.transform(x_train)\n",
    "    x_train_scaled = pd.DataFrame(x_train_scaled, index=x_train.index, columns=x_train.columns)\n",
    "\n",
    "    x_test_scaled = scaler.transform(x_test)\n",
    "    x_test_scaled = pd.DataFrame(x_test_scaled, index=x_test.index, columns=x_test.columns)\n",
    "\n",
    "    x_train_scaled.fillna(x_train_scaled.mean(), inplace=True)\n",
    "    x_test_scaled.fillna(x_test_scaled.mean(), inplace=True)\n",
    "\n",
    "    return x_train_scaled, x_test_scaled\n",
    "\n"
   ]
  },
  {
   "cell_type": "code",
   "execution_count": 5,
   "metadata": {},
   "outputs": [],
   "source": [
    "def evaluate_regression(y_true_train, y_pred_train, y_true_test, y_pred_test, model_name=\"\"):   \n",
    "    return pd.DataFrame.from_records([[metrics.mean_squared_error(y_true_train, y_pred_train, squared=False),\n",
    "                                       metrics.mean_squared_error(y_true_train, y_pred_train),\n",
    "                                       metrics.mean_absolute_error(y_true_train, y_pred_train),\n",
    "                                       metrics.max_error(y_true_train, y_pred_train),\n",
    "                                       metrics.r2_score(y_true_train, y_pred_train), \n",
    "                                       metrics.mean_squared_error(y_true_test, y_pred_test,  squared=False),\n",
    "                                      metrics.mean_squared_error(y_true_test, y_pred_test),\n",
    "                                       metrics.mean_absolute_error(y_true_test, y_pred_test),\n",
    "                                       metrics.max_error(y_true_test, y_pred_test),\n",
    "                                       metrics.r2_score(y_true_test, y_pred_test)]], \n",
    "                                     \n",
    "                                     index=[model_name], \n",
    "                                     columns=['RMSE_train','mean_squared_error_train', 'mean_absolute_error_train', 'max_error_train', \"r2_score_train\",\n",
    "                                         'RMSE_test', 'mean_squared_error_test', 'mean_absolute_error_test', 'max_error_test', \"r2_score_test\"])\n"
   ]
  },
  {
   "cell_type": "code",
   "execution_count": 6,
   "metadata": {},
   "outputs": [],
   "source": [
    "x_train, x_test, y_train, y_test = prepare_data(exclude_columns=[\"county\",\n",
    "                                                                \"community\",\n",
    "                                                                \"communityname\",\n",
    "                                                                ])\n",
    "x_train, x_test = scale_data(x_train, x_test, scaler=StandardScaler)"
   ]
  },
  {
   "cell_type": "code",
   "execution_count": 7,
   "metadata": {},
   "outputs": [],
   "source": [
    "results = pd.DataFrame()\n",
    "for model in [linear_model.LinearRegression(), \n",
    "            linear_model.RidgeCV(),\n",
    "            linear_model.LassoCV(),\n",
    "            svm.SVR(kernel=\"linear\"),\n",
    "            svm.SVR(kernel=\"rbf\"),\n",
    "            svm.SVR(kernel=\"poly\"),\n",
    "            tree.DecisionTreeRegressor()]:\n",
    "    model.fit(x_train, y_train)\n",
    "\n",
    "    y_train_pred = model.predict(x_train)\n",
    "    y_test_pred = model.predict(x_test)\n",
    "\n",
    "    results = results.append(evaluate_regression(y_train, y_train_pred, y_test, y_test_pred,\n",
    "                        model_name=model))\n"
   ]
  },
  {
   "cell_type": "code",
   "execution_count": 8,
   "metadata": {},
   "outputs": [
    {
     "output_type": "execute_result",
     "data": {
      "text/plain": [
       "                                             RMSE_train  \\\n",
       "LassoCV()                                  1.279265e-01   \n",
       "RidgeCV(alphas=array([ 0.1,  1. , 10. ]))  1.199164e-01   \n",
       "SVR(kernel='linear')                       1.221549e-01   \n",
       "SVR()                                      8.488995e-02   \n",
       "SVR(kernel='poly')                         8.977506e-02   \n",
       "DecisionTreeRegressor()                    1.805790e-18   \n",
       "LinearRegression()                         1.190710e-01   \n",
       "\n",
       "                                           mean_squared_error_train  \\\n",
       "LassoCV()                                              1.636518e-02   \n",
       "RidgeCV(alphas=array([ 0.1,  1. , 10. ]))              1.437995e-02   \n",
       "SVR(kernel='linear')                                   1.492181e-02   \n",
       "SVR()                                                  7.206303e-03   \n",
       "SVR(kernel='poly')                                     8.059561e-03   \n",
       "DecisionTreeRegressor()                                3.260876e-36   \n",
       "LinearRegression()                                     1.417790e-02   \n",
       "\n",
       "                                           mean_absolute_error_train  \\\n",
       "LassoCV()                                               8.905247e-02   \n",
       "RidgeCV(alphas=array([ 0.1,  1. , 10. ]))               8.486875e-02   \n",
       "SVR(kernel='linear')                                    8.679873e-02   \n",
       "SVR()                                                   7.032034e-02   \n",
       "SVR(kernel='poly')                                      7.402678e-02   \n",
       "DecisionTreeRegressor()                                 2.019009e-19   \n",
       "LinearRegression()                                      8.474138e-02   \n",
       "\n",
       "                                           max_error_train  r2_score_train  \\\n",
       "LassoCV()                                     7.660781e-01        0.707599   \n",
       "RidgeCV(alphas=array([ 0.1,  1. , 10. ]))     7.277727e-01        0.743069   \n",
       "SVR(kernel='linear')                          7.962276e-01        0.733388   \n",
       "SVR()                                         5.556636e-01        0.871243   \n",
       "SVR(kernel='poly')                            6.079991e-01        0.855998   \n",
       "DecisionTreeRegressor()                       2.775558e-17        1.000000   \n",
       "LinearRegression()                            7.100313e-01        0.746679   \n",
       "\n",
       "                                              RMSE_test  \\\n",
       "LassoCV()                                  1.238333e-01   \n",
       "RidgeCV(alphas=array([ 0.1,  1. , 10. ]))  1.269664e-01   \n",
       "SVR(kernel='linear')                       1.302102e-01   \n",
       "SVR()                                      1.376818e-01   \n",
       "SVR(kernel='poly')                         1.480762e-01   \n",
       "DecisionTreeRegressor()                    1.943547e-01   \n",
       "LinearRegression()                         2.025307e+08   \n",
       "\n",
       "                                           mean_squared_error_test  \\\n",
       "LassoCV()                                             1.533470e-02   \n",
       "RidgeCV(alphas=array([ 0.1,  1. , 10. ]))             1.612047e-02   \n",
       "SVR(kernel='linear')                                  1.695471e-02   \n",
       "SVR()                                                 1.895628e-02   \n",
       "SVR(kernel='poly')                                    2.192657e-02   \n",
       "DecisionTreeRegressor()                               3.777375e-02   \n",
       "LinearRegression()                                    4.101870e+16   \n",
       "\n",
       "                                           mean_absolute_error_test  \\\n",
       "LassoCV()                                              8.674278e-02   \n",
       "RidgeCV(alphas=array([ 0.1,  1. , 10. ]))              9.103543e-02   \n",
       "SVR(kernel='linear')                                   9.257628e-02   \n",
       "SVR()                                                  1.010344e-01   \n",
       "SVR(kernel='poly')                                     1.066338e-01   \n",
       "DecisionTreeRegressor()                                1.307615e-01   \n",
       "LinearRegression()                                     6.537607e+07   \n",
       "\n",
       "                                           max_error_test  r2_score_test  \n",
       "LassoCV()                                    6.400473e-01   6.846289e-01  \n",
       "RidgeCV(alphas=array([ 0.1,  1. , 10. ]))    6.857531e-01   6.684688e-01  \n",
       "SVR(kernel='linear')                         6.984992e-01   6.513121e-01  \n",
       "SVR()                                        7.318555e-01   6.101480e-01  \n",
       "SVR(kernel='poly')                           8.748978e-01   5.490615e-01  \n",
       "DecisionTreeRegressor()                      8.500000e-01   2.231509e-01  \n",
       "LinearRegression()                           4.314820e+09  -8.435842e+17  "
      ],
      "text/html": "<div>\n<style scoped>\n    .dataframe tbody tr th:only-of-type {\n        vertical-align: middle;\n    }\n\n    .dataframe tbody tr th {\n        vertical-align: top;\n    }\n\n    .dataframe thead th {\n        text-align: right;\n    }\n</style>\n<table border=\"1\" class=\"dataframe\">\n  <thead>\n    <tr style=\"text-align: right;\">\n      <th></th>\n      <th>RMSE_train</th>\n      <th>mean_squared_error_train</th>\n      <th>mean_absolute_error_train</th>\n      <th>max_error_train</th>\n      <th>r2_score_train</th>\n      <th>RMSE_test</th>\n      <th>mean_squared_error_test</th>\n      <th>mean_absolute_error_test</th>\n      <th>max_error_test</th>\n      <th>r2_score_test</th>\n    </tr>\n  </thead>\n  <tbody>\n    <tr>\n      <th>LassoCV()</th>\n      <td>1.279265e-01</td>\n      <td>1.636518e-02</td>\n      <td>8.905247e-02</td>\n      <td>7.660781e-01</td>\n      <td>0.707599</td>\n      <td>1.238333e-01</td>\n      <td>1.533470e-02</td>\n      <td>8.674278e-02</td>\n      <td>6.400473e-01</td>\n      <td>6.846289e-01</td>\n    </tr>\n    <tr>\n      <th>RidgeCV(alphas=array([ 0.1,  1. , 10. ]))</th>\n      <td>1.199164e-01</td>\n      <td>1.437995e-02</td>\n      <td>8.486875e-02</td>\n      <td>7.277727e-01</td>\n      <td>0.743069</td>\n      <td>1.269664e-01</td>\n      <td>1.612047e-02</td>\n      <td>9.103543e-02</td>\n      <td>6.857531e-01</td>\n      <td>6.684688e-01</td>\n    </tr>\n    <tr>\n      <th>SVR(kernel='linear')</th>\n      <td>1.221549e-01</td>\n      <td>1.492181e-02</td>\n      <td>8.679873e-02</td>\n      <td>7.962276e-01</td>\n      <td>0.733388</td>\n      <td>1.302102e-01</td>\n      <td>1.695471e-02</td>\n      <td>9.257628e-02</td>\n      <td>6.984992e-01</td>\n      <td>6.513121e-01</td>\n    </tr>\n    <tr>\n      <th>SVR()</th>\n      <td>8.488995e-02</td>\n      <td>7.206303e-03</td>\n      <td>7.032034e-02</td>\n      <td>5.556636e-01</td>\n      <td>0.871243</td>\n      <td>1.376818e-01</td>\n      <td>1.895628e-02</td>\n      <td>1.010344e-01</td>\n      <td>7.318555e-01</td>\n      <td>6.101480e-01</td>\n    </tr>\n    <tr>\n      <th>SVR(kernel='poly')</th>\n      <td>8.977506e-02</td>\n      <td>8.059561e-03</td>\n      <td>7.402678e-02</td>\n      <td>6.079991e-01</td>\n      <td>0.855998</td>\n      <td>1.480762e-01</td>\n      <td>2.192657e-02</td>\n      <td>1.066338e-01</td>\n      <td>8.748978e-01</td>\n      <td>5.490615e-01</td>\n    </tr>\n    <tr>\n      <th>DecisionTreeRegressor()</th>\n      <td>1.805790e-18</td>\n      <td>3.260876e-36</td>\n      <td>2.019009e-19</td>\n      <td>2.775558e-17</td>\n      <td>1.000000</td>\n      <td>1.943547e-01</td>\n      <td>3.777375e-02</td>\n      <td>1.307615e-01</td>\n      <td>8.500000e-01</td>\n      <td>2.231509e-01</td>\n    </tr>\n    <tr>\n      <th>LinearRegression()</th>\n      <td>1.190710e-01</td>\n      <td>1.417790e-02</td>\n      <td>8.474138e-02</td>\n      <td>7.100313e-01</td>\n      <td>0.746679</td>\n      <td>2.025307e+08</td>\n      <td>4.101870e+16</td>\n      <td>6.537607e+07</td>\n      <td>4.314820e+09</td>\n      <td>-8.435842e+17</td>\n    </tr>\n  </tbody>\n</table>\n</div>"
     },
     "metadata": {},
     "execution_count": 8
    }
   ],
   "source": [
    "results.sort_values(\"RMSE_test\")"
   ]
  },
  {
   "cell_type": "code",
   "execution_count": 9,
   "metadata": {},
   "outputs": [
    {
     "output_type": "stream",
     "name": "stdout",
     "text": [
      "Reference RMSE 0.12383334723075583\n"
     ]
    }
   ],
   "source": [
    "print(\"Reference RMSE\", results.sort_values(\"RMSE_test\").iloc[0][\"RMSE_test\"])"
   ]
  },
  {
   "source": [
    "# Neural Network"
   ],
   "cell_type": "markdown",
   "metadata": {}
  },
  {
   "cell_type": "code",
   "execution_count": 10,
   "metadata": {},
   "outputs": [],
   "source": [
    "from keras import models\n",
    "from keras import layers\n",
    "from keras.layers import Dense\n",
    "from keras.models import Sequential\n",
    "from keras.layers import Dense"
   ]
  },
  {
   "cell_type": "code",
   "execution_count": 11,
   "metadata": {},
   "outputs": [
    {
     "output_type": "execute_result",
     "data": {
      "text/plain": [
       "(1495, 168)"
      ]
     },
     "metadata": {},
     "execution_count": 11
    }
   ],
   "source": [
    "x_train.shape"
   ]
  },
  {
   "cell_type": "code",
   "execution_count": 22,
   "metadata": {},
   "outputs": [],
   "source": [
    "import plotly.graph_objects as go\n",
    "def plot_hist(history):\n",
    "    fig = go.Figure()\n",
    "    fig.add_trace(go.Scattergl(y=history.history['loss'],\n",
    "                        name='Train'))\n",
    "    fig.add_trace(go.Scattergl(y=history.history['val_loss'],\n",
    "                        name='Valid'))\n",
    "    fig.update_layout(height=500, width=700,\n",
    "                    xaxis_title='Epoch',\n",
    "                    yaxis_title='Loss')\n",
    "    fig.show()"
   ]
  },
  {
   "cell_type": "code",
   "execution_count": 24,
   "metadata": {},
   "outputs": [],
   "source": [
    "def baseline_model():\n",
    "    model = Sequential()\n",
    "    model.add(Dense(2, input_dim=168,  activation='relu'))\n",
    "    model.add(Dense(3, activation='relu'))\n",
    "    model.add(Dense(1))\n",
    "\n",
    "    model.compile(loss='mean_squared_error', optimizer='adam')\n",
    "    model.summary()\n",
    "    \n",
    "    return model"
   ]
  },
  {
   "cell_type": "code",
   "execution_count": 38,
   "metadata": {},
   "outputs": [],
   "source": [
    "def deep_model():\n",
    "    model = Sequential()\n",
    "    model.add(Dense(12, input_dim=168,  activation='sigmoid'))\n",
    "    model.add(Dense(12, activation='sigmoid'))\n",
    "    model.add(Dense(6, activation='sigmoid'))\n",
    "    model.add(Dense(1))\n",
    "\n",
    "    model.compile(loss='mean_squared_error', optimizer='adam')\n",
    "    model.summary()\n",
    "\n",
    "    return model"
   ]
  },
  {
   "cell_type": "code",
   "execution_count": 27,
   "metadata": {},
   "outputs": [
    {
     "output_type": "stream",
     "name": "stdout",
     "text": [
      "Model: \"sequential_5\"\n_________________________________________________________________\nLayer (type)                 Output Shape              Param #   \n=================================================================\ndense_16 (Dense)             (None, 2)                 338       \n_________________________________________________________________\ndense_17 (Dense)             (None, 3)                 9         \n_________________________________________________________________\ndense_18 (Dense)             (None, 1)                 4         \n=================================================================\nTotal params: 351\nTrainable params: 351\nNon-trainable params: 0\n_________________________________________________________________\n"
     ]
    },
    {
     "output_type": "display_data",
     "data": {
      "application/vnd.plotly.v1+json": {
       "config": {
        "plotlyServerURL": "https://plot.ly"
       },
       "data": [
        {
         "name": "Train",
         "type": "scattergl",
         "y": [
          0.5182305574417114,
          0.21741768717765808,
          0.14431406557559967,
          0.10916680842638016,
          0.08864282816648483,
          0.07546287029981613,
          0.06679151207208633,
          0.06083642691373825,
          0.056475929915905,
          0.053164370357990265,
          0.05073980987071991,
          0.04887521266937256,
          0.047338638454675674,
          0.04609205573797226,
          0.04496397823095322,
          0.04399215430021286,
          0.04315663129091263,
          0.042392730712890625,
          0.04169955104589462,
          0.041014090180397034
         ]
        },
        {
         "name": "Valid",
         "type": "scattergl",
         "y": [
          0.3189551532268524,
          0.1878124177455902,
          0.1419106423854828,
          0.11797261238098145,
          0.10201908648014069,
          0.09196864068508148,
          0.08466321229934692,
          0.07970713078975677,
          0.0753956288099289,
          0.07205720245838165,
          0.06905080378055573,
          0.0665254145860672,
          0.0643082708120346,
          0.0620257668197155,
          0.059832919389009476,
          0.05781850591301918,
          0.05587849020957947,
          0.05416443943977356,
          0.05250727757811546,
          0.05091886594891548
         ]
        }
       ],
       "layout": {
        "height": 500,
        "template": {
         "data": {
          "bar": [
           {
            "error_x": {
             "color": "#2a3f5f"
            },
            "error_y": {
             "color": "#2a3f5f"
            },
            "marker": {
             "line": {
              "color": "#E5ECF6",
              "width": 0.5
             }
            },
            "type": "bar"
           }
          ],
          "barpolar": [
           {
            "marker": {
             "line": {
              "color": "#E5ECF6",
              "width": 0.5
             }
            },
            "type": "barpolar"
           }
          ],
          "carpet": [
           {
            "aaxis": {
             "endlinecolor": "#2a3f5f",
             "gridcolor": "white",
             "linecolor": "white",
             "minorgridcolor": "white",
             "startlinecolor": "#2a3f5f"
            },
            "baxis": {
             "endlinecolor": "#2a3f5f",
             "gridcolor": "white",
             "linecolor": "white",
             "minorgridcolor": "white",
             "startlinecolor": "#2a3f5f"
            },
            "type": "carpet"
           }
          ],
          "choropleth": [
           {
            "colorbar": {
             "outlinewidth": 0,
             "ticks": ""
            },
            "type": "choropleth"
           }
          ],
          "contour": [
           {
            "colorbar": {
             "outlinewidth": 0,
             "ticks": ""
            },
            "colorscale": [
             [
              0,
              "#0d0887"
             ],
             [
              0.1111111111111111,
              "#46039f"
             ],
             [
              0.2222222222222222,
              "#7201a8"
             ],
             [
              0.3333333333333333,
              "#9c179e"
             ],
             [
              0.4444444444444444,
              "#bd3786"
             ],
             [
              0.5555555555555556,
              "#d8576b"
             ],
             [
              0.6666666666666666,
              "#ed7953"
             ],
             [
              0.7777777777777778,
              "#fb9f3a"
             ],
             [
              0.8888888888888888,
              "#fdca26"
             ],
             [
              1,
              "#f0f921"
             ]
            ],
            "type": "contour"
           }
          ],
          "contourcarpet": [
           {
            "colorbar": {
             "outlinewidth": 0,
             "ticks": ""
            },
            "type": "contourcarpet"
           }
          ],
          "heatmap": [
           {
            "colorbar": {
             "outlinewidth": 0,
             "ticks": ""
            },
            "colorscale": [
             [
              0,
              "#0d0887"
             ],
             [
              0.1111111111111111,
              "#46039f"
             ],
             [
              0.2222222222222222,
              "#7201a8"
             ],
             [
              0.3333333333333333,
              "#9c179e"
             ],
             [
              0.4444444444444444,
              "#bd3786"
             ],
             [
              0.5555555555555556,
              "#d8576b"
             ],
             [
              0.6666666666666666,
              "#ed7953"
             ],
             [
              0.7777777777777778,
              "#fb9f3a"
             ],
             [
              0.8888888888888888,
              "#fdca26"
             ],
             [
              1,
              "#f0f921"
             ]
            ],
            "type": "heatmap"
           }
          ],
          "heatmapgl": [
           {
            "colorbar": {
             "outlinewidth": 0,
             "ticks": ""
            },
            "colorscale": [
             [
              0,
              "#0d0887"
             ],
             [
              0.1111111111111111,
              "#46039f"
             ],
             [
              0.2222222222222222,
              "#7201a8"
             ],
             [
              0.3333333333333333,
              "#9c179e"
             ],
             [
              0.4444444444444444,
              "#bd3786"
             ],
             [
              0.5555555555555556,
              "#d8576b"
             ],
             [
              0.6666666666666666,
              "#ed7953"
             ],
             [
              0.7777777777777778,
              "#fb9f3a"
             ],
             [
              0.8888888888888888,
              "#fdca26"
             ],
             [
              1,
              "#f0f921"
             ]
            ],
            "type": "heatmapgl"
           }
          ],
          "histogram": [
           {
            "marker": {
             "colorbar": {
              "outlinewidth": 0,
              "ticks": ""
             }
            },
            "type": "histogram"
           }
          ],
          "histogram2d": [
           {
            "colorbar": {
             "outlinewidth": 0,
             "ticks": ""
            },
            "colorscale": [
             [
              0,
              "#0d0887"
             ],
             [
              0.1111111111111111,
              "#46039f"
             ],
             [
              0.2222222222222222,
              "#7201a8"
             ],
             [
              0.3333333333333333,
              "#9c179e"
             ],
             [
              0.4444444444444444,
              "#bd3786"
             ],
             [
              0.5555555555555556,
              "#d8576b"
             ],
             [
              0.6666666666666666,
              "#ed7953"
             ],
             [
              0.7777777777777778,
              "#fb9f3a"
             ],
             [
              0.8888888888888888,
              "#fdca26"
             ],
             [
              1,
              "#f0f921"
             ]
            ],
            "type": "histogram2d"
           }
          ],
          "histogram2dcontour": [
           {
            "colorbar": {
             "outlinewidth": 0,
             "ticks": ""
            },
            "colorscale": [
             [
              0,
              "#0d0887"
             ],
             [
              0.1111111111111111,
              "#46039f"
             ],
             [
              0.2222222222222222,
              "#7201a8"
             ],
             [
              0.3333333333333333,
              "#9c179e"
             ],
             [
              0.4444444444444444,
              "#bd3786"
             ],
             [
              0.5555555555555556,
              "#d8576b"
             ],
             [
              0.6666666666666666,
              "#ed7953"
             ],
             [
              0.7777777777777778,
              "#fb9f3a"
             ],
             [
              0.8888888888888888,
              "#fdca26"
             ],
             [
              1,
              "#f0f921"
             ]
            ],
            "type": "histogram2dcontour"
           }
          ],
          "mesh3d": [
           {
            "colorbar": {
             "outlinewidth": 0,
             "ticks": ""
            },
            "type": "mesh3d"
           }
          ],
          "parcoords": [
           {
            "line": {
             "colorbar": {
              "outlinewidth": 0,
              "ticks": ""
             }
            },
            "type": "parcoords"
           }
          ],
          "pie": [
           {
            "automargin": true,
            "type": "pie"
           }
          ],
          "scatter": [
           {
            "marker": {
             "colorbar": {
              "outlinewidth": 0,
              "ticks": ""
             }
            },
            "type": "scatter"
           }
          ],
          "scatter3d": [
           {
            "line": {
             "colorbar": {
              "outlinewidth": 0,
              "ticks": ""
             }
            },
            "marker": {
             "colorbar": {
              "outlinewidth": 0,
              "ticks": ""
             }
            },
            "type": "scatter3d"
           }
          ],
          "scattercarpet": [
           {
            "marker": {
             "colorbar": {
              "outlinewidth": 0,
              "ticks": ""
             }
            },
            "type": "scattercarpet"
           }
          ],
          "scattergeo": [
           {
            "marker": {
             "colorbar": {
              "outlinewidth": 0,
              "ticks": ""
             }
            },
            "type": "scattergeo"
           }
          ],
          "scattergl": [
           {
            "marker": {
             "colorbar": {
              "outlinewidth": 0,
              "ticks": ""
             }
            },
            "type": "scattergl"
           }
          ],
          "scattermapbox": [
           {
            "marker": {
             "colorbar": {
              "outlinewidth": 0,
              "ticks": ""
             }
            },
            "type": "scattermapbox"
           }
          ],
          "scatterpolar": [
           {
            "marker": {
             "colorbar": {
              "outlinewidth": 0,
              "ticks": ""
             }
            },
            "type": "scatterpolar"
           }
          ],
          "scatterpolargl": [
           {
            "marker": {
             "colorbar": {
              "outlinewidth": 0,
              "ticks": ""
             }
            },
            "type": "scatterpolargl"
           }
          ],
          "scatterternary": [
           {
            "marker": {
             "colorbar": {
              "outlinewidth": 0,
              "ticks": ""
             }
            },
            "type": "scatterternary"
           }
          ],
          "surface": [
           {
            "colorbar": {
             "outlinewidth": 0,
             "ticks": ""
            },
            "colorscale": [
             [
              0,
              "#0d0887"
             ],
             [
              0.1111111111111111,
              "#46039f"
             ],
             [
              0.2222222222222222,
              "#7201a8"
             ],
             [
              0.3333333333333333,
              "#9c179e"
             ],
             [
              0.4444444444444444,
              "#bd3786"
             ],
             [
              0.5555555555555556,
              "#d8576b"
             ],
             [
              0.6666666666666666,
              "#ed7953"
             ],
             [
              0.7777777777777778,
              "#fb9f3a"
             ],
             [
              0.8888888888888888,
              "#fdca26"
             ],
             [
              1,
              "#f0f921"
             ]
            ],
            "type": "surface"
           }
          ],
          "table": [
           {
            "cells": {
             "fill": {
              "color": "#EBF0F8"
             },
             "line": {
              "color": "white"
             }
            },
            "header": {
             "fill": {
              "color": "#C8D4E3"
             },
             "line": {
              "color": "white"
             }
            },
            "type": "table"
           }
          ]
         },
         "layout": {
          "annotationdefaults": {
           "arrowcolor": "#2a3f5f",
           "arrowhead": 0,
           "arrowwidth": 1
          },
          "coloraxis": {
           "colorbar": {
            "outlinewidth": 0,
            "ticks": ""
           }
          },
          "colorscale": {
           "diverging": [
            [
             0,
             "#8e0152"
            ],
            [
             0.1,
             "#c51b7d"
            ],
            [
             0.2,
             "#de77ae"
            ],
            [
             0.3,
             "#f1b6da"
            ],
            [
             0.4,
             "#fde0ef"
            ],
            [
             0.5,
             "#f7f7f7"
            ],
            [
             0.6,
             "#e6f5d0"
            ],
            [
             0.7,
             "#b8e186"
            ],
            [
             0.8,
             "#7fbc41"
            ],
            [
             0.9,
             "#4d9221"
            ],
            [
             1,
             "#276419"
            ]
           ],
           "sequential": [
            [
             0,
             "#0d0887"
            ],
            [
             0.1111111111111111,
             "#46039f"
            ],
            [
             0.2222222222222222,
             "#7201a8"
            ],
            [
             0.3333333333333333,
             "#9c179e"
            ],
            [
             0.4444444444444444,
             "#bd3786"
            ],
            [
             0.5555555555555556,
             "#d8576b"
            ],
            [
             0.6666666666666666,
             "#ed7953"
            ],
            [
             0.7777777777777778,
             "#fb9f3a"
            ],
            [
             0.8888888888888888,
             "#fdca26"
            ],
            [
             1,
             "#f0f921"
            ]
           ],
           "sequentialminus": [
            [
             0,
             "#0d0887"
            ],
            [
             0.1111111111111111,
             "#46039f"
            ],
            [
             0.2222222222222222,
             "#7201a8"
            ],
            [
             0.3333333333333333,
             "#9c179e"
            ],
            [
             0.4444444444444444,
             "#bd3786"
            ],
            [
             0.5555555555555556,
             "#d8576b"
            ],
            [
             0.6666666666666666,
             "#ed7953"
            ],
            [
             0.7777777777777778,
             "#fb9f3a"
            ],
            [
             0.8888888888888888,
             "#fdca26"
            ],
            [
             1,
             "#f0f921"
            ]
           ]
          },
          "colorway": [
           "#636efa",
           "#EF553B",
           "#00cc96",
           "#ab63fa",
           "#FFA15A",
           "#19d3f3",
           "#FF6692",
           "#B6E880",
           "#FF97FF",
           "#FECB52"
          ],
          "font": {
           "color": "#2a3f5f"
          },
          "geo": {
           "bgcolor": "white",
           "lakecolor": "white",
           "landcolor": "#E5ECF6",
           "showlakes": true,
           "showland": true,
           "subunitcolor": "white"
          },
          "hoverlabel": {
           "align": "left"
          },
          "hovermode": "closest",
          "mapbox": {
           "style": "light"
          },
          "paper_bgcolor": "white",
          "plot_bgcolor": "#E5ECF6",
          "polar": {
           "angularaxis": {
            "gridcolor": "white",
            "linecolor": "white",
            "ticks": ""
           },
           "bgcolor": "#E5ECF6",
           "radialaxis": {
            "gridcolor": "white",
            "linecolor": "white",
            "ticks": ""
           }
          },
          "scene": {
           "xaxis": {
            "backgroundcolor": "#E5ECF6",
            "gridcolor": "white",
            "gridwidth": 2,
            "linecolor": "white",
            "showbackground": true,
            "ticks": "",
            "zerolinecolor": "white"
           },
           "yaxis": {
            "backgroundcolor": "#E5ECF6",
            "gridcolor": "white",
            "gridwidth": 2,
            "linecolor": "white",
            "showbackground": true,
            "ticks": "",
            "zerolinecolor": "white"
           },
           "zaxis": {
            "backgroundcolor": "#E5ECF6",
            "gridcolor": "white",
            "gridwidth": 2,
            "linecolor": "white",
            "showbackground": true,
            "ticks": "",
            "zerolinecolor": "white"
           }
          },
          "shapedefaults": {
           "line": {
            "color": "#2a3f5f"
           }
          },
          "ternary": {
           "aaxis": {
            "gridcolor": "white",
            "linecolor": "white",
            "ticks": ""
           },
           "baxis": {
            "gridcolor": "white",
            "linecolor": "white",
            "ticks": ""
           },
           "bgcolor": "#E5ECF6",
           "caxis": {
            "gridcolor": "white",
            "linecolor": "white",
            "ticks": ""
           }
          },
          "title": {
           "x": 0.05
          },
          "xaxis": {
           "automargin": true,
           "gridcolor": "white",
           "linecolor": "white",
           "ticks": "",
           "title": {
            "standoff": 15
           },
           "zerolinecolor": "white",
           "zerolinewidth": 2
          },
          "yaxis": {
           "automargin": true,
           "gridcolor": "white",
           "linecolor": "white",
           "ticks": "",
           "title": {
            "standoff": 15
           },
           "zerolinecolor": "white",
           "zerolinewidth": 2
          }
         }
        },
        "width": 700,
        "xaxis": {
         "title": {
          "text": "Epoch"
         }
        },
        "yaxis": {
         "title": {
          "text": "Loss"
         }
        }
       }
      }
     },
     "metadata": {}
    }
   ],
   "source": [
    "model = baseline_model()\n",
    "history = model.fit(x_train, y_train, epochs=20, validation_split=0.2, verbose=0)\n",
    "y_train_pred = model.predict(x_train)\n",
    "y_test_pred = model.predict(x_test)\n",
    "\n",
    "results = results.append(evaluate_regression(y_train, y_train_pred, y_test, y_test_pred,\n",
    "                        model_name=\"Keras:baseline_model 2:3:1\"))\n",
    "plot_hist(history)"
   ]
  },
  {
   "cell_type": "code",
   "execution_count": 40,
   "metadata": {},
   "outputs": [
    {
     "output_type": "stream",
     "name": "stdout",
     "text": [
      "Model: \"sequential_10\"\n_________________________________________________________________\nLayer (type)                 Output Shape              Param #   \n=================================================================\ndense_35 (Dense)             (None, 12)                2028      \n_________________________________________________________________\ndense_36 (Dense)             (None, 12)                156       \n_________________________________________________________________\ndense_37 (Dense)             (None, 6)                 78        \n_________________________________________________________________\ndense_38 (Dense)             (None, 1)                 7         \n=================================================================\nTotal params: 2,269\nTrainable params: 2,269\nNon-trainable params: 0\n_________________________________________________________________\n"
     ]
    },
    {
     "output_type": "display_data",
     "data": {
      "application/vnd.plotly.v1+json": {
       "config": {
        "plotlyServerURL": "https://plot.ly"
       },
       "data": [
        {
         "name": "Train",
         "type": "scattergl",
         "y": [
          0.059227194637060165,
          0.04535261541604996,
          0.03879820927977562,
          0.03259063884615898,
          0.027674008160829544,
          0.024284720420837402,
          0.022236350923776627,
          0.020451262593269348,
          0.019347762688994408,
          0.01825537346303463,
          0.017525583505630493,
          0.01688273623585701,
          0.01622798480093479,
          0.015681184828281403,
          0.015180708840489388,
          0.014803331345319748,
          0.014432624913752079,
          0.014000941999256611,
          0.01373808179050684,
          0.013505589216947556
         ]
        },
        {
         "name": "Valid",
         "type": "scattergl",
         "y": [
          0.046965260058641434,
          0.04080984368920326,
          0.03489791601896286,
          0.03000338189303875,
          0.026906093582510948,
          0.0252390019595623,
          0.023428134620189667,
          0.022167444229125977,
          0.021501855924725533,
          0.021301988512277603,
          0.02060389332473278,
          0.02029327116906643,
          0.01993040181696415,
          0.019312743097543716,
          0.019410932436585426,
          0.019618861377239227,
          0.01885255053639412,
          0.01860806532204151,
          0.018664583563804626,
          0.018550533801317215
         ]
        }
       ],
       "layout": {
        "height": 500,
        "template": {
         "data": {
          "bar": [
           {
            "error_x": {
             "color": "#2a3f5f"
            },
            "error_y": {
             "color": "#2a3f5f"
            },
            "marker": {
             "line": {
              "color": "#E5ECF6",
              "width": 0.5
             }
            },
            "type": "bar"
           }
          ],
          "barpolar": [
           {
            "marker": {
             "line": {
              "color": "#E5ECF6",
              "width": 0.5
             }
            },
            "type": "barpolar"
           }
          ],
          "carpet": [
           {
            "aaxis": {
             "endlinecolor": "#2a3f5f",
             "gridcolor": "white",
             "linecolor": "white",
             "minorgridcolor": "white",
             "startlinecolor": "#2a3f5f"
            },
            "baxis": {
             "endlinecolor": "#2a3f5f",
             "gridcolor": "white",
             "linecolor": "white",
             "minorgridcolor": "white",
             "startlinecolor": "#2a3f5f"
            },
            "type": "carpet"
           }
          ],
          "choropleth": [
           {
            "colorbar": {
             "outlinewidth": 0,
             "ticks": ""
            },
            "type": "choropleth"
           }
          ],
          "contour": [
           {
            "colorbar": {
             "outlinewidth": 0,
             "ticks": ""
            },
            "colorscale": [
             [
              0,
              "#0d0887"
             ],
             [
              0.1111111111111111,
              "#46039f"
             ],
             [
              0.2222222222222222,
              "#7201a8"
             ],
             [
              0.3333333333333333,
              "#9c179e"
             ],
             [
              0.4444444444444444,
              "#bd3786"
             ],
             [
              0.5555555555555556,
              "#d8576b"
             ],
             [
              0.6666666666666666,
              "#ed7953"
             ],
             [
              0.7777777777777778,
              "#fb9f3a"
             ],
             [
              0.8888888888888888,
              "#fdca26"
             ],
             [
              1,
              "#f0f921"
             ]
            ],
            "type": "contour"
           }
          ],
          "contourcarpet": [
           {
            "colorbar": {
             "outlinewidth": 0,
             "ticks": ""
            },
            "type": "contourcarpet"
           }
          ],
          "heatmap": [
           {
            "colorbar": {
             "outlinewidth": 0,
             "ticks": ""
            },
            "colorscale": [
             [
              0,
              "#0d0887"
             ],
             [
              0.1111111111111111,
              "#46039f"
             ],
             [
              0.2222222222222222,
              "#7201a8"
             ],
             [
              0.3333333333333333,
              "#9c179e"
             ],
             [
              0.4444444444444444,
              "#bd3786"
             ],
             [
              0.5555555555555556,
              "#d8576b"
             ],
             [
              0.6666666666666666,
              "#ed7953"
             ],
             [
              0.7777777777777778,
              "#fb9f3a"
             ],
             [
              0.8888888888888888,
              "#fdca26"
             ],
             [
              1,
              "#f0f921"
             ]
            ],
            "type": "heatmap"
           }
          ],
          "heatmapgl": [
           {
            "colorbar": {
             "outlinewidth": 0,
             "ticks": ""
            },
            "colorscale": [
             [
              0,
              "#0d0887"
             ],
             [
              0.1111111111111111,
              "#46039f"
             ],
             [
              0.2222222222222222,
              "#7201a8"
             ],
             [
              0.3333333333333333,
              "#9c179e"
             ],
             [
              0.4444444444444444,
              "#bd3786"
             ],
             [
              0.5555555555555556,
              "#d8576b"
             ],
             [
              0.6666666666666666,
              "#ed7953"
             ],
             [
              0.7777777777777778,
              "#fb9f3a"
             ],
             [
              0.8888888888888888,
              "#fdca26"
             ],
             [
              1,
              "#f0f921"
             ]
            ],
            "type": "heatmapgl"
           }
          ],
          "histogram": [
           {
            "marker": {
             "colorbar": {
              "outlinewidth": 0,
              "ticks": ""
             }
            },
            "type": "histogram"
           }
          ],
          "histogram2d": [
           {
            "colorbar": {
             "outlinewidth": 0,
             "ticks": ""
            },
            "colorscale": [
             [
              0,
              "#0d0887"
             ],
             [
              0.1111111111111111,
              "#46039f"
             ],
             [
              0.2222222222222222,
              "#7201a8"
             ],
             [
              0.3333333333333333,
              "#9c179e"
             ],
             [
              0.4444444444444444,
              "#bd3786"
             ],
             [
              0.5555555555555556,
              "#d8576b"
             ],
             [
              0.6666666666666666,
              "#ed7953"
             ],
             [
              0.7777777777777778,
              "#fb9f3a"
             ],
             [
              0.8888888888888888,
              "#fdca26"
             ],
             [
              1,
              "#f0f921"
             ]
            ],
            "type": "histogram2d"
           }
          ],
          "histogram2dcontour": [
           {
            "colorbar": {
             "outlinewidth": 0,
             "ticks": ""
            },
            "colorscale": [
             [
              0,
              "#0d0887"
             ],
             [
              0.1111111111111111,
              "#46039f"
             ],
             [
              0.2222222222222222,
              "#7201a8"
             ],
             [
              0.3333333333333333,
              "#9c179e"
             ],
             [
              0.4444444444444444,
              "#bd3786"
             ],
             [
              0.5555555555555556,
              "#d8576b"
             ],
             [
              0.6666666666666666,
              "#ed7953"
             ],
             [
              0.7777777777777778,
              "#fb9f3a"
             ],
             [
              0.8888888888888888,
              "#fdca26"
             ],
             [
              1,
              "#f0f921"
             ]
            ],
            "type": "histogram2dcontour"
           }
          ],
          "mesh3d": [
           {
            "colorbar": {
             "outlinewidth": 0,
             "ticks": ""
            },
            "type": "mesh3d"
           }
          ],
          "parcoords": [
           {
            "line": {
             "colorbar": {
              "outlinewidth": 0,
              "ticks": ""
             }
            },
            "type": "parcoords"
           }
          ],
          "pie": [
           {
            "automargin": true,
            "type": "pie"
           }
          ],
          "scatter": [
           {
            "marker": {
             "colorbar": {
              "outlinewidth": 0,
              "ticks": ""
             }
            },
            "type": "scatter"
           }
          ],
          "scatter3d": [
           {
            "line": {
             "colorbar": {
              "outlinewidth": 0,
              "ticks": ""
             }
            },
            "marker": {
             "colorbar": {
              "outlinewidth": 0,
              "ticks": ""
             }
            },
            "type": "scatter3d"
           }
          ],
          "scattercarpet": [
           {
            "marker": {
             "colorbar": {
              "outlinewidth": 0,
              "ticks": ""
             }
            },
            "type": "scattercarpet"
           }
          ],
          "scattergeo": [
           {
            "marker": {
             "colorbar": {
              "outlinewidth": 0,
              "ticks": ""
             }
            },
            "type": "scattergeo"
           }
          ],
          "scattergl": [
           {
            "marker": {
             "colorbar": {
              "outlinewidth": 0,
              "ticks": ""
             }
            },
            "type": "scattergl"
           }
          ],
          "scattermapbox": [
           {
            "marker": {
             "colorbar": {
              "outlinewidth": 0,
              "ticks": ""
             }
            },
            "type": "scattermapbox"
           }
          ],
          "scatterpolar": [
           {
            "marker": {
             "colorbar": {
              "outlinewidth": 0,
              "ticks": ""
             }
            },
            "type": "scatterpolar"
           }
          ],
          "scatterpolargl": [
           {
            "marker": {
             "colorbar": {
              "outlinewidth": 0,
              "ticks": ""
             }
            },
            "type": "scatterpolargl"
           }
          ],
          "scatterternary": [
           {
            "marker": {
             "colorbar": {
              "outlinewidth": 0,
              "ticks": ""
             }
            },
            "type": "scatterternary"
           }
          ],
          "surface": [
           {
            "colorbar": {
             "outlinewidth": 0,
             "ticks": ""
            },
            "colorscale": [
             [
              0,
              "#0d0887"
             ],
             [
              0.1111111111111111,
              "#46039f"
             ],
             [
              0.2222222222222222,
              "#7201a8"
             ],
             [
              0.3333333333333333,
              "#9c179e"
             ],
             [
              0.4444444444444444,
              "#bd3786"
             ],
             [
              0.5555555555555556,
              "#d8576b"
             ],
             [
              0.6666666666666666,
              "#ed7953"
             ],
             [
              0.7777777777777778,
              "#fb9f3a"
             ],
             [
              0.8888888888888888,
              "#fdca26"
             ],
             [
              1,
              "#f0f921"
             ]
            ],
            "type": "surface"
           }
          ],
          "table": [
           {
            "cells": {
             "fill": {
              "color": "#EBF0F8"
             },
             "line": {
              "color": "white"
             }
            },
            "header": {
             "fill": {
              "color": "#C8D4E3"
             },
             "line": {
              "color": "white"
             }
            },
            "type": "table"
           }
          ]
         },
         "layout": {
          "annotationdefaults": {
           "arrowcolor": "#2a3f5f",
           "arrowhead": 0,
           "arrowwidth": 1
          },
          "coloraxis": {
           "colorbar": {
            "outlinewidth": 0,
            "ticks": ""
           }
          },
          "colorscale": {
           "diverging": [
            [
             0,
             "#8e0152"
            ],
            [
             0.1,
             "#c51b7d"
            ],
            [
             0.2,
             "#de77ae"
            ],
            [
             0.3,
             "#f1b6da"
            ],
            [
             0.4,
             "#fde0ef"
            ],
            [
             0.5,
             "#f7f7f7"
            ],
            [
             0.6,
             "#e6f5d0"
            ],
            [
             0.7,
             "#b8e186"
            ],
            [
             0.8,
             "#7fbc41"
            ],
            [
             0.9,
             "#4d9221"
            ],
            [
             1,
             "#276419"
            ]
           ],
           "sequential": [
            [
             0,
             "#0d0887"
            ],
            [
             0.1111111111111111,
             "#46039f"
            ],
            [
             0.2222222222222222,
             "#7201a8"
            ],
            [
             0.3333333333333333,
             "#9c179e"
            ],
            [
             0.4444444444444444,
             "#bd3786"
            ],
            [
             0.5555555555555556,
             "#d8576b"
            ],
            [
             0.6666666666666666,
             "#ed7953"
            ],
            [
             0.7777777777777778,
             "#fb9f3a"
            ],
            [
             0.8888888888888888,
             "#fdca26"
            ],
            [
             1,
             "#f0f921"
            ]
           ],
           "sequentialminus": [
            [
             0,
             "#0d0887"
            ],
            [
             0.1111111111111111,
             "#46039f"
            ],
            [
             0.2222222222222222,
             "#7201a8"
            ],
            [
             0.3333333333333333,
             "#9c179e"
            ],
            [
             0.4444444444444444,
             "#bd3786"
            ],
            [
             0.5555555555555556,
             "#d8576b"
            ],
            [
             0.6666666666666666,
             "#ed7953"
            ],
            [
             0.7777777777777778,
             "#fb9f3a"
            ],
            [
             0.8888888888888888,
             "#fdca26"
            ],
            [
             1,
             "#f0f921"
            ]
           ]
          },
          "colorway": [
           "#636efa",
           "#EF553B",
           "#00cc96",
           "#ab63fa",
           "#FFA15A",
           "#19d3f3",
           "#FF6692",
           "#B6E880",
           "#FF97FF",
           "#FECB52"
          ],
          "font": {
           "color": "#2a3f5f"
          },
          "geo": {
           "bgcolor": "white",
           "lakecolor": "white",
           "landcolor": "#E5ECF6",
           "showlakes": true,
           "showland": true,
           "subunitcolor": "white"
          },
          "hoverlabel": {
           "align": "left"
          },
          "hovermode": "closest",
          "mapbox": {
           "style": "light"
          },
          "paper_bgcolor": "white",
          "plot_bgcolor": "#E5ECF6",
          "polar": {
           "angularaxis": {
            "gridcolor": "white",
            "linecolor": "white",
            "ticks": ""
           },
           "bgcolor": "#E5ECF6",
           "radialaxis": {
            "gridcolor": "white",
            "linecolor": "white",
            "ticks": ""
           }
          },
          "scene": {
           "xaxis": {
            "backgroundcolor": "#E5ECF6",
            "gridcolor": "white",
            "gridwidth": 2,
            "linecolor": "white",
            "showbackground": true,
            "ticks": "",
            "zerolinecolor": "white"
           },
           "yaxis": {
            "backgroundcolor": "#E5ECF6",
            "gridcolor": "white",
            "gridwidth": 2,
            "linecolor": "white",
            "showbackground": true,
            "ticks": "",
            "zerolinecolor": "white"
           },
           "zaxis": {
            "backgroundcolor": "#E5ECF6",
            "gridcolor": "white",
            "gridwidth": 2,
            "linecolor": "white",
            "showbackground": true,
            "ticks": "",
            "zerolinecolor": "white"
           }
          },
          "shapedefaults": {
           "line": {
            "color": "#2a3f5f"
           }
          },
          "ternary": {
           "aaxis": {
            "gridcolor": "white",
            "linecolor": "white",
            "ticks": ""
           },
           "baxis": {
            "gridcolor": "white",
            "linecolor": "white",
            "ticks": ""
           },
           "bgcolor": "#E5ECF6",
           "caxis": {
            "gridcolor": "white",
            "linecolor": "white",
            "ticks": ""
           }
          },
          "title": {
           "x": 0.05
          },
          "xaxis": {
           "automargin": true,
           "gridcolor": "white",
           "linecolor": "white",
           "ticks": "",
           "title": {
            "standoff": 15
           },
           "zerolinecolor": "white",
           "zerolinewidth": 2
          },
          "yaxis": {
           "automargin": true,
           "gridcolor": "white",
           "linecolor": "white",
           "ticks": "",
           "title": {
            "standoff": 15
           },
           "zerolinecolor": "white",
           "zerolinewidth": 2
          }
         }
        },
        "width": 700,
        "xaxis": {
         "title": {
          "text": "Epoch"
         }
        },
        "yaxis": {
         "title": {
          "text": "Loss"
         }
        }
       }
      }
     },
     "metadata": {}
    }
   ],
   "source": [
    "model = deep_model()\n",
    "history = model.fit(x_train, y_train, epochs=20, validation_split=0.2, verbose=0)\n",
    "y_train_pred = model.predict(x_train)\n",
    "y_test_pred = model.predict(x_test)\n",
    "\n",
    "results = results.append(evaluate_regression(y_train, y_train_pred, y_test, y_test_pred,\n",
    "                        model_name=\"Keras:deep_model 12:12:6 all_sigmoid\"))\n",
    "plot_hist(history)"
   ]
  },
  {
   "cell_type": "code",
   "execution_count": 41,
   "metadata": {},
   "outputs": [
    {
     "output_type": "execute_result",
     "data": {
      "text/plain": [
       "                                             RMSE_train  \\\n",
       "LassoCV()                                  1.279265e-01   \n",
       "Keras:deep_model 12:12:6 all_sigmoid       1.188157e-01   \n",
       "Keras:deep_model 6:12:6 sigmoid            1.192710e-01   \n",
       "RidgeCV(alphas=array([ 0.1,  1. , 10. ]))  1.199164e-01   \n",
       "Keras:deep_model 12:12:6 sigmoid           1.205101e-01   \n",
       "SVR(kernel='linear')                       1.221549e-01   \n",
       "Keras:baseline_model 2:3:1                 1.199998e-01   \n",
       "Keras:deep_model 12:12:6 sigmoid           1.090428e-01   \n",
       "SVR()                                      8.488995e-02   \n",
       "Keras:deep_model 12:12:6 sigmoid           1.447287e-01   \n",
       "SVR(kernel='poly')                         8.977506e-02   \n",
       "Keras:baseline_model                       1.493412e-01   \n",
       "Keras:baseline_model 3:6:1                 1.369241e-01   \n",
       "Keras:baseline_model 2:3:1                 2.212256e-01   \n",
       "Keras:baseline_model 2:3:1                 2.064045e-01   \n",
       "DecisionTreeRegressor()                    1.805790e-18   \n",
       "Keras:deep_model                           2.200700e-01   \n",
       "LinearRegression()                         1.190710e-01   \n",
       "\n",
       "                                           mean_squared_error_train  \\\n",
       "LassoCV()                                              1.636518e-02   \n",
       "Keras:deep_model 12:12:6 all_sigmoid                   1.411718e-02   \n",
       "Keras:deep_model 6:12:6 sigmoid                        1.422558e-02   \n",
       "RidgeCV(alphas=array([ 0.1,  1. , 10. ]))              1.437995e-02   \n",
       "Keras:deep_model 12:12:6 sigmoid                       1.452267e-02   \n",
       "SVR(kernel='linear')                                   1.492181e-02   \n",
       "Keras:baseline_model 2:3:1                             1.439994e-02   \n",
       "Keras:deep_model 12:12:6 sigmoid                       1.189034e-02   \n",
       "SVR()                                                  7.206303e-03   \n",
       "Keras:deep_model 12:12:6 sigmoid                       2.094641e-02   \n",
       "SVR(kernel='poly')                                     8.059561e-03   \n",
       "Keras:baseline_model                                   2.230281e-02   \n",
       "Keras:baseline_model 3:6:1                             1.874822e-02   \n",
       "Keras:baseline_model 2:3:1                             4.894078e-02   \n",
       "Keras:baseline_model 2:3:1                             4.260282e-02   \n",
       "DecisionTreeRegressor()                                3.260876e-36   \n",
       "Keras:deep_model                                       4.843079e-02   \n",
       "LinearRegression()                                     1.417790e-02   \n",
       "\n",
       "                                           mean_absolute_error_train  \\\n",
       "LassoCV()                                               8.905247e-02   \n",
       "Keras:deep_model 12:12:6 all_sigmoid                    7.939493e-02   \n",
       "Keras:deep_model 6:12:6 sigmoid                         8.332297e-02   \n",
       "RidgeCV(alphas=array([ 0.1,  1. , 10. ]))               8.486875e-02   \n",
       "Keras:deep_model 12:12:6 sigmoid                        8.130825e-02   \n",
       "SVR(kernel='linear')                                    8.679873e-02   \n",
       "Keras:baseline_model 2:3:1                              8.043026e-02   \n",
       "Keras:deep_model 12:12:6 sigmoid                        7.212627e-02   \n",
       "SVR()                                                   7.032034e-02   \n",
       "Keras:deep_model 12:12:6 sigmoid                        9.886027e-02   \n",
       "SVR(kernel='poly')                                      7.402678e-02   \n",
       "Keras:baseline_model                                    1.034866e-01   \n",
       "Keras:baseline_model 3:6:1                              9.603291e-02   \n",
       "Keras:baseline_model 2:3:1                              1.376649e-01   \n",
       "Keras:baseline_model 2:3:1                              1.412103e-01   \n",
       "DecisionTreeRegressor()                                 2.019009e-19   \n",
       "Keras:deep_model                                        1.568767e-01   \n",
       "LinearRegression()                                      8.474138e-02   \n",
       "\n",
       "                                           max_error_train  r2_score_train  \\\n",
       "LassoCV()                                     7.660781e-01        0.707599   \n",
       "Keras:deep_model 12:12:6 all_sigmoid          7.596041e-01        0.747764   \n",
       "Keras:deep_model 6:12:6 sigmoid               6.741686e-01        0.745827   \n",
       "RidgeCV(alphas=array([ 0.1,  1. , 10. ]))     7.277727e-01        0.743069   \n",
       "Keras:deep_model 12:12:6 sigmoid              7.107195e-01        0.740519   \n",
       "SVR(kernel='linear')                          7.962276e-01        0.733388   \n",
       "Keras:baseline_model 2:3:1                    9.231929e-01        0.742712   \n",
       "Keras:deep_model 12:12:6 sigmoid              7.301340e-01        0.787552   \n",
       "SVR()                                         5.556636e-01        0.871243   \n",
       "Keras:deep_model 12:12:6 sigmoid              7.336865e-01        0.625745   \n",
       "SVR(kernel='poly')                            6.079991e-01        0.855998   \n",
       "Keras:baseline_model                          1.741273e+00        0.601509   \n",
       "Keras:baseline_model 3:6:1                    1.020823e+00        0.665020   \n",
       "Keras:baseline_model 2:3:1                    3.878099e+00        0.125561   \n",
       "Keras:baseline_model 2:3:1                    1.915940e+00        0.238803   \n",
       "DecisionTreeRegressor()                       2.775558e-17        1.000000   \n",
       "Keras:deep_model                              7.368885e-01        0.134673   \n",
       "LinearRegression()                            7.100313e-01        0.746679   \n",
       "\n",
       "                                              RMSE_test  \\\n",
       "LassoCV()                                  1.238333e-01   \n",
       "Keras:deep_model 12:12:6 all_sigmoid       1.247719e-01   \n",
       "Keras:deep_model 6:12:6 sigmoid            1.266157e-01   \n",
       "RidgeCV(alphas=array([ 0.1,  1. , 10. ]))  1.269664e-01   \n",
       "Keras:deep_model 12:12:6 sigmoid           1.289130e-01   \n",
       "SVR(kernel='linear')                       1.302102e-01   \n",
       "Keras:baseline_model 2:3:1                 1.321630e-01   \n",
       "Keras:deep_model 12:12:6 sigmoid           1.374419e-01   \n",
       "SVR()                                      1.376818e-01   \n",
       "Keras:deep_model 12:12:6 sigmoid           1.411657e-01   \n",
       "SVR(kernel='poly')                         1.480762e-01   \n",
       "Keras:baseline_model                       1.560116e-01   \n",
       "Keras:baseline_model 3:6:1                 1.564786e-01   \n",
       "Keras:baseline_model 2:3:1                 1.868834e-01   \n",
       "Keras:baseline_model 2:3:1                 1.895423e-01   \n",
       "DecisionTreeRegressor()                    1.943547e-01   \n",
       "Keras:deep_model                           2.077510e-01   \n",
       "LinearRegression()                         2.025307e+08   \n",
       "\n",
       "                                           mean_squared_error_test  \\\n",
       "LassoCV()                                             1.533470e-02   \n",
       "Keras:deep_model 12:12:6 all_sigmoid                  1.556802e-02   \n",
       "Keras:deep_model 6:12:6 sigmoid                       1.603153e-02   \n",
       "RidgeCV(alphas=array([ 0.1,  1. , 10. ]))             1.612047e-02   \n",
       "Keras:deep_model 12:12:6 sigmoid                      1.661855e-02   \n",
       "SVR(kernel='linear')                                  1.695471e-02   \n",
       "Keras:baseline_model 2:3:1                            1.746706e-02   \n",
       "Keras:deep_model 12:12:6 sigmoid                      1.889028e-02   \n",
       "SVR()                                                 1.895628e-02   \n",
       "Keras:deep_model 12:12:6 sigmoid                      1.992776e-02   \n",
       "SVR(kernel='poly')                                    2.192657e-02   \n",
       "Keras:baseline_model                                  2.433963e-02   \n",
       "Keras:baseline_model 3:6:1                            2.448556e-02   \n",
       "Keras:baseline_model 2:3:1                            3.492540e-02   \n",
       "Keras:baseline_model 2:3:1                            3.592630e-02   \n",
       "DecisionTreeRegressor()                               3.777375e-02   \n",
       "Keras:deep_model                                      4.316050e-02   \n",
       "LinearRegression()                                    4.101870e+16   \n",
       "\n",
       "                                           mean_absolute_error_test  \\\n",
       "LassoCV()                                              8.674278e-02   \n",
       "Keras:deep_model 12:12:6 all_sigmoid                   8.515799e-02   \n",
       "Keras:deep_model 6:12:6 sigmoid                        8.971219e-02   \n",
       "RidgeCV(alphas=array([ 0.1,  1. , 10. ]))              9.103543e-02   \n",
       "Keras:deep_model 12:12:6 sigmoid                       8.870923e-02   \n",
       "SVR(kernel='linear')                                   9.257628e-02   \n",
       "Keras:baseline_model 2:3:1                             8.993189e-02   \n",
       "Keras:deep_model 12:12:6 sigmoid                       9.019274e-02   \n",
       "SVR()                                                  1.010344e-01   \n",
       "Keras:deep_model 12:12:6 sigmoid                       9.904748e-02   \n",
       "SVR(kernel='poly')                                     1.066338e-01   \n",
       "Keras:baseline_model                                   1.115709e-01   \n",
       "Keras:baseline_model 3:6:1                             1.075696e-01   \n",
       "Keras:baseline_model 2:3:1                             1.311145e-01   \n",
       "Keras:baseline_model 2:3:1                             1.381985e-01   \n",
       "DecisionTreeRegressor()                                1.307615e-01   \n",
       "Keras:deep_model                                       1.532393e-01   \n",
       "LinearRegression()                                     6.537607e+07   \n",
       "\n",
       "                                           max_error_test  r2_score_test  \n",
       "LassoCV()                                    6.400473e-01   6.846289e-01  \n",
       "Keras:deep_model 12:12:6 all_sigmoid         7.041526e-01   6.798304e-01  \n",
       "Keras:deep_model 6:12:6 sigmoid              6.515012e-01   6.702980e-01  \n",
       "RidgeCV(alphas=array([ 0.1,  1. , 10. ]))    6.857531e-01   6.684688e-01  \n",
       "Keras:deep_model 12:12:6 sigmoid             7.807262e-01   6.582254e-01  \n",
       "SVR(kernel='linear')                         6.984992e-01   6.513121e-01  \n",
       "Keras:baseline_model 2:3:1                   7.291537e-01   6.407750e-01  \n",
       "Keras:deep_model 12:12:6 sigmoid             7.862707e-01   6.115053e-01  \n",
       "SVR()                                        7.318555e-01   6.101480e-01  \n",
       "Keras:deep_model 12:12:6 sigmoid             6.363380e-01   5.901688e-01  \n",
       "SVR(kernel='poly')                           8.748978e-01   5.490615e-01  \n",
       "Keras:baseline_model                         8.029449e-01   4.994348e-01  \n",
       "Keras:baseline_model 3:6:1                   9.241133e-01   4.964336e-01  \n",
       "Keras:baseline_model 2:3:1                   7.820762e-01   2.817295e-01  \n",
       "Keras:baseline_model 2:3:1                   6.921608e-01   2.611453e-01  \n",
       "DecisionTreeRegressor()                      8.500000e-01   2.231509e-01  \n",
       "Keras:deep_model                             7.368885e-01   1.123678e-01  \n",
       "LinearRegression()                           4.314820e+09  -8.435842e+17  "
      ],
      "text/html": "<div>\n<style scoped>\n    .dataframe tbody tr th:only-of-type {\n        vertical-align: middle;\n    }\n\n    .dataframe tbody tr th {\n        vertical-align: top;\n    }\n\n    .dataframe thead th {\n        text-align: right;\n    }\n</style>\n<table border=\"1\" class=\"dataframe\">\n  <thead>\n    <tr style=\"text-align: right;\">\n      <th></th>\n      <th>RMSE_train</th>\n      <th>mean_squared_error_train</th>\n      <th>mean_absolute_error_train</th>\n      <th>max_error_train</th>\n      <th>r2_score_train</th>\n      <th>RMSE_test</th>\n      <th>mean_squared_error_test</th>\n      <th>mean_absolute_error_test</th>\n      <th>max_error_test</th>\n      <th>r2_score_test</th>\n    </tr>\n  </thead>\n  <tbody>\n    <tr>\n      <th>LassoCV()</th>\n      <td>1.279265e-01</td>\n      <td>1.636518e-02</td>\n      <td>8.905247e-02</td>\n      <td>7.660781e-01</td>\n      <td>0.707599</td>\n      <td>1.238333e-01</td>\n      <td>1.533470e-02</td>\n      <td>8.674278e-02</td>\n      <td>6.400473e-01</td>\n      <td>6.846289e-01</td>\n    </tr>\n    <tr>\n      <th>Keras:deep_model 12:12:6 all_sigmoid</th>\n      <td>1.188157e-01</td>\n      <td>1.411718e-02</td>\n      <td>7.939493e-02</td>\n      <td>7.596041e-01</td>\n      <td>0.747764</td>\n      <td>1.247719e-01</td>\n      <td>1.556802e-02</td>\n      <td>8.515799e-02</td>\n      <td>7.041526e-01</td>\n      <td>6.798304e-01</td>\n    </tr>\n    <tr>\n      <th>Keras:deep_model 6:12:6 sigmoid</th>\n      <td>1.192710e-01</td>\n      <td>1.422558e-02</td>\n      <td>8.332297e-02</td>\n      <td>6.741686e-01</td>\n      <td>0.745827</td>\n      <td>1.266157e-01</td>\n      <td>1.603153e-02</td>\n      <td>8.971219e-02</td>\n      <td>6.515012e-01</td>\n      <td>6.702980e-01</td>\n    </tr>\n    <tr>\n      <th>RidgeCV(alphas=array([ 0.1,  1. , 10. ]))</th>\n      <td>1.199164e-01</td>\n      <td>1.437995e-02</td>\n      <td>8.486875e-02</td>\n      <td>7.277727e-01</td>\n      <td>0.743069</td>\n      <td>1.269664e-01</td>\n      <td>1.612047e-02</td>\n      <td>9.103543e-02</td>\n      <td>6.857531e-01</td>\n      <td>6.684688e-01</td>\n    </tr>\n    <tr>\n      <th>Keras:deep_model 12:12:6 sigmoid</th>\n      <td>1.205101e-01</td>\n      <td>1.452267e-02</td>\n      <td>8.130825e-02</td>\n      <td>7.107195e-01</td>\n      <td>0.740519</td>\n      <td>1.289130e-01</td>\n      <td>1.661855e-02</td>\n      <td>8.870923e-02</td>\n      <td>7.807262e-01</td>\n      <td>6.582254e-01</td>\n    </tr>\n    <tr>\n      <th>SVR(kernel='linear')</th>\n      <td>1.221549e-01</td>\n      <td>1.492181e-02</td>\n      <td>8.679873e-02</td>\n      <td>7.962276e-01</td>\n      <td>0.733388</td>\n      <td>1.302102e-01</td>\n      <td>1.695471e-02</td>\n      <td>9.257628e-02</td>\n      <td>6.984992e-01</td>\n      <td>6.513121e-01</td>\n    </tr>\n    <tr>\n      <th>Keras:baseline_model 2:3:1</th>\n      <td>1.199998e-01</td>\n      <td>1.439994e-02</td>\n      <td>8.043026e-02</td>\n      <td>9.231929e-01</td>\n      <td>0.742712</td>\n      <td>1.321630e-01</td>\n      <td>1.746706e-02</td>\n      <td>8.993189e-02</td>\n      <td>7.291537e-01</td>\n      <td>6.407750e-01</td>\n    </tr>\n    <tr>\n      <th>Keras:deep_model 12:12:6 sigmoid</th>\n      <td>1.090428e-01</td>\n      <td>1.189034e-02</td>\n      <td>7.212627e-02</td>\n      <td>7.301340e-01</td>\n      <td>0.787552</td>\n      <td>1.374419e-01</td>\n      <td>1.889028e-02</td>\n      <td>9.019274e-02</td>\n      <td>7.862707e-01</td>\n      <td>6.115053e-01</td>\n    </tr>\n    <tr>\n      <th>SVR()</th>\n      <td>8.488995e-02</td>\n      <td>7.206303e-03</td>\n      <td>7.032034e-02</td>\n      <td>5.556636e-01</td>\n      <td>0.871243</td>\n      <td>1.376818e-01</td>\n      <td>1.895628e-02</td>\n      <td>1.010344e-01</td>\n      <td>7.318555e-01</td>\n      <td>6.101480e-01</td>\n    </tr>\n    <tr>\n      <th>Keras:deep_model 12:12:6 sigmoid</th>\n      <td>1.447287e-01</td>\n      <td>2.094641e-02</td>\n      <td>9.886027e-02</td>\n      <td>7.336865e-01</td>\n      <td>0.625745</td>\n      <td>1.411657e-01</td>\n      <td>1.992776e-02</td>\n      <td>9.904748e-02</td>\n      <td>6.363380e-01</td>\n      <td>5.901688e-01</td>\n    </tr>\n    <tr>\n      <th>SVR(kernel='poly')</th>\n      <td>8.977506e-02</td>\n      <td>8.059561e-03</td>\n      <td>7.402678e-02</td>\n      <td>6.079991e-01</td>\n      <td>0.855998</td>\n      <td>1.480762e-01</td>\n      <td>2.192657e-02</td>\n      <td>1.066338e-01</td>\n      <td>8.748978e-01</td>\n      <td>5.490615e-01</td>\n    </tr>\n    <tr>\n      <th>Keras:baseline_model</th>\n      <td>1.493412e-01</td>\n      <td>2.230281e-02</td>\n      <td>1.034866e-01</td>\n      <td>1.741273e+00</td>\n      <td>0.601509</td>\n      <td>1.560116e-01</td>\n      <td>2.433963e-02</td>\n      <td>1.115709e-01</td>\n      <td>8.029449e-01</td>\n      <td>4.994348e-01</td>\n    </tr>\n    <tr>\n      <th>Keras:baseline_model 3:6:1</th>\n      <td>1.369241e-01</td>\n      <td>1.874822e-02</td>\n      <td>9.603291e-02</td>\n      <td>1.020823e+00</td>\n      <td>0.665020</td>\n      <td>1.564786e-01</td>\n      <td>2.448556e-02</td>\n      <td>1.075696e-01</td>\n      <td>9.241133e-01</td>\n      <td>4.964336e-01</td>\n    </tr>\n    <tr>\n      <th>Keras:baseline_model 2:3:1</th>\n      <td>2.212256e-01</td>\n      <td>4.894078e-02</td>\n      <td>1.376649e-01</td>\n      <td>3.878099e+00</td>\n      <td>0.125561</td>\n      <td>1.868834e-01</td>\n      <td>3.492540e-02</td>\n      <td>1.311145e-01</td>\n      <td>7.820762e-01</td>\n      <td>2.817295e-01</td>\n    </tr>\n    <tr>\n      <th>Keras:baseline_model 2:3:1</th>\n      <td>2.064045e-01</td>\n      <td>4.260282e-02</td>\n      <td>1.412103e-01</td>\n      <td>1.915940e+00</td>\n      <td>0.238803</td>\n      <td>1.895423e-01</td>\n      <td>3.592630e-02</td>\n      <td>1.381985e-01</td>\n      <td>6.921608e-01</td>\n      <td>2.611453e-01</td>\n    </tr>\n    <tr>\n      <th>DecisionTreeRegressor()</th>\n      <td>1.805790e-18</td>\n      <td>3.260876e-36</td>\n      <td>2.019009e-19</td>\n      <td>2.775558e-17</td>\n      <td>1.000000</td>\n      <td>1.943547e-01</td>\n      <td>3.777375e-02</td>\n      <td>1.307615e-01</td>\n      <td>8.500000e-01</td>\n      <td>2.231509e-01</td>\n    </tr>\n    <tr>\n      <th>Keras:deep_model</th>\n      <td>2.200700e-01</td>\n      <td>4.843079e-02</td>\n      <td>1.568767e-01</td>\n      <td>7.368885e-01</td>\n      <td>0.134673</td>\n      <td>2.077510e-01</td>\n      <td>4.316050e-02</td>\n      <td>1.532393e-01</td>\n      <td>7.368885e-01</td>\n      <td>1.123678e-01</td>\n    </tr>\n    <tr>\n      <th>LinearRegression()</th>\n      <td>1.190710e-01</td>\n      <td>1.417790e-02</td>\n      <td>8.474138e-02</td>\n      <td>7.100313e-01</td>\n      <td>0.746679</td>\n      <td>2.025307e+08</td>\n      <td>4.101870e+16</td>\n      <td>6.537607e+07</td>\n      <td>4.314820e+09</td>\n      <td>-8.435842e+17</td>\n    </tr>\n  </tbody>\n</table>\n</div>"
     },
     "metadata": {},
     "execution_count": 41
    }
   ],
   "source": [
    "results.sort_values(\"RMSE_test\")"
   ]
  },
  {
   "cell_type": "code",
   "execution_count": 54,
   "metadata": {},
   "outputs": [
    {
     "output_type": "stream",
     "name": "stdout",
     "text": [
      "Best NN test RMSE 0.1247718767093575  \nReference    RMSE 0.12383334723075583\n"
     ]
    }
   ],
   "source": [
    "print(\"Best NN test RMSE\", results.loc[\"Keras:deep_model 12:12:6 all_sigmoid\", \"RMSE_test\"], \" \\nReference    RMSE 0.12383334723075583\")\n"
   ]
  },
  {
   "cell_type": "code",
   "execution_count": null,
   "metadata": {},
   "outputs": [],
   "source": []
  }
 ]
}