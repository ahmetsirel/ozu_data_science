{
 "cells": [
  {
   "cell_type": "code",
   "execution_count": 6,
   "metadata": {},
   "outputs": [],
   "source": [
    "import pandas as pd\n",
    "pd.set_option(\"display.max_rows\", 500)\n",
    "import numpy as np\n",
    "import matplotlib.pyplot as plt\n",
    "import scipy.optimize as optimize\n",
    "\n",
    "from sklearn import metrics\n",
    "from sklearn.linear_model import LinearRegression, LogisticRegression, LogisticRegressionCV"
   ]
  },
  {
   "cell_type": "code",
   "execution_count": 7,
   "metadata": {},
   "outputs": [],
   "source": [
    "data = pd.read_excel(\"Final Project Data.xlsx\", skiprows=1).drop(\"Unnamed: 10\", axis=1)"
   ]
  },
  {
   "cell_type": "code",
   "execution_count": 8,
   "metadata": {
    "lines_to_next_cell": 2
   },
   "outputs": [
    {
     "data": {
      "text/html": [
       "<div>\n",
       "<style scoped>\n",
       "    .dataframe tbody tr th:only-of-type {\n",
       "        vertical-align: middle;\n",
       "    }\n",
       "\n",
       "    .dataframe tbody tr th {\n",
       "        vertical-align: top;\n",
       "    }\n",
       "\n",
       "    .dataframe thead th {\n",
       "        text-align: right;\n",
       "    }\n",
       "</style>\n",
       "<table border=\"1\" class=\"dataframe\">\n",
       "  <thead>\n",
       "    <tr style=\"text-align: right;\">\n",
       "      <th></th>\n",
       "      <th>Customer ID</th>\n",
       "      <th>2019-1</th>\n",
       "      <th>2019-2</th>\n",
       "      <th>2019-3</th>\n",
       "      <th>2019-4</th>\n",
       "      <th>2019-5</th>\n",
       "      <th>2019-6</th>\n",
       "      <th>2019-7</th>\n",
       "      <th>2019-8</th>\n",
       "      <th>2019-9</th>\n",
       "      <th>2019-10</th>\n",
       "      <th>2019-11</th>\n",
       "      <th>2019-12</th>\n",
       "      <th>2020-1</th>\n",
       "      <th>2020-2</th>\n",
       "    </tr>\n",
       "  </thead>\n",
       "  <tbody>\n",
       "    <tr>\n",
       "      <th>0</th>\n",
       "      <td>1</td>\n",
       "      <td>1</td>\n",
       "      <td>0</td>\n",
       "      <td>0</td>\n",
       "      <td>0</td>\n",
       "      <td>0</td>\n",
       "      <td>0</td>\n",
       "      <td>0</td>\n",
       "      <td>0</td>\n",
       "      <td>0</td>\n",
       "      <td>0</td>\n",
       "      <td>0</td>\n",
       "      <td>0</td>\n",
       "      <td>0</td>\n",
       "      <td>0</td>\n",
       "    </tr>\n",
       "    <tr>\n",
       "      <th>1</th>\n",
       "      <td>2</td>\n",
       "      <td>1</td>\n",
       "      <td>0</td>\n",
       "      <td>0</td>\n",
       "      <td>0</td>\n",
       "      <td>0</td>\n",
       "      <td>0</td>\n",
       "      <td>0</td>\n",
       "      <td>0</td>\n",
       "      <td>0</td>\n",
       "      <td>0</td>\n",
       "      <td>0</td>\n",
       "      <td>0</td>\n",
       "      <td>0</td>\n",
       "      <td>0</td>\n",
       "    </tr>\n",
       "    <tr>\n",
       "      <th>2</th>\n",
       "      <td>3</td>\n",
       "      <td>1</td>\n",
       "      <td>0</td>\n",
       "      <td>0</td>\n",
       "      <td>0</td>\n",
       "      <td>0</td>\n",
       "      <td>0</td>\n",
       "      <td>0</td>\n",
       "      <td>0</td>\n",
       "      <td>0</td>\n",
       "      <td>0</td>\n",
       "      <td>0</td>\n",
       "      <td>0</td>\n",
       "      <td>0</td>\n",
       "      <td>0</td>\n",
       "    </tr>\n",
       "    <tr>\n",
       "      <th>3</th>\n",
       "      <td>4</td>\n",
       "      <td>1</td>\n",
       "      <td>0</td>\n",
       "      <td>1</td>\n",
       "      <td>0</td>\n",
       "      <td>0</td>\n",
       "      <td>0</td>\n",
       "      <td>0</td>\n",
       "      <td>0</td>\n",
       "      <td>0</td>\n",
       "      <td>0</td>\n",
       "      <td>0</td>\n",
       "      <td>0</td>\n",
       "      <td>0</td>\n",
       "      <td>0</td>\n",
       "    </tr>\n",
       "    <tr>\n",
       "      <th>4</th>\n",
       "      <td>5</td>\n",
       "      <td>1</td>\n",
       "      <td>0</td>\n",
       "      <td>1</td>\n",
       "      <td>0</td>\n",
       "      <td>0</td>\n",
       "      <td>0</td>\n",
       "      <td>1</td>\n",
       "      <td>0</td>\n",
       "      <td>0</td>\n",
       "      <td>0</td>\n",
       "      <td>0</td>\n",
       "      <td>1</td>\n",
       "      <td>0</td>\n",
       "      <td>0</td>\n",
       "    </tr>\n",
       "  </tbody>\n",
       "</table>\n",
       "</div>"
      ],
      "text/plain": [
       "   Customer ID  2019-1  2019-2  2019-3  2019-4  2019-5  2019-6  2019-7  \\\n",
       "0            1       1       0       0       0       0       0       0   \n",
       "1            2       1       0       0       0       0       0       0   \n",
       "2            3       1       0       0       0       0       0       0   \n",
       "3            4       1       0       1       0       0       0       0   \n",
       "4            5       1       0       1       0       0       0       1   \n",
       "\n",
       "   2019-8  2019-9  2019-10  2019-11  2019-12  2020-1  2020-2  \n",
       "0       0       0        0        0        0       0       0  \n",
       "1       0       0        0        0        0       0       0  \n",
       "2       0       0        0        0        0       0       0  \n",
       "3       0       0        0        0        0       0       0  \n",
       "4       0       0        0        0        1       0       0  "
      ]
     },
     "execution_count": 8,
     "metadata": {},
     "output_type": "execute_result"
    }
   ],
   "source": [
    "data.head()\n",
    "# Train Data:2019-1\t2019-2\t2019-3\t2019-4\t2019-5\t2019-6\t2019-7\t2019-8\t2019-9\n",
    "# Test Data:2019-10\t2019-11\t2019-12\t2020-1\t2020-2"
   ]
  },
  {
   "cell_type": "markdown",
   "metadata": {},
   "source": [
    "### Cohort survival rates over months"
   ]
  },
  {
   "cell_type": "code",
   "execution_count": 5,
   "metadata": {},
   "outputs": [],
   "source": [
    "survival_rates = data.drop(\"Customer ID\", axis=1).sum()\n",
    "survival_rates = pd.DataFrame(survival_rates).rename({0:\"Number of Custumer\"},axis=1)\n",
    "survival_rates[\"Survival Rate\"] = (survival_rates[\"Number of Custumer\"] / survival_rates.loc[\"2019-1\", \"Number of Custumer\"])"
   ]
  },
  {
   "cell_type": "code",
   "execution_count": 6,
   "metadata": {},
   "outputs": [],
   "source": [
    "survival_rates[\"term\"] = survival_rates[\"Number of Custumer\"].rank(ascending=False).astype(int) -1"
   ]
  },
  {
   "cell_type": "code",
   "execution_count": 7,
   "metadata": {},
   "outputs": [
    {
     "data": {
      "image/png": "[encoded data removed]",
      "text/plain": [
       "<Figure size 432x288 with 1 Axes>"
      ]
     },
     "metadata": {
      "needs_background": "light"
     },
     "output_type": "display_data"
    }
   ],
   "source": [
    "survival_rates[\"Survival Rate\"].plot(kind=\"bar\")\n",
    "plt.title(\"Survival Rates\")\n",
    "plt.show()"
   ]
  },
  {
   "cell_type": "code",
   "execution_count": 8,
   "metadata": {},
   "outputs": [],
   "source": [
    "survival_rates_all = survival_rates.copy()"
   ]
  },
  {
   "cell_type": "code",
   "execution_count": 9,
   "metadata": {},
   "outputs": [],
   "source": [
    "survival_rates = survival_rates_all[0:9]"
   ]
  },
  {
   "cell_type": "code",
   "execution_count": 10,
   "metadata": {},
   "outputs": [
    {
     "data": {
      "text/html": [
       "<div>\n",
       "<style scoped>\n",
       "    .dataframe tbody tr th:only-of-type {\n",
       "        vertical-align: middle;\n",
       "    }\n",
       "\n",
       "    .dataframe tbody tr th {\n",
       "        vertical-align: top;\n",
       "    }\n",
       "\n",
       "    .dataframe thead th {\n",
       "        text-align: right;\n",
       "    }\n",
       "</style>\n",
       "<table border=\"1\" class=\"dataframe\">\n",
       "  <thead>\n",
       "    <tr style=\"text-align: right;\">\n",
       "      <th></th>\n",
       "      <th>Number of Custumer</th>\n",
       "      <th>Survival Rate</th>\n",
       "      <th>term</th>\n",
       "    </tr>\n",
       "  </thead>\n",
       "  <tbody>\n",
       "    <tr>\n",
       "      <th>2019-1</th>\n",
       "      <td>10000</td>\n",
       "      <td>1.0000</td>\n",
       "      <td>0</td>\n",
       "    </tr>\n",
       "    <tr>\n",
       "      <th>2019-2</th>\n",
       "      <td>2521</td>\n",
       "      <td>0.2521</td>\n",
       "      <td>1</td>\n",
       "    </tr>\n",
       "    <tr>\n",
       "      <th>2019-3</th>\n",
       "      <td>2217</td>\n",
       "      <td>0.2217</td>\n",
       "      <td>2</td>\n",
       "    </tr>\n",
       "    <tr>\n",
       "      <th>2019-4</th>\n",
       "      <td>1881</td>\n",
       "      <td>0.1881</td>\n",
       "      <td>3</td>\n",
       "    </tr>\n",
       "    <tr>\n",
       "      <th>2019-5</th>\n",
       "      <td>1761</td>\n",
       "      <td>0.1761</td>\n",
       "      <td>4</td>\n",
       "    </tr>\n",
       "    <tr>\n",
       "      <th>2019-6</th>\n",
       "      <td>1659</td>\n",
       "      <td>0.1659</td>\n",
       "      <td>5</td>\n",
       "    </tr>\n",
       "    <tr>\n",
       "      <th>2019-7</th>\n",
       "      <td>1467</td>\n",
       "      <td>0.1467</td>\n",
       "      <td>6</td>\n",
       "    </tr>\n",
       "    <tr>\n",
       "      <th>2019-8</th>\n",
       "      <td>1317</td>\n",
       "      <td>0.1317</td>\n",
       "      <td>7</td>\n",
       "    </tr>\n",
       "    <tr>\n",
       "      <th>2019-9</th>\n",
       "      <td>1266</td>\n",
       "      <td>0.1266</td>\n",
       "      <td>8</td>\n",
       "    </tr>\n",
       "  </tbody>\n",
       "</table>\n",
       "</div>"
      ],
      "text/plain": [
       "        Number of Custumer  Survival Rate  term\n",
       "2019-1               10000         1.0000     0\n",
       "2019-2                2521         0.2521     1\n",
       "2019-3                2217         0.2217     2\n",
       "2019-4                1881         0.1881     3\n",
       "2019-5                1761         0.1761     4\n",
       "2019-6                1659         0.1659     5\n",
       "2019-7                1467         0.1467     6\n",
       "2019-8                1317         0.1317     7\n",
       "2019-9                1266         0.1266     8"
      ]
     },
     "execution_count": 10,
     "metadata": {},
     "output_type": "execute_result"
    }
   ],
   "source": [
    "survival_rates[0:9]"
   ]
  },
  {
   "cell_type": "code",
   "execution_count": 11,
   "metadata": {},
   "outputs": [
    {
     "data": {
      "image/png": "[encoded data removed]",
      "text/plain": [
       "<Figure size 432x288 with 1 Axes>"
      ]
     },
     "metadata": {
      "needs_background": "light"
     },
     "output_type": "display_data"
    }
   ],
   "source": [
    "X = survival_rates.term.values.reshape(-1, 1)\n",
    "y = survival_rates[\"Survival Rate\"].values\n",
    "fig = plt.figure()\n",
    "ax = fig.add_subplot(111)\n",
    "fig.subplots_adjust(top=0.85)\n",
    "#ax.set_title('axes title')\n",
    "ax.set_xlabel('Tenure (years)')\n",
    "ax.set_ylabel('% Surviving')\n",
    "ax.plot(X+1,y*100)\n",
    "ax.axvline(x=9.5, color='r', linestyle='--')\n",
    "ax.axis([0, 13, 0, 110])\n",
    "ax.set_xticks(np.arange(0, 14, 1.0))\n",
    "plt.show()"
   ]
  },
  {
   "cell_type": "markdown",
   "metadata": {},
   "source": [
    "### Linear"
   ]
  },
  {
   "cell_type": "code",
   "execution_count": 12,
   "metadata": {},
   "outputs": [
    {
     "name": "stdout",
     "output_type": "stream",
     "text": [
      "y = 0.536 + ( -0.06711666666666666 ) t\n",
      "R2: 0.438\n"
     ]
    }
   ],
   "source": [
    "X = survival_rates.term.values.reshape(-1, 1)\n",
    "y = survival_rates[\"Survival Rate\"].values\n",
    "regressor1 = LinearRegression()\n",
    "regressor1.fit(X,y)\n",
    "#model:\n",
    "print(\"y =\", round(regressor1.intercept_,3), \"+ (\" ,regressor1.coef_[0], \") t\" )\n",
    "print(\"R2:\",round(regressor1.score(X, y),3))"
   ]
  },
  {
   "cell_type": "markdown",
   "metadata": {},
   "source": [
    "### Quadratic"
   ]
  },
  {
   "cell_type": "code",
   "execution_count": 13,
   "metadata": {},
   "outputs": [],
   "source": [
    "X = np.vstack((survival_rates.term.values, survival_rates.term.values**2)).T\n",
    "y = survival_rates[\"Survival Rate\"].values"
   ]
  },
  {
   "cell_type": "code",
   "execution_count": 14,
   "metadata": {},
   "outputs": [
    {
     "name": "stdout",
     "output_type": "stream",
     "text": [
      "y = 0.756 + ( -0.255 ) t + ( 0.024 ) t2\n",
      "R2: 0.715\n"
     ]
    }
   ],
   "source": [
    "regressor2 = LinearRegression()\n",
    "regressor2.fit(X,y)\n",
    "#model:\n",
    "      \n",
    "print(f\"y = {round(regressor2.intercept_,3)} + ( {round(regressor2.coef_[0],3)} ) t + ( {round(regressor2.coef_[1],3)} ) t2\") \n",
    "print(\"R2:\",round(regressor2.score(X, y),3))\n"
   ]
  },
  {
   "cell_type": "markdown",
   "metadata": {},
   "source": [
    "### Exponantial"
   ]
  },
  {
   "cell_type": "code",
   "execution_count": 15,
   "metadata": {},
   "outputs": [],
   "source": [
    "X = survival_rates.term.values.reshape(-1, 1)\n",
    "y = np.log(survival_rates[\"Survival Rate\"].values)"
   ]
  },
  {
   "cell_type": "code",
   "execution_count": 16,
   "metadata": {},
   "outputs": [
    {
     "name": "stdout",
     "output_type": "stream",
     "text": [
      "ln(y) = -0.822 + ( -0.186 ) t\n",
      "R2: 0.655\n"
     ]
    }
   ],
   "source": [
    "regressor3 = LinearRegression()\n",
    "regressor3.fit(X,y)\n",
    "#model:\n",
    "print(\"ln(y) =\", round(regressor3.intercept_,3), \"+ (\" ,round(regressor3.coef_[0],3), \") t\" )\n",
    "print(\"R2:\",round(regressor3.score(X, y),3))"
   ]
  },
  {
   "cell_type": "markdown",
   "metadata": {},
   "source": [
    "### Model Fit\n"
   ]
  },
  {
   "cell_type": "code",
   "execution_count": 17,
   "metadata": {},
   "outputs": [
    {
     "data": {
      "image/png": "[encoded data removed]",
      "text/plain": [
       "<Figure size 432x288 with 1 Axes>"
      ]
     },
     "metadata": {
      "needs_background": "light"
     },
     "output_type": "display_data"
    }
   ],
   "source": [
    "#linear,exp input\n",
    "X = survival_rates.term.values.reshape(-1, 1)\n",
    "#quad input\n",
    "X1 = np.vstack((survival_rates.term.values, survival_rates.term.values**2)).T\n",
    "y = survival_rates[\"Survival Rate\"].values\n",
    "fig = plt.figure()\n",
    "ax = fig.add_subplot(111)\n",
    "fig.subplots_adjust(top=0.85)\n",
    "#ax.set_title('axes title')\n",
    "ax.set_xlabel('Tenure (years)')\n",
    "ax.set_ylabel('% Surviving')\n",
    "ax.axvline(x=9.5, color='r', linestyle='--')\n",
    "ax.axis([0, 13, 0, 110])\n",
    "ax.set_xticks(np.arange(0, 14, 1.0))\n",
    "#actual\n",
    "ax.plot(X+1,100*y, label=\"Actual\",linestyle='-')\n",
    "#linear\n",
    "ax.plot(X+1,100*regressor1.predict(X), label=\"Linear\", linestyle=':')\n",
    "#quad\n",
    "ax.plot(X+1,100*regressor2.predict(X1), label=\"Quadratic\", linestyle='-.')\n",
    "#exp\n",
    "ax.plot(X+1,100*np.exp(regressor3.predict(X)), label=\"Exponential\", linestyle='--')\n",
    "ax.legend(loc='best')\n",
    "plt.show()"
   ]
  },
  {
   "cell_type": "markdown",
   "metadata": {},
   "source": [
    "### Predictions"
   ]
  },
  {
   "cell_type": "code",
   "execution_count": 19,
   "metadata": {},
   "outputs": [
    {
     "data": {
      "image/png": "[encoded data removed]",
      "text/plain": [
       "<Figure size 432x288 with 1 Axes>"
      ]
     },
     "metadata": {
      "needs_background": "light"
     },
     "output_type": "display_data"
    }
   ],
   "source": [
    "#linear,exp input\n",
    "X = survival_rates_all.term.values.reshape(-1, 1)\n",
    "#quad input\n",
    "X1 = np.vstack((survival_rates_all.term.values, survival_rates_all.term.values**2)).T\n",
    "y = survival_rates_all[\"Survival Rate\"].values\n",
    "fig = plt.figure()\n",
    "ax = fig.add_subplot(111)\n",
    "fig.subplots_adjust(top=0.85)\n",
    "#ax.set_title('axes title')\n",
    "ax.set_xlabel('Tenure (years)')\n",
    "ax.set_ylabel('% Surviving')\n",
    "ax.axvline(x=9.5, color='r', linestyle='--')\n",
    "ax.axis([0, 13, 0, 110])\n",
    "ax.set_xticks(np.arange(0, 14, 1.0))\n",
    "#actual\n",
    "ax.plot(X+1,100*y, label=\"Actual\",linestyle='-')\n",
    "#linear\n",
    "ax.plot(X+1,100*regressor1.predict(X), label=\"Linear\", linestyle=':')\n",
    "#quad\n",
    "ax.plot(X+1,100*regressor2.predict(X1), label=\"Quadratic\", linestyle='-.')\n",
    "#exp\n",
    "ax.plot(X+1,100*np.exp(regressor3.predict(X)), label=\"Exponential\", linestyle='--')\n",
    "ax.legend(loc='best')\n",
    "plt.show()"
   ]
  },
  {
   "cell_type": "markdown",
   "metadata": {},
   "source": [
    "### Geometric Model\n",
    "a) assuming each year, every customer purchases with probability"
   ]
  },
  {
   "cell_type": "code",
   "execution_count": 46,
   "metadata": {},
   "outputs": [],
   "source": [
    "def GeoLL(theta,sData):\n",
    "    N=len(sData)\n",
    "    nCust=sData[\"Number of Custumer\"].values\n",
    "\n",
    "    nLost=np.zeros(N)\n",
    "    nLost[0]=0\n",
    "    for k in range(1,N):\n",
    "        nLost[k]= nCust[k-1]-nCust[k]\n",
    "\n",
    "    P_die=np.zeros(N)\n",
    "    for k in range(1,N):\n",
    "        P_die[k]= theta*((1-theta)**(k-1))\n",
    "\n",
    "    S_t=np.zeros(N)\n",
    "    S_t[0]=1\n",
    "    for k in range(1,N):\n",
    "        S_t[k]= S_t[k-1]-P_die[k]\n",
    "\n",
    "    LL=0\n",
    "    for k in range(1,N):\n",
    "        LL+= np.log(P_die[k])* nLost[k]\n",
    "    LL+=np.log(S_t[-1])* nCust[-1]\n",
    "    return -LL"
   ]
  },
  {
   "cell_type": "code",
   "execution_count": 47,
   "metadata": {},
   "outputs": [
    {
     "data": {
      "text/html": [
       "<div>\n",
       "<style scoped>\n",
       "    .dataframe tbody tr th:only-of-type {\n",
       "        vertical-align: middle;\n",
       "    }\n",
       "\n",
       "    .dataframe tbody tr th {\n",
       "        vertical-align: top;\n",
       "    }\n",
       "\n",
       "    .dataframe thead th {\n",
       "        text-align: right;\n",
       "    }\n",
       "</style>\n",
       "<table border=\"1\" class=\"dataframe\">\n",
       "  <thead>\n",
       "    <tr style=\"text-align: right;\">\n",
       "      <th></th>\n",
       "      <th>Number of Custumer</th>\n",
       "      <th>Survival Rate</th>\n",
       "      <th>term</th>\n",
       "    </tr>\n",
       "  </thead>\n",
       "  <tbody>\n",
       "    <tr>\n",
       "      <th>2019-1</th>\n",
       "      <td>10000</td>\n",
       "      <td>1.0000</td>\n",
       "      <td>0</td>\n",
       "    </tr>\n",
       "    <tr>\n",
       "      <th>2019-2</th>\n",
       "      <td>2521</td>\n",
       "      <td>0.2521</td>\n",
       "      <td>1</td>\n",
       "    </tr>\n",
       "    <tr>\n",
       "      <th>2019-3</th>\n",
       "      <td>2217</td>\n",
       "      <td>0.2217</td>\n",
       "      <td>2</td>\n",
       "    </tr>\n",
       "    <tr>\n",
       "      <th>2019-4</th>\n",
       "      <td>1881</td>\n",
       "      <td>0.1881</td>\n",
       "      <td>3</td>\n",
       "    </tr>\n",
       "    <tr>\n",
       "      <th>2019-5</th>\n",
       "      <td>1761</td>\n",
       "      <td>0.1761</td>\n",
       "      <td>4</td>\n",
       "    </tr>\n",
       "    <tr>\n",
       "      <th>2019-6</th>\n",
       "      <td>1659</td>\n",
       "      <td>0.1659</td>\n",
       "      <td>5</td>\n",
       "    </tr>\n",
       "    <tr>\n",
       "      <th>2019-7</th>\n",
       "      <td>1467</td>\n",
       "      <td>0.1467</td>\n",
       "      <td>6</td>\n",
       "    </tr>\n",
       "    <tr>\n",
       "      <th>2019-8</th>\n",
       "      <td>1317</td>\n",
       "      <td>0.1317</td>\n",
       "      <td>7</td>\n",
       "    </tr>\n",
       "    <tr>\n",
       "      <th>2019-9</th>\n",
       "      <td>1266</td>\n",
       "      <td>0.1266</td>\n",
       "      <td>8</td>\n",
       "    </tr>\n",
       "  </tbody>\n",
       "</table>\n",
       "</div>"
      ],
      "text/plain": [
       "        Number of Custumer  Survival Rate  term\n",
       "2019-1               10000         1.0000     0\n",
       "2019-2                2521         0.2521     1\n",
       "2019-3                2217         0.2217     2\n",
       "2019-4                1881         0.1881     3\n",
       "2019-5                1761         0.1761     4\n",
       "2019-6                1659         0.1659     5\n",
       "2019-7                1467         0.1467     6\n",
       "2019-8                1317         0.1317     7\n",
       "2019-9                1266         0.1266     8"
      ]
     },
     "execution_count": 47,
     "metadata": {},
     "output_type": "execute_result"
    }
   ],
   "source": [
    "survival_rates"
   ]
  },
  {
   "cell_type": "code",
   "execution_count": 62,
   "metadata": {},
   "outputs": [
    {
     "data": {
      "text/plain": [
       "array([0.38268414])"
      ]
     },
     "execution_count": 62,
     "metadata": {},
     "output_type": "execute_result"
    }
   ],
   "source": [
    "initial_guess = [0.5]\n",
    "bnds = ((0.001, 0.999),)\n",
    "res= optimize.minimize(GeoLL,initial_guess,args=(survival_rates),bounds=bnds)\n",
    "res.x"
   ]
  },
  {
   "cell_type": "code",
   "execution_count": 49,
   "metadata": {
    "lines_to_next_cell": 2
   },
   "outputs": [
    {
     "data": {
      "text/plain": [
       "array([1.        , 0.61731586, 0.38107888, 0.23524604, 0.14522111,\n",
       "       0.0896473 , 0.0553407 , 0.03416269, 0.02108917])"
      ]
     },
     "execution_count": 49,
     "metadata": {},
     "output_type": "execute_result"
    }
   ],
   "source": [
    "prob = res.x[0]\n",
    "N=9\n",
    "P_die=np.zeros(N)\n",
    "for k in range(1,N):\n",
    " P_die[k]= prob*((1-prob)**(k-1))\n",
    "S_t=np.zeros(N)\n",
    "S_t[0]=1\n",
    "for k in range(1,N):\n",
    " S_t[k]= S_t[k-1]-P_die[k]\n",
    "S_t"
   ]
  },
  {
   "cell_type": "code",
   "execution_count": 50,
   "metadata": {},
   "outputs": [
    {
     "data": {
      "image/png": "[encoded data removed]",
      "text/plain": [
       "<Figure size 432x288 with 1 Axes>"
      ]
     },
     "metadata": {
      "needs_background": "light"
     },
     "output_type": "display_data"
    }
   ],
   "source": [
    "X = survival_rates.term.values.reshape(-1, 1)\n",
    "y = survival_rates[\"Survival Rate\"].values\n",
    "fig = plt.figure()\n",
    "ax = fig.add_subplot(111)\n",
    "fig.subplots_adjust(top=0.85)\n",
    "#ax.set_title('axes title')\n",
    "ax.set_xlabel('Tenure (years)')\n",
    "ax.set_ylabel('% Surviving')\n",
    "ax.axvline(x=9.5, color='r', linestyle='--')\n",
    "ax.axis([0, 13, 0, 110])\n",
    "ax.set_xticks(np.arange(0, 14, 1.0))\n",
    "#actual\n",
    "ax.plot(X+1,100*y, label=\"Actual\",linestyle='-')\n",
    "#geo\n",
    "ax.plot(X+1,100*S_t, label=\"Geometric\", linestyle=':')\n",
    "ax.legend(loc='best')\n",
    "plt.show()"
   ]
  },
  {
   "cell_type": "code",
   "execution_count": 56,
   "metadata": {
    "lines_to_next_cell": 2
   },
   "outputs": [
    {
     "data": {
      "text/plain": [
       "array([1.        , 0.61731586, 0.38107888, 0.23524604, 0.14522111,\n",
       "       0.0896473 , 0.0553407 , 0.03416269, 0.02108917, 0.01301868,\n",
       "       0.00803664, 0.00496114, 0.00306259, 0.00189059])"
      ]
     },
     "execution_count": 56,
     "metadata": {},
     "output_type": "execute_result"
    }
   ],
   "source": [
    "prob = res.x\n",
    "N=14\n",
    "P_die=np.zeros(N)\n",
    "for k in range(1,N):\n",
    " P_die[k]= prob*((1-prob)**(k-1))\n",
    "S_t=np.zeros(N)\n",
    "S_t[0]=1\n",
    "for k in range(1,N):\n",
    " S_t[k]= S_t[k-1]-P_die[k]\n",
    "S_t"
   ]
  },
  {
   "cell_type": "code",
   "execution_count": 57,
   "metadata": {},
   "outputs": [
    {
     "data": {
      "text/html": [
       "<div>\n",
       "<style scoped>\n",
       "    .dataframe tbody tr th:only-of-type {\n",
       "        vertical-align: middle;\n",
       "    }\n",
       "\n",
       "    .dataframe tbody tr th {\n",
       "        vertical-align: top;\n",
       "    }\n",
       "\n",
       "    .dataframe thead th {\n",
       "        text-align: right;\n",
       "    }\n",
       "</style>\n",
       "<table border=\"1\" class=\"dataframe\">\n",
       "  <thead>\n",
       "    <tr style=\"text-align: right;\">\n",
       "      <th></th>\n",
       "      <th>Number of Custumer</th>\n",
       "      <th>Survival Rate</th>\n",
       "      <th>term</th>\n",
       "    </tr>\n",
       "  </thead>\n",
       "  <tbody>\n",
       "    <tr>\n",
       "      <th>2019-1</th>\n",
       "      <td>10000</td>\n",
       "      <td>1.0000</td>\n",
       "      <td>0</td>\n",
       "    </tr>\n",
       "    <tr>\n",
       "      <th>2019-2</th>\n",
       "      <td>2521</td>\n",
       "      <td>0.2521</td>\n",
       "      <td>1</td>\n",
       "    </tr>\n",
       "    <tr>\n",
       "      <th>2019-3</th>\n",
       "      <td>2217</td>\n",
       "      <td>0.2217</td>\n",
       "      <td>2</td>\n",
       "    </tr>\n",
       "    <tr>\n",
       "      <th>2019-4</th>\n",
       "      <td>1881</td>\n",
       "      <td>0.1881</td>\n",
       "      <td>3</td>\n",
       "    </tr>\n",
       "    <tr>\n",
       "      <th>2019-5</th>\n",
       "      <td>1761</td>\n",
       "      <td>0.1761</td>\n",
       "      <td>4</td>\n",
       "    </tr>\n",
       "    <tr>\n",
       "      <th>2019-6</th>\n",
       "      <td>1659</td>\n",
       "      <td>0.1659</td>\n",
       "      <td>5</td>\n",
       "    </tr>\n",
       "    <tr>\n",
       "      <th>2019-7</th>\n",
       "      <td>1467</td>\n",
       "      <td>0.1467</td>\n",
       "      <td>6</td>\n",
       "    </tr>\n",
       "    <tr>\n",
       "      <th>2019-8</th>\n",
       "      <td>1317</td>\n",
       "      <td>0.1317</td>\n",
       "      <td>7</td>\n",
       "    </tr>\n",
       "    <tr>\n",
       "      <th>2019-9</th>\n",
       "      <td>1266</td>\n",
       "      <td>0.1266</td>\n",
       "      <td>8</td>\n",
       "    </tr>\n",
       "    <tr>\n",
       "      <th>2019-10</th>\n",
       "      <td>1118</td>\n",
       "      <td>0.1118</td>\n",
       "      <td>9</td>\n",
       "    </tr>\n",
       "    <tr>\n",
       "      <th>2019-11</th>\n",
       "      <td>1022</td>\n",
       "      <td>0.1022</td>\n",
       "      <td>10</td>\n",
       "    </tr>\n",
       "    <tr>\n",
       "      <th>2019-12</th>\n",
       "      <td>1000</td>\n",
       "      <td>0.1000</td>\n",
       "      <td>11</td>\n",
       "    </tr>\n",
       "    <tr>\n",
       "      <th>2020-1</th>\n",
       "      <td>853</td>\n",
       "      <td>0.0853</td>\n",
       "      <td>12</td>\n",
       "    </tr>\n",
       "    <tr>\n",
       "      <th>2020-2</th>\n",
       "      <td>844</td>\n",
       "      <td>0.0844</td>\n",
       "      <td>13</td>\n",
       "    </tr>\n",
       "  </tbody>\n",
       "</table>\n",
       "</div>"
      ],
      "text/plain": [
       "         Number of Custumer  Survival Rate  term\n",
       "2019-1                10000         1.0000     0\n",
       "2019-2                 2521         0.2521     1\n",
       "2019-3                 2217         0.2217     2\n",
       "2019-4                 1881         0.1881     3\n",
       "2019-5                 1761         0.1761     4\n",
       "2019-6                 1659         0.1659     5\n",
       "2019-7                 1467         0.1467     6\n",
       "2019-8                 1317         0.1317     7\n",
       "2019-9                 1266         0.1266     8\n",
       "2019-10                1118         0.1118     9\n",
       "2019-11                1022         0.1022    10\n",
       "2019-12                1000         0.1000    11\n",
       "2020-1                  853         0.0853    12\n",
       "2020-2                  844         0.0844    13"
      ]
     },
     "execution_count": 57,
     "metadata": {},
     "output_type": "execute_result"
    }
   ],
   "source": [
    "survival_rates_all"
   ]
  },
  {
   "cell_type": "code",
   "execution_count": 58,
   "metadata": {},
   "outputs": [
    {
     "data": {
      "image/png": "[encoded data removed]",
      "text/plain": [
       "<Figure size 432x288 with 1 Axes>"
      ]
     },
     "metadata": {
      "needs_background": "light"
     },
     "output_type": "display_data"
    }
   ],
   "source": [
    "X = survival_rates_all.term.values.reshape(-1, 1)\n",
    "y = survival_rates_all[\"Survival Rate\"].values\n",
    "\n",
    "fig = plt.figure()\n",
    "ax = fig.add_subplot(111)\n",
    "fig.subplots_adjust(top=0.85)\n",
    "#ax.set_title('axes title')\n",
    "ax.set_xlabel('Tenure (years)')\n",
    "ax.set_ylabel('% Surviving')\n",
    "ax.axvline(x=9.5, color='r', linestyle='--')\n",
    "ax.axis([0, 13, 0, 110])\n",
    "ax.set_xticks(np.arange(0, 14, 1.0))\n",
    "#actual\n",
    "ax.plot(X+1,100*y, label=\"Actual\",linestyle='-')\n",
    "#geo\n",
    "ax.plot(X+1,100*S_t, label=\"Geometric\", linestyle=':')\n",
    "ax.legend(loc='best')\n",
    "plt.show()\n"
   ]
  },
  {
   "cell_type": "markdown",
   "metadata": {},
   "source": [
    "### Beta Geometric\n",
    "b) assuming each year customer 𝑖 purchases with probability 𝑝i"
   ]
  },
  {
   "cell_type": "code",
   "execution_count": 64,
   "metadata": {},
   "outputs": [],
   "source": [
    "def BetaGeoLL(params, sData):\n",
    "    gamma, delta= params\n",
    "    N=len(sData)\n",
    "    nCust=sData[\"Number of Custumer\"].values\n",
    "\n",
    "    nLost=np.zeros(N)\n",
    "    nLost[0]=0\n",
    "    for k in range(1,N):\n",
    "        nLost[k]= nCust[k-1]-nCust[k]\n",
    "\n",
    "    P_die=np.zeros(N)\n",
    "    P_die[1]=gamma/(gamma+delta)\n",
    "    for k in range(2,N):\n",
    "        P_die[k]= P_die[k-1]*(delta+k-2)/(gamma+delta+k-1)\n",
    "\n",
    "    S_t=np.zeros(N)\n",
    "    S_t[0]=1\n",
    "    for k in range(1,N):\n",
    "        S_t[k]= S_t[k-1]-P_die[k]\n",
    "\n",
    "    LL=0\n",
    "    for k in range(1,N):\n",
    "        LL+= np.log(P_die[k])* nLost[k]\n",
    "    LL+=np.log(S_t[-1])* nCust[-1]\n",
    "    return -LL"
   ]
  },
  {
   "cell_type": "code",
   "execution_count": 65,
   "metadata": {},
   "outputs": [
    {
     "data": {
      "text/plain": [
       "array([0.28690088, 0.09744855])"
      ]
     },
     "execution_count": 65,
     "metadata": {},
     "output_type": "execute_result"
    }
   ],
   "source": [
    "initial_guess = [1, 1]\n",
    "bnds = ((0.001, None), (0.001, None))\n",
    "res= optimize.minimize(BetaGeoLL,initial_guess,args=(survival_rates),bounds=bnds)\n",
    "res.x"
   ]
  },
  {
   "cell_type": "code",
   "execution_count": 66,
   "metadata": {},
   "outputs": [
    {
     "data": {
      "text/plain": [
       "array([1.        , 0.25354156, 0.20099608, 0.17681089, 0.16182213,\n",
       "       0.15123289, 0.14317457, 0.13674057, 0.13142785, 0.12693057,\n",
       "       0.12305001, 0.11965036, 0.11663501, 0.113933  ])"
      ]
     },
     "execution_count": 66,
     "metadata": {},
     "output_type": "execute_result"
    }
   ],
   "source": [
    "gamma, delta= res.x\n",
    "N=len(survival_rates_all)\n",
    "####\n",
    "P_die=np.zeros(N)\n",
    "P_die[1]=gamma/(gamma+delta)\n",
    "for k in range(2,N):\n",
    "    P_die[k]= P_die[k-1]*(delta+k-2)/(gamma+delta+k-1)\n",
    "####\n",
    "S_t=np.zeros(N)\n",
    "S_t[0]=1\n",
    "for k in range(1,N):\n",
    "    S_t[k]= S_t[k-1]-P_die[k]\n",
    "S_t"
   ]
  },
  {
   "cell_type": "code",
   "execution_count": 67,
   "metadata": {
    "lines_to_next_cell": 0
   },
   "outputs": [
    {
     "data": {
      "image/png": "[encoded data removed]",
      "text/plain": [
       "<Figure size 432x288 with 1 Axes>"
      ]
     },
     "metadata": {
      "needs_background": "light"
     },
     "output_type": "display_data"
    }
   ],
   "source": [
    "X = survival_rates_all.term.values.reshape(-1, 1)\n",
    "y = survival_rates_all[\"Survival Rate\"].values\n",
    "\n",
    "fig = plt.figure()\n",
    "ax = fig.add_subplot(111)\n",
    "fig.subplots_adjust(top=0.85)\n",
    "#ax.set_title('axes title')\n",
    "ax.set_xlabel('Tenure (years)')\n",
    "ax.set_ylabel('% Surviving')\n",
    "ax.axvline(x=9.5, color='r', linestyle='--')\n",
    "ax.axis([0, 13, 0, 110])\n",
    "ax.set_xticks(np.arange(0, 14, 1.0))\n",
    "#actual\n",
    "ax.plot(X+1,100*y, label=\"Actual\",linestyle='-')\n",
    "#geo\n",
    "ax.plot(X+1,100*S_t, label=\"BetaGeometric\", linestyle=':')\n",
    "ax.legend(loc='best')\n",
    "plt.show()"
   ]
  },
  {
   "cell_type": "markdown",
   "metadata": {},
   "source": [
    "### Pareto NBD\n",
    "d) assuming each year customer purchases with probability 𝑝𝑖 and churns with probability 𝜃𝑖"
   ]
  },
  {
   "cell_type": "code",
   "execution_count": 3,
   "metadata": {},
   "outputs": [],
   "source": [
    "import lifetimes"
   ]
  },
  {
   "cell_type": "code",
   "execution_count": 13,
   "metadata": {},
   "outputs": [],
   "source": [
    "data_melt = data.melt( id_vars=[\"Customer ID\"], \n",
    "          var_name=\"Month\",\n",
    "          value_name='trx_flag',)\n",
    "data_melt[\"Month\"] = pd.to_datetime(data_melt[\"Month\"])\n",
    "data_melt = data_melt.sort_values([\"Customer ID\",\"Month\"], ascending=[True, True])"
   ]
  },
  {
   "cell_type": "code",
   "execution_count": 28,
   "metadata": {},
   "outputs": [
    {
     "data": {
      "text/html": [
       "<div>\n",
       "<style scoped>\n",
       "    .dataframe tbody tr th:only-of-type {\n",
       "        vertical-align: middle;\n",
       "    }\n",
       "\n",
       "    .dataframe tbody tr th {\n",
       "        vertical-align: top;\n",
       "    }\n",
       "\n",
       "    .dataframe thead th {\n",
       "        text-align: right;\n",
       "    }\n",
       "</style>\n",
       "<table border=\"1\" class=\"dataframe\">\n",
       "  <thead>\n",
       "    <tr style=\"text-align: right;\">\n",
       "      <th></th>\n",
       "      <th>Customer ID</th>\n",
       "      <th>Month</th>\n",
       "      <th>trx_flag</th>\n",
       "    </tr>\n",
       "  </thead>\n",
       "  <tbody>\n",
       "    <tr>\n",
       "      <th>0</th>\n",
       "      <td>1</td>\n",
       "      <td>2019-01-01</td>\n",
       "      <td>1</td>\n",
       "    </tr>\n",
       "    <tr>\n",
       "      <th>10000</th>\n",
       "      <td>1</td>\n",
       "      <td>2019-02-01</td>\n",
       "      <td>0</td>\n",
       "    </tr>\n",
       "    <tr>\n",
       "      <th>20000</th>\n",
       "      <td>1</td>\n",
       "      <td>2019-03-01</td>\n",
       "      <td>0</td>\n",
       "    </tr>\n",
       "    <tr>\n",
       "      <th>30000</th>\n",
       "      <td>1</td>\n",
       "      <td>2019-04-01</td>\n",
       "      <td>0</td>\n",
       "    </tr>\n",
       "    <tr>\n",
       "      <th>40000</th>\n",
       "      <td>1</td>\n",
       "      <td>2019-05-01</td>\n",
       "      <td>0</td>\n",
       "    </tr>\n",
       "    <tr>\n",
       "      <th>...</th>\n",
       "      <td>...</td>\n",
       "      <td>...</td>\n",
       "      <td>...</td>\n",
       "    </tr>\n",
       "    <tr>\n",
       "      <th>99999</th>\n",
       "      <td>10000</td>\n",
       "      <td>2019-10-01</td>\n",
       "      <td>1</td>\n",
       "    </tr>\n",
       "    <tr>\n",
       "      <th>109999</th>\n",
       "      <td>10000</td>\n",
       "      <td>2019-11-01</td>\n",
       "      <td>0</td>\n",
       "    </tr>\n",
       "    <tr>\n",
       "      <th>119999</th>\n",
       "      <td>10000</td>\n",
       "      <td>2019-12-01</td>\n",
       "      <td>0</td>\n",
       "    </tr>\n",
       "    <tr>\n",
       "      <th>129999</th>\n",
       "      <td>10000</td>\n",
       "      <td>2020-01-01</td>\n",
       "      <td>0</td>\n",
       "    </tr>\n",
       "    <tr>\n",
       "      <th>139999</th>\n",
       "      <td>10000</td>\n",
       "      <td>2020-02-01</td>\n",
       "      <td>1</td>\n",
       "    </tr>\n",
       "  </tbody>\n",
       "</table>\n",
       "<p>140000 rows × 3 columns</p>\n",
       "</div>"
      ],
      "text/plain": [
       "        Customer ID      Month  trx_flag\n",
       "0                 1 2019-01-01         1\n",
       "10000             1 2019-02-01         0\n",
       "20000             1 2019-03-01         0\n",
       "30000             1 2019-04-01         0\n",
       "40000             1 2019-05-01         0\n",
       "...             ...        ...       ...\n",
       "99999         10000 2019-10-01         1\n",
       "109999        10000 2019-11-01         0\n",
       "119999        10000 2019-12-01         0\n",
       "129999        10000 2020-01-01         0\n",
       "139999        10000 2020-02-01         1\n",
       "\n",
       "[140000 rows x 3 columns]"
      ]
     },
     "execution_count": 28,
     "metadata": {},
     "output_type": "execute_result"
    }
   ],
   "source": [
    "data_melt"
   ]
  },
  {
   "cell_type": "code",
   "execution_count": 37,
   "metadata": {},
   "outputs": [],
   "source": [
    "trx_data = data_melt[data_melt.trx_flag==1].drop(\"trx_flag\", axis=1)\n",
    "summary = lifetimes.utils.summary_data_from_transaction_data(trx_data,\n",
    "                                                   customer_id_col=\"Customer ID\",\n",
    "                                                  datetime_col=\"Month\",\n",
    "                                                             freq='M')\n"
   ]
  },
  {
   "cell_type": "code",
   "execution_count": 38,
   "metadata": {},
   "outputs": [
    {
     "data": {
      "text/html": [
       "<div>\n",
       "<style scoped>\n",
       "    .dataframe tbody tr th:only-of-type {\n",
       "        vertical-align: middle;\n",
       "    }\n",
       "\n",
       "    .dataframe tbody tr th {\n",
       "        vertical-align: top;\n",
       "    }\n",
       "\n",
       "    .dataframe thead th {\n",
       "        text-align: right;\n",
       "    }\n",
       "</style>\n",
       "<table border=\"1\" class=\"dataframe\">\n",
       "  <thead>\n",
       "    <tr style=\"text-align: right;\">\n",
       "      <th></th>\n",
       "      <th>frequency</th>\n",
       "      <th>recency</th>\n",
       "      <th>T</th>\n",
       "    </tr>\n",
       "    <tr>\n",
       "      <th>Customer ID</th>\n",
       "      <th></th>\n",
       "      <th></th>\n",
       "      <th></th>\n",
       "    </tr>\n",
       "  </thead>\n",
       "  <tbody>\n",
       "    <tr>\n",
       "      <th>1</th>\n",
       "      <td>0.0</td>\n",
       "      <td>0.000000</td>\n",
       "      <td>13.010534</td>\n",
       "    </tr>\n",
       "    <tr>\n",
       "      <th>2</th>\n",
       "      <td>0.0</td>\n",
       "      <td>0.000000</td>\n",
       "      <td>13.010534</td>\n",
       "    </tr>\n",
       "    <tr>\n",
       "      <th>3</th>\n",
       "      <td>0.0</td>\n",
       "      <td>0.000000</td>\n",
       "      <td>13.010534</td>\n",
       "    </tr>\n",
       "    <tr>\n",
       "      <th>4</th>\n",
       "      <td>1.0</td>\n",
       "      <td>1.938438</td>\n",
       "      <td>13.010534</td>\n",
       "    </tr>\n",
       "    <tr>\n",
       "      <th>5</th>\n",
       "      <td>3.0</td>\n",
       "      <td>10.973531</td>\n",
       "      <td>13.010534</td>\n",
       "    </tr>\n",
       "    <tr>\n",
       "      <th>...</th>\n",
       "      <td>...</td>\n",
       "      <td>...</td>\n",
       "      <td>...</td>\n",
       "    </tr>\n",
       "    <tr>\n",
       "      <th>9996</th>\n",
       "      <td>2.0</td>\n",
       "      <td>5.946734</td>\n",
       "      <td>13.010534</td>\n",
       "    </tr>\n",
       "    <tr>\n",
       "      <th>9997</th>\n",
       "      <td>1.0</td>\n",
       "      <td>1.018501</td>\n",
       "      <td>13.010534</td>\n",
       "    </tr>\n",
       "    <tr>\n",
       "      <th>9998</th>\n",
       "      <td>1.0</td>\n",
       "      <td>4.961087</td>\n",
       "      <td>13.010534</td>\n",
       "    </tr>\n",
       "    <tr>\n",
       "      <th>9999</th>\n",
       "      <td>1.0</td>\n",
       "      <td>1.018501</td>\n",
       "      <td>13.010534</td>\n",
       "    </tr>\n",
       "    <tr>\n",
       "      <th>10000</th>\n",
       "      <td>3.0</td>\n",
       "      <td>13.010534</td>\n",
       "      <td>13.010534</td>\n",
       "    </tr>\n",
       "  </tbody>\n",
       "</table>\n",
       "<p>10000 rows × 3 columns</p>\n",
       "</div>"
      ],
      "text/plain": [
       "             frequency    recency          T\n",
       "Customer ID                                 \n",
       "1                  0.0   0.000000  13.010534\n",
       "2                  0.0   0.000000  13.010534\n",
       "3                  0.0   0.000000  13.010534\n",
       "4                  1.0   1.938438  13.010534\n",
       "5                  3.0  10.973531  13.010534\n",
       "...                ...        ...        ...\n",
       "9996               2.0   5.946734  13.010534\n",
       "9997               1.0   1.018501  13.010534\n",
       "9998               1.0   4.961087  13.010534\n",
       "9999               1.0   1.018501  13.010534\n",
       "10000              3.0  13.010534  13.010534\n",
       "\n",
       "[10000 rows x 3 columns]"
      ]
     },
     "execution_count": 38,
     "metadata": {},
     "output_type": "execute_result"
    }
   ],
   "source": [
    "summary"
   ]
  },
  {
   "cell_type": "code",
   "execution_count": 39,
   "metadata": {},
   "outputs": [],
   "source": [
    "nbd = lifetimes.ParetoNBDFitter(penalizer_coef=0.0)"
   ]
  },
  {
   "cell_type": "code",
   "execution_count": 40,
   "metadata": {
    "lines_to_next_cell": 2
   },
   "outputs": [
    {
     "data": {
      "text/plain": [
       "<lifetimes.ParetoNBDFitter: fitted with 10000 subjects, alpha: 20.44, beta: 6.89, r: 4.88, s: 0.87>"
      ]
     },
     "execution_count": 40,
     "metadata": {},
     "output_type": "execute_result"
    }
   ],
   "source": [
    "nbd.fit(summary[\"frequency\"], summary[\"recency\"], summary[\"T\"] )"
   ]
  },
  {
   "cell_type": "code",
   "execution_count": 41,
   "metadata": {},
   "outputs": [
    {
     "data": {
      "text/plain": [
       "<lifetimes.ParetoNBDFitter: fitted with 10000 subjects, alpha: 20.44, beta: 6.89, r: 4.88, s: 0.87>"
      ]
     },
     "execution_count": 41,
     "metadata": {},
     "output_type": "execute_result"
    }
   ],
   "source": [
    "nbd"
   ]
  },
  {
   "cell_type": "code",
   "execution_count": 49,
   "metadata": {},
   "outputs": [],
   "source": [
    "from lifetimes.plotting import plot_period_transactions"
   ]
  },
  {
   "cell_type": "code",
   "execution_count": 52,
   "metadata": {},
   "outputs": [
    {
     "data": {
      "text/plain": [
       "<matplotlib.axes._subplots.AxesSubplot at 0x1ee724deb20>"
      ]
     },
     "execution_count": 52,
     "metadata": {},
     "output_type": "execute_result"
    },
    {
     "data": {
      "image/png": "[encoded data removed]",
      "text/plain": [
       "<Figure size 432x288 with 1 Axes>"
      ]
     },
     "metadata": {
      "needs_background": "light"
     },
     "output_type": "display_data"
    }
   ],
   "source": [
    "plot_period_transactions(nbd, max_frequency=13)"
   ]
  },
  {
   "cell_type": "markdown",
   "metadata": {},
   "source": [
    "### Cohort retention rates over months\n"
   ]
  },
  {
   "cell_type": "code",
   "execution_count": 7,
   "metadata": {},
   "outputs": [],
   "source": [
    "retention_rate = data.drop(\"Customer ID\", axis=1).sum()\n",
    "retention_rate = pd.DataFrame(retention_rate).rename({0:\"Number of Custumer\"},axis=1)\n",
    "retention_rate[\"Retention Rate\"] = (retention_rate[\"Number of Custumer\"] / retention_rate[\"Number of Custumer\"].shift(1))"
   ]
  },
  {
   "cell_type": "code",
   "execution_count": 8,
   "metadata": {},
   "outputs": [
    {
     "data": {
      "text/html": [
       "<div>\n",
       "<style scoped>\n",
       "    .dataframe tbody tr th:only-of-type {\n",
       "        vertical-align: middle;\n",
       "    }\n",
       "\n",
       "    .dataframe tbody tr th {\n",
       "        vertical-align: top;\n",
       "    }\n",
       "\n",
       "    .dataframe thead th {\n",
       "        text-align: right;\n",
       "    }\n",
       "</style>\n",
       "<table border=\"1\" class=\"dataframe\">\n",
       "  <thead>\n",
       "    <tr style=\"text-align: right;\">\n",
       "      <th></th>\n",
       "      <th>Number of Custumer</th>\n",
       "      <th>Retention Rate</th>\n",
       "    </tr>\n",
       "  </thead>\n",
       "  <tbody>\n",
       "    <tr>\n",
       "      <th>2019-1</th>\n",
       "      <td>10000</td>\n",
       "      <td>NaN</td>\n",
       "    </tr>\n",
       "    <tr>\n",
       "      <th>2019-2</th>\n",
       "      <td>2521</td>\n",
       "      <td>0.252100</td>\n",
       "    </tr>\n",
       "    <tr>\n",
       "      <th>2019-3</th>\n",
       "      <td>2217</td>\n",
       "      <td>0.879413</td>\n",
       "    </tr>\n",
       "    <tr>\n",
       "      <th>2019-4</th>\n",
       "      <td>1881</td>\n",
       "      <td>0.848444</td>\n",
       "    </tr>\n",
       "    <tr>\n",
       "      <th>2019-5</th>\n",
       "      <td>1761</td>\n",
       "      <td>0.936204</td>\n",
       "    </tr>\n",
       "    <tr>\n",
       "      <th>2019-6</th>\n",
       "      <td>1659</td>\n",
       "      <td>0.942078</td>\n",
       "    </tr>\n",
       "    <tr>\n",
       "      <th>2019-7</th>\n",
       "      <td>1467</td>\n",
       "      <td>0.884268</td>\n",
       "    </tr>\n",
       "    <tr>\n",
       "      <th>2019-8</th>\n",
       "      <td>1317</td>\n",
       "      <td>0.897751</td>\n",
       "    </tr>\n",
       "    <tr>\n",
       "      <th>2019-9</th>\n",
       "      <td>1266</td>\n",
       "      <td>0.961276</td>\n",
       "    </tr>\n",
       "    <tr>\n",
       "      <th>2019-10</th>\n",
       "      <td>1118</td>\n",
       "      <td>0.883096</td>\n",
       "    </tr>\n",
       "    <tr>\n",
       "      <th>2019-11</th>\n",
       "      <td>1022</td>\n",
       "      <td>0.914132</td>\n",
       "    </tr>\n",
       "    <tr>\n",
       "      <th>2019-12</th>\n",
       "      <td>1000</td>\n",
       "      <td>0.978474</td>\n",
       "    </tr>\n",
       "    <tr>\n",
       "      <th>2020-1</th>\n",
       "      <td>853</td>\n",
       "      <td>0.853000</td>\n",
       "    </tr>\n",
       "    <tr>\n",
       "      <th>2020-2</th>\n",
       "      <td>844</td>\n",
       "      <td>0.989449</td>\n",
       "    </tr>\n",
       "  </tbody>\n",
       "</table>\n",
       "</div>"
      ],
      "text/plain": [
       "         Number of Custumer  Retention Rate\n",
       "2019-1                10000             NaN\n",
       "2019-2                 2521        0.252100\n",
       "2019-3                 2217        0.879413\n",
       "2019-4                 1881        0.848444\n",
       "2019-5                 1761        0.936204\n",
       "2019-6                 1659        0.942078\n",
       "2019-7                 1467        0.884268\n",
       "2019-8                 1317        0.897751\n",
       "2019-9                 1266        0.961276\n",
       "2019-10                1118        0.883096\n",
       "2019-11                1022        0.914132\n",
       "2019-12                1000        0.978474\n",
       "2020-1                  853        0.853000\n",
       "2020-2                  844        0.989449"
      ]
     },
     "execution_count": 8,
     "metadata": {},
     "output_type": "execute_result"
    }
   ],
   "source": [
    "retention_rate"
   ]
  },
  {
   "cell_type": "code",
   "execution_count": 9,
   "metadata": {},
   "outputs": [
    {
     "data": {
      "image/png": "[encoded data removed]",
      "text/plain": [
       "<Figure size 432x288 with 1 Axes>"
      ]
     },
     "metadata": {
      "needs_background": "light"
     },
     "output_type": "display_data"
    }
   ],
   "source": [
    "retention_rate[\"Retention Rate\"].plot()\n",
    "plt.title(\"Retention Rate\")\n",
    "plt.show()"
   ]
  },
  {
   "cell_type": "markdown",
   "metadata": {},
   "source": [
    "## Prediction of total number of transactions per month"
   ]
  },
  {
   "cell_type": "code",
   "execution_count": 10,
   "metadata": {},
   "outputs": [],
   "source": [
    "monthly = data.drop(\"Customer ID\", axis=1).sum()\n",
    "mothly_train = monthly.iloc[0:9]\n",
    "mothly_test = monthly.iloc[9:]"
   ]
  },
  {
   "cell_type": "code",
   "execution_count": 11,
   "metadata": {},
   "outputs": [],
   "source": [
    "mothly_train_retention = pd.DataFrame(mothly_train).rename({0:\"Number of Custumer\"},axis=1)\n",
    "mothly_train_retention[\"Retention Rate\"] = (mothly_train_retention[\"Number of Custumer\"] / mothly_train_retention[\"Number of Custumer\"].shift(1))"
   ]
  },
  {
   "cell_type": "code",
   "execution_count": 12,
   "metadata": {},
   "outputs": [],
   "source": [
    "last_three_month_avg_retention = mothly_train_retention[-3:][\"Retention Rate\"].mean()"
   ]
  },
  {
   "cell_type": "code",
   "execution_count": 13,
   "metadata": {},
   "outputs": [],
   "source": [
    "pred = pd.concat([pd.DataFrame(mothly_train, columns=[\"train\"]), \n",
    "           pd.DataFrame(mothly_test, columns=[\"test\"]) ])\n",
    "pred = pred.fillna(0)"
   ]
  },
  {
   "cell_type": "code",
   "execution_count": 14,
   "metadata": {},
   "outputs": [],
   "source": [
    "for row in range(len(pred)):\n",
    "    if pred.iloc[row, 0] == 0:\n",
    "        pred.iloc[row, 0] = pred.iloc[row -1, 0] * last_three_month_avg_retention"
   ]
  },
  {
   "cell_type": "code",
   "execution_count": 15,
   "metadata": {},
   "outputs": [],
   "source": [
    "pred = pred[9:]"
   ]
  },
  {
   "cell_type": "code",
   "execution_count": 16,
   "metadata": {},
   "outputs": [
    {
     "data": {
      "text/plain": [
       "1233.3089298776017"
      ]
     },
     "execution_count": 16,
     "metadata": {},
     "output_type": "execute_result"
    }
   ],
   "source": [
    "metrics.mean_squared_error(pred.test, pred.train)"
   ]
  },
  {
   "cell_type": "code",
   "execution_count": 167,
   "metadata": {},
   "outputs": [],
   "source": [
    "def mean_absolute_percentage_error(y_true, y_pred):\n",
    "    return np.mean(np.abs(y_true - y_pred) / y_true)"
   ]
  },
  {
   "cell_type": "code",
   "execution_count": 20,
   "metadata": {},
   "outputs": [
    {
     "data": {
      "text/plain": [
       "0.036391585040894826"
      ]
     },
     "execution_count": 20,
     "metadata": {},
     "output_type": "execute_result"
    }
   ],
   "source": [
    "mean_absolute_percentage_error(pred.test, pred.train)"
   ]
  },
  {
   "cell_type": "markdown",
   "metadata": {},
   "source": [
    "**Benchmark MSE: 1233, MAPE:0.036**"
   ]
  },
  {
   "cell_type": "markdown",
   "metadata": {},
   "source": [
    "## Prediction of cumulative transactions (over months)"
   ]
  },
  {
   "cell_type": "code",
   "execution_count": 32,
   "metadata": {},
   "outputs": [
    {
     "data": {
      "text/plain": [
       "train    4878.946372\n",
       "test     4837.000000\n",
       "dtype: float64"
      ]
     },
     "execution_count": 32,
     "metadata": {},
     "output_type": "execute_result"
    }
   ],
   "source": [
    "pred.sum()"
   ]
  },
  {
   "cell_type": "code",
   "execution_count": 31,
   "metadata": {},
   "outputs": [
    {
     "data": {
      "text/plain": [
       "41.94637158778005"
      ]
     },
     "execution_count": 31,
     "metadata": {},
     "output_type": "execute_result"
    }
   ],
   "source": [
    "pred.sum().train - pred.sum().test"
   ]
  },
  {
   "cell_type": "code",
   "execution_count": 28,
   "metadata": {},
   "outputs": [
    {
     "data": {
      "text/plain": [
       "1759.4980893801214"
      ]
     },
     "execution_count": 28,
     "metadata": {},
     "output_type": "execute_result"
    }
   ],
   "source": [
    "np.power((pred.sum().train - pred.sum().test),2)"
   ]
  },
  {
   "cell_type": "code",
   "execution_count": 25,
   "metadata": {},
   "outputs": [
    {
     "data": {
      "text/plain": [
       "0.008671980894724013"
      ]
     },
     "execution_count": 25,
     "metadata": {},
     "output_type": "execute_result"
    }
   ],
   "source": [
    "mean_absolute_percentage_error(pred.sum().test, pred.sum().train)"
   ]
  },
  {
   "cell_type": "code",
   "execution_count": null,
   "metadata": {},
   "outputs": [],
   "source": []
  },
  {
   "cell_type": "markdown",
   "metadata": {},
   "source": [
    "## Regression Model"
   ]
  },
  {
   "cell_type": "code",
   "execution_count": 218,
   "metadata": {
    "lines_to_next_cell": 2
   },
   "outputs": [],
   "source": [
    "train = data.drop(\"Customer ID\",axis=1).iloc[:,0:9]"
   ]
  },
  {
   "cell_type": "code",
   "execution_count": 219,
   "metadata": {},
   "outputs": [],
   "source": [
    "data_melt = data.melt( id_vars=[\"Customer ID\"], \n",
    "          var_name=\"Month\",\n",
    "          value_name='t',)\n",
    "data_melt[\"Month\"] = pd.to_datetime(data_melt[\"Month\"])\n",
    "data_melt = data_melt.sort_values([\"Customer ID\",\"Month\"], ascending=[True, True])"
   ]
  },
  {
   "cell_type": "code",
   "execution_count": 220,
   "metadata": {},
   "outputs": [],
   "source": [
    "data_melt[\"t-1\"] = data_melt.groupby(\"Customer ID\").shift(1).t\n",
    "data_melt[\"t-2\"] = data_melt.groupby(\"Customer ID\").shift(2).t\n",
    "data_melt[\"t-3\"] = data_melt.groupby(\"Customer ID\").shift(3).t"
   ]
  },
  {
   "cell_type": "code",
   "execution_count": 221,
   "metadata": {},
   "outputs": [],
   "source": [
    "data_melt = data_melt.dropna(subset=[\"t\", \"t-1\", \"t-2\", \"t-3\"])"
   ]
  },
  {
   "cell_type": "code",
   "execution_count": 222,
   "metadata": {},
   "outputs": [],
   "source": [
    "train_set = data_melt[data_melt.Month <= \"2019-09-01\"]\n",
    "test_set = data_melt[data_melt.Month == \"2019-10-01\"]\n",
    "train_set = train_set.set_index([\"Customer ID\", \"Month\"])\n",
    "test_set = test_set.set_index([\"Customer ID\", \"Month\"])"
   ]
  },
  {
   "cell_type": "code",
   "execution_count": 223,
   "metadata": {},
   "outputs": [],
   "source": [
    "x_train, y_train = train_set.drop([\"t\"], axis=1), train_set.t\n",
    "x_test, y_test = test_set.drop([\"t\"], axis=1), test_set.t"
   ]
  },
  {
   "cell_type": "code",
   "execution_count": 224,
   "metadata": {},
   "outputs": [],
   "source": [
    "model = LogisticRegression()"
   ]
  },
  {
   "cell_type": "code",
   "execution_count": 225,
   "metadata": {},
   "outputs": [
    {
     "data": {
      "text/plain": [
       "LogisticRegression()"
      ]
     },
     "execution_count": 225,
     "metadata": {},
     "output_type": "execute_result"
    }
   ],
   "source": [
    "model.fit(x_train,y_train)"
   ]
  },
  {
   "cell_type": "code",
   "execution_count": 226,
   "metadata": {},
   "outputs": [],
   "source": [
    "y_train_pred = pd.DataFrame(model.predict_proba(x_train))[1].apply(lambda x: 1 if x >= 0.25 else 0)"
   ]
  },
  {
   "cell_type": "code",
   "execution_count": 227,
   "metadata": {},
   "outputs": [
    {
     "data": {
      "text/plain": [
       "10288"
      ]
     },
     "execution_count": 227,
     "metadata": {},
     "output_type": "execute_result"
    }
   ],
   "source": [
    "y_train_pred.sum()"
   ]
  },
  {
   "cell_type": "code",
   "execution_count": 228,
   "metadata": {},
   "outputs": [],
   "source": [
    "train_set = train_set.reset_index()\n",
    "train_set[\"pred\"] = y_train_pred"
   ]
  },
  {
   "cell_type": "code",
   "execution_count": 229,
   "metadata": {},
   "outputs": [
    {
     "data": {
      "text/html": [
       "<div>\n",
       "<style scoped>\n",
       "    .dataframe tbody tr th:only-of-type {\n",
       "        vertical-align: middle;\n",
       "    }\n",
       "\n",
       "    .dataframe tbody tr th {\n",
       "        vertical-align: top;\n",
       "    }\n",
       "\n",
       "    .dataframe thead th {\n",
       "        text-align: right;\n",
       "    }\n",
       "</style>\n",
       "<table border=\"1\" class=\"dataframe\">\n",
       "  <thead>\n",
       "    <tr style=\"text-align: right;\">\n",
       "      <th></th>\n",
       "      <th>Customer ID</th>\n",
       "      <th>Month</th>\n",
       "      <th>t</th>\n",
       "      <th>t-1</th>\n",
       "      <th>t-2</th>\n",
       "      <th>t-3</th>\n",
       "      <th>pred</th>\n",
       "    </tr>\n",
       "  </thead>\n",
       "  <tbody>\n",
       "    <tr>\n",
       "      <th>0</th>\n",
       "      <td>1</td>\n",
       "      <td>2019-04-01</td>\n",
       "      <td>0</td>\n",
       "      <td>0.0</td>\n",
       "      <td>0.0</td>\n",
       "      <td>1.0</td>\n",
       "      <td>0</td>\n",
       "    </tr>\n",
       "    <tr>\n",
       "      <th>1</th>\n",
       "      <td>1</td>\n",
       "      <td>2019-05-01</td>\n",
       "      <td>0</td>\n",
       "      <td>0.0</td>\n",
       "      <td>0.0</td>\n",
       "      <td>0.0</td>\n",
       "      <td>0</td>\n",
       "    </tr>\n",
       "    <tr>\n",
       "      <th>2</th>\n",
       "      <td>1</td>\n",
       "      <td>2019-06-01</td>\n",
       "      <td>0</td>\n",
       "      <td>0.0</td>\n",
       "      <td>0.0</td>\n",
       "      <td>0.0</td>\n",
       "      <td>0</td>\n",
       "    </tr>\n",
       "    <tr>\n",
       "      <th>3</th>\n",
       "      <td>1</td>\n",
       "      <td>2019-07-01</td>\n",
       "      <td>0</td>\n",
       "      <td>0.0</td>\n",
       "      <td>0.0</td>\n",
       "      <td>0.0</td>\n",
       "      <td>0</td>\n",
       "    </tr>\n",
       "    <tr>\n",
       "      <th>4</th>\n",
       "      <td>1</td>\n",
       "      <td>2019-08-01</td>\n",
       "      <td>0</td>\n",
       "      <td>0.0</td>\n",
       "      <td>0.0</td>\n",
       "      <td>0.0</td>\n",
       "      <td>0</td>\n",
       "    </tr>\n",
       "    <tr>\n",
       "      <th>...</th>\n",
       "      <td>...</td>\n",
       "      <td>...</td>\n",
       "      <td>...</td>\n",
       "      <td>...</td>\n",
       "      <td>...</td>\n",
       "      <td>...</td>\n",
       "      <td>...</td>\n",
       "    </tr>\n",
       "    <tr>\n",
       "      <th>59995</th>\n",
       "      <td>10000</td>\n",
       "      <td>2019-05-01</td>\n",
       "      <td>1</td>\n",
       "      <td>0.0</td>\n",
       "      <td>0.0</td>\n",
       "      <td>0.0</td>\n",
       "      <td>0</td>\n",
       "    </tr>\n",
       "    <tr>\n",
       "      <th>59996</th>\n",
       "      <td>10000</td>\n",
       "      <td>2019-06-01</td>\n",
       "      <td>0</td>\n",
       "      <td>1.0</td>\n",
       "      <td>0.0</td>\n",
       "      <td>0.0</td>\n",
       "      <td>0</td>\n",
       "    </tr>\n",
       "    <tr>\n",
       "      <th>59997</th>\n",
       "      <td>10000</td>\n",
       "      <td>2019-07-01</td>\n",
       "      <td>0</td>\n",
       "      <td>0.0</td>\n",
       "      <td>1.0</td>\n",
       "      <td>0.0</td>\n",
       "      <td>0</td>\n",
       "    </tr>\n",
       "    <tr>\n",
       "      <th>59998</th>\n",
       "      <td>10000</td>\n",
       "      <td>2019-08-01</td>\n",
       "      <td>0</td>\n",
       "      <td>0.0</td>\n",
       "      <td>0.0</td>\n",
       "      <td>1.0</td>\n",
       "      <td>0</td>\n",
       "    </tr>\n",
       "    <tr>\n",
       "      <th>59999</th>\n",
       "      <td>10000</td>\n",
       "      <td>2019-09-01</td>\n",
       "      <td>0</td>\n",
       "      <td>0.0</td>\n",
       "      <td>0.0</td>\n",
       "      <td>0.0</td>\n",
       "      <td>0</td>\n",
       "    </tr>\n",
       "  </tbody>\n",
       "</table>\n",
       "<p>60000 rows × 7 columns</p>\n",
       "</div>"
      ],
      "text/plain": [
       "       Customer ID      Month  t  t-1  t-2  t-3  pred\n",
       "0                1 2019-04-01  0  0.0  0.0  1.0     0\n",
       "1                1 2019-05-01  0  0.0  0.0  0.0     0\n",
       "2                1 2019-06-01  0  0.0  0.0  0.0     0\n",
       "3                1 2019-07-01  0  0.0  0.0  0.0     0\n",
       "4                1 2019-08-01  0  0.0  0.0  0.0     0\n",
       "...            ...        ... ..  ...  ...  ...   ...\n",
       "59995        10000 2019-05-01  1  0.0  0.0  0.0     0\n",
       "59996        10000 2019-06-01  0  1.0  0.0  0.0     0\n",
       "59997        10000 2019-07-01  0  0.0  1.0  0.0     0\n",
       "59998        10000 2019-08-01  0  0.0  0.0  1.0     0\n",
       "59999        10000 2019-09-01  0  0.0  0.0  0.0     0\n",
       "\n",
       "[60000 rows x 7 columns]"
      ]
     },
     "execution_count": 229,
     "metadata": {},
     "output_type": "execute_result"
    }
   ],
   "source": [
    "train_set"
   ]
  },
  {
   "cell_type": "code",
   "execution_count": 230,
   "metadata": {},
   "outputs": [
    {
     "data": {
      "text/plain": [
       "0.7724833333333333"
      ]
     },
     "execution_count": 230,
     "metadata": {},
     "output_type": "execute_result"
    }
   ],
   "source": [
    "metrics.accuracy_score(train_set.t, train_set.pred)"
   ]
  },
  {
   "cell_type": "code",
   "execution_count": 237,
   "metadata": {},
   "outputs": [
    {
     "data": {
      "text/plain": [
       "(9351, 10288)"
      ]
     },
     "execution_count": 237,
     "metadata": {},
     "output_type": "execute_result"
    }
   ],
   "source": [
    "metrics.confusion_matrix(train_set.t, train_set.pred)\n",
    "train_set.t.sum(), train_set.pred.sum()"
   ]
  },
  {
   "cell_type": "code",
   "execution_count": 232,
   "metadata": {},
   "outputs": [],
   "source": [
    "y_test_pred = pd.DataFrame(model.predict_proba(x_test))[1].apply(lambda x: 1 if x >= 0.25 else 0)"
   ]
  },
  {
   "cell_type": "code",
   "execution_count": 234,
   "metadata": {},
   "outputs": [],
   "source": [
    "test_set = test_set.reset_index()\n",
    "test_set[\"pred\"] = y_test_pred"
   ]
  },
  {
   "cell_type": "code",
   "execution_count": 239,
   "metadata": {},
   "outputs": [
    {
     "data": {
      "text/plain": [
       "0.8549"
      ]
     },
     "execution_count": 239,
     "metadata": {},
     "output_type": "execute_result"
    }
   ],
   "source": [
    "metrics.accuracy_score(test_set.t, test_set.pred)"
   ]
  },
  {
   "cell_type": "code",
   "execution_count": 235,
   "metadata": {},
   "outputs": [
    {
     "data": {
      "text/plain": [
       "array([[8227,  655],\n",
       "       [ 796,  322]], dtype=int64)"
      ]
     },
     "execution_count": 235,
     "metadata": {},
     "output_type": "execute_result"
    }
   ],
   "source": [
    "metrics.confusion_matrix(test_set.t, test_set.pred)"
   ]
  },
  {
   "cell_type": "code",
   "execution_count": 236,
   "metadata": {},
   "outputs": [
    {
     "data": {
      "text/plain": [
       "(1118, 977)"
      ]
     },
     "execution_count": 236,
     "metadata": {},
     "output_type": "execute_result"
    }
   ],
   "source": [
    "test_set.t.sum(), test_set.pred.sum()"
   ]
  },
  {
   "cell_type": "code",
   "execution_count": null,
   "metadata": {},
   "outputs": [],
   "source": []
  }
 ],
 "metadata": {
  "jupytext": {
   "encoding": "# -*- coding: utf-8 -*-",
   "formats": "ipynb,py:light"
  },
  "kernelspec": {
   "display_name": "Python 3",
   "language": "python",
   "name": "python3"
  },
  "language_info": {
   "codemirror_mode": {
    "name": "ipython",
    "version": 3
   },
   "file_extension": ".py",
   "mimetype": "text/x-python",
   "name": "python",
   "nbconvert_exporter": "python",
   "pygments_lexer": "ipython3",
   "version": "3.8.3"
  }
 },
 "nbformat": 4,
 "nbformat_minor": 4
}
