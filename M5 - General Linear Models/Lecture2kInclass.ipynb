{
 "cells": [
  {
   "cell_type": "code",
   "execution_count": 1,
   "metadata": {},
   "outputs": [
    {
     "name": "stdout",
     "output_type": "stream",
     "text": [
      "Sample Size: 816\n"
     ]
    }
   ],
   "source": [
    "from IPython.display import HTML, display\n",
    "\n",
    "import statsmodels.api as sm\n",
    "from statsmodels.formula.api import ols\n",
    "from statsmodels.sandbox.regression.predstd import wls_prediction_std\n",
    "\n",
    "from scipy import stats\n",
    "\n",
    "import matplotlib.pyplot as plt\n",
    "import seaborn as sns\n",
    "\n",
    "sns.set_style(\"darkgrid\")\n",
    "\n",
    "import pandas as pd\n",
    "import numpy as np\n",
    "import ast\n",
    "import random\n",
    "import math \n",
    "import time\n",
    "import sys \n",
    "\n",
    "\n",
    "df = pd.read_csv('productivity.csv', encoding='latin-1')\n",
    "\n",
    "print(\"Sample Size:\", len(df))"
   ]
  },
  {
   "cell_type": "code",
   "execution_count": 2,
   "metadata": {},
   "outputs": [
    {
     "name": "stdout",
     "output_type": "stream",
     "text": [
      "                            OLS Regression Results                            \n",
      "==============================================================================\n",
      "Dep. Variable:                    GSP   R-squared:                       0.983\n",
      "Model:                            OLS   Adj. R-squared:                  0.983\n",
      "Method:                 Least Squares   F-statistic:                 1.529e+04\n",
      "Date:                Thu, 17 Oct 2019   Prob (F-statistic):               0.00\n",
      "Time:                        12:34:46   Log-Likelihood:                -8607.5\n",
      "No. Observations:                 816   AIC:                         1.722e+04\n",
      "Df Residuals:                     812   BIC:                         1.724e+04\n",
      "Df Model:                           3                                         \n",
      "Covariance Type:            nonrobust                                         \n",
      "==============================================================================\n",
      "                 coef    std err          t      P>|t|      [0.025      0.975]\n",
      "------------------------------------------------------------------------------\n",
      "const      -5492.3071    542.261    -10.129      0.000   -6556.706   -4427.908\n",
      "P_CAP          0.1712      0.058      2.975      0.003       0.058       0.284\n",
      "HWY            0.7502      0.170      4.418      0.000       0.417       1.084\n",
      "EMP           31.2256      0.847     36.863      0.000      29.563      32.888\n",
      "==============================================================================\n",
      "Omnibus:                      267.123   Durbin-Watson:                   0.202\n",
      "Prob(Omnibus):                  0.000   Jarque-Bera (JB):             1773.842\n",
      "Skew:                           1.314   Prob(JB):                         0.00\n",
      "Kurtosis:                       9.728   Cond. No.                     6.68e+04\n",
      "==============================================================================\n",
      "\n",
      "Warnings:\n",
      "[1] Standard Errors assume that the covariance matrix of the errors is correctly specified.\n",
      "[2] The condition number is large, 6.68e+04. This might indicate that there are\n",
      "strong multicollinearity or other numerical problems.\n"
     ]
    }
   ],
   "source": [
    "df['const'] = 1\n",
    "\n",
    "#reg1 = sm.OLS(endog=df['GSP'], exog=df[['const','P_CAP','HWY']], missing='drop')\n",
    "reg1 = sm.OLS(endog=df['GSP'], exog=df[['const','P_CAP','HWY','EMP']], missing='drop')\n",
    "\n",
    "type(reg1)\n",
    "\n",
    "results = reg1.fit()\n",
    "type(results)\n",
    "\n",
    "print(results.summary())"
   ]
  },
  {
   "cell_type": "code",
   "execution_count": null,
   "metadata": {},
   "outputs": [],
   "source": []
  },
  {
   "cell_type": "code",
   "execution_count": null,
   "metadata": {
    "scrolled": false
   },
   "outputs": [],
   "source": []
  },
  {
   "cell_type": "code",
   "execution_count": null,
   "metadata": {},
   "outputs": [],
   "source": []
  },
  {
   "cell_type": "code",
   "execution_count": null,
   "metadata": {},
   "outputs": [],
   "source": []
  },
  {
   "cell_type": "code",
   "execution_count": null,
   "metadata": {},
   "outputs": [],
   "source": []
  },
  {
   "cell_type": "code",
   "execution_count": null,
   "metadata": {},
   "outputs": [],
   "source": []
  }
 ],
 "metadata": {
  "kernelspec": {
   "display_name": "Python 3",
   "language": "python",
   "name": "python3"
  },
  "language_info": {
   "codemirror_mode": {
    "name": "ipython",
    "version": 3
   },
   "file_extension": ".py",
   "mimetype": "text/x-python",
   "name": "python",
   "nbconvert_exporter": "python",
   "pygments_lexer": "ipython3",
   "version": "3.7.6"
  }
 },
 "nbformat": 4,
 "nbformat_minor": 2
}
