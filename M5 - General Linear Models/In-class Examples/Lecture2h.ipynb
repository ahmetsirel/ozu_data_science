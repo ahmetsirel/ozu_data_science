{
 "cells": [
  {
   "cell_type": "code",
   "execution_count": 1,
   "metadata": {},
   "outputs": [],
   "source": [
    "from IPython.display import HTML, display\n",
    "\n",
    "import statsmodels.api as sm\n",
    "from statsmodels.formula.api import ols\n",
    "from statsmodels.sandbox.regression.predstd import wls_prediction_std\n",
    "from statsmodels.stats.outliers_influence import variance_inflation_factor\n",
    "from scipy import stats\n",
    "from sklearn import metrics\n",
    "from sklearn.linear_model import LogisticRegression\n",
    "from sklearn.metrics import accuracy_score\n",
    "from sklearn.metrics import roc_auc_score\n",
    "\n",
    "import matplotlib.pyplot as plt\n",
    "import seaborn as sns\n",
    "from sklearn.preprocessing import LabelEncoder, OneHotEncoder\n",
    "import warnings\n",
    "warnings.filterwarnings(\"ignore\")\n",
    "from sklearn.model_selection import train_test_split\n",
    "from sklearn.svm import SVC\n",
    "from sklearn.metrics import confusion_matrix\n",
    "\n",
    "from docplex.mp.model import Model\n",
    "\n",
    "\n",
    "sns.set_style(\"darkgrid\")\n",
    "\n",
    "import pandas as pd\n",
    "import numpy as np\n",
    "import ast\n",
    "import random\n",
    "import math \n",
    "import time\n",
    "import sys \n",
    "\n",
    "np.random.seed(123)\n",
    "\n",
    "data = pd.read_csv(\"Breastdata.csv\")"
   ]
  },
  {
   "cell_type": "code",
   "execution_count": 2,
   "metadata": {},
   "outputs": [
    {
     "name": "stdout",
     "output_type": "stream",
     "text": [
      "Shape: 31\n"
     ]
    }
   ],
   "source": [
    "#Removing the Id and the Unnamed columns\n",
    "data = data.iloc[:,1:-1]\n",
    "\n",
    "#Next, we encode the Categorical Variable\n",
    "label_encoder = LabelEncoder()\n",
    "data.iloc[:,0] = label_encoder.fit_transform(data.iloc[:,0]).astype('float64')\n",
    "\n",
    "#Generating the correlation matrix\n",
    "corr = data.corr()\n",
    "\n",
    "print(\"Shape:\",corr.shape[0])"
   ]
  },
  {
   "cell_type": "code",
   "execution_count": 3,
   "metadata": {},
   "outputs": [],
   "source": [
    "regressor_OLS = sm.OLS(data.iloc[:,0].values, data.iloc[:,1:].values).fit()\n",
    "#print(regressor_OLS.summary())\n",
    "maxVar = max(regressor_OLS.pvalues).astype(float)\n",
    "#print(regressor_OLS.pvalues)\n",
    "\n",
    "pValues = regressor_OLS.pvalues\n",
    "pValues = np.append(0, pValues)\n",
    "#pValues.append(regressor_OLS.pvalues)\n",
    "#print(pValues)"
   ]
  },
  {
   "cell_type": "code",
   "execution_count": 4,
   "metadata": {},
   "outputs": [
    {
     "name": "stdout",
     "output_type": "stream",
     "text": [
      "CPXPARAM_TimeLimit                               300\n",
      "CPXPARAM_Read_DataCheck                          1\n",
      "CPXPARAM_RandomSeed                              201703173\n",
      "Tried aggregator 2 times.\n",
      "MIP Presolve eliminated 1400 rows and 945 columns.\n",
      "MIP Presolve modified 2 coefficients.\n",
      "Aggregator did 26 substitutions.\n",
      "Reduced MIP has 3 rows, 22 columns, and 26 nonzeros.\n",
      "Reduced MIP has 22 binaries, 0 generals, 0 SOSs, and 0 indicators.\n",
      "Presolve time = 0.01 sec. (1.29 ticks)\n",
      "Found incumbent of value 7.888889 after 0.03 sec. (1.41 ticks)\n",
      "Probing fixed 22 vars, tightened 0 bounds.\n",
      "Probing time = 0.02 sec. (0.00 ticks)\n",
      "Tried aggregator 1 time.\n",
      "MIP Presolve eliminated 3 rows and 22 columns.\n",
      "All rows and columns eliminated.\n",
      "Presolve time = 0.00 sec. (0.01 ticks)\n",
      "\n",
      "Root node processing (before b&c):\n",
      "  Real time             =    0.05 sec. (1.47 ticks)\n",
      "Parallel b&c, 12 threads:\n",
      "  Real time             =    0.00 sec. (0.00 ticks)\n",
      "  Sync time (average)   =    0.00 sec.\n",
      "  Wait time (average)   =    0.00 sec.\n",
      "                          ------------\n",
      "Total (root+branch&cut) =    0.05 sec. (1.47 ticks)\n",
      "JobSolveStatus.OPTIMAL_SOLUTION\n",
      "7.888888711565727\n",
      "9\n",
      "[1, 2, 3, 4, 8, 13, 14, 23, 24]\n",
      "(569, 22)\n"
     ]
    }
   ],
   "source": [
    "def solveSPP(nFactors, Correlation, pValues):\n",
    "    \n",
    "    #nFactors = corr.shape[0] \n",
    "    #Correlation = corr\n",
    "    N = [i for i in range(nFactors)] #set of clients N = {1..n}\n",
    "    # SETS #\n",
    "    ij_Range = [(i, j) for i in range(nFactors) for j in range(nFactors)]\n",
    "    # Create A model\n",
    "    mdl = Model('SPP')\n",
    "\n",
    "    # Create one index binary variable\n",
    "    #x = mdl.integer_var_list(nClusters, 0, 1, \"x\")\n",
    "    x = mdl.binary_var_list(N, name=\"x\")\n",
    "    z = mdl.binary_var_matrix(N, N, name=lambda ns: \"Z %s_%s\" % (ns[0],ns[1]))\n",
    "\n",
    "\n",
    "    # Create a single linear variable \n",
    "    MaxCorr = mdl.continuous_var(0, name=\"MaxCorr\")\n",
    "\n",
    "\n",
    "    # Add constraints stating that each customer is selected at least once\n",
    "    mdl.minimize(mdl.sum(pValues[j]*x[j] for j in N))\n",
    "    #mdl.minimize(mdl.sum(z[i,j]*Correlation.iloc[i,j] for i in N for j in N))\n",
    "    mdl.add_constraint(x[0]==1)\n",
    "    mdl.add_constraint(mdl.sum(x[j] for j in N)==22)\n",
    "    mdl.add_constraint(MaxCorr<=0.9)\n",
    "    mdl.add_constraints(x[i]+x[j]-z[i,j]<=1 for i in N for j in N)\n",
    "    mdl.add_constraints(-MaxCorr+z[i,j]*Correlation.iloc[i,j]<=0 for i in N for j in range(i+1,nFactors))\n",
    "    mdl.parameters.timelimit=300 #time limit\n",
    "    solution = mdl.solve(log_output= True)\n",
    "\n",
    "    print(solution.solve_status) #if it says feasible, it is not optimal\n",
    "    mdl.solve_details\n",
    "    print(mdl.objective_value)\n",
    "    #print(solution)\n",
    "    NotselectedColumns = [j for j in N if x[j].solution_value<0.01]\n",
    "    return NotselectedColumns\n",
    "\n",
    "NotselectedColumns = solveSPP(corr.shape[0], corr, pValues)\n",
    "\n",
    "print(len(NotselectedColumns))\n",
    "print(NotselectedColumns)\n",
    "\n",
    "columns = np.full((corr.shape[0],), True, dtype=bool)\n",
    "for i in range(len(NotselectedColumns)):\n",
    "    columns[NotselectedColumns[i]] = False\n",
    "selected_columns = data.columns[columns]\n",
    "data = data[selected_columns]\n",
    "\n",
    "print(data.shape)\n",
    "\n"
   ]
  },
  {
   "cell_type": "code",
   "execution_count": 5,
   "metadata": {},
   "outputs": [
    {
     "name": "stdout",
     "output_type": "stream",
     "text": [
      "                                 OLS Regression Results                                \n",
      "=======================================================================================\n",
      "Dep. Variable:                      y   R-squared (uncentered):                   0.837\n",
      "Model:                            OLS   Adj. R-squared (uncentered):              0.833\n",
      "Method:                 Least Squares   F-statistic:                              237.8\n",
      "Date:                Fri, 11 Oct 2019   Prob (F-statistic):                   3.94e-210\n",
      "Time:                        12:02:55   Log-Likelihood:                         -10.921\n",
      "No. Observations:                 569   AIC:                                      45.84\n",
      "Df Residuals:                     557   BIC:                                      97.97\n",
      "Df Model:                          12                                                  \n",
      "Covariance Type:            nonrobust                                                  \n",
      "==============================================================================\n",
      "                 coef    std err          t      P>|t|      [0.025      0.975]\n",
      "------------------------------------------------------------------------------\n",
      "x1             1.9833      0.432      4.589      0.000       1.134       2.832\n",
      "x2           -23.6648      2.304    -10.272      0.000     -28.190     -19.140\n",
      "x3             0.1833      0.069      2.649      0.008       0.047       0.319\n",
      "x4            17.0585      4.572      3.731      0.000       8.077      26.040\n",
      "x5            -3.3889      1.241     -2.730      0.007      -5.827      -0.951\n",
      "x6            -2.7313      0.829     -3.294      0.001      -4.360      -1.103\n",
      "x7            10.3374      4.428      2.334      0.020       1.639      19.035\n",
      "x8             0.0139      0.005      3.030      0.003       0.005       0.023\n",
      "x9             0.0095      0.002      5.094      0.000       0.006       0.013\n",
      "x10            1.6738      0.622      2.691      0.007       0.452       2.896\n",
      "x11            0.8138      0.221      3.681      0.000       0.380       1.248\n",
      "x12            7.6751      1.447      5.304      0.000       4.833      10.517\n",
      "==============================================================================\n",
      "Omnibus:                       29.042   Durbin-Watson:                   1.783\n",
      "Prob(Omnibus):                  0.000   Jarque-Bera (JB):               32.281\n",
      "Skew:                           0.546   Prob(JB):                     9.78e-08\n",
      "Kurtosis:                       3.414   Cond. No.                     1.48e+04\n",
      "==============================================================================\n",
      "\n",
      "Warnings:\n",
      "[1] Standard Errors assume that the covariance matrix of the errors is correctly specified.\n",
      "[2] The condition number is large, 1.48e+04. This might indicate that there are\n",
      "strong multicollinearity or other numerical problems.\n"
     ]
    }
   ],
   "source": [
    "selected_columns = selected_columns[1:].values\n",
    "def backwardElimination(x, Y, sl, columns):\n",
    "    numVars = len(x[0])\n",
    "    for i in range(0, numVars):\n",
    "        regressor_OLS = sm.OLS(Y, x).fit()\n",
    "        maxVar = max(regressor_OLS.pvalues).astype(float)\n",
    "        if maxVar > sl:\n",
    "            for j in range(0, numVars - i):\n",
    "                if (regressor_OLS.pvalues[j].astype(float) == maxVar):\n",
    "                    x = np.delete(x, j, 1)\n",
    "                    columns = np.delete(columns, j)\n",
    "        #print(regressor_OLS.summary())\n",
    "    print(regressor_OLS.summary())\n",
    "    return x, columns\n",
    "\n",
    "SL = 0.05\n",
    "data_modeled, selected_columns = backwardElimination(data.iloc[:,1:].values, data.iloc[:,0].values, SL, selected_columns)\n",
    "\n",
    "\n"
   ]
  },
  {
   "cell_type": "code",
   "execution_count": 6,
   "metadata": {},
   "outputs": [],
   "source": [
    "#Moving the result to a new Dataframe\n",
    "result = pd.DataFrame()\n",
    "result['diagnosis'] = data.iloc[:,0]\n",
    "\n",
    "\n",
    "#Creating a Dataframe with the columns selected using the p-value and correlation\n",
    "data = pd.DataFrame(data = data_modeled, columns = selected_columns)\n",
    "\n"
   ]
  },
  {
   "cell_type": "code",
   "execution_count": 7,
   "metadata": {},
   "outputs": [
    {
     "name": "stdout",
     "output_type": "stream",
     "text": [
      "0.9298245614035088\n",
      "[[67  4]\n",
      " [ 4 39]]\n",
      "0.9253193580085161\n"
     ]
    }
   ],
   "source": [
    "x_train, x_test, y_train, y_test = train_test_split(data.values, result.values, test_size = 0.2, random_state = 42)\n",
    "\n",
    "#Support Vector Classifier\n",
    "svc=SVC() # The default kernel used by SVC is the gaussian kernel\n",
    "svc.fit(x_train, y_train)\n",
    "\n",
    "\n",
    "prediction = svc.predict(x_test)\n",
    "\n",
    "cm = confusion_matrix(y_test, prediction)\n",
    "print(accuracy_score(y_test, prediction))\n",
    "print(cm)\n",
    "print (roc_auc_score(y_test, prediction))\n"
   ]
  },
  {
   "cell_type": "code",
   "execution_count": 8,
   "metadata": {},
   "outputs": [
    {
     "name": "stdout",
     "output_type": "stream",
     "text": [
      "0.9649122807017544\n",
      "[[71  0]\n",
      " [ 4 39]]\n",
      "0.9534883720930232\n"
     ]
    }
   ],
   "source": [
    "logreg = LogisticRegression()\n",
    "logreg.fit(x_train, y_train)\n",
    "prediction=logreg.predict(x_test)\n",
    "\n",
    "\n",
    "cm = confusion_matrix(y_test, prediction)\n",
    "print(accuracy_score(y_test, prediction))\n",
    "print(cm)\n",
    "print (roc_auc_score(y_test, prediction))"
   ]
  },
  {
   "cell_type": "code",
   "execution_count": null,
   "metadata": {},
   "outputs": [],
   "source": []
  }
 ],
 "metadata": {
  "kernelspec": {
   "display_name": "Python 3",
   "language": "python",
   "name": "python3"
  },
  "language_info": {
   "codemirror_mode": {
    "name": "ipython",
    "version": 3
   },
   "file_extension": ".py",
   "mimetype": "text/x-python",
   "name": "python",
   "nbconvert_exporter": "python",
   "pygments_lexer": "ipython3",
   "version": "3.7.6"
  }
 },
 "nbformat": 4,
 "nbformat_minor": 2
}
