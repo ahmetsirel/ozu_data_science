{
 "cells": [
  {
   "cell_type": "code",
   "execution_count": 1,
   "metadata": {},
   "outputs": [
    {
     "name": "stdout",
     "output_type": "stream",
     "text": [
      "                 Generalized Linear Model Regression Results                  \n",
      "==============================================================================\n",
      "Dep. Variable:                  Cards   No. Observations:                   31\n",
      "Model:                            GLM   Df Residuals:                       29\n",
      "Model Family:                 Poisson   Df Model:                            1\n",
      "Link Function:                    log   Scale:                          1.0000\n",
      "Method:                          IRLS   Log-Likelihood:                -31.802\n",
      "Date:                Mon, 19 Oct 2020   Deviance:                       28.465\n",
      "Time:                        10:06:06   Pearson chi2:                     27.2\n",
      "No. Iterations:                     5                                         \n",
      "Covariance Type:            nonrobust                                         \n",
      "==============================================================================\n",
      "                 coef    std err          z      P>|z|      [0.025      0.975]\n",
      "------------------------------------------------------------------------------\n",
      "Intercept     -2.3866      0.400     -5.972      0.000      -3.170      -1.603\n",
      "Income         0.0208      0.005      4.019      0.000       0.011       0.031\n",
      "==============================================================================\n"
     ]
    }
   ],
   "source": [
    "from IPython.display import HTML, display\n",
    "\n",
    "import statsmodels.api as sm\n",
    "from statsmodels.formula.api import ols\n",
    "from statsmodels.sandbox.regression.predstd import wls_prediction_std\n",
    "from sklearn.preprocessing import PolynomialFeatures\n",
    "from sklearn.linear_model import LinearRegression\n",
    "from sklearn.metrics import mean_squared_error, r2_score\n",
    "from sklearn.preprocessing import PolynomialFeatures\n",
    "\n",
    "from statsmodels.genmod.generalized_estimating_equations import GEE\n",
    "from statsmodels.genmod.cov_struct import (Exchangeable,Independence,Autoregressive)\n",
    "from statsmodels.genmod.families import Poisson\n",
    "\n",
    "\n",
    "import operator\n",
    "\n",
    "from scipy import stats\n",
    "\n",
    "import matplotlib.pyplot as plt\n",
    "import seaborn as sns\n",
    "\n",
    "sns.set_style(\"darkgrid\")\n",
    "\n",
    "import pandas as pd\n",
    "import numpy as np\n",
    "import ast\n",
    "import random\n",
    "import math \n",
    "import time\n",
    "import sys \n",
    "\n",
    "data = pd.read_csv('CreditCard.csv', encoding='latin-1')\n",
    "\n",
    "from patsy import dmatrices\n",
    "\n",
    "formula = \"\"\"Cards ~ Income\"\"\"\n",
    "response, predictors = dmatrices(formula, data, return_type='dataframe')\n",
    "po_results = sm.GLM(response, predictors, offset=np.log(data['Cases']), family=sm.families.Poisson()).fit()\n",
    "print(po_results.summary())"
   ]
  },
  {
   "cell_type": "code",
   "execution_count": null,
   "metadata": {},
   "outputs": [],
   "source": []
  }
 ],
 "metadata": {
  "kernelspec": {
   "display_name": "Python 3",
   "language": "python",
   "name": "python3"
  },
  "language_info": {
   "codemirror_mode": {
    "name": "ipython",
    "version": 3
   },
   "file_extension": ".py",
   "mimetype": "text/x-python",
   "name": "python",
   "nbconvert_exporter": "python",
   "pygments_lexer": "ipython3",
   "version": "3.7.6"
  }
 },
 "nbformat": 4,
 "nbformat_minor": 2
}
