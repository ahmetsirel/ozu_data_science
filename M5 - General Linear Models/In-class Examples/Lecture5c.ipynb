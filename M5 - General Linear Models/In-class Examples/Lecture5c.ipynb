{
 "cells": [
  {
   "cell_type": "code",
   "execution_count": null,
   "metadata": {
    "ExecuteTime": {
     "end_time": "2018-12-04T10:06:58.111183Z",
     "start_time": "2018-12-04T10:06:56.425471Z"
    },
    "colab": {},
    "colab_type": "code",
    "id": "zL1hpaS5AMGH"
   },
   "outputs": [],
   "source": [
    "import pandas as pd\n",
    "import numpy as np\n",
    "import matplotlib.pyplot as plt\n",
    "from sklearn.linear_model import LinearRegression, Ridge, Lasso, ElasticNet\n",
    "from sklearn.preprocessing import StandardScaler, Normalizer, RobustScaler\n",
    "from sklearn.metrics import r2_score, mean_squared_error\n",
    "\n",
    "df = pd.read_csv('Credit.csv')"
   ]
  },
  {
   "cell_type": "code",
   "execution_count": null,
   "metadata": {
    "ExecuteTime": {
     "end_time": "2018-12-04T10:06:58.298289Z",
     "start_time": "2018-12-04T10:06:58.277961Z"
    },
    "colab": {
     "base_uri": "https://localhost:8080/",
     "height": 301
    },
    "colab_type": "code",
    "id": "awnTJ3xq8s3H",
    "outputId": "7abbcf1e-b32c-4a95-c19d-791f1e01b282"
   },
   "outputs": [],
   "source": [
    "df.info()"
   ]
  },
  {
   "cell_type": "code",
   "execution_count": null,
   "metadata": {
    "ExecuteTime": {
     "end_time": "2018-12-04T10:06:58.503207Z",
     "start_time": "2018-12-04T10:06:58.472142Z"
    },
    "colab": {
     "base_uri": "https://localhost:8080/",
     "height": 197
    },
    "colab_type": "code",
    "id": "qNoA2ZJGAMw1",
    "outputId": "f0fc6a5d-6e2c-47a8-858c-7f76448dd407"
   },
   "outputs": [],
   "source": [
    "df.head()"
   ]
  },
  {
   "cell_type": "code",
   "execution_count": null,
   "metadata": {
    "ExecuteTime": {
     "end_time": "2018-12-04T10:06:58.744012Z",
     "start_time": "2018-12-04T10:06:58.673158Z"
    },
    "colab": {
     "base_uri": "https://localhost:8080/",
     "height": 287
    },
    "colab_type": "code",
    "id": "jYvv9gSzkAj1",
    "outputId": "077cf234-b16f-467e-ffa6-9026e4a3682e"
   },
   "outputs": [],
   "source": [
    "df.describe()"
   ]
  },
  {
   "cell_type": "code",
   "execution_count": null,
   "metadata": {
    "ExecuteTime": {
     "end_time": "2018-12-04T10:07:00.286488Z",
     "start_time": "2018-12-04T10:07:00.255266Z"
    },
    "colab": {
     "base_uri": "https://localhost:8080/",
     "height": 197
    },
    "colab_type": "code",
    "id": "tcdM9EZSARuM",
    "outputId": "48eb8d16-5f1b-444e-eb13-779c50569cfc"
   },
   "outputs": [],
   "source": [
    "df = pd.get_dummies(df)\n",
    "\n",
    "labels = np.array(df['Balance'])\n",
    "df= df.drop('Balance', axis = 1)\n"
   ]
  },
  {
   "cell_type": "code",
   "execution_count": null,
   "metadata": {
    "ExecuteTime": {
     "end_time": "2018-12-04T10:07:04.330253Z",
     "start_time": "2018-12-04T10:07:04.325813Z"
    },
    "colab": {},
    "colab_type": "code",
    "id": "UAOeQLX8FZNa"
   },
   "outputs": [],
   "source": [
    "#Create a lambda vector with different values of lambda\n",
    "lambdas = np.logspace(-3,3,50)"
   ]
  },
  {
   "cell_type": "code",
   "execution_count": null,
   "metadata": {
    "ExecuteTime": {
     "end_time": "2018-12-04T10:07:05.278208Z",
     "start_time": "2018-12-04T10:07:05.183097Z"
    },
    "colab": {},
    "colab_type": "code",
    "id": "mOV9DUBCE6pc"
   },
   "outputs": [],
   "source": [
    "# Run a Ridge regression with each value of lambda and capture the results for each coefficient\n",
    "ridge_coefs =[]\n",
    "ridge_reg = Ridge()\n",
    "\n",
    "#Standardize the data\n",
    "X_= pd.DataFrame(StandardScaler().fit_transform(df),columns=df.columns)\n",
    "\n",
    "for lam in lambdas:\n",
    "  ridge_reg.set_params(alpha=lam)\n",
    "  ridge_reg.fit(X_,labels)\n",
    "  ridge_coefs.append(dict(zip(df.columns, ridge_reg.coef_)))\n",
    " # coefs.append(dict(zip(['Income','Limit','Rating','Student_Yes'],ridge_reg.coef_)))"
   ]
  },
  {
   "cell_type": "code",
   "execution_count": null,
   "metadata": {
    "ExecuteTime": {
     "end_time": "2018-12-04T10:07:06.067484Z",
     "start_time": "2018-12-04T10:07:06.033616Z"
    },
    "colab": {
     "base_uri": "https://localhost:8080/",
     "height": 364
    },
    "colab_type": "code",
    "id": "nfNj5SsYKknX",
    "outputId": "5db3aba6-9027-4bce-86c8-48467c69e2de",
    "scrolled": true
   },
   "outputs": [],
   "source": [
    "#Create a DataFrame for the Ridge Coefficients\n",
    "ridge_coef_df = pd.DataFrame(ridge_coefs)\n",
    "ridge_coef_df['Lambda'] = pd.Series(lambdas,index=ridge_coef_df.index)\n",
    "ridge_coef_df.head(10)"
   ]
  },
  {
   "cell_type": "code",
   "execution_count": null,
   "metadata": {
    "ExecuteTime": {
     "end_time": "2018-12-04T10:07:07.096465Z",
     "start_time": "2018-12-04T10:07:06.841211Z"
    },
    "colab": {
     "base_uri": "https://localhost:8080/",
     "height": 620
    },
    "colab_type": "code",
    "id": "D3q3gyGvIVZF",
    "outputId": "80a84bc7-b66d-44c2-e0f4-eeb5192da39d",
    "scrolled": true
   },
   "outputs": [],
   "source": [
    "#Plot some coeefficients check how they vary for different values of lambda\n",
    "fig , ax = plt.subplots(figsize=(10,10))\n",
    "_ =ax.plot(ridge_coef_df['Lambda'],ridge_coef_df[['Income']],label='Income')\n",
    "_ =ax.plot(ridge_coef_df['Lambda'],ridge_coef_df[['Rating']],label='Rating')\n",
    "_ =ax.plot(ridge_coef_df['Lambda'],ridge_coef_df[['Limit']],label='Limit')\n",
    "_ =ax.plot(ridge_coef_df['Lambda'],ridge_coef_df[['Student_Yes']],label='Student')\n",
    "\n",
    "\n",
    "_=ax.legend(loc='best')\n",
    "ax.set_xlabel('Lambda')\n",
    "ax.set_ylabel('Coefficients')\n",
    "ax.set_title('Ridge coefficients as a function of the regularization');"
   ]
  },
  {
   "cell_type": "code",
   "execution_count": null,
   "metadata": {
    "ExecuteTime": {
     "end_time": "2018-12-04T10:07:11.135394Z",
     "start_time": "2018-12-04T10:07:10.919205Z"
    },
    "colab": {},
    "colab_type": "code",
    "id": "6C5F30F5mLQO"
   },
   "outputs": [],
   "source": [
    "lasso_coefs =[]\n",
    "lasso_reg = Lasso()\n",
    "\n",
    "\n",
    "for lam in lambdas:\n",
    "  lasso_reg.set_params(alpha=lam)\n",
    "  lasso_reg.fit(X_,labels)\n",
    "  lasso_coefs.append(dict(zip(df.columns, lasso_reg.coef_)))"
   ]
  },
  {
   "cell_type": "code",
   "execution_count": null,
   "metadata": {
    "ExecuteTime": {
     "end_time": "2018-12-04T10:07:12.505778Z",
     "start_time": "2018-12-04T10:07:12.460731Z"
    },
    "colab": {},
    "colab_type": "code",
    "id": "4MyOkOPDmLwO"
   },
   "outputs": [],
   "source": [
    "lasso_coef_df = pd.DataFrame(lasso_coefs)\n",
    "lasso_coef_df['Lambda'] = pd.Series(lambdas,index=lasso_coef_df.index)\n",
    "lasso_coef_df.iloc[20:30,:]"
   ]
  },
  {
   "cell_type": "code",
   "execution_count": null,
   "metadata": {
    "ExecuteTime": {
     "end_time": "2018-12-04T10:07:50.886526Z",
     "start_time": "2018-12-04T10:07:50.635146Z"
    },
    "colab": {
     "base_uri": "https://localhost:8080/",
     "height": 620
    },
    "colab_type": "code",
    "id": "4HxN6-oRnBXU",
    "outputId": "62e003b4-c809-4d5a-bcfa-70ed737ea6c0"
   },
   "outputs": [],
   "source": [
    "fig , ax = plt.subplots(figsize=(10,10))\n",
    "_ =ax.plot(lasso_coef_df['Lambda'],lasso_coef_df[['Income']],label='Income')\n",
    "_ =ax.plot(lasso_coef_df['Lambda'],lasso_coef_df[['Rating']],label='Rating')\n",
    "_ =ax.plot(lasso_coef_df['Lambda'],lasso_coef_df[['Limit']],label='Limit')\n",
    "_ =ax.plot(lasso_coef_df['Lambda'],lasso_coef_df[['Student_Yes']],label='Student')\n",
    "\n",
    "\n",
    "_=ax.legend(loc='best')\n",
    "ax.set_xlabel('Lambda')\n",
    "ax.set_ylabel('Coefficients')\n",
    "ax.set_title('Lasso coefficients as a function of the regularization');"
   ]
  },
  {
   "cell_type": "code",
   "execution_count": null,
   "metadata": {
    "ExecuteTime": {
     "end_time": "2018-12-04T10:08:14.210926Z",
     "start_time": "2018-12-04T10:08:13.584169Z"
    },
    "colab": {
     "base_uri": "https://localhost:8080/",
     "height": 623
    },
    "colab_type": "code",
    "id": "VvvAKX3qpZaP",
    "outputId": "28a82e0e-5c4d-4de2-e478-968313f67de4"
   },
   "outputs": [],
   "source": [
    "fig,ax = plt.subplots(figsize=(10,10))\n",
    "\n",
    "\n",
    "for Model in [Lasso, Ridge]:\n",
    "  mse =[]\n",
    "  for lam in lambdas:\n",
    "    model = Model(alpha=lam)\n",
    "    model.fit(X_,labels)\n",
    "    y_pred = model.predict(X_)\n",
    "    mse.append(mean_squared_error(labels,y_pred))\n",
    "  ax.plot(lambdas, mse,label=Model.__name__)\n",
    " \n",
    "ax.legend(loc='best')\n",
    "ax.set_xlabel('Lambda')\n",
    "ax.set_ylabel('Mean Squared Error')"
   ]
  },
  {
   "cell_type": "code",
   "execution_count": null,
   "metadata": {
    "ExecuteTime": {
     "end_time": "2018-12-04T10:07:55.344762Z",
     "start_time": "2018-12-04T10:07:53.575054Z"
    },
    "colab": {
     "base_uri": "https://localhost:8080/",
     "height": 626
    },
    "colab_type": "code",
    "id": "VxVmqC0tl7Zc",
    "outputId": "8e855292-1685-47c8-bb80-5475471c0182"
   },
   "outputs": [],
   "source": [
    "from sklearn.model_selection import cross_val_score\n",
    "fig,ax = plt.subplots(figsize=(10,10))\n",
    "\n",
    "\n",
    "for Model in [Lasso, Ridge]:\n",
    "  scores = [cross_val_score(Model(alpha=lam) ,X_,labels,cv=3).mean() for lam in lambdas]\n",
    "  ax.plot(lambdas, scores,label=Model.__name__)\n",
    " \n",
    "ax.legend(loc='best')\n",
    "ax.set_xlabel('Lambda')\n",
    "ax.set_ylabel('Cross Validation Score')\n",
    "\n",
    "  "
   ]
  },
  {
   "cell_type": "code",
   "execution_count": null,
   "metadata": {
    "colab": {},
    "colab_type": "code",
    "id": "pRYHVLL8BIT6"
   },
   "outputs": [],
   "source": []
  }
 ],
 "metadata": {
  "colab": {
   "include_colab_link": true,
   "name": "Regularization.ipynb",
   "provenance": [],
   "version": "0.3.2"
  },
  "kernelspec": {
   "display_name": "Python 3",
   "language": "python",
   "name": "python3"
  },
  "language_info": {
   "codemirror_mode": {
    "name": "ipython",
    "version": 3
   },
   "file_extension": ".py",
   "mimetype": "text/x-python",
   "name": "python",
   "nbconvert_exporter": "python",
   "pygments_lexer": "ipython3",
   "version": "3.7.6"
  }
 },
 "nbformat": 4,
 "nbformat_minor": 1
}
