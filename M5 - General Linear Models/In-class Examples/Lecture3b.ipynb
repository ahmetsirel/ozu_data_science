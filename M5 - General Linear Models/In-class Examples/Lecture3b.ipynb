{
 "cells": [
  {
   "cell_type": "code",
   "execution_count": 1,
   "metadata": {},
   "outputs": [
    {
     "data": {
      "image/png": "[encoded data removed]",
      "text/plain": [
       "<Figure size 432x288 with 1 Axes>"
      ]
     },
     "metadata": {},
     "output_type": "display_data"
    }
   ],
   "source": [
    "from IPython.display import HTML, display\n",
    "\n",
    "import statsmodels.api as sm\n",
    "from statsmodels.formula.api import ols\n",
    "from statsmodels.sandbox.regression.predstd import wls_prediction_std\n",
    "from statsmodels.stats.outliers_influence import variance_inflation_factor\n",
    "from scipy import stats\n",
    "from sklearn import metrics\n",
    "from sklearn.linear_model import LogisticRegression\n",
    "from sklearn.metrics import accuracy_score\n",
    "from sklearn.metrics import roc_auc_score\n",
    "\n",
    "import matplotlib.pyplot as plt\n",
    "import seaborn as sns\n",
    "from sklearn.preprocessing import LabelEncoder, OneHotEncoder\n",
    "import warnings\n",
    "warnings.filterwarnings(\"ignore\")\n",
    "from sklearn.model_selection import train_test_split\n",
    "from sklearn.svm import SVC\n",
    "from sklearn.metrics import confusion_matrix\n",
    "\n",
    "sns.set_style(\"darkgrid\")\n",
    "\n",
    "import pandas as pd\n",
    "import numpy as np\n",
    "import ast\n",
    "import random\n",
    "import math \n",
    "import time\n",
    "import sys \n",
    "\n",
    "np.random.seed(12)\n",
    "\n",
    "data = pd.read_csv(\"Hdma.csv\")\n",
    "\n",
    "#string_data = data.astype('category')\n",
    "#data = string_data.cat.codes\n",
    "\n",
    "data = data.replace({'no': 0, 'yes': 1})\n",
    "\n",
    "#print(data.head)\n",
    "\n",
    "dataSmall = data[:127]\n",
    "\n",
    "ax1 = dataSmall.plot.scatter(x='dir', y='deny', c='DarkBlue')"
   ]
  },
  {
   "cell_type": "code",
   "execution_count": 2,
   "metadata": {
    "scrolled": false
   },
   "outputs": [
    {
     "name": "stdout",
     "output_type": "stream",
     "text": [
      "                            OLS Regression Results                            \n",
      "==============================================================================\n",
      "Dep. Variable:                   deny   R-squared:                       0.040\n",
      "Model:                            OLS   Adj. R-squared:                  0.039\n",
      "Method:                 Least Squares   F-statistic:                     98.41\n",
      "Date:                Thu, 08 Oct 2020   Prob (F-statistic):           9.37e-23\n",
      "Time:                        09:55:32   Log-Likelihood:                -651.42\n",
      "No. Observations:                2380   AIC:                             1307.\n",
      "Df Residuals:                    2378   BIC:                             1318.\n",
      "Df Model:                           1                                         \n",
      "Covariance Type:            nonrobust                                         \n",
      "==============================================================================\n",
      "                 coef    std err          t      P>|t|      [0.025      0.975]\n",
      "------------------------------------------------------------------------------\n",
      "const         -0.0799      0.021     -3.777      0.000      -0.121      -0.038\n",
      "dir            0.6035      0.061      9.920      0.000       0.484       0.723\n",
      "==============================================================================\n",
      "Omnibus:                     1018.085   Durbin-Watson:                   1.461\n",
      "Prob(Omnibus):                  0.000   Jarque-Bera (JB):             3273.764\n",
      "Skew:                           2.280   Prob(JB):                         0.00\n",
      "Kurtosis:                       6.497   Cond. No.                         10.4\n",
      "==============================================================================\n",
      "\n",
      "Warnings:\n",
      "[1] Standard Errors assume that the covariance matrix of the errors is correctly specified.\n"
     ]
    }
   ],
   "source": [
    "data['const'] = 1\n",
    "\n",
    "\n",
    "reg1 = sm.OLS(endog=data['deny'], exog=data[['const','dir']], missing='drop')\n",
    "type(reg1)\n",
    "\n",
    "results = reg1.fit()\n",
    "type(results)\n",
    "\n",
    "print(results.summary())\n"
   ]
  },
  {
   "cell_type": "code",
   "execution_count": 3,
   "metadata": {},
   "outputs": [
    {
     "name": "stdout",
     "output_type": "stream",
     "text": [
      "                            OLS Regression Results                            \n",
      "==============================================================================\n",
      "Dep. Variable:                   deny   R-squared:                       0.076\n",
      "Model:                            OLS   Adj. R-squared:                  0.075\n",
      "Method:                 Least Squares   F-statistic:                     97.76\n",
      "Date:                Thu, 08 Oct 2020   Prob (F-statistic):           1.58e-41\n",
      "Time:                        09:55:41   Log-Likelihood:                -605.61\n",
      "No. Observations:                2380   AIC:                             1217.\n",
      "Df Residuals:                    2377   BIC:                             1235.\n",
      "Df Model:                           2                                         \n",
      "Covariance Type:            nonrobust                                         \n",
      "==============================================================================\n",
      "                 coef    std err          t      P>|t|      [0.025      0.975]\n",
      "------------------------------------------------------------------------------\n",
      "const         -0.0905      0.021     -4.354      0.000      -0.131      -0.050\n",
      "dir            0.5592      0.060      9.340      0.000       0.442       0.677\n",
      "black          0.1774      0.018      9.659      0.000       0.141       0.213\n",
      "==============================================================================\n",
      "Omnibus:                      969.841   Durbin-Watson:                   1.517\n",
      "Prob(Omnibus):                  0.000   Jarque-Bera (JB):             3013.280\n",
      "Skew:                           2.168   Prob(JB):                         0.00\n",
      "Kurtosis:                       6.403   Cond. No.                         10.5\n",
      "==============================================================================\n",
      "\n",
      "Warnings:\n",
      "[1] Standard Errors assume that the covariance matrix of the errors is correctly specified.\n"
     ]
    }
   ],
   "source": [
    "reg1 = sm.OLS(endog=data['deny'], exog=data[['const','dir','black']], missing='drop')\n",
    "type(reg1)\n",
    "\n",
    "results = reg1.fit()\n",
    "type(results)\n",
    "\n",
    "print(results.summary())\n"
   ]
  },
  {
   "cell_type": "code",
   "execution_count": 4,
   "metadata": {},
   "outputs": [
    {
     "name": "stdout",
     "output_type": "stream",
     "text": [
      "Optimization terminated successfully.\n",
      "         Current function value: 0.349493\n",
      "         Iterations 6\n",
      "Parameters:  const   -2.194159\n",
      "dir      2.967908\n",
      "dtype: float64\n",
      "Marginal effects: \n",
      "       Probit Marginal Effects       \n",
      "=====================================\n",
      "Dep. Variable:                   deny\n",
      "Method:                          dydx\n",
      "At:                           overall\n",
      "==============================================================================\n",
      "                dy/dx    std err          z      P>|z|      [0.025      0.975]\n",
      "------------------------------------------------------------------------------\n",
      "dir            0.5665      0.068      8.274      0.000       0.432       0.701\n",
      "==============================================================================\n"
     ]
    }
   ],
   "source": [
    "probit_mod = sm.Probit(endog=data['deny'], exog=data[['const','dir']], missing='drop')\n",
    "probit_res = probit_mod.fit()\n",
    "probit_margeff = probit_res.get_margeff()\n",
    "print('Parameters: ', probit_res.params)\n",
    "print('Marginal effects: ')\n",
    "print(probit_margeff.summary())\n"
   ]
  },
  {
   "cell_type": "code",
   "execution_count": 5,
   "metadata": {},
   "outputs": [
    {
     "name": "stdout",
     "output_type": "stream",
     "text": [
      "Optimization terminated successfully.\n",
      "         Current function value: 0.334931\n",
      "         Iterations 6\n",
      "Parameters:  const   -2.258738\n",
      "dir      2.741637\n",
      "black    0.708158\n",
      "dtype: float64\n",
      "Marginal effects: \n",
      "       Probit Marginal Effects       \n",
      "=====================================\n",
      "Dep. Variable:                   deny\n",
      "Method:                          dydx\n",
      "At:                           overall\n",
      "==============================================================================\n",
      "                dy/dx    std err          z      P>|z|      [0.025      0.975]\n",
      "------------------------------------------------------------------------------\n",
      "dir            0.5014      0.066      7.650      0.000       0.373       0.630\n",
      "black          0.1295      0.015      8.607      0.000       0.100       0.159\n",
      "==============================================================================\n"
     ]
    }
   ],
   "source": [
    "probit_mod = sm.Probit(endog=data['deny'], exog=data[['const','dir', 'black']], missing='drop')\n",
    "probit_res = probit_mod.fit()\n",
    "probit_margeff = probit_res.get_margeff()\n",
    "print('Parameters: ', probit_res.params)\n",
    "print('Marginal effects: ')\n",
    "print(probit_margeff.summary())\n"
   ]
  },
  {
   "cell_type": "code",
   "execution_count": 6,
   "metadata": {},
   "outputs": [
    {
     "name": "stdout",
     "output_type": "stream",
     "text": [
      "Parameters:  const   -4.125558\n",
      "dir      5.370362\n",
      "black    1.272782\n",
      "dtype: float64\n",
      "        Logit Marginal Effects       \n",
      "=====================================\n",
      "Dep. Variable:                   deny\n",
      "Method:                          dydx\n",
      "At:                           overall\n",
      "==============================================================================\n",
      "                dy/dx    std err          z      P>|z|      [0.025      0.975]\n",
      "------------------------------------------------------------------------------\n",
      "dir            0.5183      0.070      7.430      0.000       0.382       0.655\n",
      "black          0.1228      0.014      8.791      0.000       0.095       0.150\n",
      "==============================================================================\n"
     ]
    }
   ],
   "source": [
    "logit_mod = sm.Logit(endog=data['deny'], exog=data[['const','dir', 'black']], missing='drop')\n",
    "logit_res = logit_mod.fit(disp=0)\n",
    "print('Parameters: ', logit_res.params)\n",
    "margeff = logit_res.get_margeff()\n",
    "print(margeff.summary())\n"
   ]
  },
  {
   "cell_type": "code",
   "execution_count": 7,
   "metadata": {},
   "outputs": [
    {
     "name": "stdout",
     "output_type": "stream",
     "text": [
      "<bound method NDFrame.head of         no    dir    hir       lvr  ccs  mcs  pbcr  dmi  self  single  uria  \\\n",
      "0        1  0.221  0.221  0.800000    5    2     0    0     0       0   3.9   \n",
      "1        2  0.265  0.265  0.921875    2    2     0    0     0       1   3.2   \n",
      "2        3  0.372  0.248  0.920398    1    2     0    0     0       0   3.2   \n",
      "3        4  0.320  0.250  0.860465    1    2     0    0     0       0   4.3   \n",
      "4        5  0.360  0.350  0.600000    1    1     0    0     0       0   3.2   \n",
      "...    ...    ...    ...       ...  ...  ...   ...  ...   ...     ...   ...   \n",
      "2375  2376  0.310  0.250  0.800000    1    1     0    0     1       0   3.2   \n",
      "2376  2377  0.300  0.300  0.777049    1    2     0    0     0       1   3.2   \n",
      "2377  2378  0.260  0.200  0.526761    2    1     0    0     0       0   3.1   \n",
      "2378  2379  0.320  0.260  0.753846    6    1     1    0     0       1   3.1   \n",
      "2379  2380  0.350  0.260  0.813559    2    2     0    0     0       1   4.3   \n",
      "\n",
      "      comdominiom  black  deny  const  hlvr  mlvr  \n",
      "0               0      0     0      1     0     1  \n",
      "1               0      0     0      1     0     1  \n",
      "2               0      0     0      1     0     1  \n",
      "3               0      0     0      1     0     1  \n",
      "4               0      0     0      1     0     0  \n",
      "...           ...    ...   ...    ...   ...   ...  \n",
      "2375            0      0     0      1     0     1  \n",
      "2376            1      0     0      1     0     0  \n",
      "2377            0      0     0      1     0     0  \n",
      "2378            1      1     1      1     0     0  \n",
      "2379            1      0     1      1     0     1  \n",
      "\n",
      "[2380 rows x 17 columns]>\n"
     ]
    }
   ],
   "source": [
    "data['hlvr'] = np.where(data['lvr']> 0.95, 1, 0)\n",
    "data['mlvr'] = np.where(np.logical_and(data['lvr']>=0.8, data['lvr']<0.95), 1, 0)\n",
    "\n",
    "print(data.head)"
   ]
  },
  {
   "cell_type": "code",
   "execution_count": 8,
   "metadata": {},
   "outputs": [
    {
     "name": "stdout",
     "output_type": "stream",
     "text": [
      "Parameters:  const   -5.698431\n",
      "dir      4.767830\n",
      "hir     -0.117021\n",
      "hlvr     1.480225\n",
      "mlvr     0.440225\n",
      "ccs      0.290728\n",
      "mcs      0.280424\n",
      "pbcr     1.224735\n",
      "dmi      4.584815\n",
      "self     0.662431\n",
      "black    0.695310\n",
      "dtype: float64\n",
      "        Logit Marginal Effects       \n",
      "=====================================\n",
      "Dep. Variable:                   deny\n",
      "Method:                          dydx\n",
      "At:                           overall\n",
      "==============================================================================\n",
      "                dy/dx    std err          z      P>|z|      [0.025      0.975]\n",
      "------------------------------------------------------------------------------\n",
      "dir            0.3585      0.078      4.587      0.000       0.205       0.512\n",
      "hir           -0.0088      0.093     -0.094      0.925      -0.191       0.174\n",
      "hlvr           0.1113      0.023      4.779      0.000       0.066       0.157\n",
      "mlvr           0.0331      0.012      2.767      0.006       0.010       0.057\n",
      "ccs            0.0219      0.003      7.319      0.000       0.016       0.028\n",
      "mcs            0.0211      0.011      2.007      0.045       0.000       0.042\n",
      "pbcr           0.0921      0.015      6.078      0.000       0.062       0.122\n",
      "dmi            0.3447      0.040      8.597      0.000       0.266       0.423\n",
      "self           0.0498      0.016      3.131      0.002       0.019       0.081\n",
      "black          0.0523      0.013      3.942      0.000       0.026       0.078\n",
      "==============================================================================\n"
     ]
    }
   ],
   "source": [
    "logit_mod = sm.Logit(endog=data['deny'], exog=data[['const','dir','hir','hlvr','mlvr', 'ccs', 'mcs', 'pbcr','dmi','self','black']], missing='drop')\n",
    "logit_res = logit_mod.fit(disp=0)\n",
    "print('Parameters: ', logit_res.params)\n",
    "margeff = logit_res.get_margeff()\n",
    "print(margeff.summary())\n"
   ]
  },
  {
   "cell_type": "code",
   "execution_count": 9,
   "metadata": {},
   "outputs": [
    {
     "name": "stdout",
     "output_type": "stream",
     "text": [
      "Parameters:  const         -5.956167\n",
      "dir            4.766826\n",
      "hir           -0.330816\n",
      "hlvr           1.454691\n",
      "mlvr           0.449005\n",
      "ccs            0.296042\n",
      "mcs            0.224631\n",
      "pbcr           1.229587\n",
      "dmi            4.583084\n",
      "self           0.608357\n",
      "single         0.404211\n",
      "uria           0.063557\n",
      "comdominiom   -0.073056\n",
      "black          0.702372\n",
      "dtype: float64\n",
      "        Logit Marginal Effects       \n",
      "=====================================\n",
      "Dep. Variable:                   deny\n",
      "Method:                          dydx\n",
      "At:                           overall\n",
      "===============================================================================\n",
      "                 dy/dx    std err          z      P>|z|      [0.025      0.975]\n",
      "-------------------------------------------------------------------------------\n",
      "dir             0.3561      0.077      4.612      0.000       0.205       0.507\n",
      "hir            -0.0247      0.093     -0.265      0.791      -0.207       0.158\n",
      "hlvr            0.1087      0.023      4.638      0.000       0.063       0.155\n",
      "mlvr            0.0335      0.012      2.817      0.005       0.010       0.057\n",
      "ccs             0.0221      0.003      7.428      0.000       0.016       0.028\n",
      "mcs             0.0168      0.011      1.570      0.116      -0.004       0.038\n",
      "pbcr            0.0919      0.015      6.076      0.000       0.062       0.121\n",
      "dmi             0.3424      0.040      8.534      0.000       0.264       0.421\n",
      "self            0.0454      0.016      2.844      0.004       0.014       0.077\n",
      "single          0.0302      0.012      2.570      0.010       0.007       0.053\n",
      "uria            0.0047      0.003      1.853      0.064      -0.000       0.010\n",
      "comdominiom    -0.0055      0.013     -0.426      0.670      -0.031       0.020\n",
      "black           0.0525      0.014      3.879      0.000       0.026       0.079\n",
      "===============================================================================\n"
     ]
    }
   ],
   "source": [
    "logit_mod = sm.Logit(endog=data['deny'], exog=data[['const','dir','hir','hlvr','mlvr','ccs', 'mcs', 'pbcr','dmi','self','single','uria','comdominiom','black']], missing='drop')\n",
    "logit_res = logit_mod.fit(disp=0)\n",
    "print('Parameters: ', logit_res.params)\n",
    "margeff = logit_res.get_margeff()\n",
    "print(margeff.summary())"
   ]
  },
  {
   "cell_type": "code",
   "execution_count": 10,
   "metadata": {},
   "outputs": [
    {
     "name": "stdout",
     "output_type": "stream",
     "text": [
      "Parameters:  const         -3.178738\n",
      "dir            2.445184\n",
      "hir           -0.280225\n",
      "hlvr           0.777843\n",
      "mlvr           0.209852\n",
      "ccs            0.157972\n",
      "mcs            0.116605\n",
      "pbcr           0.699671\n",
      "dmi            2.580887\n",
      "self           0.332170\n",
      "single         0.219837\n",
      "uria           0.033047\n",
      "comdominiom   -0.032228\n",
      "black          0.392950\n",
      "dtype: float64\n",
      "       Probit Marginal Effects       \n",
      "=====================================\n",
      "Dep. Variable:                   deny\n",
      "Method:                          dydx\n",
      "At:                           overall\n",
      "===============================================================================\n",
      "                 dy/dx    std err          z      P>|z|      [0.025      0.975]\n",
      "-------------------------------------------------------------------------------\n",
      "dir             0.3520      0.077      4.598      0.000       0.202       0.502\n",
      "hir            -0.0403      0.095     -0.427      0.670      -0.226       0.145\n",
      "hlvr            0.1120      0.025      4.427      0.000       0.062       0.162\n",
      "mlvr            0.0302      0.012      2.546      0.011       0.007       0.053\n",
      "ccs             0.0227      0.003      7.335      0.000       0.017       0.029\n",
      "mcs             0.0168      0.011      1.554      0.120      -0.004       0.038\n",
      "pbcr            0.1007      0.017      5.919      0.000       0.067       0.134\n",
      "dmi             0.3715      0.040      9.273      0.000       0.293       0.450\n",
      "self            0.0478      0.016      2.943      0.003       0.016       0.080\n",
      "single          0.0316      0.012      2.691      0.007       0.009       0.055\n",
      "uria            0.0048      0.003      1.824      0.068      -0.000       0.010\n",
      "comdominiom    -0.0046      0.013     -0.361      0.718      -0.030       0.021\n",
      "black           0.0566      0.014      3.976      0.000       0.029       0.084\n",
      "===============================================================================\n"
     ]
    }
   ],
   "source": [
    "probit_mod = sm.Probit(endog=data['deny'], exog=data[['const','dir','hir','hlvr','mlvr','ccs', 'mcs', 'pbcr','dmi','self','single','uria','comdominiom','black']], missing='drop')\n",
    "probit_res = probit_mod.fit(disp=0)\n",
    "print('Parameters: ', probit_res.params)\n",
    "margeff = probit_res.get_margeff()\n",
    "print(margeff.summary())\n"
   ]
  },
  {
   "cell_type": "code",
   "execution_count": null,
   "metadata": {},
   "outputs": [],
   "source": []
  }
 ],
 "metadata": {
  "kernelspec": {
   "display_name": "Python 3",
   "language": "python",
   "name": "python3"
  },
  "language_info": {
   "codemirror_mode": {
    "name": "ipython",
    "version": 3
   },
   "file_extension": ".py",
   "mimetype": "text/x-python",
   "name": "python",
   "nbconvert_exporter": "python",
   "pygments_lexer": "ipython3",
   "version": "3.7.6"
  }
 },
 "nbformat": 4,
 "nbformat_minor": 2
}
