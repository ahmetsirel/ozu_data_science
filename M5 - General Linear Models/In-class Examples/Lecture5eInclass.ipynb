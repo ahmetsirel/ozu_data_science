{
 "cells": [
  {
   "cell_type": "code",
   "execution_count": null,
   "metadata": {},
   "outputs": [],
   "source": [
    "import pandas as pd\n",
    "import numpy as np\n",
    "import seaborn as sns\n",
    "import matplotlib\n",
    "import matplotlib.pyplot as plt\n",
    "import warnings\n",
    "import xgboost as xgb\n",
    "import lightgbm as lgb\n",
    "from scipy.stats import skew\n",
    "from scipy import stats\n",
    "from scipy.stats.stats import pearsonr\n",
    "from scipy.stats import norm\n",
    "from collections import Counter\n",
    "from sklearn.linear_model import LinearRegression,LassoCV, Ridge, LassoLarsCV,ElasticNetCV\n",
    "from sklearn.model_selection import GridSearchCV, cross_val_score, learning_curve\n",
    "from sklearn.ensemble import RandomForestRegressor, AdaBoostRegressor, ExtraTreesRegressor, GradientBoostingRegressor\n",
    "from sklearn.preprocessing import StandardScaler, Normalizer, RobustScaler\n",
    "from sklearn import metrics\n",
    "from sklearn.model_selection import train_test_split, GridSearchCV\n",
    "from sklearn.linear_model import LinearRegression, Ridge, Lasso, ElasticNet\n",
    "\n",
    "\n",
    "import warnings\n",
    "warnings.filterwarnings(\"ignore\")\n",
    "\n",
    "np.random.seed(1907)\n",
    "\n",
    "df = pd.read_csv(\"communities.csv\")\n",
    "\n",
    "print(\"The data size:\", df.shape)\n",
    "#print(df['SalePrice'].describe())\n",
    "\n",
    "df= df.drop('county', axis = 1)\n",
    "df= df.drop('community', axis = 1)\n",
    "df= df.drop('communityname', axis = 1)\n",
    "\n",
    "df.fillna(0, inplace=True)\n",
    "\n",
    "df_na = (df.isnull().sum() / len(df)) * 100\n",
    "df_na = df_na.drop(df_na[df_na == 0].index).sort_values(ascending=False)[:30]\n",
    "missing_data = pd.DataFrame({'Missing Ratio' :df_na})\n",
    "print(missing_data)\n",
    "\n",
    "print(df.head())\n",
    "print(\"The data size:\", df.shape)\n",
    "\n",
    "df = pd.get_dummies(df)\n",
    "\n",
    "labels = np.array(df['ViolentCrimesPerPop'])\n",
    "df= df.drop('ViolentCrimesPerPop', axis = 1)\n",
    "\n",
    "\n",
    "train, test, y_train, y_test = train_test_split(df, labels, test_size = 0.25, random_state = 18)"
   ]
  },
  {
   "cell_type": "code",
   "execution_count": null,
   "metadata": {},
   "outputs": [],
   "source": []
  }
 ],
 "metadata": {
  "kernelspec": {
   "display_name": "Python 3",
   "language": "python",
   "name": "python3"
  },
  "language_info": {
   "codemirror_mode": {
    "name": "ipython",
    "version": 3
   },
   "file_extension": ".py",
   "mimetype": "text/x-python",
   "name": "python",
   "nbconvert_exporter": "python",
   "pygments_lexer": "ipython3",
   "version": "3.7.6"
  }
 },
 "nbformat": 4,
 "nbformat_minor": 2
}
