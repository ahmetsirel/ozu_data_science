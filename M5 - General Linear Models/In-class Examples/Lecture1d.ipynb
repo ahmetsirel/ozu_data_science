{
 "cells": [
  {
   "cell_type": "code",
   "execution_count": 1,
   "metadata": {},
   "outputs": [],
   "source": [
    "from IPython.display import HTML, display\n",
    "\n",
    "import statsmodels.api as sm\n",
    "from statsmodels.formula.api import ols\n",
    "from statsmodels.sandbox.regression.predstd import wls_prediction_std\n",
    "\n",
    "from scipy import stats\n",
    "\n",
    "import matplotlib.pyplot as plt\n",
    "\n",
    "import pandas as pd\n",
    "import numpy as np\n",
    "import ast\n",
    "import random\n",
    "import math \n",
    "import time\n",
    "import sys \n",
    "\n",
    "\n",
    "df = pd.read_csv('Marketing.csv', encoding='latin-1')\n",
    "\n",
    "\n",
    "Week1 = df[df[\"Week\"]==1]\n",
    "Week2 = df[df[\"Week\"]==2]\n",
    "Week3 = df[df[\"Week\"]==3]\n",
    "Week4 = df[df[\"Week\"]==4]\n",
    "\n",
    "Pro1Week1 = Week1[Week1[\"Promotion\"]==1]\n",
    "Pro2Week1 = Week1[Week1[\"Promotion\"]==2]\n",
    "Pro3Week1 = Week1[Week1[\"Promotion\"]==3]"
   ]
  },
  {
   "cell_type": "code",
   "execution_count": 2,
   "metadata": {},
   "outputs": [
    {
     "name": "stdout",
     "output_type": "stream",
     "text": [
      "Sample Size: 43\n",
      "Pro1Week1 Mean: 58.24441860465118\n",
      "Pro1Week1 Median: 53.79\n",
      "Pro1Week1 Std Dev: 16.798929288772232\n",
      "Pro2Week1 Mean: 47.73021276595744\n",
      "Pro2Week1 Median: 46.02\n",
      "Pro2Week1 Std Dev: 14.387406100530166\n",
      "Pro3Week1 Mean: 55.77617021276597\n",
      "Pro3Week1 Median: 51.01\n",
      "Pro3Week1 Std Dev: 18.071908726359705\n"
     ]
    }
   ],
   "source": [
    "print(\"Sample Size:\", len(Pro1Week1))\n",
    "print(\"Pro1Week1 Mean:\", Pro1Week1[\"SalesInThousands\"].mean())\n",
    "print(\"Pro1Week1 Median:\",Pro1Week1[\"SalesInThousands\"].median())\n",
    "print(\"Pro1Week1 Std Dev:\",Pro1Week1[\"SalesInThousands\"].std())\n",
    "\n",
    "print(\"Pro2Week1 Mean:\", Pro2Week1[\"SalesInThousands\"].mean())\n",
    "print(\"Pro2Week1 Median:\",Pro2Week1[\"SalesInThousands\"].median())\n",
    "print(\"Pro2Week1 Std Dev:\",Pro2Week1[\"SalesInThousands\"].std())\n",
    "\n",
    "print(\"Pro3Week1 Mean:\", Pro3Week1[\"SalesInThousands\"].mean())\n",
    "print(\"Pro3Week1 Median:\",Pro3Week1[\"SalesInThousands\"].median())\n",
    "print(\"Pro3Week1 Std Dev:\",Pro3Week1[\"SalesInThousands\"].std())"
   ]
  },
  {
   "cell_type": "code",
   "execution_count": 3,
   "metadata": {},
   "outputs": [
    {
     "name": "stdout",
     "output_type": "stream",
     "text": [
      "Ttest_indResult(statistic=2.269015557987717, pvalue=0.025858560270381487)\n",
      "Ttest_indResult(statistic=0.15527137172582198, pvalue=0.8769838704780163)\n",
      "Ttest_indResult(statistic=0.12738592712363772, pvalue=0.8989256754492767)\n"
     ]
    }
   ],
   "source": [
    "print(stats.ttest_ind(a= Pro1Week1[\"SalesInThousands\"],\n",
    "                b= Pro2Week1[\"SalesInThousands\"] + 3,\n",
    "                equal_var=False))    # Assume samples have equal variance?\n",
    "\n",
    "print(stats.ttest_ind(a= Pro1Week1[\"SalesInThousands\"],\n",
    "                b= Pro2Week1[\"SalesInThousands\"] + 10,\n",
    "                equal_var=False))    # Assume samples have equal variance?\n",
    "\n",
    "print(stats.ttest_ind(a= Pro1Week1[\"SalesInThousands\"],\n",
    "                b= Pro3Week1[\"SalesInThousands\"] + 2,\n",
    "                equal_var=False))    # Assume samples have equal variance?"
   ]
  },
  {
   "cell_type": "code",
   "execution_count": null,
   "metadata": {},
   "outputs": [],
   "source": []
  }
 ],
 "metadata": {
  "kernelspec": {
   "display_name": "Python 3",
   "language": "python",
   "name": "python3"
  },
  "language_info": {
   "codemirror_mode": {
    "name": "ipython",
    "version": 3
   },
   "file_extension": ".py",
   "mimetype": "text/x-python",
   "name": "python",
   "nbconvert_exporter": "python",
   "pygments_lexer": "ipython3",
   "version": "3.7.6"
  }
 },
 "nbformat": 4,
 "nbformat_minor": 2
}
