{
 "cells": [
  {
   "cell_type": "code",
   "execution_count": null,
   "metadata": {},
   "outputs": [],
   "source": [
    "from IPython.display import HTML, display\n",
    "\n",
    "import statsmodels.api as sm\n",
    "from statsmodels.formula.api import ols\n",
    "from statsmodels.sandbox.regression.predstd import wls_prediction_std\n",
    "from sklearn.model_selection import train_test_split\n",
    "from scipy import stats\n",
    "import statsmodels.formula.api as smf\n",
    "import matplotlib.pyplot as plt\n",
    "from statsmodels.regression.quantile_regression import QuantReg\n",
    "\n",
    "\n",
    "import matplotlib.pyplot as plt\n",
    "import seaborn as sns\n",
    "\n",
    "sns.set_style(\"darkgrid\")\n",
    "\n",
    "import pandas as pd\n",
    "import numpy as np\n",
    "import ast\n",
    "import random\n",
    "import math \n",
    "import time\n",
    "import sys \n",
    "\n",
    "df = pd.read_csv('Caschool.csv', encoding='latin-1')\n",
    "\n",
    "\n",
    "df = sm.add_constant(df) \n",
    "\n",
    "\n",
    "res_ols = sm.OLS(endog=df['testscr'], exog=df[['const','str']]).fit()\n",
    "print(res_ols.summary())"
   ]
  },
  {
   "cell_type": "code",
   "execution_count": null,
   "metadata": {},
   "outputs": [],
   "source": [
    "mod = smf.quantreg('testscr ~ str', df)\n",
    "\n",
    "#mod = smf.quantreg(train_y,train_x)\n",
    "\n",
    "# Quantile regression for 5 quantiles\n",
    "\n",
    "\n",
    "quantiles = [.05, .25, .50, .75, .95]\n",
    "\n",
    "# get all result instances in a list\n",
    "res_all = [mod.fit(q=q) for q in quantiles]\n",
    "\n",
    "plt.figure(figsize=(9 * 1.618, 9))\n",
    "\n",
    "# create x for prediction\n",
    "x_p = np.linspace(df.str.min(), df.str.max(), 50)\n",
    "df_p = pd.DataFrame({'str': x_p})\n",
    "df_p2 = sm.add_constant(df_p) \n",
    "\n",
    "for qm, res in zip(quantiles, res_all):\n",
    "    # get prediction for the model and plot\n",
    "    # here we use a dict which works the same way as the df in ols\n",
    "    plt.plot(x_p, res.predict({'str': x_p}), linestyle='--', lw=1, color='k')\n",
    "    \n",
    "y_ols_predicted = res_ols.predict(df_p2)\n",
    "plt.plot(x_p, y_ols_predicted, color='red', label='OLS')\n",
    "plt.scatter(df.str, df.testscr, alpha=.2)\n",
    "plt.title('QUANTILE REGRESSION', fontsize=14)\n"
   ]
  },
  {
   "cell_type": "code",
   "execution_count": null,
   "metadata": {},
   "outputs": [],
   "source": []
  }
 ],
 "metadata": {
  "kernelspec": {
   "display_name": "Python 3",
   "language": "python",
   "name": "python3"
  },
  "language_info": {
   "codemirror_mode": {
    "name": "ipython",
    "version": 3
   },
   "file_extension": ".py",
   "mimetype": "text/x-python",
   "name": "python",
   "nbconvert_exporter": "python",
   "pygments_lexer": "ipython3",
   "version": "3.7.6"
  }
 },
 "nbformat": 4,
 "nbformat_minor": 2
}
