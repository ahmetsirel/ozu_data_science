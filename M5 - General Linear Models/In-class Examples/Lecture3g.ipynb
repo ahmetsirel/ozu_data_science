{
 "cells": [
  {
   "cell_type": "code",
   "execution_count": null,
   "metadata": {},
   "outputs": [],
   "source": [
    "import pandas as pd\n",
    "import numpy as np\n",
    "from sklearn import linear_model\n",
    "from sklearn import metrics\n",
    "from sklearn.model_selection import train_test_split\n",
    "import statsmodels.api as sm\n",
    "\n",
    "np.random.seed(12)\n",
    "\n",
    "glass_data = pd.read_csv(\"glass.csv\")\n",
    "\n",
    "print(glass_data.head)\n",
    "print (\"Number of observations: \", len(glass_data.index))\n",
    "print (\"Number of columns: \", len(glass_data.columns))\n",
    "print (\"Headers: \", glass_data.columns.values)\n",
    "        \n",
    "labels = np.array(glass_data['glass-type'])\n",
    "glass_data= glass_data.drop('glass-type', axis = 1)\n",
    "glass_data = np.array(glass_data)\n",
    "train_x, test_x, train_y, test_y = train_test_split(glass_data, labels, test_size = 0.3, random_state = 42)"
   ]
  },
  {
   "cell_type": "code",
   "execution_count": null,
   "metadata": {},
   "outputs": [],
   "source": [
    "# Train multi-classification model with logistic regression\n",
    "lr = linear_model.LogisticRegression()\n",
    "model = lr.fit(train_x, train_y)\n",
    " \n",
    "print(model.coef_)\n",
    "\n",
    "print (\"Logistic regression Train Accuracy :: \", metrics.accuracy_score(train_y, lr.predict(train_x)))\n",
    "print (\"Logistic regression Test Accuracy :: \", metrics.accuracy_score(test_y, lr.predict(test_x)))"
   ]
  },
  {
   "cell_type": "code",
   "execution_count": null,
   "metadata": {},
   "outputs": [],
   "source": [
    "# Train multinomial logistic regression model\n",
    "mul_lr = linear_model.LogisticRegression(multi_class='multinomial', solver='newton-cg').fit(train_x, train_y)\n",
    " \n",
    "print(mul_lr.coef_)\n",
    "\n",
    "print (\"Multinomial Logistic regression Train Accuracy :: \", metrics.accuracy_score(train_y, mul_lr.predict(train_x)))\n",
    "print (\"Multinomial Logistic regression Test Accuracy :: \", metrics.accuracy_score(test_y, mul_lr.predict(test_x)))"
   ]
  },
  {
   "cell_type": "code",
   "execution_count": null,
   "metadata": {},
   "outputs": [],
   "source": []
  }
 ],
 "metadata": {
  "kernelspec": {
   "display_name": "Python 3",
   "language": "python",
   "name": "python3"
  },
  "language_info": {
   "codemirror_mode": {
    "name": "ipython",
    "version": 3
   },
   "file_extension": ".py",
   "mimetype": "text/x-python",
   "name": "python",
   "nbconvert_exporter": "python",
   "pygments_lexer": "ipython3",
   "version": "3.7.6"
  }
 },
 "nbformat": 4,
 "nbformat_minor": 2
}
