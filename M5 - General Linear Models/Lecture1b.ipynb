{
 "cells": [
  {
   "cell_type": "code",
   "execution_count": 1,
   "metadata": {},
   "outputs": [
    {
     "name": "stdout",
     "output_type": "stream",
     "text": [
      "Sample Size: 420\n",
      "Test Score Mean: 654.156548055013\n",
      "Test Score Median: 654.4499816894536\n",
      "Test Score Std Dev: 19.053347643618803\n",
      "STRatio Mean: 19.64042526199704\n",
      "STRatio Median: 19.7232084274292\n",
      "STRatio Std Dev: 1.8918117872336768\n"
     ]
    },
    {
     "data": {
      "image/png": "[encoded data removed]",
      "text/plain": [
       "<Figure size 432x288 with 1 Axes>"
      ]
     },
     "metadata": {
      "needs_background": "light"
     },
     "output_type": "display_data"
    }
   ],
   "source": [
    "from IPython.display import HTML, display\n",
    "\n",
    "import statsmodels.api as sm\n",
    "from statsmodels.formula.api import ols\n",
    "from statsmodels.sandbox.regression.predstd import wls_prediction_std\n",
    "\n",
    "from scipy import stats\n",
    "\n",
    "import matplotlib.pyplot as plt\n",
    "\n",
    "import pandas as pd\n",
    "import numpy as np\n",
    "import ast\n",
    "import random\n",
    "import math \n",
    "import time\n",
    "import sys \n",
    "\n",
    "df = pd.read_csv('Caschool.csv', encoding='latin-1')\n",
    "\n",
    "print(\"Sample Size:\", len(df))\n",
    "print(\"Test Score Mean:\", df[\"testscr\"].mean())\n",
    "print(\"Test Score Median:\",df[\"testscr\"].median())\n",
    "print(\"Test Score Std Dev:\",df[\"testscr\"].std())\n",
    "\n",
    "print(\"STRatio Mean:\", df[\"str\"].mean())\n",
    "print(\"STRatio Median:\",df[\"str\"].median())\n",
    "print(\"STRatio Std Dev:\",df[\"str\"].std())\n",
    "\n",
    "ax1 = df.plot.scatter(x='str', y='testscr', c='DarkBlue')\n",
    "\n",
    "\n"
   ]
  },
  {
   "cell_type": "code",
   "execution_count": 2,
   "metadata": {},
   "outputs": [
    {
     "name": "stdout",
     "output_type": "stream",
     "text": [
      "Small Sample Size: 238\n",
      "Small Test Score Mean: 657.3512591193704\n",
      "Small Test Score Median: 656.5250244140625\n",
      "Small Test Score Std Dev: 19.35801231114866\n",
      "Large Sample Size: 182\n",
      "Large Test Score Mean: 649.9788489708534\n",
      "Large Test Score Median: 651.625030517578\n",
      "Large Test Score Std Dev: 17.853363795805546\n",
      "Score Difference: 7.3724101485170195\n"
     ]
    }
   ],
   "source": [
    "small = df[df[\"str\"]<20]\n",
    "large = df[df[\"str\"]>=20]\n",
    "\n",
    "print(\"Small Sample Size:\", len(small))\n",
    "print(\"Small Test Score Mean:\", small[\"testscr\"].mean())\n",
    "print(\"Small Test Score Median:\",small[\"testscr\"].median())\n",
    "print(\"Small Test Score Std Dev:\",small[\"testscr\"].std())\n",
    "\n",
    "\n",
    "print(\"Large Sample Size:\", len(large))\n",
    "print(\"Large Test Score Mean:\", large[\"testscr\"].mean())\n",
    "print(\"Large Test Score Median:\",large[\"testscr\"].median())\n",
    "print(\"Large Test Score Std Dev:\",large[\"testscr\"].std())\n",
    "\n",
    "\n",
    "Difference = small[\"testscr\"].mean()-large[\"testscr\"].mean()\n",
    "print(\"Score Difference:\", Difference)"
   ]
  },
  {
   "cell_type": "code",
   "execution_count": 3,
   "metadata": {},
   "outputs": [
    {
     "name": "stdout",
     "output_type": "stream",
     "text": [
      "Ttest_indResult(statistic=4.042581848666623, pvalue=6.332554425241345e-05)\n"
     ]
    }
   ],
   "source": [
    "#Two-Sample T-Test\n",
    "\n",
    "print(stats.ttest_ind(a= small[\"testscr\"],\n",
    "                b= large[\"testscr\"],\n",
    "                equal_var=False))    # Assume samples have equal variance?\n",
    "\n"
   ]
  },
  {
   "cell_type": "code",
   "execution_count": 4,
   "metadata": {},
   "outputs": [
    {
     "name": "stdout",
     "output_type": "stream",
     "text": [
      "z-critical value: 1.959963984540054\n",
      "StandardError: 1.8236885298807022\n",
      "Confidence interval:\n",
      "(3.798046310932045, 10.946773986101995)\n"
     ]
    }
   ],
   "source": [
    "z_critical = stats.norm.ppf(q = 0.975)  # Get the z-critical value* \n",
    "\n",
    "print(\"z-critical value:\", z_critical)              # Check the z-critical value\n",
    "\n",
    "#margin_of_error = z_critical * stats.sem(Weight)\n",
    "\n",
    "StandardError = math.sqrt(small[\"testscr\"].std()**2/len(small)+large[\"testscr\"].std()**2/len(large))\n",
    "\n",
    "print(\"StandardError:\", StandardError) \n",
    "\n",
    "margin_of_error = z_critical * StandardError\n",
    "\n",
    "\n",
    "\n",
    "confidence_interval = (Difference - margin_of_error,\n",
    "                       Difference + margin_of_error)  \n",
    "\n",
    "print(\"Confidence interval:\")\n",
    "print(confidence_interval)"
   ]
  },
  {
   "cell_type": "code",
   "execution_count": null,
   "metadata": {},
   "outputs": [],
   "source": []
  }
 ],
 "metadata": {
  "kernelspec": {
   "display_name": "Python 3",
   "language": "python",
   "name": "python3"
  },
  "language_info": {
   "codemirror_mode": {
    "name": "ipython",
    "version": 3
   },
   "file_extension": ".py",
   "mimetype": "text/x-python",
   "name": "python",
   "nbconvert_exporter": "python",
   "pygments_lexer": "ipython3",
   "version": "3.7.6"
  }
 },
 "nbformat": 4,
 "nbformat_minor": 2
}
