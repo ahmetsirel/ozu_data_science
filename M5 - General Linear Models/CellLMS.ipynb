{
 "cells": [
  {
   "cell_type": "code",
   "execution_count": 9,
   "metadata": {},
   "outputs": [
    {
     "name": "stdout",
     "output_type": "stream",
     "text": [
      "The data size: (38941, 72)\n"
     ]
    }
   ],
   "source": [
    "import pandas as pd\n",
    "import numpy as np\n",
    "import lightgbm as lgb\n",
    "import matplotlib.pyplot as plt\n",
    "import seaborn as sns\n",
    "import statsmodels.api as sm\n",
    "from sklearn import metrics\n",
    "\n",
    "\n",
    "np.random.seed(1907)\n",
    "\n",
    "df = pd.read_csv(\"cell2cell-v1.csv\")\n",
    "df.dropna(inplace= True)\n",
    "\n",
    "df= df.drop('Unnamed: 0', axis = 1)\n",
    "df= df.drop('X', axis = 1)\n",
    "df= df.drop('customer', axis = 1)\n",
    "df= df.drop('traintest', axis = 1)\n",
    "df= df.drop('churn', axis = 1)\n",
    "df= df.drop('churndep', axis = 1)\n",
    "df= df.drop('recchrge', axis = 1)\n",
    "\n",
    "df = pd.get_dummies(df)\n",
    "\n",
    "labels = np.array(df['revenue'])\n",
    "df= df.drop('revenue', axis = 1)\n",
    "\n",
    "\n",
    "from sklearn.model_selection import train_test_split\n",
    "train_x, test_x, train_y, test_y = train_test_split(df, labels, test_size = 0.25, random_state = 42)\n"
   ]
  },
  {
   "cell_type": "code",
   "execution_count": null,
   "metadata": {},
   "outputs": [],
   "source": []
  }
 ],
 "metadata": {
  "kernelspec": {
   "display_name": "Python 3",
   "language": "python",
   "name": "python3"
  },
  "language_info": {
   "codemirror_mode": {
    "name": "ipython",
    "version": 3
   },
   "file_extension": ".py",
   "mimetype": "text/x-python",
   "name": "python",
   "nbconvert_exporter": "python",
   "pygments_lexer": "ipython3",
   "version": "3.7.6"
  }
 },
 "nbformat": 4,
 "nbformat_minor": 2
}
