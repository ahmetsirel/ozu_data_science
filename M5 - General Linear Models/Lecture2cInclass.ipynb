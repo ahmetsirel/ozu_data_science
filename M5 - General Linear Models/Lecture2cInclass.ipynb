{
 "cells": [
  {
   "cell_type": "code",
   "execution_count": null,
   "metadata": {
    "scrolled": true
   },
   "outputs": [],
   "source": [
    "from IPython.display import HTML, display\n",
    "\n",
    "import statsmodels.api as sm\n",
    "from statsmodels.formula.api import ols\n",
    "from statsmodels.sandbox.regression.predstd import wls_prediction_std\n",
    "\n",
    "from scipy import stats\n",
    "\n",
    "import matplotlib.pyplot as plt\n",
    "import seaborn as sns\n",
    "\n",
    "sns.set_style(\"darkgrid\")\n",
    "\n",
    "import pandas as pd\n",
    "\n",
    "df = pd.read_csv('Advertising.csv', encoding='latin-1')\n",
    "\n",
    "print(\"Sample Size:\", len(df))\n",
    "print(\"Sales Mean:\", df[\"sales\"].mean())\n",
    "print(\"Sales Median:\",df[\"sales\"].median())\n",
    "print(\"Sales Std Dev:\",df[\"sales\"].std())\n",
    "\n",
    "print(\"Newspaper Mean:\", df[\"newspaper\"].mean())\n",
    "print(\"Newspaper Median:\",df[\"newspaper\"].median())\n",
    "print(\"Newspaper Std Dev:\",df[\"newspaper\"].std())\n",
    "\n",
    "ax1 = df.plot.scatter(x='newspaper', y='sales', c='DarkBlue')\n"
   ]
  },
  {
   "cell_type": "code",
   "execution_count": null,
   "metadata": {},
   "outputs": [],
   "source": []
  }
 ],
 "metadata": {
  "kernelspec": {
   "display_name": "Python 3",
   "language": "python",
   "name": "python3"
  },
  "language_info": {
   "codemirror_mode": {
    "name": "ipython",
    "version": 3
   },
   "file_extension": ".py",
   "mimetype": "text/x-python",
   "name": "python",
   "nbconvert_exporter": "python",
   "pygments_lexer": "ipython3",
   "version": "3.7.6"
  }
 },
 "nbformat": 4,
 "nbformat_minor": 2
}
