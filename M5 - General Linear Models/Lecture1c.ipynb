{
 "cells": [
  {
   "cell_type": "code",
   "execution_count": 5,
   "metadata": {},
   "outputs": [
    {
     "name": "stdout",
     "output_type": "stream",
     "text": [
      "43.000112\n",
      "39.26\n"
     ]
    }
   ],
   "source": [
    "from IPython.display import HTML, display\n",
    "\n",
    "import statsmodels.api as sm\n",
    "from statsmodels.formula.api import ols\n",
    "from statsmodels.sandbox.regression.predstd import wls_prediction_std\n",
    "\n",
    "from scipy import stats\n",
    "\n",
    "import matplotlib.pyplot as plt\n",
    "\n",
    "import pandas as pd\n",
    "import numpy as np\n",
    "import ast\n",
    "import random\n",
    "import math \n",
    "import time\n",
    "import sys \n",
    "\n",
    "np.random.seed(6)\n",
    "\n",
    "population_ages1 = stats.poisson.rvs(loc=18, mu=35, size=150000)\n",
    "population_ages2 = stats.poisson.rvs(loc=18, mu=10, size=100000)\n",
    "population_ages = np.concatenate((population_ages1, population_ages2))\n",
    "\n",
    "minnesota_ages1 = stats.poisson.rvs(loc=18, mu=30, size=30)\n",
    "minnesota_ages2 = stats.poisson.rvs(loc=18, mu=10, size=20)\n",
    "minnesota_ages = np.concatenate((minnesota_ages1, minnesota_ages2))\n",
    "\n",
    "print( population_ages.mean() )\n",
    "print( minnesota_ages.mean() )"
   ]
  },
  {
   "cell_type": "code",
   "execution_count": 6,
   "metadata": {},
   "outputs": [
    {
     "name": "stdout",
     "output_type": "stream",
     "text": [
      "Ttest_1sampResult(statistic=-2.5742714883655027, pvalue=0.013118685425061678)\n",
      "-2.0095752344892093\n",
      "2.009575234489209\n",
      "Pvalue: 0.013121066545690117\n",
      "CI 95%: (36.369669080722176, 42.15033091927782)\n",
      "CI 99%: (35.40547994092107, 43.11452005907893)\n"
     ]
    }
   ],
   "source": [
    "#One-Sample T-Test\n",
    "\n",
    "print(stats.ttest_1samp(a= minnesota_ages,               # Sample data\n",
    "                 popmean= population_ages.mean())) #pop mean\n",
    "\n",
    "\n",
    "print(stats.t.ppf(q=0.025,  # Quantile to check\n",
    "            df=49))\n",
    "\n",
    "\n",
    "print(stats.t.ppf(q=0.975,  # Quantile to check\n",
    "            df=49))\n",
    "\n",
    "\n",
    "print(\"Pvalue:\", stats.t.cdf(x= -2.5742,    # T-test statistic\n",
    "               df= 49) * 2)                 # Mupltiply by two for two tailed test*\n",
    "\n",
    "sigma = minnesota_ages.std()/math.sqrt(50)  # Sample stdev/sample size\n",
    "\n",
    "print(\"CI 95%:\", stats.t.interval(0.95,                        # Confidence level\n",
    "                 df = 49,                     # Degrees of freedom\n",
    "                 loc = minnesota_ages.mean(), # Sample mean\n",
    "                 scale= sigma))                # Standard dev estimate\n",
    "\n",
    "\n",
    "print(\"CI 99%:\",stats.t.interval(0.99,                        # Confidence level\n",
    "                 df = 49,                     # Degrees of freedom\n",
    "                 loc = minnesota_ages.mean(), # Sample mean\n",
    "                 scale= sigma))                # Standard dev estimate"
   ]
  },
  {
   "cell_type": "code",
   "execution_count": 7,
   "metadata": {},
   "outputs": [
    {
     "name": "stdout",
     "output_type": "stream",
     "text": [
      "42.8\n",
      "Ttest_indResult(statistic=-1.7083870793286842, pvalue=0.09073104343957748)\n"
     ]
    }
   ],
   "source": [
    "#Two-Sample T-Test\n",
    "\n",
    "np.random.seed(12)\n",
    "wisconsin_ages1 = stats.poisson.rvs(loc=18, mu=33, size=30)\n",
    "wisconsin_ages2 = stats.poisson.rvs(loc=18, mu=13, size=20)\n",
    "wisconsin_ages = np.concatenate((wisconsin_ages1, wisconsin_ages2))\n",
    "\n",
    "print( wisconsin_ages.mean() )\n",
    "\n",
    "\n",
    "print(stats.ttest_ind(a= minnesota_ages,\n",
    "                b= wisconsin_ages,\n",
    "                equal_var=False))    # Assume samples have equal variance?"
   ]
  },
  {
   "cell_type": "code",
   "execution_count": 8,
   "metadata": {},
   "outputs": [
    {
     "name": "stdout",
     "output_type": "stream",
     "text": [
      "       weight_before  weight_after  weight_change\n",
      "count     100.000000    100.000000     100.000000\n",
      "mean      250.345546    250.115171      -0.230375\n",
      "std        28.132539     28.422183       4.783696\n",
      "min       170.400443    166.913930     -10.495286\n",
      "25%       230.421042    230.148236      -3.046211\n",
      "50%       250.830805    252.134089      -0.413463\n",
      "75%       270.637145    269.927258       2.738673\n",
      "max       314.700233    317.720357      10.759282\n",
      "Ttest_relResult(statistic=0.4815837177147337, pvalue=0.6311645282259187)\n"
     ]
    }
   ],
   "source": [
    "#Paired t test  weight-loss drug \n",
    "\n",
    "np.random.seed(11)\n",
    "\n",
    "before= stats.norm.rvs(scale=30, loc=250, size=100)\n",
    "\n",
    "after = before + stats.norm.rvs(scale=5, loc=-0.25, size=100)\n",
    "\n",
    "weight_df = pd.DataFrame({\"weight_before\":before,\n",
    "                          \"weight_after\":after,\n",
    "                          \"weight_change\":after-before})\n",
    "\n",
    "print(weight_df.describe())             # Check a summary of the data\n",
    "\n",
    "print(stats.ttest_rel(a = before,\n",
    "                b = after))"
   ]
  },
  {
   "cell_type": "code",
   "execution_count": null,
   "metadata": {},
   "outputs": [],
   "source": []
  }
 ],
 "metadata": {
  "kernelspec": {
   "display_name": "Python 3",
   "language": "python",
   "name": "python3"
  },
  "language_info": {
   "codemirror_mode": {
    "name": "ipython",
    "version": 3
   },
   "file_extension": ".py",
   "mimetype": "text/x-python",
   "name": "python",
   "nbconvert_exporter": "python",
   "pygments_lexer": "ipython3",
   "version": "3.7.6"
  }
 },
 "nbformat": 4,
 "nbformat_minor": 2
}
