{
 "cells": [
  {
   "cell_type": "code",
   "execution_count": null,
   "metadata": {},
   "outputs": [],
   "source": [
    "from IPython.display import HTML, display\n",
    "\n",
    "import statsmodels.api as sm\n",
    "from statsmodels.formula.api import ols\n",
    "from statsmodels.sandbox.regression.predstd import wls_prediction_std\n",
    "\n",
    "from scipy import stats\n",
    "\n",
    "import matplotlib.pyplot as plt\n",
    "import seaborn as sns\n",
    "\n",
    "sns.set_style(\"darkgrid\")\n",
    "\n",
    "import pandas as pd\n",
    "import numpy as np\n",
    "import ast\n",
    "import random\n",
    "import math \n",
    "import time\n",
    "import sys \n",
    "\n",
    "\n",
    "df = pd.read_csv('productivity.csv', encoding='latin-1')\n",
    "\n",
    "print(\"Sample Size:\", len(df))"
   ]
  },
  {
   "cell_type": "code",
   "execution_count": null,
   "metadata": {},
   "outputs": [],
   "source": [
    "df['const'] = 1\n",
    "\n",
    "#reg1 = sm.OLS(endog=df['GSP'], exog=df[['const','P_CAP','HWY']], missing='drop')\n",
    "reg1 = sm.OLS(endog=df['GSP'], exog=df[['const','P_CAP','HWY','EMP']], missing='drop')\n",
    "\n",
    "type(reg1)\n",
    "\n",
    "results = reg1.fit()\n",
    "type(results)\n",
    "\n",
    "print(results.summary())"
   ]
  },
  {
   "cell_type": "code",
   "execution_count": null,
   "metadata": {},
   "outputs": [],
   "source": [
    "df70 = df[df[\"YR\"]==1970]\n",
    "df86 = df[df[\"YR\"]==1986]\n",
    "\n",
    "#reg1 = sm.OLS(endog=df70['GSP'], exog=df70[['const','P_CAP','HWY']], missing='drop')\n",
    "reg1 = sm.OLS(endog=df70['GSP'], exog=df70[['const','P_CAP','HWY','EMP']], missing='drop')\n",
    "\n",
    "type(reg1)\n",
    "\n",
    "results = reg1.fit()\n",
    "type(results)\n",
    "\n",
    "print(results.summary())"
   ]
  },
  {
   "cell_type": "code",
   "execution_count": null,
   "metadata": {
    "scrolled": false
   },
   "outputs": [],
   "source": [
    "#reg1 = sm.OLS(endog=df86['GSP'], exog=df86[['const','P_CAP','HWY']], missing='drop')\n",
    "reg1 = sm.OLS(endog=df86['GSP'], exog=df86[['const','P_CAP','HWY','EMP']], missing='drop')\n",
    "\n",
    "type(reg1)\n",
    "\n",
    "results = reg1.fit()\n",
    "type(results)\n",
    "\n",
    "print(results.summary())"
   ]
  },
  {
   "cell_type": "code",
   "execution_count": null,
   "metadata": {},
   "outputs": [],
   "source": [
    "dfCA = df[df[\"STATE\"]=='CALIFORNIA']\n",
    "dfGA = df[df[\"STATE\"]=='GEORGIA']\n",
    "\n",
    "#reg1 = sm.OLS(endog=dfCA['GSP'], exog=dfCA[['const','P_CAP','HWY']], missing='drop')\n",
    "reg1 = sm.OLS(endog=dfCA['GSP'], exog=dfCA[['const','P_CAP','HWY','EMP']], missing='drop')\n",
    "\n",
    "type(reg1)\n",
    "\n",
    "results = reg1.fit()\n",
    "type(results)\n",
    "\n",
    "print(results.summary())"
   ]
  },
  {
   "cell_type": "code",
   "execution_count": null,
   "metadata": {},
   "outputs": [],
   "source": [
    "#reg1 = sm.OLS(endog=dfGA['GSP'], exog=dfGA[['const','P_CAP','HWY']], missing='drop')\n",
    "reg1 = sm.OLS(endog=dfGA['GSP'], exog=dfGA[['const','P_CAP','HWY','EMP']], missing='drop')\n",
    "\n",
    "type(reg1)\n",
    "\n",
    "results = reg1.fit()\n",
    "type(results)\n",
    "\n",
    "print(results.summary())"
   ]
  },
  {
   "cell_type": "code",
   "execution_count": null,
   "metadata": {},
   "outputs": [],
   "source": [
    "df = df.set_index(['STATE','YR'])\n",
    "from linearmodels import PanelOLS\n",
    "#mod = PanelOLS(df.GSP, df[['P_CAP', 'HWY']], entity_effects=True, time_effects=True)\n",
    "mod = PanelOLS(df.GSP, df[['P_CAP', 'HWY', 'EMP']], entity_effects=True, time_effects=True)\n",
    "\n",
    "res = mod.fit(cov_type='clustered', cluster_entity=True)\n",
    "\n",
    "print(mod)\n",
    "print(res)\n"
   ]
  },
  {
   "cell_type": "code",
   "execution_count": null,
   "metadata": {},
   "outputs": [],
   "source": [
    "print(res.estimated_effects)"
   ]
  },
  {
   "cell_type": "code",
   "execution_count": null,
   "metadata": {},
   "outputs": [],
   "source": [
    "df = res.estimated_effects\n",
    "df.head(50)"
   ]
  },
  {
   "cell_type": "code",
   "execution_count": null,
   "metadata": {},
   "outputs": [],
   "source": []
  },
  {
   "cell_type": "code",
   "execution_count": null,
   "metadata": {},
   "outputs": [],
   "source": []
  }
 ],
 "metadata": {
  "kernelspec": {
   "display_name": "Python 3",
   "language": "python",
   "name": "python3"
  },
  "language_info": {
   "codemirror_mode": {
    "name": "ipython",
    "version": 3
   },
   "file_extension": ".py",
   "mimetype": "text/x-python",
   "name": "python",
   "nbconvert_exporter": "python",
   "pygments_lexer": "ipython3",
   "version": "3.7.6"
  }
 },
 "nbformat": 4,
 "nbformat_minor": 2
}
