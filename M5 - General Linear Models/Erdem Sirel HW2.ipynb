{
 "metadata": {
  "language_info": {
   "codemirror_mode": {
    "name": "ipython",
    "version": 3
   },
   "file_extension": ".py",
   "mimetype": "text/x-python",
   "name": "python",
   "nbconvert_exporter": "python",
   "pygments_lexer": "ipython3",
   "version": "3.8.3-final"
  },
  "orig_nbformat": 2,
  "kernelspec": {
   "name": "python3",
   "display_name": "Python 3"
  }
 },
 "nbformat": 4,
 "nbformat_minor": 2,
 "cells": [
  {
   "cell_type": "code",
   "execution_count": 21,
   "metadata": {},
   "outputs": [],
   "source": [
    "import pandas as pd\n",
    "import numpy as np\n",
    "import matplotlib.pyplot as plt\n",
    "from sklearn import datasets, linear_model, svm, tree\n",
    "from sklearn.ensemble import RandomForestRegressor\n",
    "from  sklearn import metrics\n",
    "from sklearn.metrics import mean_squared_error, r2_score\n",
    "from sklearn.model_selection import train_test_split\n",
    "from sklearn.preprocessing import MinMaxScaler, StandardScaler\n"
   ]
  },
  {
   "cell_type": "code",
   "execution_count": 3,
   "metadata": {},
   "outputs": [],
   "source": [
    "data = pd.read_csv(\"Caschool.csv\")"
   ]
  },
  {
   "cell_type": "code",
   "execution_count": 4,
   "metadata": {},
   "outputs": [
    {
     "output_type": "execute_result",
     "data": {
      "text/plain": [
       "     Unnamed: 0  distcod       county                         district grspan  \\\n",
       "0             1    75119      Alameda               Sunol Glen Unified  KK-08   \n",
       "1             2    61499        Butte             Manzanita Elementary  KK-08   \n",
       "2             3    61549        Butte      Thermalito Union Elementary  KK-08   \n",
       "3             4    61457        Butte  Golden Feather Union Elementary  KK-08   \n",
       "4             5    61523        Butte         Palermo Union Elementary  KK-08   \n",
       "..          ...      ...          ...                              ...    ...   \n",
       "415         416    68957    San Mateo           Las Lomitas Elementary  KK-08   \n",
       "416         417    69518  Santa Clara             Los Altos Elementary  KK-08   \n",
       "417         418    72611      Ventura           Somis Union Elementary  KK-08   \n",
       "418         419    72744         Yuba                Plumas Elementary  KK-08   \n",
       "419         420    72751         Yuba             Wheatland Elementary  KK-08   \n",
       "\n",
       "     enrltot    teachers    calwpct    mealpct  computer     testscr  \\\n",
       "0        195   10.900000   0.510200   2.040800        67  690.799988   \n",
       "1        240   11.150000  15.416700  47.916698       101  661.200012   \n",
       "2       1550   82.900002  55.032299  76.322601       169  643.599976   \n",
       "3        243   14.000000  36.475399  77.049202        85  647.700012   \n",
       "4       1335   71.500000  33.108601  78.427002       171  640.849976   \n",
       "..       ...         ...        ...        ...       ...         ...   \n",
       "415      984   59.730000   0.101600   3.556900       195  704.300049   \n",
       "416     3724  208.479996   1.074100   1.503800       721  706.750000   \n",
       "417      441   20.150000   3.563500  37.193802        45  645.000000   \n",
       "418      101    5.000000  11.881200  59.405899        14  672.200012   \n",
       "419     1778   93.400002   6.923500  47.571201       313  655.750000   \n",
       "\n",
       "      compstu      expnstu        str     avginc      elpct     readscr  \\\n",
       "0    0.343590  6384.911133  17.889910  22.690001   0.000000  691.599976   \n",
       "1    0.420833  5099.380859  21.524664   9.824000   4.583333  660.500000   \n",
       "2    0.109032  5501.954590  18.697226   8.978000  30.000002  636.299988   \n",
       "3    0.349794  7101.831055  17.357143   8.978000   0.000000  651.900024   \n",
       "4    0.128090  5235.987793  18.671329   9.080333  13.857677  641.799988   \n",
       "..        ...          ...        ...        ...        ...         ...   \n",
       "415  0.198171  7290.338867  16.474134  28.716999   5.995935  700.900024   \n",
       "416  0.193609  5741.462891  17.862625  41.734108   4.726101  704.000000   \n",
       "417  0.102041  4402.831543  21.885857  23.733000  24.263039  648.299988   \n",
       "418  0.138614  4776.336426  20.200001   9.952000   2.970297  667.900024   \n",
       "419  0.176041  5993.392578  19.036402  12.502000   5.005624  660.500000   \n",
       "\n",
       "        mathscr  \n",
       "0    690.000000  \n",
       "1    661.900024  \n",
       "2    650.900024  \n",
       "3    643.500000  \n",
       "4    639.900024  \n",
       "..          ...  \n",
       "415  707.700012  \n",
       "416  709.500000  \n",
       "417  641.700012  \n",
       "418  676.500000  \n",
       "419  651.000000  \n",
       "\n",
       "[420 rows x 18 columns]"
      ],
      "text/html": "<div>\n<style scoped>\n    .dataframe tbody tr th:only-of-type {\n        vertical-align: middle;\n    }\n\n    .dataframe tbody tr th {\n        vertical-align: top;\n    }\n\n    .dataframe thead th {\n        text-align: right;\n    }\n</style>\n<table border=\"1\" class=\"dataframe\">\n  <thead>\n    <tr style=\"text-align: right;\">\n      <th></th>\n      <th>Unnamed: 0</th>\n      <th>distcod</th>\n      <th>county</th>\n      <th>district</th>\n      <th>grspan</th>\n      <th>enrltot</th>\n      <th>teachers</th>\n      <th>calwpct</th>\n      <th>mealpct</th>\n      <th>computer</th>\n      <th>testscr</th>\n      <th>compstu</th>\n      <th>expnstu</th>\n      <th>str</th>\n      <th>avginc</th>\n      <th>elpct</th>\n      <th>readscr</th>\n      <th>mathscr</th>\n    </tr>\n  </thead>\n  <tbody>\n    <tr>\n      <th>0</th>\n      <td>1</td>\n      <td>75119</td>\n      <td>Alameda</td>\n      <td>Sunol Glen Unified</td>\n      <td>KK-08</td>\n      <td>195</td>\n      <td>10.900000</td>\n      <td>0.510200</td>\n      <td>2.040800</td>\n      <td>67</td>\n      <td>690.799988</td>\n      <td>0.343590</td>\n      <td>6384.911133</td>\n      <td>17.889910</td>\n      <td>22.690001</td>\n      <td>0.000000</td>\n      <td>691.599976</td>\n      <td>690.000000</td>\n    </tr>\n    <tr>\n      <th>1</th>\n      <td>2</td>\n      <td>61499</td>\n      <td>Butte</td>\n      <td>Manzanita Elementary</td>\n      <td>KK-08</td>\n      <td>240</td>\n      <td>11.150000</td>\n      <td>15.416700</td>\n      <td>47.916698</td>\n      <td>101</td>\n      <td>661.200012</td>\n      <td>0.420833</td>\n      <td>5099.380859</td>\n      <td>21.524664</td>\n      <td>9.824000</td>\n      <td>4.583333</td>\n      <td>660.500000</td>\n      <td>661.900024</td>\n    </tr>\n    <tr>\n      <th>2</th>\n      <td>3</td>\n      <td>61549</td>\n      <td>Butte</td>\n      <td>Thermalito Union Elementary</td>\n      <td>KK-08</td>\n      <td>1550</td>\n      <td>82.900002</td>\n      <td>55.032299</td>\n      <td>76.322601</td>\n      <td>169</td>\n      <td>643.599976</td>\n      <td>0.109032</td>\n      <td>5501.954590</td>\n      <td>18.697226</td>\n      <td>8.978000</td>\n      <td>30.000002</td>\n      <td>636.299988</td>\n      <td>650.900024</td>\n    </tr>\n    <tr>\n      <th>3</th>\n      <td>4</td>\n      <td>61457</td>\n      <td>Butte</td>\n      <td>Golden Feather Union Elementary</td>\n      <td>KK-08</td>\n      <td>243</td>\n      <td>14.000000</td>\n      <td>36.475399</td>\n      <td>77.049202</td>\n      <td>85</td>\n      <td>647.700012</td>\n      <td>0.349794</td>\n      <td>7101.831055</td>\n      <td>17.357143</td>\n      <td>8.978000</td>\n      <td>0.000000</td>\n      <td>651.900024</td>\n      <td>643.500000</td>\n    </tr>\n    <tr>\n      <th>4</th>\n      <td>5</td>\n      <td>61523</td>\n      <td>Butte</td>\n      <td>Palermo Union Elementary</td>\n      <td>KK-08</td>\n      <td>1335</td>\n      <td>71.500000</td>\n      <td>33.108601</td>\n      <td>78.427002</td>\n      <td>171</td>\n      <td>640.849976</td>\n      <td>0.128090</td>\n      <td>5235.987793</td>\n      <td>18.671329</td>\n      <td>9.080333</td>\n      <td>13.857677</td>\n      <td>641.799988</td>\n      <td>639.900024</td>\n    </tr>\n    <tr>\n      <th>...</th>\n      <td>...</td>\n      <td>...</td>\n      <td>...</td>\n      <td>...</td>\n      <td>...</td>\n      <td>...</td>\n      <td>...</td>\n      <td>...</td>\n      <td>...</td>\n      <td>...</td>\n      <td>...</td>\n      <td>...</td>\n      <td>...</td>\n      <td>...</td>\n      <td>...</td>\n      <td>...</td>\n      <td>...</td>\n      <td>...</td>\n    </tr>\n    <tr>\n      <th>415</th>\n      <td>416</td>\n      <td>68957</td>\n      <td>San Mateo</td>\n      <td>Las Lomitas Elementary</td>\n      <td>KK-08</td>\n      <td>984</td>\n      <td>59.730000</td>\n      <td>0.101600</td>\n      <td>3.556900</td>\n      <td>195</td>\n      <td>704.300049</td>\n      <td>0.198171</td>\n      <td>7290.338867</td>\n      <td>16.474134</td>\n      <td>28.716999</td>\n      <td>5.995935</td>\n      <td>700.900024</td>\n      <td>707.700012</td>\n    </tr>\n    <tr>\n      <th>416</th>\n      <td>417</td>\n      <td>69518</td>\n      <td>Santa Clara</td>\n      <td>Los Altos Elementary</td>\n      <td>KK-08</td>\n      <td>3724</td>\n      <td>208.479996</td>\n      <td>1.074100</td>\n      <td>1.503800</td>\n      <td>721</td>\n      <td>706.750000</td>\n      <td>0.193609</td>\n      <td>5741.462891</td>\n      <td>17.862625</td>\n      <td>41.734108</td>\n      <td>4.726101</td>\n      <td>704.000000</td>\n      <td>709.500000</td>\n    </tr>\n    <tr>\n      <th>417</th>\n      <td>418</td>\n      <td>72611</td>\n      <td>Ventura</td>\n      <td>Somis Union Elementary</td>\n      <td>KK-08</td>\n      <td>441</td>\n      <td>20.150000</td>\n      <td>3.563500</td>\n      <td>37.193802</td>\n      <td>45</td>\n      <td>645.000000</td>\n      <td>0.102041</td>\n      <td>4402.831543</td>\n      <td>21.885857</td>\n      <td>23.733000</td>\n      <td>24.263039</td>\n      <td>648.299988</td>\n      <td>641.700012</td>\n    </tr>\n    <tr>\n      <th>418</th>\n      <td>419</td>\n      <td>72744</td>\n      <td>Yuba</td>\n      <td>Plumas Elementary</td>\n      <td>KK-08</td>\n      <td>101</td>\n      <td>5.000000</td>\n      <td>11.881200</td>\n      <td>59.405899</td>\n      <td>14</td>\n      <td>672.200012</td>\n      <td>0.138614</td>\n      <td>4776.336426</td>\n      <td>20.200001</td>\n      <td>9.952000</td>\n      <td>2.970297</td>\n      <td>667.900024</td>\n      <td>676.500000</td>\n    </tr>\n    <tr>\n      <th>419</th>\n      <td>420</td>\n      <td>72751</td>\n      <td>Yuba</td>\n      <td>Wheatland Elementary</td>\n      <td>KK-08</td>\n      <td>1778</td>\n      <td>93.400002</td>\n      <td>6.923500</td>\n      <td>47.571201</td>\n      <td>313</td>\n      <td>655.750000</td>\n      <td>0.176041</td>\n      <td>5993.392578</td>\n      <td>19.036402</td>\n      <td>12.502000</td>\n      <td>5.005624</td>\n      <td>660.500000</td>\n      <td>651.000000</td>\n    </tr>\n  </tbody>\n</table>\n<p>420 rows × 18 columns</p>\n</div>"
     },
     "metadata": {},
     "execution_count": 4
    }
   ],
   "source": [
    "data"
   ]
  },
  {
   "cell_type": "code",
   "execution_count": 9,
   "metadata": {},
   "outputs": [],
   "source": [
    "def prepare_data():\n",
    "    data = pd.read_csv(\"Caschool.csv\")\n",
    "    data = data.drop([\"Unnamed: 0\",\t\"distcod\", \"county\", \"district\", \"grspan\",\"readscr\",\"mathscr\"], axis=1)\n",
    "    \n",
    "    \n",
    "    x = data.drop('testscr', axis=1)\n",
    "    \n",
    "    y = data['testscr']\n",
    "\n",
    "    x_train, x_test, y_train, y_test = train_test_split(\n",
    "        x, y, test_size=0.33, random_state=42)\n",
    "    return x_train, x_test, y_train, y_test"
   ]
  },
  {
   "cell_type": "code",
   "execution_count": 10,
   "metadata": {},
   "outputs": [],
   "source": [
    "def scale_data(x_train, x_test, scaler=StandardScaler):\n",
    "\n",
    "    scaler = scaler()\n",
    "    scaler.fit(x_train)\n",
    "\n",
    "    x_train_scaled = scaler.transform(x_train)\n",
    "    x_train_scaled = pd.DataFrame(x_train_scaled, index=x_train.index, columns=x_train.columns)\n",
    "\n",
    "    x_test_scaled = scaler.transform(x_test)\n",
    "    x_test_scaled = pd.DataFrame(x_test_scaled, index=x_test.index, columns=x_test.columns)\n",
    "\n",
    "    x_train_scaled.fillna(x_train_scaled.mean(), inplace=True)\n",
    "    x_test_scaled.fillna(x_test_scaled.mean(), inplace=True)\n",
    "\n",
    "    return x_train_scaled, x_test_scaled\n",
    "\n"
   ]
  },
  {
   "cell_type": "code",
   "execution_count": 11,
   "metadata": {},
   "outputs": [],
   "source": [
    "def evaluate_regression(y_true_train, y_pred_train, y_true_test, y_pred_test, model_name=\"\"):   \n",
    "    return pd.DataFrame.from_records([[metrics.mean_squared_error(y_true_train, y_pred_train, squared=False),\n",
    "                                       metrics.mean_squared_error(y_true_train, y_pred_train),\n",
    "                                       metrics.mean_absolute_error(y_true_train, y_pred_train),\n",
    "                                       metrics.max_error(y_true_train, y_pred_train),\n",
    "                                       metrics.r2_score(y_true_train, y_pred_train), \n",
    "                                       metrics.mean_squared_error(y_true_test, y_pred_test,  squared=False),\n",
    "                                      metrics.mean_squared_error(y_true_test, y_pred_test),\n",
    "                                       metrics.mean_absolute_error(y_true_test, y_pred_test),\n",
    "                                       metrics.max_error(y_true_test, y_pred_test),\n",
    "                                       metrics.r2_score(y_true_test, y_pred_test)]], \n",
    "                                     \n",
    "                                     index=[model_name], \n",
    "                                     columns=['RMSE_train','mean_squared_error_train', 'mean_absolute_error_train', 'max_error_train', \"r2_score_train\",\n",
    "                                         'RMSE_test', 'mean_squared_error_test', 'mean_absolute_error_test', 'max_error_test', \"r2_score_test\"])\n"
   ]
  },
  {
   "cell_type": "code",
   "execution_count": 12,
   "metadata": {},
   "outputs": [],
   "source": [
    "x_train, x_test, y_train, y_test = prepare_data()\n",
    "x_train, x_test = scale_data(x_train, x_test, scaler=StandardScaler)"
   ]
  },
  {
   "cell_type": "code",
   "execution_count": 24,
   "metadata": {},
   "outputs": [],
   "source": [
    "results = pd.DataFrame()\n",
    "for model in [linear_model.LinearRegression(), \n",
    "            linear_model.RidgeCV(),\n",
    "            linear_model.LassoCV(),\n",
    "            svm.SVR(kernel=\"linear\"),\n",
    "            svm.SVR(kernel=\"rbf\"),\n",
    "            svm.SVR(kernel=\"poly\"),\n",
    "            tree.DecisionTreeRegressor()]:\n",
    "    model.fit(x_train, y_train)\n",
    "\n",
    "    y_train_pred = model.predict(x_train)\n",
    "    y_test_pred = model.predict(x_test)\n",
    "\n",
    "    results = results.append(evaluate_regression(y_train, y_train_pred, y_test, y_test_pred,\n",
    "                        model_name=model))\n"
   ]
  },
  {
   "cell_type": "code",
   "execution_count": 25,
   "metadata": {},
   "outputs": [
    {
     "output_type": "execute_result",
     "data": {
      "text/plain": [
       "                                           RMSE_train  \\\n",
       "LinearRegression()                           7.960069   \n",
       "RidgeCV(alphas=array([ 0.1,  1. , 10. ]))    7.971810   \n",
       "LassoCV()                                    8.016672   \n",
       "SVR(kernel='linear')                         8.043761   \n",
       "DecisionTreeRegressor()                      0.000000   \n",
       "SVR(kernel='poly')                          11.093526   \n",
       "SVR()                                       11.383172   \n",
       "\n",
       "                                           mean_squared_error_train  \\\n",
       "LinearRegression()                                        63.362696   \n",
       "RidgeCV(alphas=array([ 0.1,  1. , 10. ]))                 63.549750   \n",
       "LassoCV()                                                 64.267037   \n",
       "SVR(kernel='linear')                                      64.702088   \n",
       "DecisionTreeRegressor()                                    0.000000   \n",
       "SVR(kernel='poly')                                       123.066322   \n",
       "SVR()                                                    129.576597   \n",
       "\n",
       "                                           mean_absolute_error_train  \\\n",
       "LinearRegression()                                          6.274890   \n",
       "RidgeCV(alphas=array([ 0.1,  1. , 10. ]))                   6.296469   \n",
       "LassoCV()                                                   6.315642   \n",
       "SVR(kernel='linear')                                        6.208559   \n",
       "DecisionTreeRegressor()                                     0.000000   \n",
       "SVR(kernel='poly')                                          8.843384   \n",
       "SVR()                                                       8.498866   \n",
       "\n",
       "                                           max_error_train  r2_score_train  \\\n",
       "LinearRegression()                               27.359264        0.798807   \n",
       "RidgeCV(alphas=array([ 0.1,  1. , 10. ]))        26.374902        0.798213   \n",
       "LassoCV()                                        26.994668        0.795936   \n",
       "SVR(kernel='linear')                             27.423716        0.794554   \n",
       "DecisionTreeRegressor()                           0.000000        1.000000   \n",
       "SVR(kernel='poly')                               33.019295        0.609233   \n",
       "SVR()                                            42.221546        0.588561   \n",
       "\n",
       "                                           RMSE_test  mean_squared_error_test  \\\n",
       "LinearRegression()                          9.265519                85.849847   \n",
       "RidgeCV(alphas=array([ 0.1,  1. , 10. ]))   9.349598                87.414988   \n",
       "LassoCV()                                   9.383675                88.053364   \n",
       "SVR(kernel='linear')                        9.459345                89.479210   \n",
       "DecisionTreeRegressor()                    12.679080               160.759060   \n",
       "SVR(kernel='poly')                         14.448829               208.768650   \n",
       "SVR()                                      14.569708               212.276394   \n",
       "\n",
       "                                           mean_absolute_error_test  \\\n",
       "LinearRegression()                                         6.994132   \n",
       "RidgeCV(alphas=array([ 0.1,  1. , 10. ]))                  7.068692   \n",
       "LassoCV()                                                  7.035004   \n",
       "SVR(kernel='linear')                                       7.165713   \n",
       "DecisionTreeRegressor()                                    9.966904   \n",
       "SVR(kernel='poly')                                        11.972170   \n",
       "SVR()                                                     10.860044   \n",
       "\n",
       "                                           max_error_test  r2_score_test  \n",
       "LinearRegression()                              31.901941       0.812076  \n",
       "RidgeCV(alphas=array([ 0.1,  1. , 10. ]))       33.241578       0.808650  \n",
       "LassoCV()                                       31.494123       0.807253  \n",
       "SVR(kernel='linear')                            30.515253       0.804132  \n",
       "DecisionTreeRegressor()                         39.899963       0.648101  \n",
       "SVR(kernel='poly')                              47.305124       0.543009  \n",
       "SVR()                                           41.090381       0.535331  "
      ],
      "text/html": "<div>\n<style scoped>\n    .dataframe tbody tr th:only-of-type {\n        vertical-align: middle;\n    }\n\n    .dataframe tbody tr th {\n        vertical-align: top;\n    }\n\n    .dataframe thead th {\n        text-align: right;\n    }\n</style>\n<table border=\"1\" class=\"dataframe\">\n  <thead>\n    <tr style=\"text-align: right;\">\n      <th></th>\n      <th>RMSE_train</th>\n      <th>mean_squared_error_train</th>\n      <th>mean_absolute_error_train</th>\n      <th>max_error_train</th>\n      <th>r2_score_train</th>\n      <th>RMSE_test</th>\n      <th>mean_squared_error_test</th>\n      <th>mean_absolute_error_test</th>\n      <th>max_error_test</th>\n      <th>r2_score_test</th>\n    </tr>\n  </thead>\n  <tbody>\n    <tr>\n      <th>LinearRegression()</th>\n      <td>7.960069</td>\n      <td>63.362696</td>\n      <td>6.274890</td>\n      <td>27.359264</td>\n      <td>0.798807</td>\n      <td>9.265519</td>\n      <td>85.849847</td>\n      <td>6.994132</td>\n      <td>31.901941</td>\n      <td>0.812076</td>\n    </tr>\n    <tr>\n      <th>RidgeCV(alphas=array([ 0.1,  1. , 10. ]))</th>\n      <td>7.971810</td>\n      <td>63.549750</td>\n      <td>6.296469</td>\n      <td>26.374902</td>\n      <td>0.798213</td>\n      <td>9.349598</td>\n      <td>87.414988</td>\n      <td>7.068692</td>\n      <td>33.241578</td>\n      <td>0.808650</td>\n    </tr>\n    <tr>\n      <th>LassoCV()</th>\n      <td>8.016672</td>\n      <td>64.267037</td>\n      <td>6.315642</td>\n      <td>26.994668</td>\n      <td>0.795936</td>\n      <td>9.383675</td>\n      <td>88.053364</td>\n      <td>7.035004</td>\n      <td>31.494123</td>\n      <td>0.807253</td>\n    </tr>\n    <tr>\n      <th>SVR(kernel='linear')</th>\n      <td>8.043761</td>\n      <td>64.702088</td>\n      <td>6.208559</td>\n      <td>27.423716</td>\n      <td>0.794554</td>\n      <td>9.459345</td>\n      <td>89.479210</td>\n      <td>7.165713</td>\n      <td>30.515253</td>\n      <td>0.804132</td>\n    </tr>\n    <tr>\n      <th>DecisionTreeRegressor()</th>\n      <td>0.000000</td>\n      <td>0.000000</td>\n      <td>0.000000</td>\n      <td>0.000000</td>\n      <td>1.000000</td>\n      <td>12.679080</td>\n      <td>160.759060</td>\n      <td>9.966904</td>\n      <td>39.899963</td>\n      <td>0.648101</td>\n    </tr>\n    <tr>\n      <th>SVR(kernel='poly')</th>\n      <td>11.093526</td>\n      <td>123.066322</td>\n      <td>8.843384</td>\n      <td>33.019295</td>\n      <td>0.609233</td>\n      <td>14.448829</td>\n      <td>208.768650</td>\n      <td>11.972170</td>\n      <td>47.305124</td>\n      <td>0.543009</td>\n    </tr>\n    <tr>\n      <th>SVR()</th>\n      <td>11.383172</td>\n      <td>129.576597</td>\n      <td>8.498866</td>\n      <td>42.221546</td>\n      <td>0.588561</td>\n      <td>14.569708</td>\n      <td>212.276394</td>\n      <td>10.860044</td>\n      <td>41.090381</td>\n      <td>0.535331</td>\n    </tr>\n  </tbody>\n</table>\n</div>"
     },
     "metadata": {},
     "execution_count": 25
    }
   ],
   "source": [
    "results.sort_values(\"RMSE_test\")"
   ]
  },
  {
   "cell_type": "code",
   "execution_count": 28,
   "metadata": {},
   "outputs": [
    {
     "output_type": "execute_result",
     "data": {
      "text/plain": [
       "9.265519242459682"
      ]
     },
     "metadata": {},
     "execution_count": 28
    }
   ],
   "source": [
    "results.sort_values(\"RMSE_test\").iloc[0][\"RMSE_test\"]"
   ]
  },
  {
   "cell_type": "code",
   "execution_count": null,
   "metadata": {},
   "outputs": [],
   "source": []
  }
 ]
}