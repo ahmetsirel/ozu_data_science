{
 "cells": [
  {
   "cell_type": "code",
   "execution_count": 1,
   "metadata": {},
   "outputs": [],
   "source": [
    "from IPython.display import HTML, display\n",
    "\n",
    "import statsmodels.api as sm\n",
    "from statsmodels.formula.api import ols\n",
    "from statsmodels.sandbox.regression.predstd import wls_prediction_std\n",
    "\n",
    "from scipy import stats\n",
    "\n",
    "import matplotlib.pyplot as plt\n",
    "import seaborn as sns\n",
    "\n",
    "sns.set_style(\"darkgrid\")\n",
    "\n",
    "import pandas as pd\n",
    "import numpy as np\n",
    "import ast\n",
    "import random\n",
    "import math \n",
    "import time\n",
    "import sys \n",
    "\n",
    "df = pd.read_csv('cow_birth_weights.csv', encoding='latin-1')"
   ]
  },
  {
   "cell_type": "code",
   "execution_count": 2,
   "metadata": {},
   "outputs": [
    {
     "name": "stdout",
     "output_type": "stream",
     "text": [
      "                            OLS Regression Results                            \n",
      "==============================================================================\n",
      "Dep. Variable:                   Wt 0   R-squared:                       0.011\n",
      "Model:                            OLS   Adj. R-squared:                 -0.012\n",
      "Method:                 Least Squares   F-statistic:                    0.4838\n",
      "Date:                Wed, 23 Sep 2020   Prob (F-statistic):              0.491\n",
      "Time:                        11:46:48   Log-Likelihood:                -151.94\n",
      "No. Observations:                  44   AIC:                             307.9\n",
      "Df Residuals:                      42   BIC:                             311.4\n",
      "Df Model:                           1                                         \n",
      "Covariance Type:            nonrobust                                         \n",
      "==============================================================================\n",
      "                 coef    std err          t      P>|t|      [0.025      0.975]\n",
      "------------------------------------------------------------------------------\n",
      "const         62.1190      0.787     78.900      0.000      60.530      63.708\n",
      "BIN1          30.2381      1.262     23.966      0.000      27.692      32.784\n",
      "BIN2          31.8810      1.228     25.967      0.000      29.403      34.359\n",
      "==============================================================================\n",
      "Omnibus:                        2.443   Durbin-Watson:                   1.852\n",
      "Prob(Omnibus):                  0.295   Jarque-Bera (JB):                1.662\n",
      "Skew:                           0.256   Prob(JB):                        0.436\n",
      "Kurtosis:                       2.197   Cond. No.                     1.35e+16\n",
      "==============================================================================\n",
      "\n",
      "Warnings:\n",
      "[1] Standard Errors assume that the covariance matrix of the errors is correctly specified.\n",
      "[2] The smallest eigenvalue is 3.61e-31. This might indicate that there are\n",
      "strong multicollinearity problems or that the design matrix is singular.\n"
     ]
    }
   ],
   "source": [
    "df = sm.add_constant(df)\n",
    "\n",
    "reg1 = sm.OLS(endog=df['Wt 0'], exog=df[['const','BIN1','BIN2']], missing='drop')\n",
    "type(reg1)\n",
    "\n",
    "results = reg1.fit()\n",
    "type(results)\n",
    "\n",
    "print(results.summary())\n"
   ]
  },
  {
   "cell_type": "code",
   "execution_count": 3,
   "metadata": {},
   "outputs": [
    {
     "name": "stdout",
     "output_type": "stream",
     "text": [
      "                            OLS Regression Results                            \n",
      "==============================================================================\n",
      "Dep. Variable:                   Wt 0   R-squared:                       0.011\n",
      "Model:                            OLS   Adj. R-squared:                 -0.012\n",
      "Method:                 Least Squares   F-statistic:                    0.4838\n",
      "Date:                Wed, 23 Sep 2020   Prob (F-statistic):              0.491\n",
      "Time:                        11:46:48   Log-Likelihood:                -151.94\n",
      "No. Observations:                  44   AIC:                             307.9\n",
      "Df Residuals:                      42   BIC:                             311.4\n",
      "Df Model:                           1                                         \n",
      "Covariance Type:            nonrobust                                         \n",
      "==============================================================================\n",
      "                 coef    std err          t      P>|t|      [0.025      0.975]\n",
      "------------------------------------------------------------------------------\n",
      "const         94.0000      1.632     57.607      0.000      90.707      97.293\n",
      "BIN1          -1.6429      2.362     -0.696      0.491      -6.409       3.124\n",
      "==============================================================================\n",
      "Omnibus:                        2.443   Durbin-Watson:                   1.852\n",
      "Prob(Omnibus):                  0.295   Jarque-Bera (JB):                1.662\n",
      "Skew:                           0.256   Prob(JB):                        0.436\n",
      "Kurtosis:                       2.197   Cond. No.                         2.57\n",
      "==============================================================================\n",
      "\n",
      "Warnings:\n",
      "[1] Standard Errors assume that the covariance matrix of the errors is correctly specified.\n"
     ]
    }
   ],
   "source": [
    "reg1 = sm.OLS(endog=df['Wt 0'], exog=df[['const','BIN1']], missing='drop')\n",
    "type(reg1)\n",
    "\n",
    "results = reg1.fit()\n",
    "type(results)\n",
    "\n",
    "print(results.summary())"
   ]
  },
  {
   "cell_type": "code",
   "execution_count": null,
   "metadata": {},
   "outputs": [],
   "source": []
  }
 ],
 "metadata": {
  "kernelspec": {
   "display_name": "Python 3",
   "language": "python",
   "name": "python3"
  },
  "language_info": {
   "codemirror_mode": {
    "name": "ipython",
    "version": 3
   },
   "file_extension": ".py",
   "mimetype": "text/x-python",
   "name": "python",
   "nbconvert_exporter": "python",
   "pygments_lexer": "ipython3",
   "version": "3.7.6"
  }
 },
 "nbformat": 4,
 "nbformat_minor": 2
}
