{
 "cells": [
  {
   "cell_type": "code",
   "execution_count": 1,
   "metadata": {},
   "outputs": [],
   "source": [
    "import pandas as pd\n",
    "import numpy as np\n",
    "import seaborn as sns\n",
    "import matplotlib\n",
    "import matplotlib.pyplot as plt\n",
    "import warnings\n",
    "import xgboost as xgb\n",
    "import lightgbm as lgb\n",
    "from scipy.stats import skew\n",
    "from scipy import stats\n",
    "from scipy.stats.stats import pearsonr\n",
    "from scipy.stats import norm\n",
    "from collections import Counter\n",
    "from sklearn.linear_model import LinearRegression,LassoCV, Ridge, LassoLarsCV,ElasticNetCV\n",
    "from sklearn.model_selection import GridSearchCV, cross_val_score, learning_curve\n",
    "from sklearn.ensemble import RandomForestRegressor, AdaBoostRegressor, ExtraTreesRegressor, GradientBoostingRegressor\n",
    "from sklearn.preprocessing import StandardScaler, Normalizer, RobustScaler\n",
    "from sklearn import metrics\n",
    "from sklearn.model_selection import train_test_split, GridSearchCV\n",
    "from sklearn.linear_model import LinearRegression, Ridge, Lasso, ElasticNet\n",
    "from statsmodels.stats.outliers_influence import variance_inflation_factor\n",
    "\n",
    "\n",
    "import warnings\n",
    "warnings.filterwarnings(\"ignore\")\n",
    "\n",
    "np.random.seed(1907)\n",
    "\n",
    "df = pd.read_csv(\"interactionData.csv\")\n"
   ]
  },
  {
   "cell_type": "code",
   "execution_count": 2,
   "metadata": {},
   "outputs": [
    {
     "name": "stdout",
     "output_type": "stream",
     "text": [
      "            FacA      FacB     FacAB    Result\n",
      "FacA    1.000000 -0.002828  0.696131  0.703105\n",
      "FacB   -0.002828  1.000000  0.687298  0.698661\n",
      "FacAB   0.696131  0.687298  1.000000  0.992209\n",
      "Result  0.703105  0.698661  0.992209  1.000000\n",
      "The data size: (999, 4)\n"
     ]
    },
    {
     "data": {
      "image/png": "[encoded data removed]",
      "text/plain": [
       "<Figure size 432x288 with 2 Axes>"
      ]
     },
     "metadata": {
      "needs_background": "light"
     },
     "output_type": "display_data"
    }
   ],
   "source": [
    "#Generating the correlation matrix\n",
    "corr = df.corr()\n",
    "\n",
    "#Generating the correlation heat-map\n",
    "sns.heatmap(corr)\n",
    "\n",
    "print(corr)\n",
    "\n",
    "print(\"The data size:\", df.shape)\n",
    "df['const']=1\n"
   ]
  },
  {
   "cell_type": "code",
   "execution_count": 3,
   "metadata": {},
   "outputs": [],
   "source": [
    "labels = np.array(df['Result'])\n",
    "df= df.drop('Result', axis = 1)\n",
    "dfNew = df\n",
    "\n"
   ]
  },
  {
   "cell_type": "code",
   "execution_count": 4,
   "metadata": {
    "scrolled": false
   },
   "outputs": [
    {
     "name": "stdout",
     "output_type": "stream",
     "text": [
      "12.87756319353815\n",
      "12.726664055254886\n",
      "24.937398073240498\n",
      "163.9655192783\n",
      "                            OLS Regression Results                            \n",
      "==============================================================================\n",
      "Dep. Variable:                      y   R-squared:                       0.995\n",
      "Model:                            OLS   Adj. R-squared:                  0.995\n",
      "Method:                 Least Squares   F-statistic:                 5.150e+04\n",
      "Date:                Wed, 23 Sep 2020   Prob (F-statistic):               0.00\n",
      "Time:                        11:46:56   Log-Likelihood:                -5839.2\n",
      "No. Observations:                 749   AIC:                         1.169e+04\n",
      "Df Residuals:                     745   BIC:                         1.170e+04\n",
      "Df Model:                           3                                         \n",
      "Covariance Type:            nonrobust                                         \n",
      "==============================================================================\n",
      "                 coef    std err          t      P>|t|      [0.025      0.975]\n",
      "------------------------------------------------------------------------------\n",
      "FacA         102.8000      2.629     39.108      0.000      97.640     107.960\n",
      "FacB         102.2828      2.625     38.968      0.000      97.130     107.436\n",
      "FacAB          0.9803      0.025     39.276      0.000       0.931       1.029\n",
      "const       5687.6139    275.925     20.613      0.000    5145.931    6229.297\n",
      "==============================================================================\n",
      "Omnibus:                      542.889   Durbin-Watson:                   2.005\n",
      "Prob(Omnibus):                  0.000   Jarque-Bera (JB):               45.364\n",
      "Skew:                           0.017   Prob(JB):                     1.41e-10\n",
      "Kurtosis:                       1.795   Cond. No.                     1.42e+05\n",
      "==============================================================================\n",
      "\n",
      "Warnings:\n",
      "[1] Standard Errors assume that the covariance matrix of the errors is correctly specified.\n",
      "[2] The condition number is large, 1.42e+05. This might indicate that there are\n",
      "strong multicollinearity or other numerical problems.\n",
      "519.8449006474654\n",
      "355506.10899153806\n",
      "596.2433303539236\n"
     ]
    }
   ],
   "source": [
    "train, test, y_train, y_test = train_test_split(df, labels, test_size = 0.25, shuffle=False)\n",
    "#train_x, test_x, train_y, test_y = train_test_split(df, labels, test_size = 0.2, shuffle=False)\n",
    "\n",
    "#print vif values\n",
    "[print(variance_inflation_factor(train.values, j)) for j in range(train.shape[1])]\n",
    "\n",
    "import statsmodels.api as sm\n",
    "\n",
    "# Note the difference in argument order\n",
    "model = sm.OLS(y_train, train).fit()\n",
    "ols_pred = model.predict(test.values) # make the predictions by the model\n",
    "\n",
    "# Print out the statistics\n",
    "print(model.summary())\n",
    "\n",
    "print(metrics.mean_absolute_error(y_test, ols_pred))\n",
    "print(metrics.mean_squared_error(y_test, ols_pred))\n",
    "print(np.sqrt(metrics.mean_squared_error(y_test, ols_pred)))\n"
   ]
  },
  {
   "cell_type": "code",
   "execution_count": 5,
   "metadata": {},
   "outputs": [
    {
     "name": "stdout",
     "output_type": "stream",
     "text": [
      "                            OLS Regression Results                            \n",
      "==============================================================================\n",
      "Dep. Variable:                      y   R-squared:                       0.985\n",
      "Model:                            OLS   Adj. R-squared:                  0.985\n",
      "Method:                 Least Squares   F-statistic:                 2.494e+04\n",
      "Date:                Wed, 23 Sep 2020   Prob (F-statistic):               0.00\n",
      "Time:                        11:46:56   Log-Likelihood:                -6259.3\n",
      "No. Observations:                 749   AIC:                         1.252e+04\n",
      "Df Residuals:                     746   BIC:                         1.254e+04\n",
      "Df Model:                           2                                         \n",
      "Covariance Type:            nonrobust                                         \n",
      "==============================================================================\n",
      "                 coef    std err          t      P>|t|      [0.025      0.975]\n",
      "------------------------------------------------------------------------------\n",
      "FacA         201.9522      1.283    157.423      0.000     199.434     204.471\n",
      "FacB         201.2401      1.289    156.176      0.000     198.710     203.770\n",
      "const      -4309.3056    186.555    -23.099      0.000   -4675.541   -3943.071\n",
      "==============================================================================\n",
      "Omnibus:                        2.206   Durbin-Watson:                   2.070\n",
      "Prob(Omnibus):                  0.332   Jarque-Bera (JB):                2.281\n",
      "Skew:                           0.117   Prob(JB):                        0.320\n",
      "Kurtosis:                       2.866   Cond. No.                         723.\n",
      "==============================================================================\n",
      "\n",
      "Warnings:\n",
      "[1] Standard Errors assume that the covariance matrix of the errors is correctly specified.\n",
      "742.134460152175\n",
      "938850.15146971\n",
      "968.9428009277483\n"
     ]
    }
   ],
   "source": [
    "df= dfNew.drop('FacAB', axis = 1)\n",
    "\n",
    "train, test, y_train, y_test = train_test_split(df, labels, test_size = 0.25, shuffle=False)\n",
    "\n",
    "# Note the difference in argument order\n",
    "model = sm.OLS(y_train, train).fit()\n",
    "ols_pred = model.predict(test.values) # make the predictions by the model\n",
    "\n",
    "# Print out the statistics\n",
    "print(model.summary())\n",
    "\n",
    "print(metrics.mean_absolute_error(y_test, ols_pred))\n",
    "print(metrics.mean_squared_error(y_test, ols_pred))\n",
    "print(np.sqrt(metrics.mean_squared_error(y_test, ols_pred)))\n"
   ]
  },
  {
   "cell_type": "code",
   "execution_count": 6,
   "metadata": {},
   "outputs": [
    {
     "name": "stdout",
     "output_type": "stream",
     "text": [
      "                            OLS Regression Results                            \n",
      "==============================================================================\n",
      "Dep. Variable:                      y   R-squared:                       0.985\n",
      "Model:                            OLS   Adj. R-squared:                  0.985\n",
      "Method:                 Least Squares   F-statistic:                 2.509e+04\n",
      "Date:                Wed, 23 Sep 2020   Prob (F-statistic):               0.00\n",
      "Time:                        11:46:56   Log-Likelihood:                -6257.1\n",
      "No. Observations:                 749   AIC:                         1.252e+04\n",
      "Df Residuals:                     746   BIC:                         1.253e+04\n",
      "Df Model:                           2                                         \n",
      "Covariance Type:            nonrobust                                         \n",
      "==============================================================================\n",
      "                 coef    std err          t      P>|t|      [0.025      0.975]\n",
      "------------------------------------------------------------------------------\n",
      "FacB           7.7671      1.788      4.344      0.000       4.257      11.277\n",
      "FacAB          1.9178      0.012    157.893      0.000       1.894       1.942\n",
      "const       1.605e+04    134.769    119.075      0.000    1.58e+04    1.63e+04\n",
      "==============================================================================\n",
      "Omnibus:                        0.525   Durbin-Watson:                   1.987\n",
      "Prob(Omnibus):                  0.769   Jarque-Bera (JB):                0.516\n",
      "Skew:                           0.064   Prob(JB):                        0.772\n",
      "Kurtosis:                       2.988   Cond. No.                     3.98e+04\n",
      "==============================================================================\n",
      "\n",
      "Warnings:\n",
      "[1] Standard Errors assume that the covariance matrix of the errors is correctly specified.\n",
      "[2] The condition number is large, 3.98e+04. This might indicate that there are\n",
      "strong multicollinearity or other numerical problems.\n",
      "804.9881902143495\n",
      "1023794.1928302863\n",
      "1011.8271556102288\n"
     ]
    }
   ],
   "source": [
    "df= dfNew.drop('FacA', axis = 1)\n",
    "\n",
    "train, test, y_train, y_test = train_test_split(df, labels, test_size = 0.25, shuffle=False)\n",
    "\n",
    "# Note the difference in argument order\n",
    "model = sm.OLS(y_train, train).fit()\n",
    "ols_pred = model.predict(test.values) # make the predictions by the model\n",
    "\n",
    "# Print out the statistics\n",
    "print(model.summary())\n",
    "\n",
    "print(metrics.mean_absolute_error(y_test, ols_pred))\n",
    "print(metrics.mean_squared_error(y_test, ols_pred))\n",
    "print(np.sqrt(metrics.mean_squared_error(y_test, ols_pred)))\n"
   ]
  },
  {
   "cell_type": "code",
   "execution_count": 7,
   "metadata": {},
   "outputs": [
    {
     "name": "stdout",
     "output_type": "stream",
     "text": [
      "                            OLS Regression Results                            \n",
      "==============================================================================\n",
      "Dep. Variable:                      y   R-squared:                       0.985\n",
      "Model:                            OLS   Adj. R-squared:                  0.985\n",
      "Method:                 Least Squares   F-statistic:                 2.521e+04\n",
      "Date:                Wed, 23 Sep 2020   Prob (F-statistic):               0.00\n",
      "Time:                        11:46:56   Log-Likelihood:                -6255.3\n",
      "No. Observations:                 749   AIC:                         1.252e+04\n",
      "Df Residuals:                     746   BIC:                         1.253e+04\n",
      "Df Model:                           2                                         \n",
      "Covariance Type:            nonrobust                                         \n",
      "==============================================================================\n",
      "                 coef    std err          t      P>|t|      [0.025      0.975]\n",
      "------------------------------------------------------------------------------\n",
      "FacA           8.4831      1.786      4.749      0.000       4.976      11.990\n",
      "FacAB          1.9140      0.012    157.030      0.000       1.890       1.938\n",
      "const       1.601e+04    135.060    118.515      0.000    1.57e+04    1.63e+04\n",
      "==============================================================================\n",
      "Omnibus:                        0.698   Durbin-Watson:                   2.008\n",
      "Prob(Omnibus):                  0.706   Jarque-Bera (JB):                0.586\n",
      "Skew:                           0.061   Prob(JB):                        0.746\n",
      "Kurtosis:                       3.063   Cond. No.                     4.00e+04\n",
      "==============================================================================\n",
      "\n",
      "Warnings:\n",
      "[1] Standard Errors assume that the covariance matrix of the errors is correctly specified.\n",
      "[2] The condition number is large,  4e+04. This might indicate that there are\n",
      "strong multicollinearity or other numerical problems.\n",
      "832.2013372495493\n",
      "1105140.799495442\n",
      "1051.2567714385682\n"
     ]
    }
   ],
   "source": [
    "df= dfNew.drop('FacB', axis = 1)\n",
    "\n",
    "train, test, y_train, y_test = train_test_split(df, labels, test_size = 0.25, shuffle=False)\n",
    "\n",
    "# Note the difference in argument order\n",
    "model = sm.OLS(y_train, train).fit()\n",
    "ols_pred = model.predict(test.values) # make the predictions by the model\n",
    "\n",
    "# Print out the statistics\n",
    "print(model.summary())\n",
    "\n",
    "print(metrics.mean_absolute_error(y_test, ols_pred))\n",
    "print(metrics.mean_squared_error(y_test, ols_pred))\n",
    "print(np.sqrt(metrics.mean_squared_error(y_test, ols_pred)))\n"
   ]
  },
  {
   "cell_type": "code",
   "execution_count": 8,
   "metadata": {},
   "outputs": [
    {
     "name": "stdout",
     "output_type": "stream",
     "text": [
      "                            OLS Regression Results                            \n",
      "==============================================================================\n",
      "Dep. Variable:                      y   R-squared:                       0.985\n",
      "Model:                            OLS   Adj. R-squared:                  0.985\n",
      "Method:                 Least Squares   F-statistic:                 4.898e+04\n",
      "Date:                Wed, 23 Sep 2020   Prob (F-statistic):               0.00\n",
      "Time:                        11:46:56   Log-Likelihood:                -6266.5\n",
      "No. Observations:                 749   AIC:                         1.254e+04\n",
      "Df Residuals:                     747   BIC:                         1.255e+04\n",
      "Df Model:                           1                                         \n",
      "Covariance Type:            nonrobust                                         \n",
      "==============================================================================\n",
      "                 coef    std err          t      P>|t|      [0.025      0.975]\n",
      "------------------------------------------------------------------------------\n",
      "FacAB          1.9545      0.009    221.316      0.000       1.937       1.972\n",
      "const       1.645e+04     98.226    167.509      0.000    1.63e+04    1.66e+04\n",
      "==============================================================================\n",
      "Omnibus:                        0.012   Durbin-Watson:                   1.997\n",
      "Prob(Omnibus):                  0.994   Jarque-Bera (JB):                0.050\n",
      "Skew:                          -0.006   Prob(JB):                        0.975\n",
      "Kurtosis:                       2.961   Cond. No.                     2.87e+04\n",
      "==============================================================================\n",
      "\n",
      "Warnings:\n",
      "[1] Standard Errors assume that the covariance matrix of the errors is correctly specified.\n",
      "[2] The condition number is large, 2.87e+04. This might indicate that there are\n",
      "strong multicollinearity or other numerical problems.\n",
      "829.3970797006817\n",
      "1088895.3155610247\n",
      "1043.501468883022\n"
     ]
    }
   ],
   "source": [
    "df= dfNew.drop('FacA', axis = 1)\n",
    "df= df.drop('FacB', axis = 1)\n",
    "\n",
    "train, test, y_train, y_test = train_test_split(df, labels, test_size = 0.25, shuffle=False)\n",
    "\n",
    "# Note the difference in argument order\n",
    "model = sm.OLS(y_train, train).fit()\n",
    "ols_pred = model.predict(test.values) # make the predictions by the model\n",
    "\n",
    "# Print out the statistics\n",
    "print(model.summary())\n",
    "\n",
    "print(metrics.mean_absolute_error(y_test, ols_pred))\n",
    "print(metrics.mean_squared_error(y_test, ols_pred))\n",
    "print(np.sqrt(metrics.mean_squared_error(y_test, ols_pred)))"
   ]
  },
  {
   "cell_type": "code",
   "execution_count": null,
   "metadata": {},
   "outputs": [],
   "source": []
  }
 ],
 "metadata": {
  "kernelspec": {
   "display_name": "Python 3",
   "language": "python",
   "name": "python3"
  },
  "language_info": {
   "codemirror_mode": {
    "name": "ipython",
    "version": 3
   },
   "file_extension": ".py",
   "mimetype": "text/x-python",
   "name": "python",
   "nbconvert_exporter": "python",
   "pygments_lexer": "ipython3",
   "version": "3.7.6"
  }
 },
 "nbformat": 4,
 "nbformat_minor": 2
}
