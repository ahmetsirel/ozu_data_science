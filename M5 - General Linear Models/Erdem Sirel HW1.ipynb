{
 "metadata": {
  "language_info": {
   "codemirror_mode": {
    "name": "ipython",
    "version": 3
   },
   "file_extension": ".py",
   "mimetype": "text/x-python",
   "name": "python",
   "nbconvert_exporter": "python",
   "pygments_lexer": "ipython3",
   "version": "3.8.3-final"
  },
  "orig_nbformat": 2,
  "kernelspec": {
   "name": "python3",
   "display_name": "Python 3"
  }
 },
 "nbformat": 4,
 "nbformat_minor": 2,
 "cells": [
  {
   "cell_type": "code",
   "execution_count": 36,
   "metadata": {},
   "outputs": [],
   "source": [
    "import pandas as pd\n",
    "import numpy as np\n",
    "import matplotlib.pyplot as plt\n",
    "from sklearn import datasets, linear_model\n",
    "from  sklearn import metrics\n",
    "from sklearn.metrics import mean_squared_error, r2_score\n",
    "from sklearn.model_selection import train_test_split\n",
    "from sklearn.preprocessing import MinMaxScaler, StandardScaler\n"
   ]
  },
  {
   "cell_type": "code",
   "execution_count": 38,
   "metadata": {},
   "outputs": [],
   "source": [
    "data = pd.read_csv(\"firm.csv\")"
   ]
  },
  {
   "cell_type": "code",
   "execution_count": 56,
   "metadata": {},
   "outputs": [],
   "source": [
    "def prepare_data():\n",
    "    data = pd.read_csv(\"firm.csv\")\n",
    "    data = data.replace(\" \", np.nan)\n",
    "    data_len = len(data)\n",
    "    \n",
    "    x = data.drop('INDOUTPT', axis=1)\n",
    "    \n",
    "    y = data['INDOUTPT']\n",
    "\n",
    "    x_train, x_test, y_train, y_test = train_test_split(\n",
    "        x, y, test_size=0.33, random_state=42)\n",
    "    return x_train, x_test, y_train, y_test"
   ]
  },
  {
   "cell_type": "code",
   "execution_count": 72,
   "metadata": {},
   "outputs": [],
   "source": [
    "def scale_data(x_train, x_test, scaler=StandardScaler):\n",
    "\n",
    "    scaler = scaler()\n",
    "    scaler.fit(x_train)\n",
    "\n",
    "    x_train_scaled = scaler.transform(x_train)\n",
    "    x_train_scaled = pd.DataFrame(x_train_scaled, index=x_train.index, columns=x_train.columns)\n",
    "\n",
    "    x_test_scaled = scaler.transform(x_test)\n",
    "    x_test_scaled = pd.DataFrame(x_test_scaled, index=x_test.index, columns=x_test.columns)\n",
    "\n",
    "    x_train_scaled.fillna(x_train_scaled.mean(), inplace=True)\n",
    "    x_test_scaled.fillna(x_test_scaled.mean(), inplace=True)\n",
    "\n",
    "    return x_train_scaled, x_test_scaled\n",
    "\n"
   ]
  },
  {
   "cell_type": "code",
   "execution_count": 89,
   "metadata": {},
   "outputs": [],
   "source": [
    "def evaluate_regression(y_true_train, y_pred_train, y_true_test, y_pred_test, model_name=\"\"):   \n",
    "    return pd.DataFrame.from_records([[metrics.mean_squared_error(y_true_train, y_pred_train),\n",
    "                                       metrics.mean_absolute_error(y_true_train, y_pred_train),\n",
    "                                       metrics.max_error(y_true_train, y_pred_train),\n",
    "                                       metrics.r2_score(y_true_train, y_pred_train), \n",
    "                                      \n",
    "                                      metrics.mean_squared_error(y_true_test, y_pred_test),\n",
    "                                       metrics.mean_absolute_error(y_true_test, y_pred_test),\n",
    "                                       metrics.max_error(y_true_test, y_pred_test),\n",
    "                                       metrics.r2_score(y_true_test, y_pred_test)]], \n",
    "                                     \n",
    "                                     index=[model_name], \n",
    "                                     columns=['mean_squared_error_train', 'mean_absolute_error_train', 'max_error_train', \"r2_score_train\",\n",
    "                                         'mean_squared_error_test', 'mean_absolute_error_test', 'max_error_test', \"r2_score_test\"])\n"
   ]
  },
  {
   "cell_type": "code",
   "execution_count": 90,
   "metadata": {},
   "outputs": [],
   "source": [
    "x_train, x_test, y_train, y_test = prepare_data()\n",
    "x_train, x_test = scale_data(x_train, x_test, scaler=StandardScaler)"
   ]
  },
  {
   "cell_type": "code",
   "execution_count": 91,
   "metadata": {},
   "outputs": [],
   "source": [
    "results = pd.DataFrame()\n",
    "for model in [linear_model.LinearRegression(), linear_model.RidgeCV(), linear_model.LassoCV()]:\n",
    "    model.fit(x_train, y_train)\n",
    "\n",
    "    y_train_pred = model.predict(x_train)\n",
    "    y_test_pred = model.predict(x_test)\n",
    "\n",
    "    results = results.append(evaluate_regression(y_train, y_train_pred, y_test, y_test_pred,\n",
    "                        model_name=type(model)))\n"
   ]
  },
  {
   "cell_type": "code",
   "execution_count": 92,
   "metadata": {},
   "outputs": [
    {
     "output_type": "execute_result",
     "data": {
      "text/plain": [
       "                                                    mean_squared_error_train  \\\n",
       "<class 'sklearn.linear_model._base.LinearRegres...                  0.219139   \n",
       "<class 'sklearn.linear_model._ridge.RidgeCV'>                       0.219151   \n",
       "<class 'sklearn.linear_model._coordinate_descen...                  0.227400   \n",
       "\n",
       "                                                    mean_absolute_error_train  \\\n",
       "<class 'sklearn.linear_model._base.LinearRegres...                   0.369343   \n",
       "<class 'sklearn.linear_model._ridge.RidgeCV'>                        0.369283   \n",
       "<class 'sklearn.linear_model._coordinate_descen...                   0.380265   \n",
       "\n",
       "                                                    max_error_train  \\\n",
       "<class 'sklearn.linear_model._base.LinearRegres...         1.728156   \n",
       "<class 'sklearn.linear_model._ridge.RidgeCV'>              1.726612   \n",
       "<class 'sklearn.linear_model._coordinate_descen...         1.685174   \n",
       "\n",
       "                                                    r2_score_train  \\\n",
       "<class 'sklearn.linear_model._base.LinearRegres...        0.997732   \n",
       "<class 'sklearn.linear_model._ridge.RidgeCV'>             0.997732   \n",
       "<class 'sklearn.linear_model._coordinate_descen...        0.997647   \n",
       "\n",
       "                                                    mean_squared_error_test  \\\n",
       "<class 'sklearn.linear_model._base.LinearRegres...                 0.222263   \n",
       "<class 'sklearn.linear_model._ridge.RidgeCV'>                      0.222506   \n",
       "<class 'sklearn.linear_model._coordinate_descen...                 0.230479   \n",
       "\n",
       "                                                    mean_absolute_error_test  \\\n",
       "<class 'sklearn.linear_model._base.LinearRegres...                  0.376802   \n",
       "<class 'sklearn.linear_model._ridge.RidgeCV'>                       0.377012   \n",
       "<class 'sklearn.linear_model._coordinate_descen...                  0.387552   \n",
       "\n",
       "                                                    max_error_test  \\\n",
       "<class 'sklearn.linear_model._base.LinearRegres...        1.650439   \n",
       "<class 'sklearn.linear_model._ridge.RidgeCV'>             1.649628   \n",
       "<class 'sklearn.linear_model._coordinate_descen...        1.600265   \n",
       "\n",
       "                                                    r2_score_test  \n",
       "<class 'sklearn.linear_model._base.LinearRegres...       0.997838  \n",
       "<class 'sklearn.linear_model._ridge.RidgeCV'>            0.997835  \n",
       "<class 'sklearn.linear_model._coordinate_descen...       0.997758  "
      ],
      "text/html": "<div>\n<style scoped>\n    .dataframe tbody tr th:only-of-type {\n        vertical-align: middle;\n    }\n\n    .dataframe tbody tr th {\n        vertical-align: top;\n    }\n\n    .dataframe thead th {\n        text-align: right;\n    }\n</style>\n<table border=\"1\" class=\"dataframe\">\n  <thead>\n    <tr style=\"text-align: right;\">\n      <th></th>\n      <th>mean_squared_error_train</th>\n      <th>mean_absolute_error_train</th>\n      <th>max_error_train</th>\n      <th>r2_score_train</th>\n      <th>mean_squared_error_test</th>\n      <th>mean_absolute_error_test</th>\n      <th>max_error_test</th>\n      <th>r2_score_test</th>\n    </tr>\n  </thead>\n  <tbody>\n    <tr>\n      <th>&lt;class 'sklearn.linear_model._base.LinearRegression'&gt;</th>\n      <td>0.219139</td>\n      <td>0.369343</td>\n      <td>1.728156</td>\n      <td>0.997732</td>\n      <td>0.222263</td>\n      <td>0.376802</td>\n      <td>1.650439</td>\n      <td>0.997838</td>\n    </tr>\n    <tr>\n      <th>&lt;class 'sklearn.linear_model._ridge.RidgeCV'&gt;</th>\n      <td>0.219151</td>\n      <td>0.369283</td>\n      <td>1.726612</td>\n      <td>0.997732</td>\n      <td>0.222506</td>\n      <td>0.377012</td>\n      <td>1.649628</td>\n      <td>0.997835</td>\n    </tr>\n    <tr>\n      <th>&lt;class 'sklearn.linear_model._coordinate_descent.LassoCV'&gt;</th>\n      <td>0.227400</td>\n      <td>0.380265</td>\n      <td>1.685174</td>\n      <td>0.997647</td>\n      <td>0.230479</td>\n      <td>0.387552</td>\n      <td>1.600265</td>\n      <td>0.997758</td>\n    </tr>\n  </tbody>\n</table>\n</div>"
     },
     "metadata": {},
     "execution_count": 92
    }
   ],
   "source": [
    "results"
   ]
  },
  {
   "cell_type": "code",
   "execution_count": null,
   "metadata": {},
   "outputs": [],
   "source": []
  }
 ]
}