{
 "cells": [
  {
   "cell_type": "code",
   "execution_count": 12,
   "metadata": {},
   "outputs": [
    {
     "name": "stdout",
     "output_type": "stream",
     "text": [
      "df Shape:  (45211, 17)\n",
      "df Shape:  (45211, 52)\n",
      "Train_x Shape:  (36168, 51)\n",
      "Train_y Shape:  (36168,)\n",
      "Test_x Shape:  (9043, 51)\n",
      "Test_y Shape:  (9043,)\n"
     ]
    }
   ],
   "source": [
    "from IPython.display import HTML, display\n",
    "\n",
    "import statsmodels.api as sm\n",
    "from statsmodels.formula.api import ols\n",
    "from statsmodels.sandbox.regression.predstd import wls_prediction_std\n",
    "\n",
    "from sklearn.cluster import KMeans\n",
    "from scipy import stats\n",
    "\n",
    "import matplotlib.pyplot as plt\n",
    "import seaborn as sns\n",
    "\n",
    "sns.set_style(\"darkgrid\")\n",
    "\n",
    "import pandas as pd\n",
    "import numpy as np\n",
    "import ast\n",
    "import random\n",
    "import math \n",
    "import time\n",
    "\n",
    "import sklearn\n",
    "\n",
    "from sklearn.model_selection import train_test_split\n",
    "from sklearn.ensemble import RandomForestClassifier\n",
    "from sklearn.metrics import accuracy_score\n",
    "from sklearn.metrics import confusion_matrix\n",
    "from sklearn.base import TransformerMixin\n",
    "from sklearn.metrics import roc_auc_score\n",
    "        \n",
    "df = pd.read_csv('bank-full.csv', encoding='latin-1')\n",
    "\n",
    "df.dropna(inplace= True)\n",
    "    \n",
    "print (\"df Shape: \", df.shape)\n",
    "df = pd.get_dummies(df)\n",
    "print (\"df Shape: \", df.shape)\n",
    "labels = np.array(df['goal'])\n",
    "df= df.drop('goal', axis = 1)\n",
    "df_list = list(df.columns)\n",
    "df = np.array(df)\n",
    "train_x, test_x, train_y, test_y = train_test_split(df, labels, test_size = 0.2, random_state = 42)\n",
    "\n",
    "print (\"Train_x Shape: \",train_x.shape)\n",
    "print (\"Train_y Shape: \", train_y.shape)\n",
    "print (\"Test_x Shape: \", test_x.shape)\n",
    "print (\"Test_y Shape: \", test_y.shape)\n",
    "\n"
   ]
  },
  {
   "cell_type": "code",
   "execution_count": 13,
   "metadata": {
    "scrolled": false
   },
   "outputs": [
    {
     "name": "stdout",
     "output_type": "stream",
     "text": [
      "[[7750  202]\n",
      " [ 709  382]]\n",
      "AUC Score: 0.66236753702785\n",
      "AUC Score prob: 0.9049023748356315\n"
     ]
    },
    {
     "data": {
      "image/png": "[encoded data removed]",
      "text/plain": [
       "<Figure size 432x288 with 1 Axes>"
      ]
     },
     "metadata": {},
     "output_type": "display_data"
    }
   ],
   "source": [
    "from sklearn.linear_model import LogisticRegression\n",
    "logreg = LogisticRegression(max_iter = 10000)\n",
    "logreg.fit(train_x, train_y)\n",
    "\n",
    "y_pred=logreg.predict(test_x)\n",
    "y_pred_prob = logreg.predict_proba(test_x)[:,1]\n",
    "\n",
    "confusion_matrix = confusion_matrix(test_y, y_pred)\n",
    "print(confusion_matrix)\n",
    "\n",
    "print (\"AUC Score:\", roc_auc_score(test_y, y_pred))\n",
    "print (\"AUC Score prob:\", roc_auc_score(test_y, y_pred_prob))\n",
    "\n",
    "from sklearn.metrics import roc_auc_score\n",
    "from sklearn.metrics import roc_curve\n",
    "logit_roc_auc = roc_auc_score(test_y, logreg.predict(test_x))\n",
    "fpr, tpr, thresholds = roc_curve(test_y, logreg.predict_proba(test_x)[:,1])\n",
    "plt.figure()\n",
    "plt.plot(fpr, tpr, label='Logistic Regression (area = %0.2f)' % logit_roc_auc)\n",
    "plt.plot([0, 1], [0, 1],'r--')\n",
    "plt.xlim([0.0, 1.0])\n",
    "plt.ylim([0.0, 1.05])\n",
    "plt.xlabel('False Positive Rate')\n",
    "plt.ylabel('True Positive Rate')\n",
    "plt.title('Receiver operating characteristic')\n",
    "plt.legend(loc=\"lower right\")\n",
    "plt.savefig('Log_ROC')\n",
    "plt.show()"
   ]
  },
  {
   "cell_type": "code",
   "execution_count": null,
   "metadata": {},
   "outputs": [],
   "source": [
    "import lightgbm as lgb\n",
    "\n",
    "\n",
    "lgb_train = lgb.Dataset(train_x, train_y)\n",
    "lgb_eval = lgb.Dataset(test_x, test_y)\n",
    "\n",
    "parameters = {\n",
    "    'application': 'binary',\n",
    "    'objective': 'binary',\n",
    "    'metric': 'auc',\n",
    "    'is_unbalance': 'true',\n",
    "    'boosting': 'gbdt',\n",
    "    'num_leaves': 31,\n",
    "    'feature_fraction': 0.5,\n",
    "    'bagging_fraction': 0.5,\n",
    "    'bagging_freq': 20,\n",
    "    'learning_rate': 0.05,\n",
    "    'verbose': 0\n",
    "}\n",
    "\n",
    "gbm = lgb.train(parameters,\n",
    "                       lgb_train,\n",
    "                       valid_sets=lgb_train,\n",
    "                       num_boost_round=5000,\n",
    "                       early_stopping_rounds=100)\n",
    "\n",
    "y_pred = gbm.predict(test_x, num_iteration=gbm.best_iteration)\n",
    "#\n",
    "print (y_pred)\n",
    "\n",
    "predictions= np.zeros(test_x.shape[0], dtype=np.int32)\n",
    "\n",
    "#convert into binary values\n",
    "for i in range(test_x.shape[0]):\n",
    "    if y_pred[i]>=.5:       # setting threshold to .5\n",
    "        predictions[i] =1\n",
    "    else:  \n",
    "        predictions[i] = 0\n",
    "\n",
    "\n"
   ]
  },
  {
   "cell_type": "code",
   "execution_count": null,
   "metadata": {},
   "outputs": [],
   "source": [
    "#Confusion matrix\n",
    "from sklearn.metrics import confusion_matrix\n",
    "cm = confusion_matrix(test_y, predictions)\n",
    "print(cm)\n",
    "print (\"AUC Score:\",roc_auc_score(test_y, predictions))\n",
    "print (\"AUC Score prob:\", roc_auc_score(test_y, y_pred))"
   ]
  },
  {
   "cell_type": "code",
   "execution_count": null,
   "metadata": {},
   "outputs": [],
   "source": []
  },
  {
   "cell_type": "code",
   "execution_count": null,
   "metadata": {},
   "outputs": [],
   "source": []
  }
 ],
 "metadata": {
  "kernelspec": {
   "display_name": "Python 3",
   "language": "python",
   "name": "python3"
  },
  "language_info": {
   "codemirror_mode": {
    "name": "ipython",
    "version": 3
   },
   "file_extension": ".py",
   "mimetype": "text/x-python",
   "name": "python",
   "nbconvert_exporter": "python",
   "pygments_lexer": "ipython3",
   "version": "3.7.6"
  }
 },
 "nbformat": 4,
 "nbformat_minor": 2
}
