{
 "metadata": {
  "language_info": {
   "codemirror_mode": {
    "name": "ipython",
    "version": 3
   },
   "file_extension": ".py",
   "mimetype": "text/x-python",
   "name": "python",
   "nbconvert_exporter": "python",
   "pygments_lexer": "ipython3",
   "version": "3.8.3-final"
  },
  "orig_nbformat": 2,
  "kernelspec": {
   "name": "python3",
   "display_name": "Python 3"
  }
 },
 "nbformat": 4,
 "nbformat_minor": 2,
 "cells": [
  {
   "cell_type": "code",
   "execution_count": 1,
   "metadata": {},
   "outputs": [],
   "source": [
    "import pandas as pd\n",
    "pd.set_option('display.max_rows', 500)\n",
    "import numpy as np\n",
    "import matplotlib.pyplot as plt\n",
    "from sklearn import datasets, linear_model, svm, tree\n",
    "from sklearn.ensemble import RandomForestRegressor\n",
    "from  sklearn import metrics\n",
    "from sklearn.metrics import mean_squared_error, r2_score\n",
    "from sklearn.model_selection import train_test_split\n",
    "from sklearn.preprocessing import MinMaxScaler, StandardScaler\n",
    "import seaborn as sns\n",
    "\n",
    "np.random.seed(1907)"
   ]
  },
  {
   "source": [
    "# Initial Predictions"
   ],
   "cell_type": "markdown",
   "metadata": {}
  },
  {
   "cell_type": "code",
   "execution_count": 2,
   "metadata": {},
   "outputs": [],
   "source": [
    "def prepare_data(exclude_columns=None, features_to_use=None, apply_x_col=None):\n",
    "    \n",
    "\n",
    "    data = pd.read_csv(\"https://raw.githubusercontent.com/ahmetsirel/ozu_data_science/master/M5%20-%20General%20Linear%20Models/cell2cell-v1.csv\")\n",
    "    data.dropna(inplace= True)\n",
    "    data = data.drop([\"Unnamed: 0\",\t\n",
    "                        \"X\",\t\n",
    "                        \"customer\",\t\n",
    "                        \"traintest\",\n",
    "                        'churn', \n",
    "                        \"churndep\", \n",
    "                        'recchrge'], axis=1)\n",
    "    \n",
    "    if exclude_columns is not None and features_to_use is not None:\n",
    "        raise Exception(\"exclude_columns and features_to_use cannot be used at the same time.\")\n",
    "\n",
    "    if exclude_columns is not None:\n",
    "        data = data.drop(exclude_columns, axis=1)\n",
    "\n",
    "    if features_to_use is not None:\n",
    "        data = data[features_to_use + [\"revenue\"]]\n",
    "\n",
    "    data = pd.get_dummies(data)\n",
    "\n",
    "    x = data.drop('revenue', axis=1)\n",
    "    \n",
    "    y = data['revenue']\n",
    "\n",
    "    if apply_x_col is not None:\n",
    "        x = x.apply(apply_x_col)\n",
    "    \n",
    "\n",
    "    x_train, x_test, y_train, y_test = train_test_split(\n",
    "        x, y, test_size = 0.25, random_state = 42)\n",
    "    return x_train, x_test, y_train, y_test, data"
   ]
  },
  {
   "source": [
    "x_train, x_test, y_train, y_test, data = prepare_data()"
   ],
   "cell_type": "code",
   "metadata": {},
   "execution_count": 3,
   "outputs": []
  },
  {
   "cell_type": "code",
   "execution_count": 4,
   "metadata": {},
   "outputs": [],
   "source": [
    "def scale_data(x_train, x_test, scaler=StandardScaler):\n",
    "\n",
    "    scaler = scaler()\n",
    "    scaler.fit(x_train)\n",
    "\n",
    "    x_train_scaled = scaler.transform(x_train)\n",
    "    x_train_scaled = pd.DataFrame(x_train_scaled, index=x_train.index, columns=x_train.columns)\n",
    "\n",
    "    x_test_scaled = scaler.transform(x_test)\n",
    "    x_test_scaled = pd.DataFrame(x_test_scaled, index=x_test.index, columns=x_test.columns)\n",
    "\n",
    "    x_train_scaled.fillna(x_train_scaled.mean(), inplace=True)\n",
    "    x_test_scaled.fillna(x_test_scaled.mean(), inplace=True)\n",
    "\n",
    "    return x_train_scaled, x_test_scaled\n",
    "\n"
   ]
  },
  {
   "cell_type": "code",
   "execution_count": 5,
   "metadata": {},
   "outputs": [],
   "source": [
    "def evaluate_regression(y_true_train, y_pred_train, y_true_test, y_pred_test, model_name=\"\", model=None):   \n",
    "    return pd.DataFrame.from_records([[\n",
    "                                       metrics.mean_squared_error(y_true_train, y_pred_train),\n",
    "                                       metrics.mean_absolute_error(y_true_train, y_pred_train),\n",
    "                                       metrics.max_error(y_true_train, y_pred_train),\n",
    "                                       metrics.r2_score(y_true_train, y_pred_train), \n",
    "                                      metrics.mean_squared_error(y_true_test, y_pred_test),\n",
    "                                       metrics.mean_absolute_error(y_true_test, y_pred_test),\n",
    "                                       metrics.max_error(y_true_test, y_pred_test),\n",
    "                                       metrics.r2_score(y_true_test, y_pred_test),\n",
    "                                       model]],\n",
    "                                     \n",
    "                                     index=[model_name], \n",
    "                                     columns=['mean_squared_error_train', 'mean_absolute_error_train', 'max_error_train', \"r2_score_train\",\n",
    "                                              'mean_squared_error_test', 'mean_absolute_error_test', 'max_error_test', \"r2_score_test\", \"model_object\"])\n"
   ]
  },
  {
   "cell_type": "code",
   "execution_count": 6,
   "metadata": {},
   "outputs": [],
   "source": [
    "def run_models(x_train, x_test, y_train, y_test):\n",
    "        results = pd.DataFrame()\n",
    "        for model in [linear_model.LinearRegression(), \n",
    "                        linear_model.RidgeCV(),\n",
    "                        linear_model.LassoCV(),\n",
    "                        svm.LinearSVR(),\n",
    "                        #svm.SVR(kernel=\"rbf\",),\n",
    "                        #svm.SVR(kernel=\"poly\"),\n",
    "                        tree.DecisionTreeRegressor()]:\n",
    "                #print(type(model).__name__, \"Started\")\n",
    "                model.fit(x_train, y_train)\n",
    "                #print(type(model).__name__, \"Ended\")\n",
    "                y_train_pred = model.predict(x_train)\n",
    "                y_test_pred = model.predict(x_test)\n",
    "\n",
    "                results = results.append(evaluate_regression(y_train, y_train_pred, y_test, y_test_pred,\n",
    "                                        model_name=type(model).__name__, model=model))\n",
    "        return results\n"
   ]
  },
  {
   "cell_type": "code",
   "execution_count": 7,
   "metadata": {},
   "outputs": [],
   "source": [
    "experiment_list = pd.DataFrame()\n",
    "def run(exclude_columns=None, features_to_use=None, name=\"\", apply_x_col=None):\n",
    "    global experiment_list\n",
    "    print(name)\n",
    "    x_train, x_test, y_train, y_test, data = prepare_data(exclude_columns=exclude_columns, features_to_use=features_to_use, apply_x_col=apply_x_col)\n",
    "    x_train, x_test = scale_data(x_train, x_test, scaler=StandardScaler)\n",
    "\n",
    "    results = run_models(x_train, x_test, y_train, y_test)\n",
    "\n",
    "    print(\"Min mean_squared_error_test Test\",results.sort_values(\"mean_squared_error_test\").iloc[0][\"mean_squared_error_test\"])\n",
    "\n",
    "    best_model = results.sort_values(\"mean_squared_error_test\").reset_index().loc[[0], [\"mean_squared_error_train\", \"mean_squared_error_test\", \"index\",\"model_object\"]].rename({0:name, \"index\":\"model_name\"})\n",
    "    if experiment_list is not None:\n",
    "        experiment_list = experiment_list.append(best_model)\n",
    "\n",
    "    return results.sort_values(\"mean_squared_error_test\")"
   ]
  },
  {
   "cell_type": "code",
   "execution_count": 106,
   "metadata": {},
   "outputs": [
    {
     "output_type": "stream",
     "name": "stdout",
     "text": [
      "Initial Run\n",
      "Min mean_squared_error_test Test 401.4432110070674\n"
     ]
    }
   ],
   "source": [
    "results = run(exclude_columns=None, name=\"Initial Run\")"
   ]
  },
  {
   "cell_type": "code",
   "execution_count": 107,
   "metadata": {},
   "outputs": [
    {
     "output_type": "execute_result",
     "data": {
      "text/plain": [
       "                       mean_squared_error_train  mean_absolute_error_train  \\\n",
       "LassoCV                            4.108938e+02               1.256996e+01   \n",
       "RidgeCV                            4.098249e+02               1.256842e+01   \n",
       "LinearRegression                   4.098228e+02               1.256757e+01   \n",
       "LinearSVR                          4.257021e+02               1.223268e+01   \n",
       "DecisionTreeRegressor              3.716736e-32               1.046168e-17   \n",
       "\n",
       "                       max_error_train  r2_score_train  \\\n",
       "LassoCV                   7.550257e+02        0.781958   \n",
       "RidgeCV                   7.522860e+02        0.782526   \n",
       "LinearRegression          7.526415e+02        0.782527   \n",
       "LinearSVR                 9.225178e+02        0.774100   \n",
       "DecisionTreeRegressor     3.552714e-15        1.000000   \n",
       "\n",
       "                       mean_squared_error_test  mean_absolute_error_test  \\\n",
       "LassoCV                             401.443211                 12.329446   \n",
       "RidgeCV                             401.923119                 12.338010   \n",
       "LinearRegression                    402.028255                 12.337654   \n",
       "LinearSVR                           403.705445                 11.945810   \n",
       "DecisionTreeRegressor               728.827678                 16.919868   \n",
       "\n",
       "                       max_error_test  r2_score_test  \\\n",
       "LassoCV                    511.888698       0.802745   \n",
       "RidgeCV                    511.966629       0.802509   \n",
       "LinearRegression           512.236275       0.802457   \n",
       "LinearSVR                  563.331400       0.801633   \n",
       "DecisionTreeRegressor      616.994995       0.641879   \n",
       "\n",
       "                                                            model_object  \n",
       "LassoCV                LassoCV(alphas=None, copy_X=True, cv=None, eps...  \n",
       "RidgeCV                RidgeCV(alphas=array([ 0.1,  1. , 10. ]), cv=N...  \n",
       "LinearRegression       LinearRegression(copy_X=True, fit_intercept=Tr...  \n",
       "LinearSVR              LinearSVR(C=1.0, dual=True, epsilon=0.0, fit_i...  \n",
       "DecisionTreeRegressor  DecisionTreeRegressor(ccp_alpha=0.0, criterion...  "
      ],
      "text/html": "<div>\n<style scoped>\n    .dataframe tbody tr th:only-of-type {\n        vertical-align: middle;\n    }\n\n    .dataframe tbody tr th {\n        vertical-align: top;\n    }\n\n    .dataframe thead th {\n        text-align: right;\n    }\n</style>\n<table border=\"1\" class=\"dataframe\">\n  <thead>\n    <tr style=\"text-align: right;\">\n      <th></th>\n      <th>mean_squared_error_train</th>\n      <th>mean_absolute_error_train</th>\n      <th>max_error_train</th>\n      <th>r2_score_train</th>\n      <th>mean_squared_error_test</th>\n      <th>mean_absolute_error_test</th>\n      <th>max_error_test</th>\n      <th>r2_score_test</th>\n      <th>model_object</th>\n    </tr>\n  </thead>\n  <tbody>\n    <tr>\n      <th>LassoCV</th>\n      <td>4.108938e+02</td>\n      <td>1.256996e+01</td>\n      <td>7.550257e+02</td>\n      <td>0.781958</td>\n      <td>401.443211</td>\n      <td>12.329446</td>\n      <td>511.888698</td>\n      <td>0.802745</td>\n      <td>LassoCV(alphas=None, copy_X=True, cv=None, eps...</td>\n    </tr>\n    <tr>\n      <th>RidgeCV</th>\n      <td>4.098249e+02</td>\n      <td>1.256842e+01</td>\n      <td>7.522860e+02</td>\n      <td>0.782526</td>\n      <td>401.923119</td>\n      <td>12.338010</td>\n      <td>511.966629</td>\n      <td>0.802509</td>\n      <td>RidgeCV(alphas=array([ 0.1,  1. , 10. ]), cv=N...</td>\n    </tr>\n    <tr>\n      <th>LinearRegression</th>\n      <td>4.098228e+02</td>\n      <td>1.256757e+01</td>\n      <td>7.526415e+02</td>\n      <td>0.782527</td>\n      <td>402.028255</td>\n      <td>12.337654</td>\n      <td>512.236275</td>\n      <td>0.802457</td>\n      <td>LinearRegression(copy_X=True, fit_intercept=Tr...</td>\n    </tr>\n    <tr>\n      <th>LinearSVR</th>\n      <td>4.257021e+02</td>\n      <td>1.223268e+01</td>\n      <td>9.225178e+02</td>\n      <td>0.774100</td>\n      <td>403.705445</td>\n      <td>11.945810</td>\n      <td>563.331400</td>\n      <td>0.801633</td>\n      <td>LinearSVR(C=1.0, dual=True, epsilon=0.0, fit_i...</td>\n    </tr>\n    <tr>\n      <th>DecisionTreeRegressor</th>\n      <td>3.716736e-32</td>\n      <td>1.046168e-17</td>\n      <td>3.552714e-15</td>\n      <td>1.000000</td>\n      <td>728.827678</td>\n      <td>16.919868</td>\n      <td>616.994995</td>\n      <td>0.641879</td>\n      <td>DecisionTreeRegressor(ccp_alpha=0.0, criterion...</td>\n    </tr>\n  </tbody>\n</table>\n</div>"
     },
     "metadata": {},
     "execution_count": 107
    }
   ],
   "source": [
    "results"
   ]
  },
  {
   "source": [
    "#  (i) variable interaction"
   ],
   "cell_type": "markdown",
   "metadata": {}
  },
  {
   "cell_type": "code",
   "execution_count": 108,
   "metadata": {},
   "outputs": [
    {
     "output_type": "execute_result",
     "data": {
      "text/plain": [
       "2080"
      ]
     },
     "metadata": {},
     "execution_count": 108
    }
   ],
   "source": [
    "corr = data.corr().unstack().reset_index(name='corr').rename(columns={'level_0': 'V1', 'level_1': 'V2'})\n",
    "corr['corr_abs'] = np.abs(corr['corr'])\n",
    "corr = corr[corr.V1 != corr.V2]\n",
    "corr = corr.sort_values('corr_abs', ascending=False)\n",
    "corr_with_label = corr[corr.V1 == \"revenue\"].copy()\n",
    "corr['key'] = corr.apply(lambda x: str(sorted((x.V1, x.V2))) , axis=1)\n",
    "\n",
    "corr = corr.drop_duplicates(subset='key').drop('key', axis=1)\n",
    "\n",
    "\n",
    "len(corr)"
   ]
  },
  {
   "source": [
    "## Detect the columns with high correlation with each other and drop the one has lower corr with LABEL"
   ],
   "cell_type": "markdown",
   "metadata": {}
  },
  {
   "cell_type": "code",
   "execution_count": 109,
   "metadata": {},
   "outputs": [
    {
     "output_type": "execute_result",
     "data": {
      "text/plain": [
       "         V1        V2      corr  corr_abs  corr_V1_corr_with_label  \\\n",
       "0   mailres   mailord  0.967441  0.967441                -0.091854   \n",
       "1   retcall  retcalls  0.955164  0.955164                 0.016116   \n",
       "2    models    phones  0.889208  0.889208                 0.232018   \n",
       "3    mourec       mou  0.829735  0.829735                 0.608737   \n",
       "4  creditcd   incmiss -0.817948  0.817948                -0.084609   \n",
       "\n",
       "   corr_abs_V1_corr_with_label  corr_V2_corr_with_label  \\\n",
       "0                     0.091854                -0.091035   \n",
       "1                     0.016116                 0.016305   \n",
       "2                     0.232018                 0.239804   \n",
       "3                     0.608737                 0.710476   \n",
       "4                     0.084609                 0.072773   \n",
       "\n",
       "   corr_abs_V2_corr_with_label  \n",
       "0                     0.091035  \n",
       "1                     0.016305  \n",
       "2                     0.239804  \n",
       "3                     0.710476  \n",
       "4                     0.072773  "
      ],
      "text/html": "<div>\n<style scoped>\n    .dataframe tbody tr th:only-of-type {\n        vertical-align: middle;\n    }\n\n    .dataframe tbody tr th {\n        vertical-align: top;\n    }\n\n    .dataframe thead th {\n        text-align: right;\n    }\n</style>\n<table border=\"1\" class=\"dataframe\">\n  <thead>\n    <tr style=\"text-align: right;\">\n      <th></th>\n      <th>V1</th>\n      <th>V2</th>\n      <th>corr</th>\n      <th>corr_abs</th>\n      <th>corr_V1_corr_with_label</th>\n      <th>corr_abs_V1_corr_with_label</th>\n      <th>corr_V2_corr_with_label</th>\n      <th>corr_abs_V2_corr_with_label</th>\n    </tr>\n  </thead>\n  <tbody>\n    <tr>\n      <th>0</th>\n      <td>mailres</td>\n      <td>mailord</td>\n      <td>0.967441</td>\n      <td>0.967441</td>\n      <td>-0.091854</td>\n      <td>0.091854</td>\n      <td>-0.091035</td>\n      <td>0.091035</td>\n    </tr>\n    <tr>\n      <th>1</th>\n      <td>retcall</td>\n      <td>retcalls</td>\n      <td>0.955164</td>\n      <td>0.955164</td>\n      <td>0.016116</td>\n      <td>0.016116</td>\n      <td>0.016305</td>\n      <td>0.016305</td>\n    </tr>\n    <tr>\n      <th>2</th>\n      <td>models</td>\n      <td>phones</td>\n      <td>0.889208</td>\n      <td>0.889208</td>\n      <td>0.232018</td>\n      <td>0.232018</td>\n      <td>0.239804</td>\n      <td>0.239804</td>\n    </tr>\n    <tr>\n      <th>3</th>\n      <td>mourec</td>\n      <td>mou</td>\n      <td>0.829735</td>\n      <td>0.829735</td>\n      <td>0.608737</td>\n      <td>0.608737</td>\n      <td>0.710476</td>\n      <td>0.710476</td>\n    </tr>\n    <tr>\n      <th>4</th>\n      <td>creditcd</td>\n      <td>incmiss</td>\n      <td>-0.817948</td>\n      <td>0.817948</td>\n      <td>-0.084609</td>\n      <td>0.084609</td>\n      <td>0.072773</td>\n      <td>0.072773</td>\n    </tr>\n  </tbody>\n</table>\n</div>"
     },
     "metadata": {},
     "execution_count": 109
    }
   ],
   "source": [
    "corr_wide = corr.merge(corr_with_label[[\"V2\",\"corr\",\"corr_abs\"]], left_on=\"V1\", right_on=\"V2\" , how=\"left\", suffixes=(None, \"_V1_corr_with_label\")).drop(\"V2_V1_corr_with_label\",axis=1).merge(corr_with_label[[\"V2\",\"corr\",\"corr_abs\"]], left_on=\"V2\", right_on=\"V2\" , how=\"left\", suffixes=(None, \"_V2_corr_with_label\"))#.drop(\"V2_V2_corr_with_label\",axis=1)\n",
    "corr_wide.head()"
   ]
  },
  {
   "cell_type": "code",
   "execution_count": 110,
   "metadata": {},
   "outputs": [
    {
     "output_type": "execute_result",
     "data": {
      "text/plain": [
       "<matplotlib.axes._subplots.AxesSubplot at 0x7f2dd582b9b0>"
      ]
     },
     "metadata": {},
     "execution_count": 110
    },
    {
     "output_type": "display_data",
     "data": {
      "text/plain": "<Figure size 432x288 with 1 Axes>",
      "image/svg+xml": "<?xml version=\"1.0\" encoding=\"utf-8\" standalone=\"no\"?>\n<!DOCTYPE svg PUBLIC \"-//W3C//DTD SVG 1.1//EN\"\n  \"http://www.w3.org/Graphics/SVG/1.1/DTD/svg11.dtd\">\n<!-- Created with matplotlib (https://matplotlib.org/) -->\n<svg height=\"248.518125pt\" version=\"1.1\" viewBox=\"0 0 368.925 248.518125\" width=\"368.925pt\" xmlns=\"http://www.w3.org/2000/svg\" xmlns:xlink=\"http://www.w3.org/1999/xlink\">\n <defs>\n  <style type=\"text/css\">\n*{stroke-linecap:butt;stroke-linejoin:round;}\n  </style>\n </defs>\n <g id=\"figure_1\">\n  <g id=\"patch_1\">\n   <path d=\"M -0 248.518125 \nL 368.925 248.518125 \nL 368.925 0 \nL -0 0 \nz\n\" style=\"fill:none;\"/>\n  </g>\n  <g id=\"axes_1\">\n   <g id=\"patch_2\">\n    <path d=\"M 26.925 224.64 \nL 361.725 224.64 \nL 361.725 7.2 \nL 26.925 7.2 \nz\n\" style=\"fill:#ffffff;\"/>\n   </g>\n   <g id=\"patch_3\">\n    <path clip-path=\"url(#p94cbdf69f2)\" d=\"M 42.143182 224.64 \nL 72.579545 224.64 \nL 72.579545 17.554286 \nL 42.143182 17.554286 \nz\n\" style=\"fill:#1f77b4;\"/>\n   </g>\n   <g id=\"patch_4\">\n    <path clip-path=\"url(#p94cbdf69f2)\" d=\"M 72.579545 224.64 \nL 103.015909 224.64 \nL 103.015909 90.643361 \nL 72.579545 90.643361 \nz\n\" style=\"fill:#1f77b4;\"/>\n   </g>\n   <g id=\"patch_5\">\n    <path clip-path=\"url(#p94cbdf69f2)\" d=\"M 103.015909 224.64 \nL 133.452273 224.64 \nL 133.452273 66.280336 \nL 103.015909 66.280336 \nz\n\" style=\"fill:#1f77b4;\"/>\n   </g>\n   <g id=\"patch_6\">\n    <path clip-path=\"url(#p94cbdf69f2)\" d=\"M 133.452273 224.64 \nL 163.888636 224.64 \nL 163.888636 90.643361 \nL 133.452273 90.643361 \nz\n\" style=\"fill:#1f77b4;\"/>\n   </g>\n   <g id=\"patch_7\">\n    <path clip-path=\"url(#p94cbdf69f2)\" d=\"M 163.888636 224.64 \nL 194.325 224.64 \nL 194.325 66.280336 \nL 163.888636 66.280336 \nz\n\" style=\"fill:#1f77b4;\"/>\n   </g>\n   <g id=\"patch_8\">\n    <path clip-path=\"url(#p94cbdf69f2)\" d=\"M 194.325 224.64 \nL 224.761364 224.64 \nL 224.761364 115.006387 \nL 194.325 115.006387 \nz\n\" style=\"fill:#1f77b4;\"/>\n   </g>\n   <g id=\"patch_9\">\n    <path clip-path=\"url(#p94cbdf69f2)\" d=\"M 224.761364 224.64 \nL 255.197727 224.64 \nL 255.197727 151.550924 \nL 224.761364 151.550924 \nz\n\" style=\"fill:#1f77b4;\"/>\n   </g>\n   <g id=\"patch_10\">\n    <path clip-path=\"url(#p94cbdf69f2)\" d=\"M 255.197727 224.64 \nL 285.634091 224.64 \nL 285.634091 212.458487 \nL 255.197727 212.458487 \nz\n\" style=\"fill:#1f77b4;\"/>\n   </g>\n   <g id=\"patch_11\">\n    <path clip-path=\"url(#p94cbdf69f2)\" d=\"M 285.634091 224.64 \nL 316.070455 224.64 \nL 316.070455 212.458487 \nL 285.634091 212.458487 \nz\n\" style=\"fill:#1f77b4;\"/>\n   </g>\n   <g id=\"patch_12\">\n    <path clip-path=\"url(#p94cbdf69f2)\" d=\"M 316.070455 224.64 \nL 346.506818 224.64 \nL 346.506818 200.276975 \nL 316.070455 200.276975 \nz\n\" style=\"fill:#1f77b4;\"/>\n   </g>\n   <g id=\"matplotlib.axis_1\">\n    <g id=\"xtick_1\">\n     <g id=\"line2d_1\">\n      <path clip-path=\"url(#p94cbdf69f2)\" d=\"M 41.276231 224.64 \nL 41.276231 7.2 \n\" style=\"fill:none;stroke:#b0b0b0;stroke-linecap:square;stroke-width:0.8;\"/>\n     </g>\n     <g id=\"line2d_2\">\n      <defs>\n       <path d=\"M 0 0 \nL 0 3.5 \n\" id=\"m4116e0d3cf\" style=\"stroke:#000000;stroke-width:0.8;\"/>\n      </defs>\n      <g>\n       <use style=\"stroke:#000000;stroke-width:0.8;\" x=\"41.276231\" xlink:href=\"#m4116e0d3cf\" y=\"224.64\"/>\n      </g>\n     </g>\n     <g id=\"text_1\">\n      <!-- 0.5 -->\n      <defs>\n       <path d=\"M 31.78125 66.40625 \nQ 24.171875 66.40625 20.328125 58.90625 \nQ 16.5 51.421875 16.5 36.375 \nQ 16.5 21.390625 20.328125 13.890625 \nQ 24.171875 6.390625 31.78125 6.390625 \nQ 39.453125 6.390625 43.28125 13.890625 \nQ 47.125 21.390625 47.125 36.375 \nQ 47.125 51.421875 43.28125 58.90625 \nQ 39.453125 66.40625 31.78125 66.40625 \nz\nM 31.78125 74.21875 \nQ 44.046875 74.21875 50.515625 64.515625 \nQ 56.984375 54.828125 56.984375 36.375 \nQ 56.984375 17.96875 50.515625 8.265625 \nQ 44.046875 -1.421875 31.78125 -1.421875 \nQ 19.53125 -1.421875 13.0625 8.265625 \nQ 6.59375 17.96875 6.59375 36.375 \nQ 6.59375 54.828125 13.0625 64.515625 \nQ 19.53125 74.21875 31.78125 74.21875 \nz\n\" id=\"DejaVuSans-48\"/>\n       <path d=\"M 10.6875 12.40625 \nL 21 12.40625 \nL 21 0 \nL 10.6875 0 \nz\n\" id=\"DejaVuSans-46\"/>\n       <path d=\"M 10.796875 72.90625 \nL 49.515625 72.90625 \nL 49.515625 64.59375 \nL 19.828125 64.59375 \nL 19.828125 46.734375 \nQ 21.96875 47.46875 24.109375 47.828125 \nQ 26.265625 48.1875 28.421875 48.1875 \nQ 40.625 48.1875 47.75 41.5 \nQ 54.890625 34.8125 54.890625 23.390625 \nQ 54.890625 11.625 47.5625 5.09375 \nQ 40.234375 -1.421875 26.90625 -1.421875 \nQ 22.3125 -1.421875 17.546875 -0.640625 \nQ 12.796875 0.140625 7.71875 1.703125 \nL 7.71875 11.625 \nQ 12.109375 9.234375 16.796875 8.0625 \nQ 21.484375 6.890625 26.703125 6.890625 \nQ 35.15625 6.890625 40.078125 11.328125 \nQ 45.015625 15.765625 45.015625 23.390625 \nQ 45.015625 31 40.078125 35.4375 \nQ 35.15625 39.890625 26.703125 39.890625 \nQ 22.75 39.890625 18.8125 39.015625 \nQ 14.890625 38.140625 10.796875 36.28125 \nz\n\" id=\"DejaVuSans-53\"/>\n      </defs>\n      <g transform=\"translate(33.324669 239.238437)scale(0.1 -0.1)\">\n       <use xlink:href=\"#DejaVuSans-48\"/>\n       <use x=\"63.623047\" xlink:href=\"#DejaVuSans-46\"/>\n       <use x=\"95.410156\" xlink:href=\"#DejaVuSans-53\"/>\n      </g>\n     </g>\n    </g>\n    <g id=\"xtick_2\">\n     <g id=\"line2d_3\">\n      <path clip-path=\"url(#p94cbdf69f2)\" d=\"M 106.574443 224.64 \nL 106.574443 7.2 \n\" style=\"fill:none;stroke:#b0b0b0;stroke-linecap:square;stroke-width:0.8;\"/>\n     </g>\n     <g id=\"line2d_4\">\n      <g>\n       <use style=\"stroke:#000000;stroke-width:0.8;\" x=\"106.574443\" xlink:href=\"#m4116e0d3cf\" y=\"224.64\"/>\n      </g>\n     </g>\n     <g id=\"text_2\">\n      <!-- 0.6 -->\n      <defs>\n       <path d=\"M 33.015625 40.375 \nQ 26.375 40.375 22.484375 35.828125 \nQ 18.609375 31.296875 18.609375 23.390625 \nQ 18.609375 15.53125 22.484375 10.953125 \nQ 26.375 6.390625 33.015625 6.390625 \nQ 39.65625 6.390625 43.53125 10.953125 \nQ 47.40625 15.53125 47.40625 23.390625 \nQ 47.40625 31.296875 43.53125 35.828125 \nQ 39.65625 40.375 33.015625 40.375 \nz\nM 52.59375 71.296875 \nL 52.59375 62.3125 \nQ 48.875 64.0625 45.09375 64.984375 \nQ 41.3125 65.921875 37.59375 65.921875 \nQ 27.828125 65.921875 22.671875 59.328125 \nQ 17.53125 52.734375 16.796875 39.40625 \nQ 19.671875 43.65625 24.015625 45.921875 \nQ 28.375 48.1875 33.59375 48.1875 \nQ 44.578125 48.1875 50.953125 41.515625 \nQ 57.328125 34.859375 57.328125 23.390625 \nQ 57.328125 12.15625 50.6875 5.359375 \nQ 44.046875 -1.421875 33.015625 -1.421875 \nQ 20.359375 -1.421875 13.671875 8.265625 \nQ 6.984375 17.96875 6.984375 36.375 \nQ 6.984375 53.65625 15.1875 63.9375 \nQ 23.390625 74.21875 37.203125 74.21875 \nQ 40.921875 74.21875 44.703125 73.484375 \nQ 48.484375 72.75 52.59375 71.296875 \nz\n\" id=\"DejaVuSans-54\"/>\n      </defs>\n      <g transform=\"translate(98.62288 239.238437)scale(0.1 -0.1)\">\n       <use xlink:href=\"#DejaVuSans-48\"/>\n       <use x=\"63.623047\" xlink:href=\"#DejaVuSans-46\"/>\n       <use x=\"95.410156\" xlink:href=\"#DejaVuSans-54\"/>\n      </g>\n     </g>\n    </g>\n    <g id=\"xtick_3\">\n     <g id=\"line2d_5\">\n      <path clip-path=\"url(#p94cbdf69f2)\" d=\"M 171.872654 224.64 \nL 171.872654 7.2 \n\" style=\"fill:none;stroke:#b0b0b0;stroke-linecap:square;stroke-width:0.8;\"/>\n     </g>\n     <g id=\"line2d_6\">\n      <g>\n       <use style=\"stroke:#000000;stroke-width:0.8;\" x=\"171.872654\" xlink:href=\"#m4116e0d3cf\" y=\"224.64\"/>\n      </g>\n     </g>\n     <g id=\"text_3\">\n      <!-- 0.7 -->\n      <defs>\n       <path d=\"M 8.203125 72.90625 \nL 55.078125 72.90625 \nL 55.078125 68.703125 \nL 28.609375 0 \nL 18.3125 0 \nL 43.21875 64.59375 \nL 8.203125 64.59375 \nz\n\" id=\"DejaVuSans-55\"/>\n      </defs>\n      <g transform=\"translate(163.921092 239.238437)scale(0.1 -0.1)\">\n       <use xlink:href=\"#DejaVuSans-48\"/>\n       <use x=\"63.623047\" xlink:href=\"#DejaVuSans-46\"/>\n       <use x=\"95.410156\" xlink:href=\"#DejaVuSans-55\"/>\n      </g>\n     </g>\n    </g>\n    <g id=\"xtick_4\">\n     <g id=\"line2d_7\">\n      <path clip-path=\"url(#p94cbdf69f2)\" d=\"M 237.170866 224.64 \nL 237.170866 7.2 \n\" style=\"fill:none;stroke:#b0b0b0;stroke-linecap:square;stroke-width:0.8;\"/>\n     </g>\n     <g id=\"line2d_8\">\n      <g>\n       <use style=\"stroke:#000000;stroke-width:0.8;\" x=\"237.170866\" xlink:href=\"#m4116e0d3cf\" y=\"224.64\"/>\n      </g>\n     </g>\n     <g id=\"text_4\">\n      <!-- 0.8 -->\n      <defs>\n       <path d=\"M 31.78125 34.625 \nQ 24.75 34.625 20.71875 30.859375 \nQ 16.703125 27.09375 16.703125 20.515625 \nQ 16.703125 13.921875 20.71875 10.15625 \nQ 24.75 6.390625 31.78125 6.390625 \nQ 38.8125 6.390625 42.859375 10.171875 \nQ 46.921875 13.96875 46.921875 20.515625 \nQ 46.921875 27.09375 42.890625 30.859375 \nQ 38.875 34.625 31.78125 34.625 \nz\nM 21.921875 38.8125 \nQ 15.578125 40.375 12.03125 44.71875 \nQ 8.5 49.078125 8.5 55.328125 \nQ 8.5 64.0625 14.71875 69.140625 \nQ 20.953125 74.21875 31.78125 74.21875 \nQ 42.671875 74.21875 48.875 69.140625 \nQ 55.078125 64.0625 55.078125 55.328125 \nQ 55.078125 49.078125 51.53125 44.71875 \nQ 48 40.375 41.703125 38.8125 \nQ 48.828125 37.15625 52.796875 32.3125 \nQ 56.78125 27.484375 56.78125 20.515625 \nQ 56.78125 9.90625 50.3125 4.234375 \nQ 43.84375 -1.421875 31.78125 -1.421875 \nQ 19.734375 -1.421875 13.25 4.234375 \nQ 6.78125 9.90625 6.78125 20.515625 \nQ 6.78125 27.484375 10.78125 32.3125 \nQ 14.796875 37.15625 21.921875 38.8125 \nz\nM 18.3125 54.390625 \nQ 18.3125 48.734375 21.84375 45.5625 \nQ 25.390625 42.390625 31.78125 42.390625 \nQ 38.140625 42.390625 41.71875 45.5625 \nQ 45.3125 48.734375 45.3125 54.390625 \nQ 45.3125 60.0625 41.71875 63.234375 \nQ 38.140625 66.40625 31.78125 66.40625 \nQ 25.390625 66.40625 21.84375 63.234375 \nQ 18.3125 60.0625 18.3125 54.390625 \nz\n\" id=\"DejaVuSans-56\"/>\n      </defs>\n      <g transform=\"translate(229.219304 239.238437)scale(0.1 -0.1)\">\n       <use xlink:href=\"#DejaVuSans-48\"/>\n       <use x=\"63.623047\" xlink:href=\"#DejaVuSans-46\"/>\n       <use x=\"95.410156\" xlink:href=\"#DejaVuSans-56\"/>\n      </g>\n     </g>\n    </g>\n    <g id=\"xtick_5\">\n     <g id=\"line2d_9\">\n      <path clip-path=\"url(#p94cbdf69f2)\" d=\"M 302.469078 224.64 \nL 302.469078 7.2 \n\" style=\"fill:none;stroke:#b0b0b0;stroke-linecap:square;stroke-width:0.8;\"/>\n     </g>\n     <g id=\"line2d_10\">\n      <g>\n       <use style=\"stroke:#000000;stroke-width:0.8;\" x=\"302.469078\" xlink:href=\"#m4116e0d3cf\" y=\"224.64\"/>\n      </g>\n     </g>\n     <g id=\"text_5\">\n      <!-- 0.9 -->\n      <defs>\n       <path d=\"M 10.984375 1.515625 \nL 10.984375 10.5 \nQ 14.703125 8.734375 18.5 7.8125 \nQ 22.3125 6.890625 25.984375 6.890625 \nQ 35.75 6.890625 40.890625 13.453125 \nQ 46.046875 20.015625 46.78125 33.40625 \nQ 43.953125 29.203125 39.59375 26.953125 \nQ 35.25 24.703125 29.984375 24.703125 \nQ 19.046875 24.703125 12.671875 31.3125 \nQ 6.296875 37.9375 6.296875 49.421875 \nQ 6.296875 60.640625 12.9375 67.421875 \nQ 19.578125 74.21875 30.609375 74.21875 \nQ 43.265625 74.21875 49.921875 64.515625 \nQ 56.59375 54.828125 56.59375 36.375 \nQ 56.59375 19.140625 48.40625 8.859375 \nQ 40.234375 -1.421875 26.421875 -1.421875 \nQ 22.703125 -1.421875 18.890625 -0.6875 \nQ 15.09375 0.046875 10.984375 1.515625 \nz\nM 30.609375 32.421875 \nQ 37.25 32.421875 41.125 36.953125 \nQ 45.015625 41.5 45.015625 49.421875 \nQ 45.015625 57.28125 41.125 61.84375 \nQ 37.25 66.40625 30.609375 66.40625 \nQ 23.96875 66.40625 20.09375 61.84375 \nQ 16.21875 57.28125 16.21875 49.421875 \nQ 16.21875 41.5 20.09375 36.953125 \nQ 23.96875 32.421875 30.609375 32.421875 \nz\n\" id=\"DejaVuSans-57\"/>\n      </defs>\n      <g transform=\"translate(294.517515 239.238437)scale(0.1 -0.1)\">\n       <use xlink:href=\"#DejaVuSans-48\"/>\n       <use x=\"63.623047\" xlink:href=\"#DejaVuSans-46\"/>\n       <use x=\"95.410156\" xlink:href=\"#DejaVuSans-57\"/>\n      </g>\n     </g>\n    </g>\n   </g>\n   <g id=\"matplotlib.axis_2\">\n    <g id=\"ytick_1\">\n     <g id=\"line2d_11\">\n      <path clip-path=\"url(#p94cbdf69f2)\" d=\"M 26.925 224.64 \nL 361.725 224.64 \n\" style=\"fill:none;stroke:#b0b0b0;stroke-linecap:square;stroke-width:0.8;\"/>\n     </g>\n     <g id=\"line2d_12\">\n      <defs>\n       <path d=\"M 0 0 \nL -3.5 0 \n\" id=\"m151d8b426f\" style=\"stroke:#000000;stroke-width:0.8;\"/>\n      </defs>\n      <g>\n       <use style=\"stroke:#000000;stroke-width:0.8;\" x=\"26.925\" xlink:href=\"#m151d8b426f\" y=\"224.64\"/>\n      </g>\n     </g>\n     <g id=\"text_6\">\n      <!-- 0 -->\n      <g transform=\"translate(13.5625 228.439219)scale(0.1 -0.1)\">\n       <use xlink:href=\"#DejaVuSans-48\"/>\n      </g>\n     </g>\n    </g>\n    <g id=\"ytick_2\">\n     <g id=\"line2d_13\">\n      <path clip-path=\"url(#p94cbdf69f2)\" d=\"M 26.925 200.276975 \nL 361.725 200.276975 \n\" style=\"fill:none;stroke:#b0b0b0;stroke-linecap:square;stroke-width:0.8;\"/>\n     </g>\n     <g id=\"line2d_14\">\n      <g>\n       <use style=\"stroke:#000000;stroke-width:0.8;\" x=\"26.925\" xlink:href=\"#m151d8b426f\" y=\"200.276975\"/>\n      </g>\n     </g>\n     <g id=\"text_7\">\n      <!-- 2 -->\n      <defs>\n       <path d=\"M 19.1875 8.296875 \nL 53.609375 8.296875 \nL 53.609375 0 \nL 7.328125 0 \nL 7.328125 8.296875 \nQ 12.9375 14.109375 22.625 23.890625 \nQ 32.328125 33.6875 34.8125 36.53125 \nQ 39.546875 41.84375 41.421875 45.53125 \nQ 43.3125 49.21875 43.3125 52.78125 \nQ 43.3125 58.59375 39.234375 62.25 \nQ 35.15625 65.921875 28.609375 65.921875 \nQ 23.96875 65.921875 18.8125 64.3125 \nQ 13.671875 62.703125 7.8125 59.421875 \nL 7.8125 69.390625 \nQ 13.765625 71.78125 18.9375 73 \nQ 24.125 74.21875 28.421875 74.21875 \nQ 39.75 74.21875 46.484375 68.546875 \nQ 53.21875 62.890625 53.21875 53.421875 \nQ 53.21875 48.921875 51.53125 44.890625 \nQ 49.859375 40.875 45.40625 35.40625 \nQ 44.1875 33.984375 37.640625 27.21875 \nQ 31.109375 20.453125 19.1875 8.296875 \nz\n\" id=\"DejaVuSans-50\"/>\n      </defs>\n      <g transform=\"translate(13.5625 204.076194)scale(0.1 -0.1)\">\n       <use xlink:href=\"#DejaVuSans-50\"/>\n      </g>\n     </g>\n    </g>\n    <g id=\"ytick_3\">\n     <g id=\"line2d_15\">\n      <path clip-path=\"url(#p94cbdf69f2)\" d=\"M 26.925 175.91395 \nL 361.725 175.91395 \n\" style=\"fill:none;stroke:#b0b0b0;stroke-linecap:square;stroke-width:0.8;\"/>\n     </g>\n     <g id=\"line2d_16\">\n      <g>\n       <use style=\"stroke:#000000;stroke-width:0.8;\" x=\"26.925\" xlink:href=\"#m151d8b426f\" y=\"175.91395\"/>\n      </g>\n     </g>\n     <g id=\"text_8\">\n      <!-- 4 -->\n      <defs>\n       <path d=\"M 37.796875 64.3125 \nL 12.890625 25.390625 \nL 37.796875 25.390625 \nz\nM 35.203125 72.90625 \nL 47.609375 72.90625 \nL 47.609375 25.390625 \nL 58.015625 25.390625 \nL 58.015625 17.1875 \nL 47.609375 17.1875 \nL 47.609375 0 \nL 37.796875 0 \nL 37.796875 17.1875 \nL 4.890625 17.1875 \nL 4.890625 26.703125 \nz\n\" id=\"DejaVuSans-52\"/>\n      </defs>\n      <g transform=\"translate(13.5625 179.713168)scale(0.1 -0.1)\">\n       <use xlink:href=\"#DejaVuSans-52\"/>\n      </g>\n     </g>\n    </g>\n    <g id=\"ytick_4\">\n     <g id=\"line2d_17\">\n      <path clip-path=\"url(#p94cbdf69f2)\" d=\"M 26.925 151.550924 \nL 361.725 151.550924 \n\" style=\"fill:none;stroke:#b0b0b0;stroke-linecap:square;stroke-width:0.8;\"/>\n     </g>\n     <g id=\"line2d_18\">\n      <g>\n       <use style=\"stroke:#000000;stroke-width:0.8;\" x=\"26.925\" xlink:href=\"#m151d8b426f\" y=\"151.550924\"/>\n      </g>\n     </g>\n     <g id=\"text_9\">\n      <!-- 6 -->\n      <g transform=\"translate(13.5625 155.350143)scale(0.1 -0.1)\">\n       <use xlink:href=\"#DejaVuSans-54\"/>\n      </g>\n     </g>\n    </g>\n    <g id=\"ytick_5\">\n     <g id=\"line2d_19\">\n      <path clip-path=\"url(#p94cbdf69f2)\" d=\"M 26.925 127.187899 \nL 361.725 127.187899 \n\" style=\"fill:none;stroke:#b0b0b0;stroke-linecap:square;stroke-width:0.8;\"/>\n     </g>\n     <g id=\"line2d_20\">\n      <g>\n       <use style=\"stroke:#000000;stroke-width:0.8;\" x=\"26.925\" xlink:href=\"#m151d8b426f\" y=\"127.187899\"/>\n      </g>\n     </g>\n     <g id=\"text_10\">\n      <!-- 8 -->\n      <g transform=\"translate(13.5625 130.987118)scale(0.1 -0.1)\">\n       <use xlink:href=\"#DejaVuSans-56\"/>\n      </g>\n     </g>\n    </g>\n    <g id=\"ytick_6\">\n     <g id=\"line2d_21\">\n      <path clip-path=\"url(#p94cbdf69f2)\" d=\"M 26.925 102.824874 \nL 361.725 102.824874 \n\" style=\"fill:none;stroke:#b0b0b0;stroke-linecap:square;stroke-width:0.8;\"/>\n     </g>\n     <g id=\"line2d_22\">\n      <g>\n       <use style=\"stroke:#000000;stroke-width:0.8;\" x=\"26.925\" xlink:href=\"#m151d8b426f\" y=\"102.824874\"/>\n      </g>\n     </g>\n     <g id=\"text_11\">\n      <!-- 10 -->\n      <defs>\n       <path d=\"M 12.40625 8.296875 \nL 28.515625 8.296875 \nL 28.515625 63.921875 \nL 10.984375 60.40625 \nL 10.984375 69.390625 \nL 28.421875 72.90625 \nL 38.28125 72.90625 \nL 38.28125 8.296875 \nL 54.390625 8.296875 \nL 54.390625 0 \nL 12.40625 0 \nz\n\" id=\"DejaVuSans-49\"/>\n      </defs>\n      <g transform=\"translate(7.2 106.624093)scale(0.1 -0.1)\">\n       <use xlink:href=\"#DejaVuSans-49\"/>\n       <use x=\"63.623047\" xlink:href=\"#DejaVuSans-48\"/>\n      </g>\n     </g>\n    </g>\n    <g id=\"ytick_7\">\n     <g id=\"line2d_23\">\n      <path clip-path=\"url(#p94cbdf69f2)\" d=\"M 26.925 78.461849 \nL 361.725 78.461849 \n\" style=\"fill:none;stroke:#b0b0b0;stroke-linecap:square;stroke-width:0.8;\"/>\n     </g>\n     <g id=\"line2d_24\">\n      <g>\n       <use style=\"stroke:#000000;stroke-width:0.8;\" x=\"26.925\" xlink:href=\"#m151d8b426f\" y=\"78.461849\"/>\n      </g>\n     </g>\n     <g id=\"text_12\">\n      <!-- 12 -->\n      <g transform=\"translate(7.2 82.261067)scale(0.1 -0.1)\">\n       <use xlink:href=\"#DejaVuSans-49\"/>\n       <use x=\"63.623047\" xlink:href=\"#DejaVuSans-50\"/>\n      </g>\n     </g>\n    </g>\n    <g id=\"ytick_8\">\n     <g id=\"line2d_25\">\n      <path clip-path=\"url(#p94cbdf69f2)\" d=\"M 26.925 54.098824 \nL 361.725 54.098824 \n\" style=\"fill:none;stroke:#b0b0b0;stroke-linecap:square;stroke-width:0.8;\"/>\n     </g>\n     <g id=\"line2d_26\">\n      <g>\n       <use style=\"stroke:#000000;stroke-width:0.8;\" x=\"26.925\" xlink:href=\"#m151d8b426f\" y=\"54.098824\"/>\n      </g>\n     </g>\n     <g id=\"text_13\">\n      <!-- 14 -->\n      <g transform=\"translate(7.2 57.898042)scale(0.1 -0.1)\">\n       <use xlink:href=\"#DejaVuSans-49\"/>\n       <use x=\"63.623047\" xlink:href=\"#DejaVuSans-52\"/>\n      </g>\n     </g>\n    </g>\n    <g id=\"ytick_9\">\n     <g id=\"line2d_27\">\n      <path clip-path=\"url(#p94cbdf69f2)\" d=\"M 26.925 29.735798 \nL 361.725 29.735798 \n\" style=\"fill:none;stroke:#b0b0b0;stroke-linecap:square;stroke-width:0.8;\"/>\n     </g>\n     <g id=\"line2d_28\">\n      <g>\n       <use style=\"stroke:#000000;stroke-width:0.8;\" x=\"26.925\" xlink:href=\"#m151d8b426f\" y=\"29.735798\"/>\n      </g>\n     </g>\n     <g id=\"text_14\">\n      <!-- 16 -->\n      <g transform=\"translate(7.2 33.535017)scale(0.1 -0.1)\">\n       <use xlink:href=\"#DejaVuSans-49\"/>\n       <use x=\"63.623047\" xlink:href=\"#DejaVuSans-54\"/>\n      </g>\n     </g>\n    </g>\n   </g>\n   <g id=\"patch_13\">\n    <path d=\"M 26.925 224.64 \nL 26.925 7.2 \n\" style=\"fill:none;stroke:#000000;stroke-linecap:square;stroke-linejoin:miter;stroke-width:0.8;\"/>\n   </g>\n   <g id=\"patch_14\">\n    <path d=\"M 361.725 224.64 \nL 361.725 7.2 \n\" style=\"fill:none;stroke:#000000;stroke-linecap:square;stroke-linejoin:miter;stroke-width:0.8;\"/>\n   </g>\n   <g id=\"patch_15\">\n    <path d=\"M 26.925 224.64 \nL 361.725 224.64 \n\" style=\"fill:none;stroke:#000000;stroke-linecap:square;stroke-linejoin:miter;stroke-width:0.8;\"/>\n   </g>\n   <g id=\"patch_16\">\n    <path d=\"M 26.925 7.2 \nL 361.725 7.2 \n\" style=\"fill:none;stroke:#000000;stroke-linecap:square;stroke-linejoin:miter;stroke-width:0.8;\"/>\n   </g>\n  </g>\n </g>\n <defs>\n  <clipPath id=\"p94cbdf69f2\">\n   <rect height=\"217.44\" width=\"334.8\" x=\"26.925\" y=\"7.2\"/>\n  </clipPath>\n </defs>\n</svg>\n",
      "image/png": "[encoded data removed]"
     },
     "metadata": {
      "needs_background": "light"
     }
    }
   ],
   "source": [
    "corr[corr.corr_abs >= 0.5].corr_abs.hist()"
   ]
  },
  {
   "cell_type": "code",
   "execution_count": 111,
   "metadata": {},
   "outputs": [
    {
     "output_type": "execute_result",
     "data": {
      "text/plain": [
       "         V1        V2      corr  corr_abs  corr_V1_corr_with_label  \\\n",
       "0   mailres   mailord  0.967441  0.967441                -0.091854   \n",
       "1   retcall  retcalls  0.955164  0.955164                 0.016116   \n",
       "2    models    phones  0.889208  0.889208                 0.232018   \n",
       "3    mourec       mou  0.829735  0.829735                 0.608737   \n",
       "4  creditcd   incmiss -0.817948  0.817948                -0.084609   \n",
       "\n",
       "   corr_abs_V1_corr_with_label  corr_V2_corr_with_label  \\\n",
       "0                     0.091854                -0.091035   \n",
       "1                     0.016116                 0.016305   \n",
       "2                     0.232018                 0.239804   \n",
       "3                     0.608737                 0.710476   \n",
       "4                     0.084609                 0.072773   \n",
       "\n",
       "   corr_abs_V2_corr_with_label column_to_drop  corr_with_label_column_to_drop  \n",
       "0                     0.091035        mailord                        0.091035  \n",
       "1                     0.016305        retcall                        0.016116  \n",
       "2                     0.239804         models                        0.232018  \n",
       "3                     0.710476         mourec                        0.608737  \n",
       "4                     0.072773        incmiss                        0.072773  "
      ],
      "text/html": "<div>\n<style scoped>\n    .dataframe tbody tr th:only-of-type {\n        vertical-align: middle;\n    }\n\n    .dataframe tbody tr th {\n        vertical-align: top;\n    }\n\n    .dataframe thead th {\n        text-align: right;\n    }\n</style>\n<table border=\"1\" class=\"dataframe\">\n  <thead>\n    <tr style=\"text-align: right;\">\n      <th></th>\n      <th>V1</th>\n      <th>V2</th>\n      <th>corr</th>\n      <th>corr_abs</th>\n      <th>corr_V1_corr_with_label</th>\n      <th>corr_abs_V1_corr_with_label</th>\n      <th>corr_V2_corr_with_label</th>\n      <th>corr_abs_V2_corr_with_label</th>\n      <th>column_to_drop</th>\n      <th>corr_with_label_column_to_drop</th>\n    </tr>\n  </thead>\n  <tbody>\n    <tr>\n      <th>0</th>\n      <td>mailres</td>\n      <td>mailord</td>\n      <td>0.967441</td>\n      <td>0.967441</td>\n      <td>-0.091854</td>\n      <td>0.091854</td>\n      <td>-0.091035</td>\n      <td>0.091035</td>\n      <td>mailord</td>\n      <td>0.091035</td>\n    </tr>\n    <tr>\n      <th>1</th>\n      <td>retcall</td>\n      <td>retcalls</td>\n      <td>0.955164</td>\n      <td>0.955164</td>\n      <td>0.016116</td>\n      <td>0.016116</td>\n      <td>0.016305</td>\n      <td>0.016305</td>\n      <td>retcall</td>\n      <td>0.016116</td>\n    </tr>\n    <tr>\n      <th>2</th>\n      <td>models</td>\n      <td>phones</td>\n      <td>0.889208</td>\n      <td>0.889208</td>\n      <td>0.232018</td>\n      <td>0.232018</td>\n      <td>0.239804</td>\n      <td>0.239804</td>\n      <td>models</td>\n      <td>0.232018</td>\n    </tr>\n    <tr>\n      <th>3</th>\n      <td>mourec</td>\n      <td>mou</td>\n      <td>0.829735</td>\n      <td>0.829735</td>\n      <td>0.608737</td>\n      <td>0.608737</td>\n      <td>0.710476</td>\n      <td>0.710476</td>\n      <td>mourec</td>\n      <td>0.608737</td>\n    </tr>\n    <tr>\n      <th>4</th>\n      <td>creditcd</td>\n      <td>incmiss</td>\n      <td>-0.817948</td>\n      <td>0.817948</td>\n      <td>-0.084609</td>\n      <td>0.084609</td>\n      <td>0.072773</td>\n      <td>0.072773</td>\n      <td>incmiss</td>\n      <td>0.072773</td>\n    </tr>\n  </tbody>\n</table>\n</div>"
     },
     "metadata": {},
     "execution_count": 111
    }
   ],
   "source": [
    "def columns_to_drop(row):\n",
    "    if row.corr_abs_V1_corr_with_label > row.corr_abs_V2_corr_with_label:\n",
    "        row[\"column_to_drop\"] = row.V2 \n",
    "        row[\"corr_with_label_column_to_drop\"] = row.corr_abs_V2_corr_with_label\n",
    "    \n",
    "    else:\n",
    "        row[\"column_to_drop\"] = row.V1 \n",
    "        row[\"corr_with_label_column_to_drop\"] = row.corr_abs_V1_corr_with_label\n",
    "    return row\n",
    "\n",
    "corr_wide = corr_wide.apply(columns_to_drop, axis=1)\n",
    "corr_wide.head()"
   ]
  },
  {
   "cell_type": "code",
   "execution_count": 112,
   "metadata": {},
   "outputs": [
    {
     "output_type": "execute_result",
     "data": {
      "text/plain": [
       "['mailord', 'retcall', 'models', 'mourec', 'incmiss', 'blckvce']"
      ]
     },
     "metadata": {},
     "execution_count": 112
    }
   ],
   "source": [
    "columns_to_drop_high_corr = corr_wide[(corr_wide.corr_abs >= 0.8) ].column_to_drop.unique().tolist()\n",
    "columns_to_drop_high_corr"
   ]
  },
  {
   "source": [
    "## Columns with low corr. with the label columns."
   ],
   "cell_type": "markdown",
   "metadata": {}
  },
  {
   "cell_type": "code",
   "execution_count": 113,
   "metadata": {},
   "outputs": [
    {
     "output_type": "execute_result",
     "data": {
      "text/plain": [
       "<matplotlib.axes._subplots.AxesSubplot at 0x7f2dd582b400>"
      ]
     },
     "metadata": {},
     "execution_count": 113
    },
    {
     "output_type": "display_data",
     "data": {
      "text/plain": "<Figure size 432x288 with 1 Axes>",
      "image/svg+xml": "<?xml version=\"1.0\" encoding=\"utf-8\" standalone=\"no\"?>\n<!DOCTYPE svg PUBLIC \"-//W3C//DTD SVG 1.1//EN\"\n  \"http://www.w3.org/Graphics/SVG/1.1/DTD/svg11.dtd\">\n<!-- Created with matplotlib (https://matplotlib.org/) -->\n<svg height=\"248.518125pt\" version=\"1.1\" viewBox=\"0 0 379.351089 248.518125\" width=\"379.351089pt\" xmlns=\"http://www.w3.org/2000/svg\" xmlns:xlink=\"http://www.w3.org/1999/xlink\">\n <defs>\n  <style type=\"text/css\">\n*{stroke-linecap:butt;stroke-linejoin:round;}\n  </style>\n </defs>\n <g id=\"figure_1\">\n  <g id=\"patch_1\">\n   <path d=\"M -0 248.518125 \nL 379.351089 248.518125 \nL 379.351089 0 \nL -0 0 \nz\n\" style=\"fill:none;\"/>\n  </g>\n  <g id=\"axes_1\">\n   <g id=\"patch_2\">\n    <path d=\"M 26.925 224.64 \nL 361.725 224.64 \nL 361.725 7.2 \nL 26.925 7.2 \nz\n\" style=\"fill:#ffffff;\"/>\n   </g>\n   <g id=\"patch_3\">\n    <path clip-path=\"url(#pa5564f5694)\" d=\"M 42.143182 224.64 \nL 72.579545 224.64 \nL 72.579545 121.097143 \nL 42.143182 121.097143 \nz\n\" style=\"fill:#1f77b4;\"/>\n   </g>\n   <g id=\"patch_4\">\n    <path clip-path=\"url(#pa5564f5694)\" d=\"M 72.579545 224.64 \nL 103.015909 224.64 \nL 103.015909 17.554286 \nL 72.579545 17.554286 \nz\n\" style=\"fill:#1f77b4;\"/>\n   </g>\n   <g id=\"patch_5\">\n    <path clip-path=\"url(#pa5564f5694)\" d=\"M 103.015909 224.64 \nL 133.452273 224.64 \nL 133.452273 172.868571 \nL 103.015909 172.868571 \nz\n\" style=\"fill:#1f77b4;\"/>\n   </g>\n   <g id=\"patch_6\">\n    <path clip-path=\"url(#pa5564f5694)\" d=\"M 133.452273 224.64 \nL 163.888636 224.64 \nL 163.888636 172.868571 \nL 133.452273 172.868571 \nz\n\" style=\"fill:#1f77b4;\"/>\n   </g>\n   <g id=\"patch_7\">\n    <path clip-path=\"url(#pa5564f5694)\" d=\"M 163.888636 224.64 \nL 194.325 224.64 \nL 194.325 172.868571 \nL 163.888636 172.868571 \nz\n\" style=\"fill:#1f77b4;\"/>\n   </g>\n   <g id=\"patch_8\">\n    <path clip-path=\"url(#pa5564f5694)\" d=\"M 194.325 224.64 \nL 224.761364 224.64 \nL 224.761364 190.125714 \nL 194.325 190.125714 \nz\n\" style=\"fill:#1f77b4;\"/>\n   </g>\n   <g id=\"patch_9\">\n    <path clip-path=\"url(#pa5564f5694)\" d=\"M 224.761364 224.64 \nL 255.197727 224.64 \nL 255.197727 207.382857 \nL 224.761364 207.382857 \nz\n\" style=\"fill:#1f77b4;\"/>\n   </g>\n   <g id=\"patch_10\">\n    <path clip-path=\"url(#pa5564f5694)\" d=\"M 255.197727 224.64 \nL 285.634091 224.64 \nL 285.634091 190.125714 \nL 255.197727 190.125714 \nz\n\" style=\"fill:#1f77b4;\"/>\n   </g>\n   <g id=\"patch_11\">\n    <path clip-path=\"url(#pa5564f5694)\" d=\"M 285.634091 224.64 \nL 316.070455 224.64 \nL 316.070455 155.611429 \nL 285.634091 155.611429 \nz\n\" style=\"fill:#1f77b4;\"/>\n   </g>\n   <g id=\"patch_12\">\n    <path clip-path=\"url(#pa5564f5694)\" d=\"M 316.070455 224.64 \nL 346.506818 224.64 \nL 346.506818 155.611429 \nL 316.070455 155.611429 \nz\n\" style=\"fill:#1f77b4;\"/>\n   </g>\n   <g id=\"matplotlib.axis_1\">\n    <g id=\"xtick_1\">\n     <g id=\"line2d_1\">\n      <path clip-path=\"url(#pa5564f5694)\" d=\"M 41.211006 224.64 \nL 41.211006 7.2 \n\" style=\"fill:none;stroke:#b0b0b0;stroke-linecap:square;stroke-width:0.8;\"/>\n     </g>\n     <g id=\"line2d_2\">\n      <defs>\n       <path d=\"M 0 0 \nL 0 3.5 \n\" id=\"m9b16563f98\" style=\"stroke:#000000;stroke-width:0.8;\"/>\n      </defs>\n      <g>\n       <use style=\"stroke:#000000;stroke-width:0.8;\" x=\"41.211006\" xlink:href=\"#m9b16563f98\" y=\"224.64\"/>\n      </g>\n     </g>\n     <g id=\"text_1\">\n      <!-- 0.00 -->\n      <defs>\n       <path d=\"M 31.78125 66.40625 \nQ 24.171875 66.40625 20.328125 58.90625 \nQ 16.5 51.421875 16.5 36.375 \nQ 16.5 21.390625 20.328125 13.890625 \nQ 24.171875 6.390625 31.78125 6.390625 \nQ 39.453125 6.390625 43.28125 13.890625 \nQ 47.125 21.390625 47.125 36.375 \nQ 47.125 51.421875 43.28125 58.90625 \nQ 39.453125 66.40625 31.78125 66.40625 \nz\nM 31.78125 74.21875 \nQ 44.046875 74.21875 50.515625 64.515625 \nQ 56.984375 54.828125 56.984375 36.375 \nQ 56.984375 17.96875 50.515625 8.265625 \nQ 44.046875 -1.421875 31.78125 -1.421875 \nQ 19.53125 -1.421875 13.0625 8.265625 \nQ 6.59375 17.96875 6.59375 36.375 \nQ 6.59375 54.828125 13.0625 64.515625 \nQ 19.53125 74.21875 31.78125 74.21875 \nz\n\" id=\"DejaVuSans-48\"/>\n       <path d=\"M 10.6875 12.40625 \nL 21 12.40625 \nL 21 0 \nL 10.6875 0 \nz\n\" id=\"DejaVuSans-46\"/>\n      </defs>\n      <g transform=\"translate(30.078194 239.238437)scale(0.1 -0.1)\">\n       <use xlink:href=\"#DejaVuSans-48\"/>\n       <use x=\"63.623047\" xlink:href=\"#DejaVuSans-46\"/>\n       <use x=\"95.410156\" xlink:href=\"#DejaVuSans-48\"/>\n       <use x=\"159.033203\" xlink:href=\"#DejaVuSans-48\"/>\n      </g>\n     </g>\n    </g>\n    <g id=\"xtick_2\">\n     <g id=\"line2d_3\">\n      <path clip-path=\"url(#pa5564f5694)\" d=\"M 105.17246 224.64 \nL 105.17246 7.2 \n\" style=\"fill:none;stroke:#b0b0b0;stroke-linecap:square;stroke-width:0.8;\"/>\n     </g>\n     <g id=\"line2d_4\">\n      <g>\n       <use style=\"stroke:#000000;stroke-width:0.8;\" x=\"105.17246\" xlink:href=\"#m9b16563f98\" y=\"224.64\"/>\n      </g>\n     </g>\n     <g id=\"text_2\">\n      <!-- 0.02 -->\n      <defs>\n       <path d=\"M 19.1875 8.296875 \nL 53.609375 8.296875 \nL 53.609375 0 \nL 7.328125 0 \nL 7.328125 8.296875 \nQ 12.9375 14.109375 22.625 23.890625 \nQ 32.328125 33.6875 34.8125 36.53125 \nQ 39.546875 41.84375 41.421875 45.53125 \nQ 43.3125 49.21875 43.3125 52.78125 \nQ 43.3125 58.59375 39.234375 62.25 \nQ 35.15625 65.921875 28.609375 65.921875 \nQ 23.96875 65.921875 18.8125 64.3125 \nQ 13.671875 62.703125 7.8125 59.421875 \nL 7.8125 69.390625 \nQ 13.765625 71.78125 18.9375 73 \nQ 24.125 74.21875 28.421875 74.21875 \nQ 39.75 74.21875 46.484375 68.546875 \nQ 53.21875 62.890625 53.21875 53.421875 \nQ 53.21875 48.921875 51.53125 44.890625 \nQ 49.859375 40.875 45.40625 35.40625 \nQ 44.1875 33.984375 37.640625 27.21875 \nQ 31.109375 20.453125 19.1875 8.296875 \nz\n\" id=\"DejaVuSans-50\"/>\n      </defs>\n      <g transform=\"translate(94.039648 239.238437)scale(0.1 -0.1)\">\n       <use xlink:href=\"#DejaVuSans-48\"/>\n       <use x=\"63.623047\" xlink:href=\"#DejaVuSans-46\"/>\n       <use x=\"95.410156\" xlink:href=\"#DejaVuSans-48\"/>\n       <use x=\"159.033203\" xlink:href=\"#DejaVuSans-50\"/>\n      </g>\n     </g>\n    </g>\n    <g id=\"xtick_3\">\n     <g id=\"line2d_5\">\n      <path clip-path=\"url(#pa5564f5694)\" d=\"M 169.133914 224.64 \nL 169.133914 7.2 \n\" style=\"fill:none;stroke:#b0b0b0;stroke-linecap:square;stroke-width:0.8;\"/>\n     </g>\n     <g id=\"line2d_6\">\n      <g>\n       <use style=\"stroke:#000000;stroke-width:0.8;\" x=\"169.133914\" xlink:href=\"#m9b16563f98\" y=\"224.64\"/>\n      </g>\n     </g>\n     <g id=\"text_3\">\n      <!-- 0.04 -->\n      <defs>\n       <path d=\"M 37.796875 64.3125 \nL 12.890625 25.390625 \nL 37.796875 25.390625 \nz\nM 35.203125 72.90625 \nL 47.609375 72.90625 \nL 47.609375 25.390625 \nL 58.015625 25.390625 \nL 58.015625 17.1875 \nL 47.609375 17.1875 \nL 47.609375 0 \nL 37.796875 0 \nL 37.796875 17.1875 \nL 4.890625 17.1875 \nL 4.890625 26.703125 \nz\n\" id=\"DejaVuSans-52\"/>\n      </defs>\n      <g transform=\"translate(158.001102 239.238437)scale(0.1 -0.1)\">\n       <use xlink:href=\"#DejaVuSans-48\"/>\n       <use x=\"63.623047\" xlink:href=\"#DejaVuSans-46\"/>\n       <use x=\"95.410156\" xlink:href=\"#DejaVuSans-48\"/>\n       <use x=\"159.033203\" xlink:href=\"#DejaVuSans-52\"/>\n      </g>\n     </g>\n    </g>\n    <g id=\"xtick_4\">\n     <g id=\"line2d_7\">\n      <path clip-path=\"url(#pa5564f5694)\" d=\"M 233.095369 224.64 \nL 233.095369 7.2 \n\" style=\"fill:none;stroke:#b0b0b0;stroke-linecap:square;stroke-width:0.8;\"/>\n     </g>\n     <g id=\"line2d_8\">\n      <g>\n       <use style=\"stroke:#000000;stroke-width:0.8;\" x=\"233.095369\" xlink:href=\"#m9b16563f98\" y=\"224.64\"/>\n      </g>\n     </g>\n     <g id=\"text_4\">\n      <!-- 0.06 -->\n      <defs>\n       <path d=\"M 33.015625 40.375 \nQ 26.375 40.375 22.484375 35.828125 \nQ 18.609375 31.296875 18.609375 23.390625 \nQ 18.609375 15.53125 22.484375 10.953125 \nQ 26.375 6.390625 33.015625 6.390625 \nQ 39.65625 6.390625 43.53125 10.953125 \nQ 47.40625 15.53125 47.40625 23.390625 \nQ 47.40625 31.296875 43.53125 35.828125 \nQ 39.65625 40.375 33.015625 40.375 \nz\nM 52.59375 71.296875 \nL 52.59375 62.3125 \nQ 48.875 64.0625 45.09375 64.984375 \nQ 41.3125 65.921875 37.59375 65.921875 \nQ 27.828125 65.921875 22.671875 59.328125 \nQ 17.53125 52.734375 16.796875 39.40625 \nQ 19.671875 43.65625 24.015625 45.921875 \nQ 28.375 48.1875 33.59375 48.1875 \nQ 44.578125 48.1875 50.953125 41.515625 \nQ 57.328125 34.859375 57.328125 23.390625 \nQ 57.328125 12.15625 50.6875 5.359375 \nQ 44.046875 -1.421875 33.015625 -1.421875 \nQ 20.359375 -1.421875 13.671875 8.265625 \nQ 6.984375 17.96875 6.984375 36.375 \nQ 6.984375 53.65625 15.1875 63.9375 \nQ 23.390625 74.21875 37.203125 74.21875 \nQ 40.921875 74.21875 44.703125 73.484375 \nQ 48.484375 72.75 52.59375 71.296875 \nz\n\" id=\"DejaVuSans-54\"/>\n      </defs>\n      <g transform=\"translate(221.962556 239.238437)scale(0.1 -0.1)\">\n       <use xlink:href=\"#DejaVuSans-48\"/>\n       <use x=\"63.623047\" xlink:href=\"#DejaVuSans-46\"/>\n       <use x=\"95.410156\" xlink:href=\"#DejaVuSans-48\"/>\n       <use x=\"159.033203\" xlink:href=\"#DejaVuSans-54\"/>\n      </g>\n     </g>\n    </g>\n    <g id=\"xtick_5\">\n     <g id=\"line2d_9\">\n      <path clip-path=\"url(#pa5564f5694)\" d=\"M 297.056823 224.64 \nL 297.056823 7.2 \n\" style=\"fill:none;stroke:#b0b0b0;stroke-linecap:square;stroke-width:0.8;\"/>\n     </g>\n     <g id=\"line2d_10\">\n      <g>\n       <use style=\"stroke:#000000;stroke-width:0.8;\" x=\"297.056823\" xlink:href=\"#m9b16563f98\" y=\"224.64\"/>\n      </g>\n     </g>\n     <g id=\"text_5\">\n      <!-- 0.08 -->\n      <defs>\n       <path d=\"M 31.78125 34.625 \nQ 24.75 34.625 20.71875 30.859375 \nQ 16.703125 27.09375 16.703125 20.515625 \nQ 16.703125 13.921875 20.71875 10.15625 \nQ 24.75 6.390625 31.78125 6.390625 \nQ 38.8125 6.390625 42.859375 10.171875 \nQ 46.921875 13.96875 46.921875 20.515625 \nQ 46.921875 27.09375 42.890625 30.859375 \nQ 38.875 34.625 31.78125 34.625 \nz\nM 21.921875 38.8125 \nQ 15.578125 40.375 12.03125 44.71875 \nQ 8.5 49.078125 8.5 55.328125 \nQ 8.5 64.0625 14.71875 69.140625 \nQ 20.953125 74.21875 31.78125 74.21875 \nQ 42.671875 74.21875 48.875 69.140625 \nQ 55.078125 64.0625 55.078125 55.328125 \nQ 55.078125 49.078125 51.53125 44.71875 \nQ 48 40.375 41.703125 38.8125 \nQ 48.828125 37.15625 52.796875 32.3125 \nQ 56.78125 27.484375 56.78125 20.515625 \nQ 56.78125 9.90625 50.3125 4.234375 \nQ 43.84375 -1.421875 31.78125 -1.421875 \nQ 19.734375 -1.421875 13.25 4.234375 \nQ 6.78125 9.90625 6.78125 20.515625 \nQ 6.78125 27.484375 10.78125 32.3125 \nQ 14.796875 37.15625 21.921875 38.8125 \nz\nM 18.3125 54.390625 \nQ 18.3125 48.734375 21.84375 45.5625 \nQ 25.390625 42.390625 31.78125 42.390625 \nQ 38.140625 42.390625 41.71875 45.5625 \nQ 45.3125 48.734375 45.3125 54.390625 \nQ 45.3125 60.0625 41.71875 63.234375 \nQ 38.140625 66.40625 31.78125 66.40625 \nQ 25.390625 66.40625 21.84375 63.234375 \nQ 18.3125 60.0625 18.3125 54.390625 \nz\n\" id=\"DejaVuSans-56\"/>\n      </defs>\n      <g transform=\"translate(285.92401 239.238437)scale(0.1 -0.1)\">\n       <use xlink:href=\"#DejaVuSans-48\"/>\n       <use x=\"63.623047\" xlink:href=\"#DejaVuSans-46\"/>\n       <use x=\"95.410156\" xlink:href=\"#DejaVuSans-48\"/>\n       <use x=\"159.033203\" xlink:href=\"#DejaVuSans-56\"/>\n      </g>\n     </g>\n    </g>\n    <g id=\"xtick_6\">\n     <g id=\"line2d_11\">\n      <path clip-path=\"url(#pa5564f5694)\" d=\"M 361.018277 224.64 \nL 361.018277 7.2 \n\" style=\"fill:none;stroke:#b0b0b0;stroke-linecap:square;stroke-width:0.8;\"/>\n     </g>\n     <g id=\"line2d_12\">\n      <g>\n       <use style=\"stroke:#000000;stroke-width:0.8;\" x=\"361.018277\" xlink:href=\"#m9b16563f98\" y=\"224.64\"/>\n      </g>\n     </g>\n     <g id=\"text_6\">\n      <!-- 0.10 -->\n      <defs>\n       <path d=\"M 12.40625 8.296875 \nL 28.515625 8.296875 \nL 28.515625 63.921875 \nL 10.984375 60.40625 \nL 10.984375 69.390625 \nL 28.421875 72.90625 \nL 38.28125 72.90625 \nL 38.28125 8.296875 \nL 54.390625 8.296875 \nL 54.390625 0 \nL 12.40625 0 \nz\n\" id=\"DejaVuSans-49\"/>\n      </defs>\n      <g transform=\"translate(349.885464 239.238437)scale(0.1 -0.1)\">\n       <use xlink:href=\"#DejaVuSans-48\"/>\n       <use x=\"63.623047\" xlink:href=\"#DejaVuSans-46\"/>\n       <use x=\"95.410156\" xlink:href=\"#DejaVuSans-49\"/>\n       <use x=\"159.033203\" xlink:href=\"#DejaVuSans-48\"/>\n      </g>\n     </g>\n    </g>\n   </g>\n   <g id=\"matplotlib.axis_2\">\n    <g id=\"ytick_1\">\n     <g id=\"line2d_13\">\n      <path clip-path=\"url(#pa5564f5694)\" d=\"M 26.925 224.64 \nL 361.725 224.64 \n\" style=\"fill:none;stroke:#b0b0b0;stroke-linecap:square;stroke-width:0.8;\"/>\n     </g>\n     <g id=\"line2d_14\">\n      <defs>\n       <path d=\"M 0 0 \nL -3.5 0 \n\" id=\"me682c19e15\" style=\"stroke:#000000;stroke-width:0.8;\"/>\n      </defs>\n      <g>\n       <use style=\"stroke:#000000;stroke-width:0.8;\" x=\"26.925\" xlink:href=\"#me682c19e15\" y=\"224.64\"/>\n      </g>\n     </g>\n     <g id=\"text_7\">\n      <!-- 0 -->\n      <g transform=\"translate(13.5625 228.439219)scale(0.1 -0.1)\">\n       <use xlink:href=\"#DejaVuSans-48\"/>\n      </g>\n     </g>\n    </g>\n    <g id=\"ytick_2\">\n     <g id=\"line2d_15\">\n      <path clip-path=\"url(#pa5564f5694)\" d=\"M 26.925 190.125714 \nL 361.725 190.125714 \n\" style=\"fill:none;stroke:#b0b0b0;stroke-linecap:square;stroke-width:0.8;\"/>\n     </g>\n     <g id=\"line2d_16\">\n      <g>\n       <use style=\"stroke:#000000;stroke-width:0.8;\" x=\"26.925\" xlink:href=\"#me682c19e15\" y=\"190.125714\"/>\n      </g>\n     </g>\n     <g id=\"text_8\">\n      <!-- 2 -->\n      <g transform=\"translate(13.5625 193.924933)scale(0.1 -0.1)\">\n       <use xlink:href=\"#DejaVuSans-50\"/>\n      </g>\n     </g>\n    </g>\n    <g id=\"ytick_3\">\n     <g id=\"line2d_17\">\n      <path clip-path=\"url(#pa5564f5694)\" d=\"M 26.925 155.611429 \nL 361.725 155.611429 \n\" style=\"fill:none;stroke:#b0b0b0;stroke-linecap:square;stroke-width:0.8;\"/>\n     </g>\n     <g id=\"line2d_18\">\n      <g>\n       <use style=\"stroke:#000000;stroke-width:0.8;\" x=\"26.925\" xlink:href=\"#me682c19e15\" y=\"155.611429\"/>\n      </g>\n     </g>\n     <g id=\"text_9\">\n      <!-- 4 -->\n      <g transform=\"translate(13.5625 159.410647)scale(0.1 -0.1)\">\n       <use xlink:href=\"#DejaVuSans-52\"/>\n      </g>\n     </g>\n    </g>\n    <g id=\"ytick_4\">\n     <g id=\"line2d_19\">\n      <path clip-path=\"url(#pa5564f5694)\" d=\"M 26.925 121.097143 \nL 361.725 121.097143 \n\" style=\"fill:none;stroke:#b0b0b0;stroke-linecap:square;stroke-width:0.8;\"/>\n     </g>\n     <g id=\"line2d_20\">\n      <g>\n       <use style=\"stroke:#000000;stroke-width:0.8;\" x=\"26.925\" xlink:href=\"#me682c19e15\" y=\"121.097143\"/>\n      </g>\n     </g>\n     <g id=\"text_10\">\n      <!-- 6 -->\n      <g transform=\"translate(13.5625 124.896362)scale(0.1 -0.1)\">\n       <use xlink:href=\"#DejaVuSans-54\"/>\n      </g>\n     </g>\n    </g>\n    <g id=\"ytick_5\">\n     <g id=\"line2d_21\">\n      <path clip-path=\"url(#pa5564f5694)\" d=\"M 26.925 86.582857 \nL 361.725 86.582857 \n\" style=\"fill:none;stroke:#b0b0b0;stroke-linecap:square;stroke-width:0.8;\"/>\n     </g>\n     <g id=\"line2d_22\">\n      <g>\n       <use style=\"stroke:#000000;stroke-width:0.8;\" x=\"26.925\" xlink:href=\"#me682c19e15\" y=\"86.582857\"/>\n      </g>\n     </g>\n     <g id=\"text_11\">\n      <!-- 8 -->\n      <g transform=\"translate(13.5625 90.382076)scale(0.1 -0.1)\">\n       <use xlink:href=\"#DejaVuSans-56\"/>\n      </g>\n     </g>\n    </g>\n    <g id=\"ytick_6\">\n     <g id=\"line2d_23\">\n      <path clip-path=\"url(#pa5564f5694)\" d=\"M 26.925 52.068571 \nL 361.725 52.068571 \n\" style=\"fill:none;stroke:#b0b0b0;stroke-linecap:square;stroke-width:0.8;\"/>\n     </g>\n     <g id=\"line2d_24\">\n      <g>\n       <use style=\"stroke:#000000;stroke-width:0.8;\" x=\"26.925\" xlink:href=\"#me682c19e15\" y=\"52.068571\"/>\n      </g>\n     </g>\n     <g id=\"text_12\">\n      <!-- 10 -->\n      <g transform=\"translate(7.2 55.86779)scale(0.1 -0.1)\">\n       <use xlink:href=\"#DejaVuSans-49\"/>\n       <use x=\"63.623047\" xlink:href=\"#DejaVuSans-48\"/>\n      </g>\n     </g>\n    </g>\n    <g id=\"ytick_7\">\n     <g id=\"line2d_25\">\n      <path clip-path=\"url(#pa5564f5694)\" d=\"M 26.925 17.554286 \nL 361.725 17.554286 \n\" style=\"fill:none;stroke:#b0b0b0;stroke-linecap:square;stroke-width:0.8;\"/>\n     </g>\n     <g id=\"line2d_26\">\n      <g>\n       <use style=\"stroke:#000000;stroke-width:0.8;\" x=\"26.925\" xlink:href=\"#me682c19e15\" y=\"17.554286\"/>\n      </g>\n     </g>\n     <g id=\"text_13\">\n      <!-- 12 -->\n      <g transform=\"translate(7.2 21.353504)scale(0.1 -0.1)\">\n       <use xlink:href=\"#DejaVuSans-49\"/>\n       <use x=\"63.623047\" xlink:href=\"#DejaVuSans-50\"/>\n      </g>\n     </g>\n    </g>\n   </g>\n   <g id=\"patch_13\">\n    <path d=\"M 26.925 224.64 \nL 26.925 7.2 \n\" style=\"fill:none;stroke:#000000;stroke-linecap:square;stroke-linejoin:miter;stroke-width:0.8;\"/>\n   </g>\n   <g id=\"patch_14\">\n    <path d=\"M 361.725 224.64 \nL 361.725 7.2 \n\" style=\"fill:none;stroke:#000000;stroke-linecap:square;stroke-linejoin:miter;stroke-width:0.8;\"/>\n   </g>\n   <g id=\"patch_15\">\n    <path d=\"M 26.925 224.64 \nL 361.725 224.64 \n\" style=\"fill:none;stroke:#000000;stroke-linecap:square;stroke-linejoin:miter;stroke-width:0.8;\"/>\n   </g>\n   <g id=\"patch_16\">\n    <path d=\"M 26.925 7.2 \nL 361.725 7.2 \n\" style=\"fill:none;stroke:#000000;stroke-linecap:square;stroke-linejoin:miter;stroke-width:0.8;\"/>\n   </g>\n  </g>\n </g>\n <defs>\n  <clipPath id=\"pa5564f5694\">\n   <rect height=\"217.44\" width=\"334.8\" x=\"26.925\" y=\"7.2\"/>\n  </clipPath>\n </defs>\n</svg>\n",
      "image/png": "[encoded data removed]"
     },
     "metadata": {
      "needs_background": "light"
     }
    }
   ],
   "source": [
    "corr_with_label[corr_with_label.corr_abs<0.1].corr_abs.hist()"
   ]
  },
  {
   "cell_type": "code",
   "execution_count": 114,
   "metadata": {},
   "outputs": [
    {
     "output_type": "execute_result",
     "data": {
      "text/plain": [
       "['age2',\n",
       " 'marryyes',\n",
       " 'mailres',\n",
       " 'mailord',\n",
       " 'creditcd',\n",
       " 'ownrent',\n",
       " 'pcown',\n",
       " 'income',\n",
       " 'marryun',\n",
       " 'incmiss',\n",
       " 'occprof',\n",
       " 'children',\n",
       " 'credita',\n",
       " 'refurb',\n",
       " 'actvsubs',\n",
       " 'travel',\n",
       " 'truck',\n",
       " 'occret',\n",
       " 'newcelln',\n",
       " 'prizmtwn',\n",
       " 'mailflag',\n",
       " 'prizmub',\n",
       " 'retaccpt',\n",
       " 'newcelly',\n",
       " 'retcalls',\n",
       " 'occcler',\n",
       " 'retcall',\n",
       " 'prizmrur',\n",
       " 'months',\n",
       " 'changem',\n",
       " 'refer',\n",
       " 'uniqsubs',\n",
       " 'occcrft',\n",
       " 'rv',\n",
       " 'occself',\n",
       " 'occstud',\n",
       " 'occhmkr',\n",
       " 'mcycle',\n",
       " 'callfwdv',\n",
       " 'changer']"
      ]
     },
     "metadata": {},
     "execution_count": 114
    }
   ],
   "source": [
    "columns_to_drop_low_corr_with_label = corr_with_label[corr_with_label.corr_abs<0.1].V2.unique().tolist()\n",
    "columns_to_drop_low_corr_with_label"
   ]
  },
  {
   "cell_type": "code",
   "execution_count": 115,
   "metadata": {},
   "outputs": [
    {
     "output_type": "execute_result",
     "data": {
      "text/plain": [
       "['overage', 'mou', 'peakvce', 'mourec']"
      ]
     },
     "metadata": {},
     "execution_count": 115
    }
   ],
   "source": [
    "columns_to_use_high_corr_with_label = corr_with_label[corr_with_label.corr_abs>0.6].V2.unique().tolist()\n",
    "columns_to_use_high_corr_with_label"
   ]
  },
  {
   "source": [
    "## Experiments"
   ],
   "cell_type": "markdown",
   "metadata": {}
  },
  {
   "cell_type": "code",
   "execution_count": 116,
   "metadata": {},
   "outputs": [
    {
     "output_type": "stream",
     "name": "stdout",
     "text": [
      "Drop high corr. columns.\n",
      "Min mean_squared_error_test Test 399.3731435054334\n"
     ]
    },
    {
     "output_type": "execute_result",
     "data": {
      "text/plain": [
       "                       mean_squared_error_train  mean_absolute_error_train  \\\n",
       "RidgeCV                            4.106825e+02               1.257720e+01   \n",
       "LinearRegression                   4.106824e+02               1.257667e+01   \n",
       "LassoCV                            4.117931e+02               1.258003e+01   \n",
       "LinearSVR                          4.274165e+02               1.224283e+01   \n",
       "DecisionTreeRegressor              5.099707e-32               1.143486e-17   \n",
       "\n",
       "                       max_error_train  r2_score_train  \\\n",
       "RidgeCV                   7.657769e+02        0.782071   \n",
       "LinearRegression          7.660970e+02        0.782071   \n",
       "LassoCV                   7.675485e+02        0.781481   \n",
       "LinearSVR                 9.406132e+02        0.773191   \n",
       "DecisionTreeRegressor     7.105427e-15        1.000000   \n",
       "\n",
       "                       mean_squared_error_test  mean_absolute_error_test  \\\n",
       "RidgeCV                             399.373144                 12.343760   \n",
       "LinearRegression                    399.393828                 12.343208   \n",
       "LassoCV                             399.902816                 12.334377   \n",
       "LinearSVR                           402.684479                 11.948599   \n",
       "DecisionTreeRegressor               759.007111                 17.101454   \n",
       "\n",
       "                       max_error_test  r2_score_test  \\\n",
       "RidgeCV                    498.632589       0.803762   \n",
       "LinearRegression           498.983772       0.803752   \n",
       "LassoCV                    500.508464       0.803502   \n",
       "LinearSVR                  555.454010       0.802135   \n",
       "DecisionTreeRegressor      607.130005       0.627050   \n",
       "\n",
       "                                                            model_object  \n",
       "RidgeCV                RidgeCV(alphas=array([ 0.1,  1. , 10. ]), cv=N...  \n",
       "LinearRegression       LinearRegression(copy_X=True, fit_intercept=Tr...  \n",
       "LassoCV                LassoCV(alphas=None, copy_X=True, cv=None, eps...  \n",
       "LinearSVR              LinearSVR(C=1.0, dual=True, epsilon=0.0, fit_i...  \n",
       "DecisionTreeRegressor  DecisionTreeRegressor(ccp_alpha=0.0, criterion...  "
      ],
      "text/html": "<div>\n<style scoped>\n    .dataframe tbody tr th:only-of-type {\n        vertical-align: middle;\n    }\n\n    .dataframe tbody tr th {\n        vertical-align: top;\n    }\n\n    .dataframe thead th {\n        text-align: right;\n    }\n</style>\n<table border=\"1\" class=\"dataframe\">\n  <thead>\n    <tr style=\"text-align: right;\">\n      <th></th>\n      <th>mean_squared_error_train</th>\n      <th>mean_absolute_error_train</th>\n      <th>max_error_train</th>\n      <th>r2_score_train</th>\n      <th>mean_squared_error_test</th>\n      <th>mean_absolute_error_test</th>\n      <th>max_error_test</th>\n      <th>r2_score_test</th>\n      <th>model_object</th>\n    </tr>\n  </thead>\n  <tbody>\n    <tr>\n      <th>RidgeCV</th>\n      <td>4.106825e+02</td>\n      <td>1.257720e+01</td>\n      <td>7.657769e+02</td>\n      <td>0.782071</td>\n      <td>399.373144</td>\n      <td>12.343760</td>\n      <td>498.632589</td>\n      <td>0.803762</td>\n      <td>RidgeCV(alphas=array([ 0.1,  1. , 10. ]), cv=N...</td>\n    </tr>\n    <tr>\n      <th>LinearRegression</th>\n      <td>4.106824e+02</td>\n      <td>1.257667e+01</td>\n      <td>7.660970e+02</td>\n      <td>0.782071</td>\n      <td>399.393828</td>\n      <td>12.343208</td>\n      <td>498.983772</td>\n      <td>0.803752</td>\n      <td>LinearRegression(copy_X=True, fit_intercept=Tr...</td>\n    </tr>\n    <tr>\n      <th>LassoCV</th>\n      <td>4.117931e+02</td>\n      <td>1.258003e+01</td>\n      <td>7.675485e+02</td>\n      <td>0.781481</td>\n      <td>399.902816</td>\n      <td>12.334377</td>\n      <td>500.508464</td>\n      <td>0.803502</td>\n      <td>LassoCV(alphas=None, copy_X=True, cv=None, eps...</td>\n    </tr>\n    <tr>\n      <th>LinearSVR</th>\n      <td>4.274165e+02</td>\n      <td>1.224283e+01</td>\n      <td>9.406132e+02</td>\n      <td>0.773191</td>\n      <td>402.684479</td>\n      <td>11.948599</td>\n      <td>555.454010</td>\n      <td>0.802135</td>\n      <td>LinearSVR(C=1.0, dual=True, epsilon=0.0, fit_i...</td>\n    </tr>\n    <tr>\n      <th>DecisionTreeRegressor</th>\n      <td>5.099707e-32</td>\n      <td>1.143486e-17</td>\n      <td>7.105427e-15</td>\n      <td>1.000000</td>\n      <td>759.007111</td>\n      <td>17.101454</td>\n      <td>607.130005</td>\n      <td>0.627050</td>\n      <td>DecisionTreeRegressor(ccp_alpha=0.0, criterion...</td>\n    </tr>\n  </tbody>\n</table>\n</div>"
     },
     "metadata": {},
     "execution_count": 116
    }
   ],
   "source": [
    "run(exclude_columns=columns_to_drop_high_corr, name=\"Drop high corr. columns.\")\n"
   ]
  },
  {
   "cell_type": "code",
   "execution_count": 117,
   "metadata": {},
   "outputs": [
    {
     "output_type": "stream",
     "name": "stdout",
     "text": [
      "Drop low corr. columns.\n",
      "Min mean_squared_error_test Test 404.68557335425487\n"
     ]
    },
    {
     "output_type": "execute_result",
     "data": {
      "text/plain": [
       "                       mean_squared_error_train  mean_absolute_error_train  \\\n",
       "LassoCV                              413.170673                  12.590692   \n",
       "RidgeCV                              412.859476                  12.584193   \n",
       "LinearRegression                     412.857460                  12.583245   \n",
       "LinearSVR                            427.803255                  12.295384   \n",
       "DecisionTreeRegressor                  0.015614                   0.001722   \n",
       "\n",
       "                       max_error_train  r2_score_train  \\\n",
       "LassoCV                     757.745704        0.780750   \n",
       "RidgeCV                     756.461642        0.780915   \n",
       "LinearRegression            756.823241        0.780916   \n",
       "LinearSVR                   928.282627        0.772985   \n",
       "DecisionTreeRegressor        10.156250        0.999992   \n",
       "\n",
       "                       mean_squared_error_test  mean_absolute_error_test  \\\n",
       "LassoCV                             404.685573                 12.356681   \n",
       "RidgeCV                             405.371113                 12.354377   \n",
       "LinearRegression                    405.461911                 12.353750   \n",
       "LinearSVR                           413.010816                 12.010780   \n",
       "DecisionTreeRegressor               785.622775                 17.634702   \n",
       "\n",
       "                       max_error_test  r2_score_test  \\\n",
       "LassoCV                    513.048427       0.801152   \n",
       "RidgeCV                    512.479706       0.800815   \n",
       "LinearRegression           512.746637       0.800770   \n",
       "LinearSVR                  570.297030       0.797061   \n",
       "DecisionTreeRegressor      618.624985       0.613972   \n",
       "\n",
       "                                                            model_object  \n",
       "LassoCV                LassoCV(alphas=None, copy_X=True, cv=None, eps...  \n",
       "RidgeCV                RidgeCV(alphas=array([ 0.1,  1. , 10. ]), cv=N...  \n",
       "LinearRegression       LinearRegression(copy_X=True, fit_intercept=Tr...  \n",
       "LinearSVR              LinearSVR(C=1.0, dual=True, epsilon=0.0, fit_i...  \n",
       "DecisionTreeRegressor  DecisionTreeRegressor(ccp_alpha=0.0, criterion...  "
      ],
      "text/html": "<div>\n<style scoped>\n    .dataframe tbody tr th:only-of-type {\n        vertical-align: middle;\n    }\n\n    .dataframe tbody tr th {\n        vertical-align: top;\n    }\n\n    .dataframe thead th {\n        text-align: right;\n    }\n</style>\n<table border=\"1\" class=\"dataframe\">\n  <thead>\n    <tr style=\"text-align: right;\">\n      <th></th>\n      <th>mean_squared_error_train</th>\n      <th>mean_absolute_error_train</th>\n      <th>max_error_train</th>\n      <th>r2_score_train</th>\n      <th>mean_squared_error_test</th>\n      <th>mean_absolute_error_test</th>\n      <th>max_error_test</th>\n      <th>r2_score_test</th>\n      <th>model_object</th>\n    </tr>\n  </thead>\n  <tbody>\n    <tr>\n      <th>LassoCV</th>\n      <td>413.170673</td>\n      <td>12.590692</td>\n      <td>757.745704</td>\n      <td>0.780750</td>\n      <td>404.685573</td>\n      <td>12.356681</td>\n      <td>513.048427</td>\n      <td>0.801152</td>\n      <td>LassoCV(alphas=None, copy_X=True, cv=None, eps...</td>\n    </tr>\n    <tr>\n      <th>RidgeCV</th>\n      <td>412.859476</td>\n      <td>12.584193</td>\n      <td>756.461642</td>\n      <td>0.780915</td>\n      <td>405.371113</td>\n      <td>12.354377</td>\n      <td>512.479706</td>\n      <td>0.800815</td>\n      <td>RidgeCV(alphas=array([ 0.1,  1. , 10. ]), cv=N...</td>\n    </tr>\n    <tr>\n      <th>LinearRegression</th>\n      <td>412.857460</td>\n      <td>12.583245</td>\n      <td>756.823241</td>\n      <td>0.780916</td>\n      <td>405.461911</td>\n      <td>12.353750</td>\n      <td>512.746637</td>\n      <td>0.800770</td>\n      <td>LinearRegression(copy_X=True, fit_intercept=Tr...</td>\n    </tr>\n    <tr>\n      <th>LinearSVR</th>\n      <td>427.803255</td>\n      <td>12.295384</td>\n      <td>928.282627</td>\n      <td>0.772985</td>\n      <td>413.010816</td>\n      <td>12.010780</td>\n      <td>570.297030</td>\n      <td>0.797061</td>\n      <td>LinearSVR(C=1.0, dual=True, epsilon=0.0, fit_i...</td>\n    </tr>\n    <tr>\n      <th>DecisionTreeRegressor</th>\n      <td>0.015614</td>\n      <td>0.001722</td>\n      <td>10.156250</td>\n      <td>0.999992</td>\n      <td>785.622775</td>\n      <td>17.634702</td>\n      <td>618.624985</td>\n      <td>0.613972</td>\n      <td>DecisionTreeRegressor(ccp_alpha=0.0, criterion...</td>\n    </tr>\n  </tbody>\n</table>\n</div>"
     },
     "metadata": {},
     "execution_count": 117
    }
   ],
   "source": [
    "run(exclude_columns=columns_to_drop_low_corr_with_label, name=\"Drop low corr. columns.\")"
   ]
  },
  {
   "cell_type": "code",
   "execution_count": 118,
   "metadata": {},
   "outputs": [
    {
     "output_type": "stream",
     "name": "stdout",
     "text": [
      "Drop both high corr. with other columns and low corr. with label.\n",
      "Min mean_squared_error_test Test 402.69883561850094\n"
     ]
    },
    {
     "output_type": "execute_result",
     "data": {
      "text/plain": [
       "                       mean_squared_error_train  mean_absolute_error_train  \\\n",
       "LassoCV                              413.739233                  12.596211   \n",
       "RidgeCV                              413.581018                  12.595147   \n",
       "LinearRegression                     413.580874                  12.594590   \n",
       "LinearSVR                            428.984070                  12.304404   \n",
       "DecisionTreeRegressor                  0.015614                   0.001722   \n",
       "\n",
       "                       max_error_train  r2_score_train  \\\n",
       "LassoCV                     770.891305        0.780449   \n",
       "RidgeCV                     769.709027        0.780532   \n",
       "LinearRegression            770.031303        0.780533   \n",
       "LinearSVR                   945.318241        0.772359   \n",
       "DecisionTreeRegressor        10.156250        0.999992   \n",
       "\n",
       "                       mean_squared_error_test  mean_absolute_error_test  \\\n",
       "LassoCV                             402.698836                 12.358114   \n",
       "RidgeCV                             403.037842                 12.362447   \n",
       "LinearRegression                    403.056143                 12.361839   \n",
       "LinearSVR                           411.782437                 12.014093   \n",
       "DecisionTreeRegressor               826.615647                 17.901264   \n",
       "\n",
       "                       max_error_test  r2_score_test  \\\n",
       "LassoCV                    501.132806       0.802128   \n",
       "RidgeCV                    499.771101       0.801961   \n",
       "LinearRegression           500.123612       0.801952   \n",
       "LinearSVR                  564.726560       0.797664   \n",
       "DecisionTreeRegressor      618.624985       0.593830   \n",
       "\n",
       "                                                            model_object  \n",
       "LassoCV                LassoCV(alphas=None, copy_X=True, cv=None, eps...  \n",
       "RidgeCV                RidgeCV(alphas=array([ 0.1,  1. , 10. ]), cv=N...  \n",
       "LinearRegression       LinearRegression(copy_X=True, fit_intercept=Tr...  \n",
       "LinearSVR              LinearSVR(C=1.0, dual=True, epsilon=0.0, fit_i...  \n",
       "DecisionTreeRegressor  DecisionTreeRegressor(ccp_alpha=0.0, criterion...  "
      ],
      "text/html": "<div>\n<style scoped>\n    .dataframe tbody tr th:only-of-type {\n        vertical-align: middle;\n    }\n\n    .dataframe tbody tr th {\n        vertical-align: top;\n    }\n\n    .dataframe thead th {\n        text-align: right;\n    }\n</style>\n<table border=\"1\" class=\"dataframe\">\n  <thead>\n    <tr style=\"text-align: right;\">\n      <th></th>\n      <th>mean_squared_error_train</th>\n      <th>mean_absolute_error_train</th>\n      <th>max_error_train</th>\n      <th>r2_score_train</th>\n      <th>mean_squared_error_test</th>\n      <th>mean_absolute_error_test</th>\n      <th>max_error_test</th>\n      <th>r2_score_test</th>\n      <th>model_object</th>\n    </tr>\n  </thead>\n  <tbody>\n    <tr>\n      <th>LassoCV</th>\n      <td>413.739233</td>\n      <td>12.596211</td>\n      <td>770.891305</td>\n      <td>0.780449</td>\n      <td>402.698836</td>\n      <td>12.358114</td>\n      <td>501.132806</td>\n      <td>0.802128</td>\n      <td>LassoCV(alphas=None, copy_X=True, cv=None, eps...</td>\n    </tr>\n    <tr>\n      <th>RidgeCV</th>\n      <td>413.581018</td>\n      <td>12.595147</td>\n      <td>769.709027</td>\n      <td>0.780532</td>\n      <td>403.037842</td>\n      <td>12.362447</td>\n      <td>499.771101</td>\n      <td>0.801961</td>\n      <td>RidgeCV(alphas=array([ 0.1,  1. , 10. ]), cv=N...</td>\n    </tr>\n    <tr>\n      <th>LinearRegression</th>\n      <td>413.580874</td>\n      <td>12.594590</td>\n      <td>770.031303</td>\n      <td>0.780533</td>\n      <td>403.056143</td>\n      <td>12.361839</td>\n      <td>500.123612</td>\n      <td>0.801952</td>\n      <td>LinearRegression(copy_X=True, fit_intercept=Tr...</td>\n    </tr>\n    <tr>\n      <th>LinearSVR</th>\n      <td>428.984070</td>\n      <td>12.304404</td>\n      <td>945.318241</td>\n      <td>0.772359</td>\n      <td>411.782437</td>\n      <td>12.014093</td>\n      <td>564.726560</td>\n      <td>0.797664</td>\n      <td>LinearSVR(C=1.0, dual=True, epsilon=0.0, fit_i...</td>\n    </tr>\n    <tr>\n      <th>DecisionTreeRegressor</th>\n      <td>0.015614</td>\n      <td>0.001722</td>\n      <td>10.156250</td>\n      <td>0.999992</td>\n      <td>826.615647</td>\n      <td>17.901264</td>\n      <td>618.624985</td>\n      <td>0.593830</td>\n      <td>DecisionTreeRegressor(ccp_alpha=0.0, criterion...</td>\n    </tr>\n  </tbody>\n</table>\n</div>"
     },
     "metadata": {},
     "execution_count": 118
    }
   ],
   "source": [
    "run(exclude_columns=list(set(columns_to_drop_high_corr+columns_to_drop_low_corr_with_label)), name=\"Drop both high corr. with other columns and low corr. with label.\")"
   ]
  },
  {
   "cell_type": "code",
   "execution_count": 119,
   "metadata": {},
   "outputs": [
    {
     "output_type": "stream",
     "name": "stdout",
     "text": [
      "High corr. columns with label.\n",
      "Min mean_squared_error_test Test 598.6828617529472\n"
     ]
    }
   ],
   "source": [
    "result = run(features_to_use=columns_to_use_high_corr_with_label, name=\"High corr. columns with label.\")"
   ]
  },
  {
   "cell_type": "code",
   "execution_count": 120,
   "metadata": {},
   "outputs": [
    {
     "output_type": "execute_result",
     "data": {
      "text/plain": [
       "                       mean_squared_error_train  mean_absolute_error_train  \\\n",
       "LinearRegression                     493.633252                  13.888799   \n",
       "RidgeCV                              493.633403                  13.889437   \n",
       "LassoCV                              493.658881                  13.895175   \n",
       "LinearSVR                            510.619553                  13.534339   \n",
       "DecisionTreeRegressor                  9.240639                   0.443157   \n",
       "\n",
       "                       max_error_train  r2_score_train  \\\n",
       "LinearRegression            833.525493        0.738053   \n",
       "RidgeCV                     833.058056        0.738053   \n",
       "LassoCV                     829.367382        0.738039   \n",
       "LinearSVR                   974.751704        0.729039   \n",
       "DecisionTreeRegressor        90.070152        0.995096   \n",
       "\n",
       "                       mean_squared_error_test  mean_absolute_error_test  \\\n",
       "LinearRegression                    598.682862                 13.819134   \n",
       "RidgeCV                             598.728141                 13.819923   \n",
       "LassoCV                             599.516509                 13.827429   \n",
       "LinearSVR                           612.304989                 13.359244   \n",
       "DecisionTreeRegressor               941.572020                 19.483960   \n",
       "\n",
       "                       max_error_test  r2_score_test  \\\n",
       "LinearRegression           804.823231       0.705828   \n",
       "RidgeCV                    804.842776       0.705806   \n",
       "LassoCV                    805.086388       0.705418   \n",
       "LinearSVR                  813.508545       0.699135   \n",
       "DecisionTreeRegressor      784.357483       0.537344   \n",
       "\n",
       "                                                            model_object  \n",
       "LinearRegression       LinearRegression(copy_X=True, fit_intercept=Tr...  \n",
       "RidgeCV                RidgeCV(alphas=array([ 0.1,  1. , 10. ]), cv=N...  \n",
       "LassoCV                LassoCV(alphas=None, copy_X=True, cv=None, eps...  \n",
       "LinearSVR              LinearSVR(C=1.0, dual=True, epsilon=0.0, fit_i...  \n",
       "DecisionTreeRegressor  DecisionTreeRegressor(ccp_alpha=0.0, criterion...  "
      ],
      "text/html": "<div>\n<style scoped>\n    .dataframe tbody tr th:only-of-type {\n        vertical-align: middle;\n    }\n\n    .dataframe tbody tr th {\n        vertical-align: top;\n    }\n\n    .dataframe thead th {\n        text-align: right;\n    }\n</style>\n<table border=\"1\" class=\"dataframe\">\n  <thead>\n    <tr style=\"text-align: right;\">\n      <th></th>\n      <th>mean_squared_error_train</th>\n      <th>mean_absolute_error_train</th>\n      <th>max_error_train</th>\n      <th>r2_score_train</th>\n      <th>mean_squared_error_test</th>\n      <th>mean_absolute_error_test</th>\n      <th>max_error_test</th>\n      <th>r2_score_test</th>\n      <th>model_object</th>\n    </tr>\n  </thead>\n  <tbody>\n    <tr>\n      <th>LinearRegression</th>\n      <td>493.633252</td>\n      <td>13.888799</td>\n      <td>833.525493</td>\n      <td>0.738053</td>\n      <td>598.682862</td>\n      <td>13.819134</td>\n      <td>804.823231</td>\n      <td>0.705828</td>\n      <td>LinearRegression(copy_X=True, fit_intercept=Tr...</td>\n    </tr>\n    <tr>\n      <th>RidgeCV</th>\n      <td>493.633403</td>\n      <td>13.889437</td>\n      <td>833.058056</td>\n      <td>0.738053</td>\n      <td>598.728141</td>\n      <td>13.819923</td>\n      <td>804.842776</td>\n      <td>0.705806</td>\n      <td>RidgeCV(alphas=array([ 0.1,  1. , 10. ]), cv=N...</td>\n    </tr>\n    <tr>\n      <th>LassoCV</th>\n      <td>493.658881</td>\n      <td>13.895175</td>\n      <td>829.367382</td>\n      <td>0.738039</td>\n      <td>599.516509</td>\n      <td>13.827429</td>\n      <td>805.086388</td>\n      <td>0.705418</td>\n      <td>LassoCV(alphas=None, copy_X=True, cv=None, eps...</td>\n    </tr>\n    <tr>\n      <th>LinearSVR</th>\n      <td>510.619553</td>\n      <td>13.534339</td>\n      <td>974.751704</td>\n      <td>0.729039</td>\n      <td>612.304989</td>\n      <td>13.359244</td>\n      <td>813.508545</td>\n      <td>0.699135</td>\n      <td>LinearSVR(C=1.0, dual=True, epsilon=0.0, fit_i...</td>\n    </tr>\n    <tr>\n      <th>DecisionTreeRegressor</th>\n      <td>9.240639</td>\n      <td>0.443157</td>\n      <td>90.070152</td>\n      <td>0.995096</td>\n      <td>941.572020</td>\n      <td>19.483960</td>\n      <td>784.357483</td>\n      <td>0.537344</td>\n      <td>DecisionTreeRegressor(ccp_alpha=0.0, criterion...</td>\n    </tr>\n  </tbody>\n</table>\n</div>"
     },
     "metadata": {},
     "execution_count": 120
    }
   ],
   "source": [
    "result"
   ]
  },
  {
   "source": [
    "## Result"
   ],
   "cell_type": "markdown",
   "metadata": {}
  },
  {
   "source": [
    "experiment_list.sort_values(\"mean_squared_error_test\")"
   ],
   "cell_type": "code",
   "metadata": {},
   "execution_count": 121,
   "outputs": [
    {
     "output_type": "execute_result",
     "data": {
      "text/plain": [
       "                                                    mean_squared_error_train  \\\n",
       "Drop high corr. columns.                                          410.682517   \n",
       "Initial Run                                                       410.893788   \n",
       "Drop both high corr. with other columns and low...                413.739233   \n",
       "Drop low corr. columns.                                           413.170673   \n",
       "High corr. columns with label.                                    493.633252   \n",
       "\n",
       "                                                    mean_squared_error_test  \\\n",
       "Drop high corr. columns.                                         399.373144   \n",
       "Initial Run                                                      401.443211   \n",
       "Drop both high corr. with other columns and low...               402.698836   \n",
       "Drop low corr. columns.                                          404.685573   \n",
       "High corr. columns with label.                                   598.682862   \n",
       "\n",
       "                                                               index  \\\n",
       "Drop high corr. columns.                                     RidgeCV   \n",
       "Initial Run                                                  LassoCV   \n",
       "Drop both high corr. with other columns and low...           LassoCV   \n",
       "Drop low corr. columns.                                      LassoCV   \n",
       "High corr. columns with label.                      LinearRegression   \n",
       "\n",
       "                                                                                         model_object  \n",
       "Drop high corr. columns.                            RidgeCV(alphas=array([ 0.1,  1. , 10. ]), cv=N...  \n",
       "Initial Run                                         LassoCV(alphas=None, copy_X=True, cv=None, eps...  \n",
       "Drop both high corr. with other columns and low...  LassoCV(alphas=None, copy_X=True, cv=None, eps...  \n",
       "Drop low corr. columns.                             LassoCV(alphas=None, copy_X=True, cv=None, eps...  \n",
       "High corr. columns with label.                      LinearRegression(copy_X=True, fit_intercept=Tr...  "
      ],
      "text/html": "<div>\n<style scoped>\n    .dataframe tbody tr th:only-of-type {\n        vertical-align: middle;\n    }\n\n    .dataframe tbody tr th {\n        vertical-align: top;\n    }\n\n    .dataframe thead th {\n        text-align: right;\n    }\n</style>\n<table border=\"1\" class=\"dataframe\">\n  <thead>\n    <tr style=\"text-align: right;\">\n      <th></th>\n      <th>mean_squared_error_train</th>\n      <th>mean_squared_error_test</th>\n      <th>index</th>\n      <th>model_object</th>\n    </tr>\n  </thead>\n  <tbody>\n    <tr>\n      <th>Drop high corr. columns.</th>\n      <td>410.682517</td>\n      <td>399.373144</td>\n      <td>RidgeCV</td>\n      <td>RidgeCV(alphas=array([ 0.1,  1. , 10. ]), cv=N...</td>\n    </tr>\n    <tr>\n      <th>Initial Run</th>\n      <td>410.893788</td>\n      <td>401.443211</td>\n      <td>LassoCV</td>\n      <td>LassoCV(alphas=None, copy_X=True, cv=None, eps...</td>\n    </tr>\n    <tr>\n      <th>Drop both high corr. with other columns and low corr. with label.</th>\n      <td>413.739233</td>\n      <td>402.698836</td>\n      <td>LassoCV</td>\n      <td>LassoCV(alphas=None, copy_X=True, cv=None, eps...</td>\n    </tr>\n    <tr>\n      <th>Drop low corr. columns.</th>\n      <td>413.170673</td>\n      <td>404.685573</td>\n      <td>LassoCV</td>\n      <td>LassoCV(alphas=None, copy_X=True, cv=None, eps...</td>\n    </tr>\n    <tr>\n      <th>High corr. columns with label.</th>\n      <td>493.633252</td>\n      <td>598.682862</td>\n      <td>LinearRegression</td>\n      <td>LinearRegression(copy_X=True, fit_intercept=Tr...</td>\n    </tr>\n  </tbody>\n</table>\n</div>"
     },
     "metadata": {},
     "execution_count": 121
    }
   ]
  },
  {
   "source": [
    "# (ii) variable transformation"
   ],
   "cell_type": "markdown",
   "metadata": {}
  },
  {
   "source": [
    "# Outlier handling"
   ],
   "cell_type": "markdown",
   "metadata": {}
  },
  {
   "source": [
    "## Tukey’s box plot method"
   ],
   "cell_type": "markdown",
   "metadata": {}
  },
  {
   "cell_type": "code",
   "execution_count": 122,
   "metadata": {},
   "outputs": [],
   "source": [
    "def calculate_outlier_limits_tukeys(x, level=\"high\"):\n",
    "    x_desc = x.describe().T\n",
    "\n",
    "    x_desc[\"IQR\"] = x_train_desc[\"75%\"] - x_train_desc[\"25%\"]\n",
    "\n",
    "    x_desc[\"LOWER_OUTER_FENCE\"] = x_desc[\"25%\"] - 3 * x_desc[\"IQR\"]\n",
    "    x_desc[\"LOWER_INNER_FENCE\"] = x_desc[\"25%\"] - 1.5 * x_desc[\"IQR\"]\n",
    "    x_desc[\"UPPER_INNER_FENCE\"] = x_desc[\"75%\"] + 1.5 * x_desc[\"IQR\"]\n",
    "    x_desc[\"UPPER_OUTER_FENCE\"] = x_desc[\"75%\"] + 3 * x_desc[\"IQR\"]\n",
    "    \n",
    "    if level==\"high\":\n",
    "        x_desc = x_desc.rename({\"LOWER_INNER_FENCE\":\"lower_boundry\",\n",
    "                                \"UPPER_INNER_FENCE\":\"upper_boundry\"},axis=1)\n",
    "    elif level==\"low\":\n",
    "        x_desc = x_desc.rename({\"LOWER_OUTER_FENCE\":\"lower_boundry\",\n",
    "                                \"UPPER_OUTER_FENCE\":\"upper_boundry\"},axis=1)\n",
    "\n",
    "    return x_desc[[\"lower_boundry\", \"upper_boundry\"]]"
   ]
  },
  {
   "cell_type": "code",
   "execution_count": 123,
   "metadata": {},
   "outputs": [],
   "source": [
    "def trim_data(column, limits):\n",
    "    try:\n",
    "        l = limits.loc[column.name,:]\n",
    "        column = column.mask(column > l.upper_boundry, l.upper_boundry)\n",
    "        column = column.mask(column < l.lower_boundry, l.lower_boundry)\n",
    "\n",
    "        return column\n",
    "\n",
    "    except Exception as e:\n",
    "        return column\n",
    "    "
   ]
  },
  {
   "cell_type": "code",
   "execution_count": 124,
   "metadata": {},
   "outputs": [],
   "source": [
    "limits = calculate_outlier_limits_tukeys(x_train)\n",
    "mask_outliers_tukeys = lambda column: trim_data(column, limits= limits)"
   ]
  },
  {
   "cell_type": "code",
   "execution_count": 125,
   "metadata": {},
   "outputs": [
    {
     "output_type": "stream",
     "name": "stdout",
     "text": [
      "Drop high corr. columns. + Mask outliers\n",
      "Min mean_squared_error_test Test 905.1936632865503\n"
     ]
    }
   ],
   "source": [
    "result = run(exclude_columns=columns_to_drop_high_corr, apply_x_col= mask_outliers_tukeys,\n",
    "                name=\"Drop high corr. columns. + Mask outliers\")\n"
   ]
  },
  {
   "cell_type": "code",
   "execution_count": 126,
   "metadata": {},
   "outputs": [
    {
     "output_type": "execute_result",
     "data": {
      "text/plain": [
       "                                                    mean_squared_error_train  \\\n",
       "Initial Run                                                       410.893788   \n",
       "Drop high corr. columns.                                          410.682517   \n",
       "Drop low corr. columns.                                           413.170673   \n",
       "Drop both high corr. with other columns and low...                413.739233   \n",
       "High corr. columns with label.                                    493.633252   \n",
       "Drop high corr. columns. + Mask outliers                          795.962801   \n",
       "\n",
       "                                                    mean_squared_error_test  \\\n",
       "Initial Run                                                      401.443211   \n",
       "Drop high corr. columns.                                         399.373144   \n",
       "Drop low corr. columns.                                          404.685573   \n",
       "Drop both high corr. with other columns and low...               402.698836   \n",
       "High corr. columns with label.                                   598.682862   \n",
       "Drop high corr. columns. + Mask outliers                         905.193663   \n",
       "\n",
       "                                                               index  \\\n",
       "Initial Run                                                  LassoCV   \n",
       "Drop high corr. columns.                                     RidgeCV   \n",
       "Drop low corr. columns.                                      LassoCV   \n",
       "Drop both high corr. with other columns and low...           LassoCV   \n",
       "High corr. columns with label.                      LinearRegression   \n",
       "Drop high corr. columns. + Mask outliers            LinearRegression   \n",
       "\n",
       "                                                                                         model_object  \n",
       "Initial Run                                         LassoCV(alphas=None, copy_X=True, cv=None, eps...  \n",
       "Drop high corr. columns.                            RidgeCV(alphas=array([ 0.1,  1. , 10. ]), cv=N...  \n",
       "Drop low corr. columns.                             LassoCV(alphas=None, copy_X=True, cv=None, eps...  \n",
       "Drop both high corr. with other columns and low...  LassoCV(alphas=None, copy_X=True, cv=None, eps...  \n",
       "High corr. columns with label.                      LinearRegression(copy_X=True, fit_intercept=Tr...  \n",
       "Drop high corr. columns. + Mask outliers            LinearRegression(copy_X=True, fit_intercept=Tr...  "
      ],
      "text/html": "<div>\n<style scoped>\n    .dataframe tbody tr th:only-of-type {\n        vertical-align: middle;\n    }\n\n    .dataframe tbody tr th {\n        vertical-align: top;\n    }\n\n    .dataframe thead th {\n        text-align: right;\n    }\n</style>\n<table border=\"1\" class=\"dataframe\">\n  <thead>\n    <tr style=\"text-align: right;\">\n      <th></th>\n      <th>mean_squared_error_train</th>\n      <th>mean_squared_error_test</th>\n      <th>index</th>\n      <th>model_object</th>\n    </tr>\n  </thead>\n  <tbody>\n    <tr>\n      <th>Initial Run</th>\n      <td>410.893788</td>\n      <td>401.443211</td>\n      <td>LassoCV</td>\n      <td>LassoCV(alphas=None, copy_X=True, cv=None, eps...</td>\n    </tr>\n    <tr>\n      <th>Drop high corr. columns.</th>\n      <td>410.682517</td>\n      <td>399.373144</td>\n      <td>RidgeCV</td>\n      <td>RidgeCV(alphas=array([ 0.1,  1. , 10. ]), cv=N...</td>\n    </tr>\n    <tr>\n      <th>Drop low corr. columns.</th>\n      <td>413.170673</td>\n      <td>404.685573</td>\n      <td>LassoCV</td>\n      <td>LassoCV(alphas=None, copy_X=True, cv=None, eps...</td>\n    </tr>\n    <tr>\n      <th>Drop both high corr. with other columns and low corr. with label.</th>\n      <td>413.739233</td>\n      <td>402.698836</td>\n      <td>LassoCV</td>\n      <td>LassoCV(alphas=None, copy_X=True, cv=None, eps...</td>\n    </tr>\n    <tr>\n      <th>High corr. columns with label.</th>\n      <td>493.633252</td>\n      <td>598.682862</td>\n      <td>LinearRegression</td>\n      <td>LinearRegression(copy_X=True, fit_intercept=Tr...</td>\n    </tr>\n    <tr>\n      <th>Drop high corr. columns. + Mask outliers</th>\n      <td>795.962801</td>\n      <td>905.193663</td>\n      <td>LinearRegression</td>\n      <td>LinearRegression(copy_X=True, fit_intercept=Tr...</td>\n    </tr>\n  </tbody>\n</table>\n</div>"
     },
     "metadata": {},
     "execution_count": 126
    }
   ],
   "source": [
    "experiment_list"
   ]
  },
  {
   "source": [
    "# (iii)multi-collinearity issues"
   ],
   "cell_type": "markdown",
   "metadata": {}
  },
  {
   "cell_type": "code",
   "execution_count": null,
   "metadata": {},
   "outputs": [],
   "source": []
  },
  {
   "source": [
    "# (iv) feature elimination & selection"
   ],
   "cell_type": "markdown",
   "metadata": {}
  },
  {
   "source": [
    "# (v) model selection"
   ],
   "cell_type": "markdown",
   "metadata": {}
  }
 ]
}