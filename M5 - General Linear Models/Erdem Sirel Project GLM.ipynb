{
 "metadata": {
  "language_info": {
   "codemirror_mode": {
    "name": "ipython",
    "version": 3
   },
   "file_extension": ".py",
   "mimetype": "text/x-python",
   "name": "python",
   "nbconvert_exporter": "python",
   "pygments_lexer": "ipython3",
   "version": "3.8.3-final"
  },
  "orig_nbformat": 2,
  "kernelspec": {
   "name": "python3",
   "display_name": "Python 3"
  }
 },
 "nbformat": 4,
 "nbformat_minor": 2,
 "cells": [
  {
   "cell_type": "code",
   "execution_count": 33,
   "metadata": {},
   "outputs": [],
   "source": [
    "import pandas as pd\n",
    "pd.set_option('display.max_rows', 500)\n",
    "import numpy as np\n",
    "import matplotlib.pyplot as plt\n",
    "from sklearn import datasets, linear_model, svm, tree\n",
    "from sklearn.ensemble import RandomForestRegressor\n",
    "from  sklearn import metrics\n",
    "from sklearn.metrics import mean_squared_error, r2_score\n",
    "from sklearn.model_selection import train_test_split\n",
    "from sklearn.preprocessing import MinMaxScaler, StandardScaler\n"
   ]
  },
  {
   "cell_type": "code",
   "execution_count": 35,
   "metadata": {},
   "outputs": [],
   "source": [
    "data = pd.read_csv(\"cell2cell-v1.csv\")"
   ]
  },
  {
   "cell_type": "code",
   "execution_count": 5,
   "metadata": {},
   "outputs": [
    {
     "output_type": "execute_result",
     "data": {
      "text/plain": [
       "       Unnamed: 0      X  customer  traintest  churn  churndep     revenue  \\\n",
       "0               1      1   1000002          0      0       NaN   57.492500   \n",
       "1               2      2   1000006          0      0       NaN   82.275002   \n",
       "2               3      3   1000010          0      0       NaN   31.662500   \n",
       "3               4      4   1000011          0      0       NaN   62.127499   \n",
       "4               5      5   1000014          0      0       NaN   25.225000   \n",
       "...           ...    ...       ...        ...    ...       ...         ...   \n",
       "71042       71043  71043   1099987          1      1       1.0  117.489998   \n",
       "71043       71044  71044   1099988          1      1       1.0         NaN   \n",
       "71044       71045  71045   1099990          1      1       1.0         NaN   \n",
       "71045       71046  71046   1099992          1      1       1.0         NaN   \n",
       "71046       71047  71047   1099995          1      1       1.0         NaN   \n",
       "\n",
       "           mou   recchrge  directas  ...  retaccpt  newcelly  newcelln  refer  \\\n",
       "0       482.75  37.424999    0.2475  ...         0         0         1      0   \n",
       "1      1312.25  75.000000    1.2375  ...         0         1         0      0   \n",
       "2        25.50  29.990000    0.2475  ...         0         0         1      0   \n",
       "3        97.50  65.985001    2.4750  ...         0         1         0      0   \n",
       "4         2.50  25.000000    0.0000  ...         0         1         0      0   \n",
       "...        ...        ...       ...  ...       ...       ...       ...    ...   \n",
       "71042   384.00  29.990000    0.0000  ...         0         0         0      0   \n",
       "71043      NaN        NaN       NaN  ...         0         0         0      0   \n",
       "71044      NaN        NaN       NaN  ...         0         0         0      0   \n",
       "71045      NaN        NaN       NaN  ...         0         1         0      0   \n",
       "71046      NaN        NaN       NaN  ...         0         0         0      0   \n",
       "\n",
       "       incmiss  income  mcycle  setprcm      setprc  retcall  \n",
       "0            0       5       0        0  149.989990        0  \n",
       "1            0       6       0        0    9.989998        0  \n",
       "2            0       9       0        0   29.989990        0  \n",
       "3            0       6       0        0   29.989990        0  \n",
       "4            0       7       0        0   29.989990        0  \n",
       "...        ...     ...     ...      ...         ...      ...  \n",
       "71042        0       2       0        0   29.989990        0  \n",
       "71043        0       6       0        1    0.000000        0  \n",
       "71044        0       6       0        0   59.989990        0  \n",
       "71045        0       8       0        1    0.000000        0  \n",
       "71046        0       7       0        0   79.989990        0  \n",
       "\n",
       "[71047 rows x 72 columns]"
      ],
      "text/html": "<div>\n<style scoped>\n    .dataframe tbody tr th:only-of-type {\n        vertical-align: middle;\n    }\n\n    .dataframe tbody tr th {\n        vertical-align: top;\n    }\n\n    .dataframe thead th {\n        text-align: right;\n    }\n</style>\n<table border=\"1\" class=\"dataframe\">\n  <thead>\n    <tr style=\"text-align: right;\">\n      <th></th>\n      <th>Unnamed: 0</th>\n      <th>X</th>\n      <th>customer</th>\n      <th>traintest</th>\n      <th>churn</th>\n      <th>churndep</th>\n      <th>revenue</th>\n      <th>mou</th>\n      <th>recchrge</th>\n      <th>directas</th>\n      <th>...</th>\n      <th>retaccpt</th>\n      <th>newcelly</th>\n      <th>newcelln</th>\n      <th>refer</th>\n      <th>incmiss</th>\n      <th>income</th>\n      <th>mcycle</th>\n      <th>setprcm</th>\n      <th>setprc</th>\n      <th>retcall</th>\n    </tr>\n  </thead>\n  <tbody>\n    <tr>\n      <th>0</th>\n      <td>1</td>\n      <td>1</td>\n      <td>1000002</td>\n      <td>0</td>\n      <td>0</td>\n      <td>NaN</td>\n      <td>57.492500</td>\n      <td>482.75</td>\n      <td>37.424999</td>\n      <td>0.2475</td>\n      <td>...</td>\n      <td>0</td>\n      <td>0</td>\n      <td>1</td>\n      <td>0</td>\n      <td>0</td>\n      <td>5</td>\n      <td>0</td>\n      <td>0</td>\n      <td>149.989990</td>\n      <td>0</td>\n    </tr>\n    <tr>\n      <th>1</th>\n      <td>2</td>\n      <td>2</td>\n      <td>1000006</td>\n      <td>0</td>\n      <td>0</td>\n      <td>NaN</td>\n      <td>82.275002</td>\n      <td>1312.25</td>\n      <td>75.000000</td>\n      <td>1.2375</td>\n      <td>...</td>\n      <td>0</td>\n      <td>1</td>\n      <td>0</td>\n      <td>0</td>\n      <td>0</td>\n      <td>6</td>\n      <td>0</td>\n      <td>0</td>\n      <td>9.989998</td>\n      <td>0</td>\n    </tr>\n    <tr>\n      <th>2</th>\n      <td>3</td>\n      <td>3</td>\n      <td>1000010</td>\n      <td>0</td>\n      <td>0</td>\n      <td>NaN</td>\n      <td>31.662500</td>\n      <td>25.50</td>\n      <td>29.990000</td>\n      <td>0.2475</td>\n      <td>...</td>\n      <td>0</td>\n      <td>0</td>\n      <td>1</td>\n      <td>0</td>\n      <td>0</td>\n      <td>9</td>\n      <td>0</td>\n      <td>0</td>\n      <td>29.989990</td>\n      <td>0</td>\n    </tr>\n    <tr>\n      <th>3</th>\n      <td>4</td>\n      <td>4</td>\n      <td>1000011</td>\n      <td>0</td>\n      <td>0</td>\n      <td>NaN</td>\n      <td>62.127499</td>\n      <td>97.50</td>\n      <td>65.985001</td>\n      <td>2.4750</td>\n      <td>...</td>\n      <td>0</td>\n      <td>1</td>\n      <td>0</td>\n      <td>0</td>\n      <td>0</td>\n      <td>6</td>\n      <td>0</td>\n      <td>0</td>\n      <td>29.989990</td>\n      <td>0</td>\n    </tr>\n    <tr>\n      <th>4</th>\n      <td>5</td>\n      <td>5</td>\n      <td>1000014</td>\n      <td>0</td>\n      <td>0</td>\n      <td>NaN</td>\n      <td>25.225000</td>\n      <td>2.50</td>\n      <td>25.000000</td>\n      <td>0.0000</td>\n      <td>...</td>\n      <td>0</td>\n      <td>1</td>\n      <td>0</td>\n      <td>0</td>\n      <td>0</td>\n      <td>7</td>\n      <td>0</td>\n      <td>0</td>\n      <td>29.989990</td>\n      <td>0</td>\n    </tr>\n    <tr>\n      <th>...</th>\n      <td>...</td>\n      <td>...</td>\n      <td>...</td>\n      <td>...</td>\n      <td>...</td>\n      <td>...</td>\n      <td>...</td>\n      <td>...</td>\n      <td>...</td>\n      <td>...</td>\n      <td>...</td>\n      <td>...</td>\n      <td>...</td>\n      <td>...</td>\n      <td>...</td>\n      <td>...</td>\n      <td>...</td>\n      <td>...</td>\n      <td>...</td>\n      <td>...</td>\n      <td>...</td>\n    </tr>\n    <tr>\n      <th>71042</th>\n      <td>71043</td>\n      <td>71043</td>\n      <td>1099987</td>\n      <td>1</td>\n      <td>1</td>\n      <td>1.0</td>\n      <td>117.489998</td>\n      <td>384.00</td>\n      <td>29.990000</td>\n      <td>0.0000</td>\n      <td>...</td>\n      <td>0</td>\n      <td>0</td>\n      <td>0</td>\n      <td>0</td>\n      <td>0</td>\n      <td>2</td>\n      <td>0</td>\n      <td>0</td>\n      <td>29.989990</td>\n      <td>0</td>\n    </tr>\n    <tr>\n      <th>71043</th>\n      <td>71044</td>\n      <td>71044</td>\n      <td>1099988</td>\n      <td>1</td>\n      <td>1</td>\n      <td>1.0</td>\n      <td>NaN</td>\n      <td>NaN</td>\n      <td>NaN</td>\n      <td>NaN</td>\n      <td>...</td>\n      <td>0</td>\n      <td>0</td>\n      <td>0</td>\n      <td>0</td>\n      <td>0</td>\n      <td>6</td>\n      <td>0</td>\n      <td>1</td>\n      <td>0.000000</td>\n      <td>0</td>\n    </tr>\n    <tr>\n      <th>71044</th>\n      <td>71045</td>\n      <td>71045</td>\n      <td>1099990</td>\n      <td>1</td>\n      <td>1</td>\n      <td>1.0</td>\n      <td>NaN</td>\n      <td>NaN</td>\n      <td>NaN</td>\n      <td>NaN</td>\n      <td>...</td>\n      <td>0</td>\n      <td>0</td>\n      <td>0</td>\n      <td>0</td>\n      <td>0</td>\n      <td>6</td>\n      <td>0</td>\n      <td>0</td>\n      <td>59.989990</td>\n      <td>0</td>\n    </tr>\n    <tr>\n      <th>71045</th>\n      <td>71046</td>\n      <td>71046</td>\n      <td>1099992</td>\n      <td>1</td>\n      <td>1</td>\n      <td>1.0</td>\n      <td>NaN</td>\n      <td>NaN</td>\n      <td>NaN</td>\n      <td>NaN</td>\n      <td>...</td>\n      <td>0</td>\n      <td>1</td>\n      <td>0</td>\n      <td>0</td>\n      <td>0</td>\n      <td>8</td>\n      <td>0</td>\n      <td>1</td>\n      <td>0.000000</td>\n      <td>0</td>\n    </tr>\n    <tr>\n      <th>71046</th>\n      <td>71047</td>\n      <td>71047</td>\n      <td>1099995</td>\n      <td>1</td>\n      <td>1</td>\n      <td>1.0</td>\n      <td>NaN</td>\n      <td>NaN</td>\n      <td>NaN</td>\n      <td>NaN</td>\n      <td>...</td>\n      <td>0</td>\n      <td>0</td>\n      <td>0</td>\n      <td>0</td>\n      <td>0</td>\n      <td>7</td>\n      <td>0</td>\n      <td>0</td>\n      <td>79.989990</td>\n      <td>0</td>\n    </tr>\n  </tbody>\n</table>\n<p>71047 rows × 72 columns</p>\n</div>"
     },
     "metadata": {},
     "execution_count": 5
    }
   ],
   "source": [
    "data"
   ]
  },
  {
   "cell_type": "code",
   "execution_count": 36,
   "metadata": {},
   "outputs": [
    {
     "output_type": "execute_result",
     "data": {
      "text/plain": [
       "       Unnamed: 0      X  customer  traintest  churn  churndep     revenue  \\\n",
       "0               1      1   1000002          0      0       NaN   57.492500   \n",
       "1               2      2   1000006          0      0       NaN   82.275002   \n",
       "2               3      3   1000010          0      0       NaN   31.662500   \n",
       "3               4      4   1000011          0      0       NaN   62.127499   \n",
       "4               5      5   1000014          0      0       NaN   25.225000   \n",
       "...           ...    ...       ...        ...    ...       ...         ...   \n",
       "71035       71036  71036   1099939          1      1       1.0   57.669998   \n",
       "71037       71038  71038   1099962          1      1       1.0   30.237499   \n",
       "71040       71041  71041   1099969          1      1       1.0   33.630001   \n",
       "71041       71042  71042   1099985          1      1       1.0   85.150002   \n",
       "71042       71043  71043   1099987          1      1       1.0  117.489998   \n",
       "\n",
       "               mou   recchrge  directas  ...  retaccpt  newcelly  newcelln  \\\n",
       "0       482.750000  37.424999    0.2475  ...         0         0         1   \n",
       "1      1312.250000  75.000000    1.2375  ...         0         1         0   \n",
       "2        25.500000  29.990000    0.2475  ...         0         0         1   \n",
       "3        97.500000  65.985001    2.4750  ...         0         1         0   \n",
       "4         2.500000  25.000000    0.0000  ...         0         1         0   \n",
       "...            ...        ...       ...  ...       ...       ...       ...   \n",
       "71035   534.666687  44.990002    0.0000  ...         0         0         0   \n",
       "71037    63.250000  29.990000    0.2475  ...         0         0         0   \n",
       "71040    28.000000  29.990000    0.0000  ...         0         0         1   \n",
       "71041   815.000000  87.989998    0.0000  ...         0         0         0   \n",
       "71042   384.000000  29.990000    0.0000  ...         0         0         0   \n",
       "\n",
       "       refer  incmiss  income  mcycle  setprcm      setprc  retcall  \n",
       "0          0        0       5       0        0  149.989990        0  \n",
       "1          0        0       6       0        0    9.989998        0  \n",
       "2          0        0       9       0        0   29.989990        0  \n",
       "3          0        0       6       0        0   29.989990        0  \n",
       "4          0        0       7       0        0   29.989990        0  \n",
       "...      ...      ...     ...     ...      ...         ...      ...  \n",
       "71035      0        0       2       0        0   29.989990        0  \n",
       "71037      0        0       5       0        1    0.000000        0  \n",
       "71040      0        1       0       0        0   29.989990        0  \n",
       "71041      0        1       0       0        0   39.989990        0  \n",
       "71042      0        0       2       0        0   29.989990        0  \n",
       "\n",
       "[70831 rows x 72 columns]"
      ],
      "text/html": "<div>\n<style scoped>\n    .dataframe tbody tr th:only-of-type {\n        vertical-align: middle;\n    }\n\n    .dataframe tbody tr th {\n        vertical-align: top;\n    }\n\n    .dataframe thead th {\n        text-align: right;\n    }\n</style>\n<table border=\"1\" class=\"dataframe\">\n  <thead>\n    <tr style=\"text-align: right;\">\n      <th></th>\n      <th>Unnamed: 0</th>\n      <th>X</th>\n      <th>customer</th>\n      <th>traintest</th>\n      <th>churn</th>\n      <th>churndep</th>\n      <th>revenue</th>\n      <th>mou</th>\n      <th>recchrge</th>\n      <th>directas</th>\n      <th>...</th>\n      <th>retaccpt</th>\n      <th>newcelly</th>\n      <th>newcelln</th>\n      <th>refer</th>\n      <th>incmiss</th>\n      <th>income</th>\n      <th>mcycle</th>\n      <th>setprcm</th>\n      <th>setprc</th>\n      <th>retcall</th>\n    </tr>\n  </thead>\n  <tbody>\n    <tr>\n      <th>0</th>\n      <td>1</td>\n      <td>1</td>\n      <td>1000002</td>\n      <td>0</td>\n      <td>0</td>\n      <td>NaN</td>\n      <td>57.492500</td>\n      <td>482.750000</td>\n      <td>37.424999</td>\n      <td>0.2475</td>\n      <td>...</td>\n      <td>0</td>\n      <td>0</td>\n      <td>1</td>\n      <td>0</td>\n      <td>0</td>\n      <td>5</td>\n      <td>0</td>\n      <td>0</td>\n      <td>149.989990</td>\n      <td>0</td>\n    </tr>\n    <tr>\n      <th>1</th>\n      <td>2</td>\n      <td>2</td>\n      <td>1000006</td>\n      <td>0</td>\n      <td>0</td>\n      <td>NaN</td>\n      <td>82.275002</td>\n      <td>1312.250000</td>\n      <td>75.000000</td>\n      <td>1.2375</td>\n      <td>...</td>\n      <td>0</td>\n      <td>1</td>\n      <td>0</td>\n      <td>0</td>\n      <td>0</td>\n      <td>6</td>\n      <td>0</td>\n      <td>0</td>\n      <td>9.989998</td>\n      <td>0</td>\n    </tr>\n    <tr>\n      <th>2</th>\n      <td>3</td>\n      <td>3</td>\n      <td>1000010</td>\n      <td>0</td>\n      <td>0</td>\n      <td>NaN</td>\n      <td>31.662500</td>\n      <td>25.500000</td>\n      <td>29.990000</td>\n      <td>0.2475</td>\n      <td>...</td>\n      <td>0</td>\n      <td>0</td>\n      <td>1</td>\n      <td>0</td>\n      <td>0</td>\n      <td>9</td>\n      <td>0</td>\n      <td>0</td>\n      <td>29.989990</td>\n      <td>0</td>\n    </tr>\n    <tr>\n      <th>3</th>\n      <td>4</td>\n      <td>4</td>\n      <td>1000011</td>\n      <td>0</td>\n      <td>0</td>\n      <td>NaN</td>\n      <td>62.127499</td>\n      <td>97.500000</td>\n      <td>65.985001</td>\n      <td>2.4750</td>\n      <td>...</td>\n      <td>0</td>\n      <td>1</td>\n      <td>0</td>\n      <td>0</td>\n      <td>0</td>\n      <td>6</td>\n      <td>0</td>\n      <td>0</td>\n      <td>29.989990</td>\n      <td>0</td>\n    </tr>\n    <tr>\n      <th>4</th>\n      <td>5</td>\n      <td>5</td>\n      <td>1000014</td>\n      <td>0</td>\n      <td>0</td>\n      <td>NaN</td>\n      <td>25.225000</td>\n      <td>2.500000</td>\n      <td>25.000000</td>\n      <td>0.0000</td>\n      <td>...</td>\n      <td>0</td>\n      <td>1</td>\n      <td>0</td>\n      <td>0</td>\n      <td>0</td>\n      <td>7</td>\n      <td>0</td>\n      <td>0</td>\n      <td>29.989990</td>\n      <td>0</td>\n    </tr>\n    <tr>\n      <th>...</th>\n      <td>...</td>\n      <td>...</td>\n      <td>...</td>\n      <td>...</td>\n      <td>...</td>\n      <td>...</td>\n      <td>...</td>\n      <td>...</td>\n      <td>...</td>\n      <td>...</td>\n      <td>...</td>\n      <td>...</td>\n      <td>...</td>\n      <td>...</td>\n      <td>...</td>\n      <td>...</td>\n      <td>...</td>\n      <td>...</td>\n      <td>...</td>\n      <td>...</td>\n      <td>...</td>\n    </tr>\n    <tr>\n      <th>71035</th>\n      <td>71036</td>\n      <td>71036</td>\n      <td>1099939</td>\n      <td>1</td>\n      <td>1</td>\n      <td>1.0</td>\n      <td>57.669998</td>\n      <td>534.666687</td>\n      <td>44.990002</td>\n      <td>0.0000</td>\n      <td>...</td>\n      <td>0</td>\n      <td>0</td>\n      <td>0</td>\n      <td>0</td>\n      <td>0</td>\n      <td>2</td>\n      <td>0</td>\n      <td>0</td>\n      <td>29.989990</td>\n      <td>0</td>\n    </tr>\n    <tr>\n      <th>71037</th>\n      <td>71038</td>\n      <td>71038</td>\n      <td>1099962</td>\n      <td>1</td>\n      <td>1</td>\n      <td>1.0</td>\n      <td>30.237499</td>\n      <td>63.250000</td>\n      <td>29.990000</td>\n      <td>0.2475</td>\n      <td>...</td>\n      <td>0</td>\n      <td>0</td>\n      <td>0</td>\n      <td>0</td>\n      <td>0</td>\n      <td>5</td>\n      <td>0</td>\n      <td>1</td>\n      <td>0.000000</td>\n      <td>0</td>\n    </tr>\n    <tr>\n      <th>71040</th>\n      <td>71041</td>\n      <td>71041</td>\n      <td>1099969</td>\n      <td>1</td>\n      <td>1</td>\n      <td>1.0</td>\n      <td>33.630001</td>\n      <td>28.000000</td>\n      <td>29.990000</td>\n      <td>0.0000</td>\n      <td>...</td>\n      <td>0</td>\n      <td>0</td>\n      <td>1</td>\n      <td>0</td>\n      <td>1</td>\n      <td>0</td>\n      <td>0</td>\n      <td>0</td>\n      <td>29.989990</td>\n      <td>0</td>\n    </tr>\n    <tr>\n      <th>71041</th>\n      <td>71042</td>\n      <td>71042</td>\n      <td>1099985</td>\n      <td>1</td>\n      <td>1</td>\n      <td>1.0</td>\n      <td>85.150002</td>\n      <td>815.000000</td>\n      <td>87.989998</td>\n      <td>0.0000</td>\n      <td>...</td>\n      <td>0</td>\n      <td>0</td>\n      <td>0</td>\n      <td>0</td>\n      <td>1</td>\n      <td>0</td>\n      <td>0</td>\n      <td>0</td>\n      <td>39.989990</td>\n      <td>0</td>\n    </tr>\n    <tr>\n      <th>71042</th>\n      <td>71043</td>\n      <td>71043</td>\n      <td>1099987</td>\n      <td>1</td>\n      <td>1</td>\n      <td>1.0</td>\n      <td>117.489998</td>\n      <td>384.000000</td>\n      <td>29.990000</td>\n      <td>0.0000</td>\n      <td>...</td>\n      <td>0</td>\n      <td>0</td>\n      <td>0</td>\n      <td>0</td>\n      <td>0</td>\n      <td>2</td>\n      <td>0</td>\n      <td>0</td>\n      <td>29.989990</td>\n      <td>0</td>\n    </tr>\n  </tbody>\n</table>\n<p>70831 rows × 72 columns</p>\n</div>"
     },
     "metadata": {},
     "execution_count": 36
    }
   ],
   "source": [
    "data.dropna(subset=[\"revenue\"])"
   ]
  },
  {
   "cell_type": "code",
   "execution_count": 37,
   "metadata": {},
   "outputs": [],
   "source": [
    "def prepare_data():\n",
    "    data = pd.read_csv(\"cell2cell-v1.csv\")\n",
    "    data = data.drop([\"Unnamed: 0\",\t\"X\",\t\"customer\",\t\"traintest\", \"churndep\"], axis=1)\n",
    "    \n",
    "    data = data.dropna(subset=[\"revenue\"])\n",
    "    x = data.drop('revenue', axis=1)\n",
    "    \n",
    "    y = data['revenue']\n",
    "\n",
    "    \n",
    "\n",
    "    x_train, x_test, y_train, y_test = train_test_split(\n",
    "        x, y, test_size=0.33, random_state=42)\n",
    "    return x_train, x_test, y_train, y_test"
   ]
  },
  {
   "cell_type": "code",
   "execution_count": 38,
   "metadata": {},
   "outputs": [],
   "source": [
    "def scale_data(x_train, x_test, scaler=StandardScaler):\n",
    "\n",
    "    scaler = scaler()\n",
    "    scaler.fit(x_train)\n",
    "\n",
    "    x_train_scaled = scaler.transform(x_train)\n",
    "    x_train_scaled = pd.DataFrame(x_train_scaled, index=x_train.index, columns=x_train.columns)\n",
    "\n",
    "    x_test_scaled = scaler.transform(x_test)\n",
    "    x_test_scaled = pd.DataFrame(x_test_scaled, index=x_test.index, columns=x_test.columns)\n",
    "\n",
    "    x_train_scaled.fillna(x_train_scaled.mean(), inplace=True)\n",
    "    x_test_scaled.fillna(x_test_scaled.mean(), inplace=True)\n",
    "\n",
    "    return x_train_scaled, x_test_scaled\n",
    "\n"
   ]
  },
  {
   "cell_type": "code",
   "execution_count": 39,
   "metadata": {},
   "outputs": [],
   "source": [
    "def evaluate_regression(y_true_train, y_pred_train, y_true_test, y_pred_test, model_name=\"\"):   \n",
    "    return pd.DataFrame.from_records([[\n",
    "                                       metrics.mean_squared_error(y_true_train, y_pred_train),\n",
    "                                       metrics.mean_absolute_error(y_true_train, y_pred_train),\n",
    "                                       metrics.max_error(y_true_train, y_pred_train),\n",
    "                                       metrics.r2_score(y_true_train, y_pred_train), \n",
    "                                      metrics.mean_squared_error(y_true_test, y_pred_test),\n",
    "                                       metrics.mean_absolute_error(y_true_test, y_pred_test),\n",
    "                                       metrics.max_error(y_true_test, y_pred_test),\n",
    "                                       metrics.r2_score(y_true_test, y_pred_test)]], \n",
    "                                     \n",
    "                                     index=[model_name], \n",
    "                                     columns=['mean_squared_error_train', 'mean_absolute_error_train', 'max_error_train', \"r2_score_train\",\n",
    "                                              'mean_squared_error_test', 'mean_absolute_error_test', 'max_error_test', \"r2_score_test\"])\n"
   ]
  },
  {
   "cell_type": "code",
   "execution_count": 40,
   "metadata": {},
   "outputs": [],
   "source": [
    "x_train, x_test, y_train, y_test = prepare_data()\n",
    "x_train, x_test = scale_data(x_train, x_test, scaler=StandardScaler)"
   ]
  },
  {
   "cell_type": "code",
   "execution_count": null,
   "metadata": {},
   "outputs": [],
   "source": [
    "results = pd.DataFrame()\n",
    "for model in [linear_model.LinearRegression(), \n",
    "            linear_model.RidgeCV(),\n",
    "            linear_model.LassoCV(),\n",
    "            svm.SVR(kernel=\"linear\"),\n",
    "            svm.SVR(kernel=\"rbf\"),\n",
    "            svm.SVR(kernel=\"poly\"),\n",
    "            tree.DecisionTreeRegressor()]:\n",
    "    model.fit(x_train, y_train)\n",
    "\n",
    "    y_train_pred = model.predict(x_train)\n",
    "    y_test_pred = model.predict(x_test)\n",
    "\n",
    "    results = results.append(evaluate_regression(y_train, y_train_pred, y_test, y_test_pred,\n",
    "                        model_name=model))\n"
   ]
  },
  {
   "cell_type": "code",
   "execution_count": null,
   "metadata": {},
   "outputs": [],
   "source": [
    "results.sort_values(\"RMSE_test\")"
   ]
  },
  {
   "cell_type": "code",
   "execution_count": null,
   "metadata": {},
   "outputs": [],
   "source": [
    "results.sort_values(\"RMSE_test\").iloc[0][\"RMSE_test\"]"
   ]
  },
  {
   "source": [
    "# (i) variable interaction"
   ],
   "cell_type": "markdown",
   "metadata": {}
  },
  {
   "cell_type": "code",
   "execution_count": null,
   "metadata": {},
   "outputs": [],
   "source": [
    "data.corr()"
   ]
  },
  {
   "cell_type": "code",
   "execution_count": null,
   "metadata": {},
   "outputs": [],
   "source": [
    "data.withcorr()"
   ]
  },
  {
   "cell_type": "code",
   "execution_count": null,
   "metadata": {},
   "outputs": [],
   "source": []
  }
 ]
}