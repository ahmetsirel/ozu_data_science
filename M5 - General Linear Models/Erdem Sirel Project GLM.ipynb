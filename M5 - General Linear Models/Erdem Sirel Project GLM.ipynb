{
 "metadata": {
  "language_info": {
   "codemirror_mode": {
    "name": "ipython",
    "version": 3
   },
   "file_extension": ".py",
   "mimetype": "text/x-python",
   "name": "python",
   "nbconvert_exporter": "python",
   "pygments_lexer": "ipython3",
   "version": "3.8.3-final"
  },
  "orig_nbformat": 2,
  "kernelspec": {
   "name": "python3",
   "display_name": "Python 3"
  }
 },
 "nbformat": 4,
 "nbformat_minor": 2,
 "cells": [
  {
   "cell_type": "code",
   "execution_count": 9,
   "metadata": {},
   "outputs": [],
   "source": [
    "import pandas as pd\n",
    "pd.set_option('display.max_rows', 500)\n",
    "import numpy as np\n",
    "import matplotlib.pyplot as plt\n",
    "from sklearn import datasets, linear_model, svm, tree\n",
    "from sklearn.ensemble import RandomForestRegressor\n",
    "from  sklearn import metrics\n",
    "from sklearn.metrics import mean_squared_error, r2_score\n",
    "from sklearn.model_selection import train_test_split\n",
    "from sklearn.preprocessing import MinMaxScaler, StandardScaler\n"
   ]
  },
  {
   "source": [
    "# Initial Predictions"
   ],
   "cell_type": "markdown",
   "metadata": {}
  },
  {
   "cell_type": "code",
   "execution_count": 10,
   "metadata": {},
   "outputs": [],
   "source": [
    "data = pd.read_csv(\"https://raw.githubusercontent.com/ahmetsirel/ozu_data_science/master/M5%20-%20General%20Linear%20Models/cell2cell-v1.csv\")\n",
    "data = data.drop([\"Unnamed: 0\",\t\"X\",\t\"customer\",\t\"traintest\", \"churndep\"], axis=1)"
   ]
  },
  {
   "cell_type": "code",
   "execution_count": 11,
   "metadata": {},
   "outputs": [],
   "source": [
    "def prepare_data(exclude_columns=None):\n",
    "    data = pd.read_csv(\"https://raw.githubusercontent.com/ahmetsirel/ozu_data_science/master/M5%20-%20General%20Linear%20Models/cell2cell-v1.csv\")\n",
    "    data = data.drop([\"Unnamed: 0\",\t\"X\",\t\"customer\",\t\"traintest\", \"churndep\"], axis=1)\n",
    "    \n",
    "    if exclude_columns is not None:\n",
    "        data = data.drop(exclude_columns, axis=1)\n",
    "\n",
    "    data = data.dropna(subset=[\"revenue\"])\n",
    "    x = data.drop('revenue', axis=1)\n",
    "    \n",
    "    y = data['revenue']\n",
    "\n",
    "    \n",
    "\n",
    "    x_train, x_test, y_train, y_test = train_test_split(\n",
    "        x, y, test_size=0.33, random_state=42)\n",
    "    return x_train, x_test, y_train, y_test"
   ]
  },
  {
   "cell_type": "code",
   "execution_count": 12,
   "metadata": {},
   "outputs": [],
   "source": [
    "def scale_data(x_train, x_test, scaler=StandardScaler):\n",
    "\n",
    "    scaler = scaler()\n",
    "    scaler.fit(x_train)\n",
    "\n",
    "    x_train_scaled = scaler.transform(x_train)\n",
    "    x_train_scaled = pd.DataFrame(x_train_scaled, index=x_train.index, columns=x_train.columns)\n",
    "\n",
    "    x_test_scaled = scaler.transform(x_test)\n",
    "    x_test_scaled = pd.DataFrame(x_test_scaled, index=x_test.index, columns=x_test.columns)\n",
    "\n",
    "    x_train_scaled.fillna(x_train_scaled.mean(), inplace=True)\n",
    "    x_test_scaled.fillna(x_test_scaled.mean(), inplace=True)\n",
    "\n",
    "    return x_train_scaled, x_test_scaled\n",
    "\n"
   ]
  },
  {
   "cell_type": "code",
   "execution_count": 13,
   "metadata": {},
   "outputs": [],
   "source": [
    "def evaluate_regression(y_true_train, y_pred_train, y_true_test, y_pred_test, model_name=\"\"):   \n",
    "    return pd.DataFrame.from_records([[\n",
    "                                       metrics.mean_squared_error(y_true_train, y_pred_train),\n",
    "                                       metrics.mean_absolute_error(y_true_train, y_pred_train),\n",
    "                                       metrics.max_error(y_true_train, y_pred_train),\n",
    "                                       metrics.r2_score(y_true_train, y_pred_train), \n",
    "                                      metrics.mean_squared_error(y_true_test, y_pred_test),\n",
    "                                       metrics.mean_absolute_error(y_true_test, y_pred_test),\n",
    "                                       metrics.max_error(y_true_test, y_pred_test),\n",
    "                                       metrics.r2_score(y_true_test, y_pred_test)]], \n",
    "                                     \n",
    "                                     index=[model_name], \n",
    "                                     columns=['mean_squared_error_train', 'mean_absolute_error_train', 'max_error_train', \"r2_score_train\",\n",
    "                                              'mean_squared_error_test', 'mean_absolute_error_test', 'max_error_test', \"r2_score_test\"])\n"
   ]
  },
  {
   "cell_type": "code",
   "execution_count": 14,
   "metadata": {},
   "outputs": [],
   "source": [
    "def run_models(x_train, x_test, y_train, y_test):\n",
    "        results = pd.DataFrame()\n",
    "        for model in [linear_model.LinearRegression(), \n",
    "                        linear_model.RidgeCV(),\n",
    "                        linear_model.LassoCV(),\n",
    "                        svm.LinearSVR(),\n",
    "                        #svm.SVR(kernel=\"rbf\",),\n",
    "                        #svm.SVR(kernel=\"poly\"),\n",
    "                        tree.DecisionTreeRegressor()]:\n",
    "                #print(type(model).__name__, \"Started\")\n",
    "                model.fit(x_train, y_train)\n",
    "                #print(type(model).__name__, \"Ended\")\n",
    "                y_train_pred = model.predict(x_train)\n",
    "                y_test_pred = model.predict(x_test)\n",
    "\n",
    "                results = results.append(evaluate_regression(y_train, y_train_pred, y_test, y_test_pred,\n",
    "                                        model_name=model))\n",
    "        return results\n"
   ]
  },
  {
   "cell_type": "code",
   "execution_count": 15,
   "metadata": {},
   "outputs": [],
   "source": [
    "def run(exclude_columns=None, name=\"\"):\n",
    "    print(name)\n",
    "    x_train, x_test, y_train, y_test = prepare_data(exclude_columns=exclude_columns)\n",
    "    x_train, x_test = scale_data(x_train, x_test, scaler=StandardScaler)\n",
    "\n",
    "    results = run_models(x_train, x_test, y_train, y_test)\n",
    "\n",
    "    print(\"Min mean_squared_error_test Test\",results.sort_values(\"mean_squared_error_test\").iloc[0][\"mean_squared_error_test\"])\n",
    "\n",
    "    return results.sort_values(\"mean_squared_error_test\")"
   ]
  },
  {
   "cell_type": "code",
   "execution_count": 16,
   "metadata": {},
   "outputs": [
    {
     "output_type": "stream",
     "name": "stdout",
     "text": [
      "Initial Run\n",
      "/anaconda/envs/azureml_py36/lib/python3.6/site-packages/sklearn/svm/_base.py:947: ConvergenceWarning: Liblinear failed to converge, increase the number of iterations.\n",
      "  \"the number of iterations.\", ConvergenceWarning)\n",
      "Min mean_squared_error_test Test 196.89180708932494\n"
     ]
    }
   ],
   "source": [
    "results = run(exclude_columns=None, name=\"Initial Run\")"
   ]
  },
  {
   "cell_type": "code",
   "execution_count": 17,
   "metadata": {},
   "outputs": [
    {
     "output_type": "execute_result",
     "data": {
      "text/plain": [
       "                                                    mean_squared_error_train  \\\n",
       "LassoCV(alphas=None, copy_X=True, cv=None, eps=...              1.686403e+02   \n",
       "RidgeCV(alphas=array([ 0.1,  1. , 10. ]), cv=No...              1.684665e+02   \n",
       "LinearRegression(copy_X=True, fit_intercept=Tru...              1.684664e+02   \n",
       "LinearSVR(C=1.0, dual=True, epsilon=0.0, fit_in...              1.841639e+02   \n",
       "DecisionTreeRegressor(ccp_alpha=0.0, criterion=...              5.693213e-11   \n",
       "\n",
       "                                                    mean_absolute_error_train  \\\n",
       "LassoCV(alphas=None, copy_X=True, cv=None, eps=...               6.677830e+00   \n",
       "RidgeCV(alphas=array([ 0.1,  1. , 10. ]), cv=No...               6.697422e+00   \n",
       "LinearRegression(copy_X=True, fit_intercept=Tru...               6.697079e+00   \n",
       "LinearSVR(C=1.0, dual=True, epsilon=0.0, fit_in...               6.308684e+00   \n",
       "DecisionTreeRegressor(ccp_alpha=0.0, criterion=...               6.830397e-08   \n",
       "\n",
       "                                                    max_error_train  \\\n",
       "LassoCV(alphas=None, copy_X=True, cv=None, eps=...       750.017244   \n",
       "RidgeCV(alphas=array([ 0.1,  1. , 10. ]), cv=No...       746.115981   \n",
       "LinearRegression(copy_X=True, fit_intercept=Tru...       746.356642   \n",
       "LinearSVR(C=1.0, dual=True, epsilon=0.0, fit_in...       933.428558   \n",
       "DecisionTreeRegressor(ccp_alpha=0.0, criterion=...         0.001621   \n",
       "\n",
       "                                                    r2_score_train  \\\n",
       "LassoCV(alphas=None, copy_X=True, cv=None, eps=...        0.914163   \n",
       "RidgeCV(alphas=array([ 0.1,  1. , 10. ]), cv=No...        0.914251   \n",
       "LinearRegression(copy_X=True, fit_intercept=Tru...        0.914251   \n",
       "LinearSVR(C=1.0, dual=True, epsilon=0.0, fit_in...        0.906261   \n",
       "DecisionTreeRegressor(ccp_alpha=0.0, criterion=...        1.000000   \n",
       "\n",
       "                                                    mean_squared_error_test  \\\n",
       "LassoCV(alphas=None, copy_X=True, cv=None, eps=...               196.891807   \n",
       "RidgeCV(alphas=array([ 0.1,  1. , 10. ]), cv=No...               197.299005   \n",
       "LinearRegression(copy_X=True, fit_intercept=Tru...               197.305544   \n",
       "LinearSVR(C=1.0, dual=True, epsilon=0.0, fit_in...               205.918668   \n",
       "DecisionTreeRegressor(ccp_alpha=0.0, criterion=...               271.949260   \n",
       "\n",
       "                                                    mean_absolute_error_test  \\\n",
       "LassoCV(alphas=None, copy_X=True, cv=None, eps=...                  6.794273   \n",
       "RidgeCV(alphas=array([ 0.1,  1. , 10. ]), cv=No...                  6.817337   \n",
       "LinearRegression(copy_X=True, fit_intercept=Tru...                  6.816871   \n",
       "LinearSVR(C=1.0, dual=True, epsilon=0.0, fit_in...                  6.436017   \n",
       "DecisionTreeRegressor(ccp_alpha=0.0, criterion=...                  7.439995   \n",
       "\n",
       "                                                    max_error_test  \\\n",
       "LassoCV(alphas=None, copy_X=True, cv=None, eps=...      642.781711   \n",
       "RidgeCV(alphas=array([ 0.1,  1. , 10. ]), cv=No...      645.375705   \n",
       "LinearRegression(copy_X=True, fit_intercept=Tru...      645.726137   \n",
       "LinearSVR(C=1.0, dual=True, epsilon=0.0, fit_in...      694.119011   \n",
       "DecisionTreeRegressor(ccp_alpha=0.0, criterion=...      556.152504   \n",
       "\n",
       "                                                    r2_score_test  \n",
       "LassoCV(alphas=None, copy_X=True, cv=None, eps=...       0.898655  \n",
       "RidgeCV(alphas=array([ 0.1,  1. , 10. ]), cv=No...       0.898445  \n",
       "LinearRegression(copy_X=True, fit_intercept=Tru...       0.898442  \n",
       "LinearSVR(C=1.0, dual=True, epsilon=0.0, fit_in...       0.894009  \n",
       "DecisionTreeRegressor(ccp_alpha=0.0, criterion=...       0.860021  "
      ],
      "text/html": "<div>\n<style scoped>\n    .dataframe tbody tr th:only-of-type {\n        vertical-align: middle;\n    }\n\n    .dataframe tbody tr th {\n        vertical-align: top;\n    }\n\n    .dataframe thead th {\n        text-align: right;\n    }\n</style>\n<table border=\"1\" class=\"dataframe\">\n  <thead>\n    <tr style=\"text-align: right;\">\n      <th></th>\n      <th>mean_squared_error_train</th>\n      <th>mean_absolute_error_train</th>\n      <th>max_error_train</th>\n      <th>r2_score_train</th>\n      <th>mean_squared_error_test</th>\n      <th>mean_absolute_error_test</th>\n      <th>max_error_test</th>\n      <th>r2_score_test</th>\n    </tr>\n  </thead>\n  <tbody>\n    <tr>\n      <th>LassoCV(alphas=None, copy_X=True, cv=None, eps=0.001, fit_intercept=True,\\n        max_iter=1000, n_alphas=100, n_jobs=None, normalize=False,\\n        positive=False, precompute='auto', random_state=None,\\n        selection='cyclic', tol=0.0001, verbose=False)</th>\n      <td>1.686403e+02</td>\n      <td>6.677830e+00</td>\n      <td>750.017244</td>\n      <td>0.914163</td>\n      <td>196.891807</td>\n      <td>6.794273</td>\n      <td>642.781711</td>\n      <td>0.898655</td>\n    </tr>\n    <tr>\n      <th>RidgeCV(alphas=array([ 0.1,  1. , 10. ]), cv=None, fit_intercept=True,\\n        gcv_mode=None, normalize=False, scoring=None, store_cv_values=False)</th>\n      <td>1.684665e+02</td>\n      <td>6.697422e+00</td>\n      <td>746.115981</td>\n      <td>0.914251</td>\n      <td>197.299005</td>\n      <td>6.817337</td>\n      <td>645.375705</td>\n      <td>0.898445</td>\n    </tr>\n    <tr>\n      <th>LinearRegression(copy_X=True, fit_intercept=True, n_jobs=None, normalize=False)</th>\n      <td>1.684664e+02</td>\n      <td>6.697079e+00</td>\n      <td>746.356642</td>\n      <td>0.914251</td>\n      <td>197.305544</td>\n      <td>6.816871</td>\n      <td>645.726137</td>\n      <td>0.898442</td>\n    </tr>\n    <tr>\n      <th>LinearSVR(C=1.0, dual=True, epsilon=0.0, fit_intercept=True,\\n          intercept_scaling=1.0, loss='epsilon_insensitive', max_iter=1000,\\n          random_state=None, tol=0.0001, verbose=0)</th>\n      <td>1.841639e+02</td>\n      <td>6.308684e+00</td>\n      <td>933.428558</td>\n      <td>0.906261</td>\n      <td>205.918668</td>\n      <td>6.436017</td>\n      <td>694.119011</td>\n      <td>0.894009</td>\n    </tr>\n    <tr>\n      <th>DecisionTreeRegressor(ccp_alpha=0.0, criterion='mse', max_depth=None,\\n                      max_features=None, max_leaf_nodes=None,\\n                      min_impurity_decrease=0.0, min_impurity_split=None,\\n                      min_samples_leaf=1, min_samples_split=2,\\n                      min_weight_fraction_leaf=0.0, presort='deprecated',\\n                      random_state=None, splitter='best')</th>\n      <td>5.693213e-11</td>\n      <td>6.830397e-08</td>\n      <td>0.001621</td>\n      <td>1.000000</td>\n      <td>271.949260</td>\n      <td>7.439995</td>\n      <td>556.152504</td>\n      <td>0.860021</td>\n    </tr>\n  </tbody>\n</table>\n</div>"
     },
     "metadata": {},
     "execution_count": 17
    }
   ],
   "source": [
    "results"
   ]
  },
  {
   "source": [
    "# (i) variable interaction"
   ],
   "cell_type": "markdown",
   "metadata": {}
  },
  {
   "cell_type": "code",
   "execution_count": 18,
   "metadata": {},
   "outputs": [
    {
     "output_type": "execute_result",
     "data": {
      "text/plain": [
       "2211"
      ]
     },
     "metadata": {},
     "execution_count": 18
    }
   ],
   "source": [
    "corr = data.corr().unstack().reset_index(name='corr').rename(columns={'level_0': 'V1', 'level_1': 'V2'})\n",
    "corr['corr_abs'] = np.abs(corr['corr'])\n",
    "corr = corr[corr.V1 != corr.V2]\n",
    "corr = corr.sort_values('corr_abs', ascending=False)\n",
    "corr_with_label = corr[corr.V1 == \"revenue\"].copy()\n",
    "corr['key'] = corr.apply(lambda x: str(sorted((x.V1, x.V2))) , axis=1)\n",
    "\n",
    "corr = corr.drop_duplicates(subset='key').drop('key', axis=1)\n",
    "\n",
    "\n",
    "len(corr)"
   ]
  },
  {
   "source": [
    "## Detect the columns with high correlation with each other and drop the one has lower corr with LABEL"
   ],
   "cell_type": "markdown",
   "metadata": {}
  },
  {
   "cell_type": "code",
   "execution_count": 19,
   "metadata": {},
   "outputs": [
    {
     "output_type": "execute_result",
     "data": {
      "text/plain": [
       "        V1        V2      corr  corr_abs  corr_V1_corr_with_label  \\\n",
       "0  mailres   mailord  0.967843  0.967843                -0.098265   \n",
       "1  retcall  retcalls  0.957813  0.957813                 0.014550   \n",
       "2   models    phones  0.889472  0.889472                 0.238935   \n",
       "3   mourec       mou  0.832720  0.832720                 0.607243   \n",
       "4  incmiss  creditcd -0.819104  0.819104                 0.078708   \n",
       "\n",
       "   corr_abs_V1_corr_with_label  corr_V2_corr_with_label  \\\n",
       "0                     0.098265                -0.096903   \n",
       "1                     0.014550                 0.015345   \n",
       "2                     0.238935                 0.245192   \n",
       "3                     0.607243                 0.711411   \n",
       "4                     0.078708                -0.087428   \n",
       "\n",
       "   corr_abs_V2_corr_with_label  \n",
       "0                     0.096903  \n",
       "1                     0.015345  \n",
       "2                     0.245192  \n",
       "3                     0.711411  \n",
       "4                     0.087428  "
      ],
      "text/html": "<div>\n<style scoped>\n    .dataframe tbody tr th:only-of-type {\n        vertical-align: middle;\n    }\n\n    .dataframe tbody tr th {\n        vertical-align: top;\n    }\n\n    .dataframe thead th {\n        text-align: right;\n    }\n</style>\n<table border=\"1\" class=\"dataframe\">\n  <thead>\n    <tr style=\"text-align: right;\">\n      <th></th>\n      <th>V1</th>\n      <th>V2</th>\n      <th>corr</th>\n      <th>corr_abs</th>\n      <th>corr_V1_corr_with_label</th>\n      <th>corr_abs_V1_corr_with_label</th>\n      <th>corr_V2_corr_with_label</th>\n      <th>corr_abs_V2_corr_with_label</th>\n    </tr>\n  </thead>\n  <tbody>\n    <tr>\n      <th>0</th>\n      <td>mailres</td>\n      <td>mailord</td>\n      <td>0.967843</td>\n      <td>0.967843</td>\n      <td>-0.098265</td>\n      <td>0.098265</td>\n      <td>-0.096903</td>\n      <td>0.096903</td>\n    </tr>\n    <tr>\n      <th>1</th>\n      <td>retcall</td>\n      <td>retcalls</td>\n      <td>0.957813</td>\n      <td>0.957813</td>\n      <td>0.014550</td>\n      <td>0.014550</td>\n      <td>0.015345</td>\n      <td>0.015345</td>\n    </tr>\n    <tr>\n      <th>2</th>\n      <td>models</td>\n      <td>phones</td>\n      <td>0.889472</td>\n      <td>0.889472</td>\n      <td>0.238935</td>\n      <td>0.238935</td>\n      <td>0.245192</td>\n      <td>0.245192</td>\n    </tr>\n    <tr>\n      <th>3</th>\n      <td>mourec</td>\n      <td>mou</td>\n      <td>0.832720</td>\n      <td>0.832720</td>\n      <td>0.607243</td>\n      <td>0.607243</td>\n      <td>0.711411</td>\n      <td>0.711411</td>\n    </tr>\n    <tr>\n      <th>4</th>\n      <td>incmiss</td>\n      <td>creditcd</td>\n      <td>-0.819104</td>\n      <td>0.819104</td>\n      <td>0.078708</td>\n      <td>0.078708</td>\n      <td>-0.087428</td>\n      <td>0.087428</td>\n    </tr>\n  </tbody>\n</table>\n</div>"
     },
     "metadata": {},
     "execution_count": 19
    }
   ],
   "source": [
    "corr_wide = corr.merge(corr_with_label[[\"V2\",\"corr\",\"corr_abs\"]], left_on=\"V1\", right_on=\"V2\" , how=\"left\", suffixes=(None, \"_V1_corr_with_label\")).drop(\"V2_V1_corr_with_label\",axis=1).merge(corr_with_label[[\"V2\",\"corr\",\"corr_abs\"]], left_on=\"V2\", right_on=\"V2\" , how=\"left\", suffixes=(None, \"_V2_corr_with_label\"))#.drop(\"V2_V2_corr_with_label\",axis=1)\n",
    "corr_wide.head()"
   ]
  },
  {
   "cell_type": "code",
   "execution_count": 20,
   "metadata": {},
   "outputs": [
    {
     "output_type": "execute_result",
     "data": {
      "text/plain": [
       "<matplotlib.axes._subplots.AxesSubplot at 0x7f7f87838630>"
      ]
     },
     "metadata": {},
     "execution_count": 20
    },
    {
     "output_type": "display_data",
     "data": {
      "text/plain": "<Figure size 432x288 with 1 Axes>",
      "image/svg+xml": "<?xml version=\"1.0\" encoding=\"utf-8\" standalone=\"no\"?>\n<!DOCTYPE svg PUBLIC \"-//W3C//DTD SVG 1.1//EN\"\n  \"http://www.w3.org/Graphics/SVG/1.1/DTD/svg11.dtd\">\n<!-- Created with matplotlib (https://matplotlib.org/) -->\n<svg height=\"248.518125pt\" version=\"1.1\" viewBox=\"0 0 368.925 248.518125\" width=\"368.925pt\" xmlns=\"http://www.w3.org/2000/svg\" xmlns:xlink=\"http://www.w3.org/1999/xlink\">\n <defs>\n  <style type=\"text/css\">\n*{stroke-linecap:butt;stroke-linejoin:round;}\n  </style>\n </defs>\n <g id=\"figure_1\">\n  <g id=\"patch_1\">\n   <path d=\"M -0 248.518125 \nL 368.925 248.518125 \nL 368.925 0 \nL -0 0 \nz\n\" style=\"fill:none;\"/>\n  </g>\n  <g id=\"axes_1\">\n   <g id=\"patch_2\">\n    <path d=\"M 26.925 224.64 \nL 361.725 224.64 \nL 361.725 7.2 \nL 26.925 7.2 \nz\n\" style=\"fill:#ffffff;\"/>\n   </g>\n   <g id=\"patch_3\">\n    <path clip-path=\"url(#pfb5cdfcc63)\" d=\"M 42.143182 224.64 \nL 72.579545 224.64 \nL 72.579545 17.554286 \nL 42.143182 17.554286 \nz\n\" style=\"fill:#1f77b4;\"/>\n   </g>\n   <g id=\"patch_4\">\n    <path clip-path=\"url(#pfb5cdfcc63)\" d=\"M 72.579545 224.64 \nL 103.015909 224.64 \nL 103.015909 56.382857 \nL 72.579545 56.382857 \nz\n\" style=\"fill:#1f77b4;\"/>\n   </g>\n   <g id=\"patch_5\">\n    <path clip-path=\"url(#pfb5cdfcc63)\" d=\"M 103.015909 224.64 \nL 133.452273 224.64 \nL 133.452273 43.44 \nL 103.015909 43.44 \nz\n\" style=\"fill:#1f77b4;\"/>\n   </g>\n   <g id=\"patch_6\">\n    <path clip-path=\"url(#pfb5cdfcc63)\" d=\"M 133.452273 224.64 \nL 163.888636 224.64 \nL 163.888636 69.325714 \nL 133.452273 69.325714 \nz\n\" style=\"fill:#1f77b4;\"/>\n   </g>\n   <g id=\"patch_7\">\n    <path clip-path=\"url(#pfb5cdfcc63)\" d=\"M 163.888636 224.64 \nL 194.325 224.64 \nL 194.325 43.44 \nL 163.888636 43.44 \nz\n\" style=\"fill:#1f77b4;\"/>\n   </g>\n   <g id=\"patch_8\">\n    <path clip-path=\"url(#pfb5cdfcc63)\" d=\"M 194.325 224.64 \nL 224.761364 224.64 \nL 224.761364 134.04 \nL 194.325 134.04 \nz\n\" style=\"fill:#1f77b4;\"/>\n   </g>\n   <g id=\"patch_9\">\n    <path clip-path=\"url(#pfb5cdfcc63)\" d=\"M 224.761364 224.64 \nL 255.197727 224.64 \nL 255.197727 146.982857 \nL 224.761364 146.982857 \nz\n\" style=\"fill:#1f77b4;\"/>\n   </g>\n   <g id=\"patch_10\">\n    <path clip-path=\"url(#pfb5cdfcc63)\" d=\"M 255.197727 224.64 \nL 285.634091 224.64 \nL 285.634091 211.697143 \nL 255.197727 211.697143 \nz\n\" style=\"fill:#1f77b4;\"/>\n   </g>\n   <g id=\"patch_11\">\n    <path clip-path=\"url(#pfb5cdfcc63)\" d=\"M 285.634091 224.64 \nL 316.070455 224.64 \nL 316.070455 211.697143 \nL 285.634091 211.697143 \nz\n\" style=\"fill:#1f77b4;\"/>\n   </g>\n   <g id=\"patch_12\">\n    <path clip-path=\"url(#pfb5cdfcc63)\" d=\"M 316.070455 224.64 \nL 346.506818 224.64 \nL 346.506818 198.754286 \nL 316.070455 198.754286 \nz\n\" style=\"fill:#1f77b4;\"/>\n   </g>\n   <g id=\"matplotlib.axis_1\">\n    <g id=\"xtick_1\">\n     <g id=\"line2d_1\">\n      <path clip-path=\"url(#pfb5cdfcc63)\" d=\"M 41.967047 224.64 \nL 41.967047 7.2 \n\" style=\"fill:none;stroke:#b0b0b0;stroke-linecap:square;stroke-width:0.8;\"/>\n     </g>\n     <g id=\"line2d_2\">\n      <defs>\n       <path d=\"M 0 0 \nL 0 3.5 \n\" id=\"m529c969610\" style=\"stroke:#000000;stroke-width:0.8;\"/>\n      </defs>\n      <g>\n       <use style=\"stroke:#000000;stroke-width:0.8;\" x=\"41.967047\" xlink:href=\"#m529c969610\" y=\"224.64\"/>\n      </g>\n     </g>\n     <g id=\"text_1\">\n      <!-- 0.5 -->\n      <defs>\n       <path d=\"M 31.78125 66.40625 \nQ 24.171875 66.40625 20.328125 58.90625 \nQ 16.5 51.421875 16.5 36.375 \nQ 16.5 21.390625 20.328125 13.890625 \nQ 24.171875 6.390625 31.78125 6.390625 \nQ 39.453125 6.390625 43.28125 13.890625 \nQ 47.125 21.390625 47.125 36.375 \nQ 47.125 51.421875 43.28125 58.90625 \nQ 39.453125 66.40625 31.78125 66.40625 \nz\nM 31.78125 74.21875 \nQ 44.046875 74.21875 50.515625 64.515625 \nQ 56.984375 54.828125 56.984375 36.375 \nQ 56.984375 17.96875 50.515625 8.265625 \nQ 44.046875 -1.421875 31.78125 -1.421875 \nQ 19.53125 -1.421875 13.0625 8.265625 \nQ 6.59375 17.96875 6.59375 36.375 \nQ 6.59375 54.828125 13.0625 64.515625 \nQ 19.53125 74.21875 31.78125 74.21875 \nz\n\" id=\"DejaVuSans-48\"/>\n       <path d=\"M 10.6875 12.40625 \nL 21 12.40625 \nL 21 0 \nL 10.6875 0 \nz\n\" id=\"DejaVuSans-46\"/>\n       <path d=\"M 10.796875 72.90625 \nL 49.515625 72.90625 \nL 49.515625 64.59375 \nL 19.828125 64.59375 \nL 19.828125 46.734375 \nQ 21.96875 47.46875 24.109375 47.828125 \nQ 26.265625 48.1875 28.421875 48.1875 \nQ 40.625 48.1875 47.75 41.5 \nQ 54.890625 34.8125 54.890625 23.390625 \nQ 54.890625 11.625 47.5625 5.09375 \nQ 40.234375 -1.421875 26.90625 -1.421875 \nQ 22.3125 -1.421875 17.546875 -0.640625 \nQ 12.796875 0.140625 7.71875 1.703125 \nL 7.71875 11.625 \nQ 12.109375 9.234375 16.796875 8.0625 \nQ 21.484375 6.890625 26.703125 6.890625 \nQ 35.15625 6.890625 40.078125 11.328125 \nQ 45.015625 15.765625 45.015625 23.390625 \nQ 45.015625 31 40.078125 35.4375 \nQ 35.15625 39.890625 26.703125 39.890625 \nQ 22.75 39.890625 18.8125 39.015625 \nQ 14.890625 38.140625 10.796875 36.28125 \nz\n\" id=\"DejaVuSans-53\"/>\n      </defs>\n      <g transform=\"translate(34.015484 239.238437)scale(0.1 -0.1)\">\n       <use xlink:href=\"#DejaVuSans-48\"/>\n       <use x=\"63.623047\" xlink:href=\"#DejaVuSans-46\"/>\n       <use x=\"95.410156\" xlink:href=\"#DejaVuSans-53\"/>\n      </g>\n     </g>\n    </g>\n    <g id=\"xtick_2\">\n     <g id=\"line2d_3\">\n      <path clip-path=\"url(#pfb5cdfcc63)\" d=\"M 107.061513 224.64 \nL 107.061513 7.2 \n\" style=\"fill:none;stroke:#b0b0b0;stroke-linecap:square;stroke-width:0.8;\"/>\n     </g>\n     <g id=\"line2d_4\">\n      <g>\n       <use style=\"stroke:#000000;stroke-width:0.8;\" x=\"107.061513\" xlink:href=\"#m529c969610\" y=\"224.64\"/>\n      </g>\n     </g>\n     <g id=\"text_2\">\n      <!-- 0.6 -->\n      <defs>\n       <path d=\"M 33.015625 40.375 \nQ 26.375 40.375 22.484375 35.828125 \nQ 18.609375 31.296875 18.609375 23.390625 \nQ 18.609375 15.53125 22.484375 10.953125 \nQ 26.375 6.390625 33.015625 6.390625 \nQ 39.65625 6.390625 43.53125 10.953125 \nQ 47.40625 15.53125 47.40625 23.390625 \nQ 47.40625 31.296875 43.53125 35.828125 \nQ 39.65625 40.375 33.015625 40.375 \nz\nM 52.59375 71.296875 \nL 52.59375 62.3125 \nQ 48.875 64.0625 45.09375 64.984375 \nQ 41.3125 65.921875 37.59375 65.921875 \nQ 27.828125 65.921875 22.671875 59.328125 \nQ 17.53125 52.734375 16.796875 39.40625 \nQ 19.671875 43.65625 24.015625 45.921875 \nQ 28.375 48.1875 33.59375 48.1875 \nQ 44.578125 48.1875 50.953125 41.515625 \nQ 57.328125 34.859375 57.328125 23.390625 \nQ 57.328125 12.15625 50.6875 5.359375 \nQ 44.046875 -1.421875 33.015625 -1.421875 \nQ 20.359375 -1.421875 13.671875 8.265625 \nQ 6.984375 17.96875 6.984375 36.375 \nQ 6.984375 53.65625 15.1875 63.9375 \nQ 23.390625 74.21875 37.203125 74.21875 \nQ 40.921875 74.21875 44.703125 73.484375 \nQ 48.484375 72.75 52.59375 71.296875 \nz\n\" id=\"DejaVuSans-54\"/>\n      </defs>\n      <g transform=\"translate(99.109951 239.238437)scale(0.1 -0.1)\">\n       <use xlink:href=\"#DejaVuSans-48\"/>\n       <use x=\"63.623047\" xlink:href=\"#DejaVuSans-46\"/>\n       <use x=\"95.410156\" xlink:href=\"#DejaVuSans-54\"/>\n      </g>\n     </g>\n    </g>\n    <g id=\"xtick_3\">\n     <g id=\"line2d_5\">\n      <path clip-path=\"url(#pfb5cdfcc63)\" d=\"M 172.15598 224.64 \nL 172.15598 7.2 \n\" style=\"fill:none;stroke:#b0b0b0;stroke-linecap:square;stroke-width:0.8;\"/>\n     </g>\n     <g id=\"line2d_6\">\n      <g>\n       <use style=\"stroke:#000000;stroke-width:0.8;\" x=\"172.15598\" xlink:href=\"#m529c969610\" y=\"224.64\"/>\n      </g>\n     </g>\n     <g id=\"text_3\">\n      <!-- 0.7 -->\n      <defs>\n       <path d=\"M 8.203125 72.90625 \nL 55.078125 72.90625 \nL 55.078125 68.703125 \nL 28.609375 0 \nL 18.3125 0 \nL 43.21875 64.59375 \nL 8.203125 64.59375 \nz\n\" id=\"DejaVuSans-55\"/>\n      </defs>\n      <g transform=\"translate(164.204417 239.238437)scale(0.1 -0.1)\">\n       <use xlink:href=\"#DejaVuSans-48\"/>\n       <use x=\"63.623047\" xlink:href=\"#DejaVuSans-46\"/>\n       <use x=\"95.410156\" xlink:href=\"#DejaVuSans-55\"/>\n      </g>\n     </g>\n    </g>\n    <g id=\"xtick_4\">\n     <g id=\"line2d_7\">\n      <path clip-path=\"url(#pfb5cdfcc63)\" d=\"M 237.250446 224.64 \nL 237.250446 7.2 \n\" style=\"fill:none;stroke:#b0b0b0;stroke-linecap:square;stroke-width:0.8;\"/>\n     </g>\n     <g id=\"line2d_8\">\n      <g>\n       <use style=\"stroke:#000000;stroke-width:0.8;\" x=\"237.250446\" xlink:href=\"#m529c969610\" y=\"224.64\"/>\n      </g>\n     </g>\n     <g id=\"text_4\">\n      <!-- 0.8 -->\n      <defs>\n       <path d=\"M 31.78125 34.625 \nQ 24.75 34.625 20.71875 30.859375 \nQ 16.703125 27.09375 16.703125 20.515625 \nQ 16.703125 13.921875 20.71875 10.15625 \nQ 24.75 6.390625 31.78125 6.390625 \nQ 38.8125 6.390625 42.859375 10.171875 \nQ 46.921875 13.96875 46.921875 20.515625 \nQ 46.921875 27.09375 42.890625 30.859375 \nQ 38.875 34.625 31.78125 34.625 \nz\nM 21.921875 38.8125 \nQ 15.578125 40.375 12.03125 44.71875 \nQ 8.5 49.078125 8.5 55.328125 \nQ 8.5 64.0625 14.71875 69.140625 \nQ 20.953125 74.21875 31.78125 74.21875 \nQ 42.671875 74.21875 48.875 69.140625 \nQ 55.078125 64.0625 55.078125 55.328125 \nQ 55.078125 49.078125 51.53125 44.71875 \nQ 48 40.375 41.703125 38.8125 \nQ 48.828125 37.15625 52.796875 32.3125 \nQ 56.78125 27.484375 56.78125 20.515625 \nQ 56.78125 9.90625 50.3125 4.234375 \nQ 43.84375 -1.421875 31.78125 -1.421875 \nQ 19.734375 -1.421875 13.25 4.234375 \nQ 6.78125 9.90625 6.78125 20.515625 \nQ 6.78125 27.484375 10.78125 32.3125 \nQ 14.796875 37.15625 21.921875 38.8125 \nz\nM 18.3125 54.390625 \nQ 18.3125 48.734375 21.84375 45.5625 \nQ 25.390625 42.390625 31.78125 42.390625 \nQ 38.140625 42.390625 41.71875 45.5625 \nQ 45.3125 48.734375 45.3125 54.390625 \nQ 45.3125 60.0625 41.71875 63.234375 \nQ 38.140625 66.40625 31.78125 66.40625 \nQ 25.390625 66.40625 21.84375 63.234375 \nQ 18.3125 60.0625 18.3125 54.390625 \nz\n\" id=\"DejaVuSans-56\"/>\n      </defs>\n      <g transform=\"translate(229.298884 239.238437)scale(0.1 -0.1)\">\n       <use xlink:href=\"#DejaVuSans-48\"/>\n       <use x=\"63.623047\" xlink:href=\"#DejaVuSans-46\"/>\n       <use x=\"95.410156\" xlink:href=\"#DejaVuSans-56\"/>\n      </g>\n     </g>\n    </g>\n    <g id=\"xtick_5\">\n     <g id=\"line2d_9\">\n      <path clip-path=\"url(#pfb5cdfcc63)\" d=\"M 302.344913 224.64 \nL 302.344913 7.2 \n\" style=\"fill:none;stroke:#b0b0b0;stroke-linecap:square;stroke-width:0.8;\"/>\n     </g>\n     <g id=\"line2d_10\">\n      <g>\n       <use style=\"stroke:#000000;stroke-width:0.8;\" x=\"302.344913\" xlink:href=\"#m529c969610\" y=\"224.64\"/>\n      </g>\n     </g>\n     <g id=\"text_5\">\n      <!-- 0.9 -->\n      <defs>\n       <path d=\"M 10.984375 1.515625 \nL 10.984375 10.5 \nQ 14.703125 8.734375 18.5 7.8125 \nQ 22.3125 6.890625 25.984375 6.890625 \nQ 35.75 6.890625 40.890625 13.453125 \nQ 46.046875 20.015625 46.78125 33.40625 \nQ 43.953125 29.203125 39.59375 26.953125 \nQ 35.25 24.703125 29.984375 24.703125 \nQ 19.046875 24.703125 12.671875 31.3125 \nQ 6.296875 37.9375 6.296875 49.421875 \nQ 6.296875 60.640625 12.9375 67.421875 \nQ 19.578125 74.21875 30.609375 74.21875 \nQ 43.265625 74.21875 49.921875 64.515625 \nQ 56.59375 54.828125 56.59375 36.375 \nQ 56.59375 19.140625 48.40625 8.859375 \nQ 40.234375 -1.421875 26.421875 -1.421875 \nQ 22.703125 -1.421875 18.890625 -0.6875 \nQ 15.09375 0.046875 10.984375 1.515625 \nz\nM 30.609375 32.421875 \nQ 37.25 32.421875 41.125 36.953125 \nQ 45.015625 41.5 45.015625 49.421875 \nQ 45.015625 57.28125 41.125 61.84375 \nQ 37.25 66.40625 30.609375 66.40625 \nQ 23.96875 66.40625 20.09375 61.84375 \nQ 16.21875 57.28125 16.21875 49.421875 \nQ 16.21875 41.5 20.09375 36.953125 \nQ 23.96875 32.421875 30.609375 32.421875 \nz\n\" id=\"DejaVuSans-57\"/>\n      </defs>\n      <g transform=\"translate(294.39335 239.238437)scale(0.1 -0.1)\">\n       <use xlink:href=\"#DejaVuSans-48\"/>\n       <use x=\"63.623047\" xlink:href=\"#DejaVuSans-46\"/>\n       <use x=\"95.410156\" xlink:href=\"#DejaVuSans-57\"/>\n      </g>\n     </g>\n    </g>\n   </g>\n   <g id=\"matplotlib.axis_2\">\n    <g id=\"ytick_1\">\n     <g id=\"line2d_11\">\n      <path clip-path=\"url(#pfb5cdfcc63)\" d=\"M 26.925 224.64 \nL 361.725 224.64 \n\" style=\"fill:none;stroke:#b0b0b0;stroke-linecap:square;stroke-width:0.8;\"/>\n     </g>\n     <g id=\"line2d_12\">\n      <defs>\n       <path d=\"M 0 0 \nL -3.5 0 \n\" id=\"m23ae22c629\" style=\"stroke:#000000;stroke-width:0.8;\"/>\n      </defs>\n      <g>\n       <use style=\"stroke:#000000;stroke-width:0.8;\" x=\"26.925\" xlink:href=\"#m23ae22c629\" y=\"224.64\"/>\n      </g>\n     </g>\n     <g id=\"text_6\">\n      <!-- 0 -->\n      <g transform=\"translate(13.5625 228.439219)scale(0.1 -0.1)\">\n       <use xlink:href=\"#DejaVuSans-48\"/>\n      </g>\n     </g>\n    </g>\n    <g id=\"ytick_2\">\n     <g id=\"line2d_13\">\n      <path clip-path=\"url(#pfb5cdfcc63)\" d=\"M 26.925 198.754286 \nL 361.725 198.754286 \n\" style=\"fill:none;stroke:#b0b0b0;stroke-linecap:square;stroke-width:0.8;\"/>\n     </g>\n     <g id=\"line2d_14\">\n      <g>\n       <use style=\"stroke:#000000;stroke-width:0.8;\" x=\"26.925\" xlink:href=\"#m23ae22c629\" y=\"198.754286\"/>\n      </g>\n     </g>\n     <g id=\"text_7\">\n      <!-- 2 -->\n      <defs>\n       <path d=\"M 19.1875 8.296875 \nL 53.609375 8.296875 \nL 53.609375 0 \nL 7.328125 0 \nL 7.328125 8.296875 \nQ 12.9375 14.109375 22.625 23.890625 \nQ 32.328125 33.6875 34.8125 36.53125 \nQ 39.546875 41.84375 41.421875 45.53125 \nQ 43.3125 49.21875 43.3125 52.78125 \nQ 43.3125 58.59375 39.234375 62.25 \nQ 35.15625 65.921875 28.609375 65.921875 \nQ 23.96875 65.921875 18.8125 64.3125 \nQ 13.671875 62.703125 7.8125 59.421875 \nL 7.8125 69.390625 \nQ 13.765625 71.78125 18.9375 73 \nQ 24.125 74.21875 28.421875 74.21875 \nQ 39.75 74.21875 46.484375 68.546875 \nQ 53.21875 62.890625 53.21875 53.421875 \nQ 53.21875 48.921875 51.53125 44.890625 \nQ 49.859375 40.875 45.40625 35.40625 \nQ 44.1875 33.984375 37.640625 27.21875 \nQ 31.109375 20.453125 19.1875 8.296875 \nz\n\" id=\"DejaVuSans-50\"/>\n      </defs>\n      <g transform=\"translate(13.5625 202.553504)scale(0.1 -0.1)\">\n       <use xlink:href=\"#DejaVuSans-50\"/>\n      </g>\n     </g>\n    </g>\n    <g id=\"ytick_3\">\n     <g id=\"line2d_15\">\n      <path clip-path=\"url(#pfb5cdfcc63)\" d=\"M 26.925 172.868571 \nL 361.725 172.868571 \n\" style=\"fill:none;stroke:#b0b0b0;stroke-linecap:square;stroke-width:0.8;\"/>\n     </g>\n     <g id=\"line2d_16\">\n      <g>\n       <use style=\"stroke:#000000;stroke-width:0.8;\" x=\"26.925\" xlink:href=\"#m23ae22c629\" y=\"172.868571\"/>\n      </g>\n     </g>\n     <g id=\"text_8\">\n      <!-- 4 -->\n      <defs>\n       <path d=\"M 37.796875 64.3125 \nL 12.890625 25.390625 \nL 37.796875 25.390625 \nz\nM 35.203125 72.90625 \nL 47.609375 72.90625 \nL 47.609375 25.390625 \nL 58.015625 25.390625 \nL 58.015625 17.1875 \nL 47.609375 17.1875 \nL 47.609375 0 \nL 37.796875 0 \nL 37.796875 17.1875 \nL 4.890625 17.1875 \nL 4.890625 26.703125 \nz\n\" id=\"DejaVuSans-52\"/>\n      </defs>\n      <g transform=\"translate(13.5625 176.66779)scale(0.1 -0.1)\">\n       <use xlink:href=\"#DejaVuSans-52\"/>\n      </g>\n     </g>\n    </g>\n    <g id=\"ytick_4\">\n     <g id=\"line2d_17\">\n      <path clip-path=\"url(#pfb5cdfcc63)\" d=\"M 26.925 146.982857 \nL 361.725 146.982857 \n\" style=\"fill:none;stroke:#b0b0b0;stroke-linecap:square;stroke-width:0.8;\"/>\n     </g>\n     <g id=\"line2d_18\">\n      <g>\n       <use style=\"stroke:#000000;stroke-width:0.8;\" x=\"26.925\" xlink:href=\"#m23ae22c629\" y=\"146.982857\"/>\n      </g>\n     </g>\n     <g id=\"text_9\">\n      <!-- 6 -->\n      <g transform=\"translate(13.5625 150.782076)scale(0.1 -0.1)\">\n       <use xlink:href=\"#DejaVuSans-54\"/>\n      </g>\n     </g>\n    </g>\n    <g id=\"ytick_5\">\n     <g id=\"line2d_19\">\n      <path clip-path=\"url(#pfb5cdfcc63)\" d=\"M 26.925 121.097143 \nL 361.725 121.097143 \n\" style=\"fill:none;stroke:#b0b0b0;stroke-linecap:square;stroke-width:0.8;\"/>\n     </g>\n     <g id=\"line2d_20\">\n      <g>\n       <use style=\"stroke:#000000;stroke-width:0.8;\" x=\"26.925\" xlink:href=\"#m23ae22c629\" y=\"121.097143\"/>\n      </g>\n     </g>\n     <g id=\"text_10\">\n      <!-- 8 -->\n      <g transform=\"translate(13.5625 124.896362)scale(0.1 -0.1)\">\n       <use xlink:href=\"#DejaVuSans-56\"/>\n      </g>\n     </g>\n    </g>\n    <g id=\"ytick_6\">\n     <g id=\"line2d_21\">\n      <path clip-path=\"url(#pfb5cdfcc63)\" d=\"M 26.925 95.211429 \nL 361.725 95.211429 \n\" style=\"fill:none;stroke:#b0b0b0;stroke-linecap:square;stroke-width:0.8;\"/>\n     </g>\n     <g id=\"line2d_22\">\n      <g>\n       <use style=\"stroke:#000000;stroke-width:0.8;\" x=\"26.925\" xlink:href=\"#m23ae22c629\" y=\"95.211429\"/>\n      </g>\n     </g>\n     <g id=\"text_11\">\n      <!-- 10 -->\n      <defs>\n       <path d=\"M 12.40625 8.296875 \nL 28.515625 8.296875 \nL 28.515625 63.921875 \nL 10.984375 60.40625 \nL 10.984375 69.390625 \nL 28.421875 72.90625 \nL 38.28125 72.90625 \nL 38.28125 8.296875 \nL 54.390625 8.296875 \nL 54.390625 0 \nL 12.40625 0 \nz\n\" id=\"DejaVuSans-49\"/>\n      </defs>\n      <g transform=\"translate(7.2 99.010647)scale(0.1 -0.1)\">\n       <use xlink:href=\"#DejaVuSans-49\"/>\n       <use x=\"63.623047\" xlink:href=\"#DejaVuSans-48\"/>\n      </g>\n     </g>\n    </g>\n    <g id=\"ytick_7\">\n     <g id=\"line2d_23\">\n      <path clip-path=\"url(#pfb5cdfcc63)\" d=\"M 26.925 69.325714 \nL 361.725 69.325714 \n\" style=\"fill:none;stroke:#b0b0b0;stroke-linecap:square;stroke-width:0.8;\"/>\n     </g>\n     <g id=\"line2d_24\">\n      <g>\n       <use style=\"stroke:#000000;stroke-width:0.8;\" x=\"26.925\" xlink:href=\"#m23ae22c629\" y=\"69.325714\"/>\n      </g>\n     </g>\n     <g id=\"text_12\">\n      <!-- 12 -->\n      <g transform=\"translate(7.2 73.124933)scale(0.1 -0.1)\">\n       <use xlink:href=\"#DejaVuSans-49\"/>\n       <use x=\"63.623047\" xlink:href=\"#DejaVuSans-50\"/>\n      </g>\n     </g>\n    </g>\n    <g id=\"ytick_8\">\n     <g id=\"line2d_25\">\n      <path clip-path=\"url(#pfb5cdfcc63)\" d=\"M 26.925 43.44 \nL 361.725 43.44 \n\" style=\"fill:none;stroke:#b0b0b0;stroke-linecap:square;stroke-width:0.8;\"/>\n     </g>\n     <g id=\"line2d_26\">\n      <g>\n       <use style=\"stroke:#000000;stroke-width:0.8;\" x=\"26.925\" xlink:href=\"#m23ae22c629\" y=\"43.44\"/>\n      </g>\n     </g>\n     <g id=\"text_13\">\n      <!-- 14 -->\n      <g transform=\"translate(7.2 47.239219)scale(0.1 -0.1)\">\n       <use xlink:href=\"#DejaVuSans-49\"/>\n       <use x=\"63.623047\" xlink:href=\"#DejaVuSans-52\"/>\n      </g>\n     </g>\n    </g>\n    <g id=\"ytick_9\">\n     <g id=\"line2d_27\">\n      <path clip-path=\"url(#pfb5cdfcc63)\" d=\"M 26.925 17.554286 \nL 361.725 17.554286 \n\" style=\"fill:none;stroke:#b0b0b0;stroke-linecap:square;stroke-width:0.8;\"/>\n     </g>\n     <g id=\"line2d_28\">\n      <g>\n       <use style=\"stroke:#000000;stroke-width:0.8;\" x=\"26.925\" xlink:href=\"#m23ae22c629\" y=\"17.554286\"/>\n      </g>\n     </g>\n     <g id=\"text_14\">\n      <!-- 16 -->\n      <g transform=\"translate(7.2 21.353504)scale(0.1 -0.1)\">\n       <use xlink:href=\"#DejaVuSans-49\"/>\n       <use x=\"63.623047\" xlink:href=\"#DejaVuSans-54\"/>\n      </g>\n     </g>\n    </g>\n   </g>\n   <g id=\"patch_13\">\n    <path d=\"M 26.925 224.64 \nL 26.925 7.2 \n\" style=\"fill:none;stroke:#000000;stroke-linecap:square;stroke-linejoin:miter;stroke-width:0.8;\"/>\n   </g>\n   <g id=\"patch_14\">\n    <path d=\"M 361.725 224.64 \nL 361.725 7.2 \n\" style=\"fill:none;stroke:#000000;stroke-linecap:square;stroke-linejoin:miter;stroke-width:0.8;\"/>\n   </g>\n   <g id=\"patch_15\">\n    <path d=\"M 26.925 224.64 \nL 361.725 224.64 \n\" style=\"fill:none;stroke:#000000;stroke-linecap:square;stroke-linejoin:miter;stroke-width:0.8;\"/>\n   </g>\n   <g id=\"patch_16\">\n    <path d=\"M 26.925 7.2 \nL 361.725 7.2 \n\" style=\"fill:none;stroke:#000000;stroke-linecap:square;stroke-linejoin:miter;stroke-width:0.8;\"/>\n   </g>\n  </g>\n </g>\n <defs>\n  <clipPath id=\"pfb5cdfcc63\">\n   <rect height=\"217.44\" width=\"334.8\" x=\"26.925\" y=\"7.2\"/>\n  </clipPath>\n </defs>\n</svg>\n",
      "image/png": "[encoded data removed]"
     },
     "metadata": {
      "needs_background": "light"
     }
    }
   ],
   "source": [
    "corr[corr.corr_abs >= 0.5].corr_abs.hist()"
   ]
  },
  {
   "cell_type": "code",
   "execution_count": 21,
   "metadata": {},
   "outputs": [
    {
     "output_type": "execute_result",
     "data": {
      "text/plain": [
       "        V1        V2      corr  corr_abs  corr_V1_corr_with_label  \\\n",
       "0  mailres   mailord  0.967843  0.967843                -0.098265   \n",
       "1  retcall  retcalls  0.957813  0.957813                 0.014550   \n",
       "2   models    phones  0.889472  0.889472                 0.238935   \n",
       "3   mourec       mou  0.832720  0.832720                 0.607243   \n",
       "4  incmiss  creditcd -0.819104  0.819104                 0.078708   \n",
       "\n",
       "   corr_abs_V1_corr_with_label  corr_V2_corr_with_label  \\\n",
       "0                     0.098265                -0.096903   \n",
       "1                     0.014550                 0.015345   \n",
       "2                     0.238935                 0.245192   \n",
       "3                     0.607243                 0.711411   \n",
       "4                     0.078708                -0.087428   \n",
       "\n",
       "   corr_abs_V2_corr_with_label column_to_drop  corr_with_label_column_to_drop  \n",
       "0                     0.096903        mailord                        0.096903  \n",
       "1                     0.015345        retcall                        0.014550  \n",
       "2                     0.245192         models                        0.238935  \n",
       "3                     0.711411         mourec                        0.607243  \n",
       "4                     0.087428        incmiss                        0.078708  "
      ],
      "text/html": "<div>\n<style scoped>\n    .dataframe tbody tr th:only-of-type {\n        vertical-align: middle;\n    }\n\n    .dataframe tbody tr th {\n        vertical-align: top;\n    }\n\n    .dataframe thead th {\n        text-align: right;\n    }\n</style>\n<table border=\"1\" class=\"dataframe\">\n  <thead>\n    <tr style=\"text-align: right;\">\n      <th></th>\n      <th>V1</th>\n      <th>V2</th>\n      <th>corr</th>\n      <th>corr_abs</th>\n      <th>corr_V1_corr_with_label</th>\n      <th>corr_abs_V1_corr_with_label</th>\n      <th>corr_V2_corr_with_label</th>\n      <th>corr_abs_V2_corr_with_label</th>\n      <th>column_to_drop</th>\n      <th>corr_with_label_column_to_drop</th>\n    </tr>\n  </thead>\n  <tbody>\n    <tr>\n      <th>0</th>\n      <td>mailres</td>\n      <td>mailord</td>\n      <td>0.967843</td>\n      <td>0.967843</td>\n      <td>-0.098265</td>\n      <td>0.098265</td>\n      <td>-0.096903</td>\n      <td>0.096903</td>\n      <td>mailord</td>\n      <td>0.096903</td>\n    </tr>\n    <tr>\n      <th>1</th>\n      <td>retcall</td>\n      <td>retcalls</td>\n      <td>0.957813</td>\n      <td>0.957813</td>\n      <td>0.014550</td>\n      <td>0.014550</td>\n      <td>0.015345</td>\n      <td>0.015345</td>\n      <td>retcall</td>\n      <td>0.014550</td>\n    </tr>\n    <tr>\n      <th>2</th>\n      <td>models</td>\n      <td>phones</td>\n      <td>0.889472</td>\n      <td>0.889472</td>\n      <td>0.238935</td>\n      <td>0.238935</td>\n      <td>0.245192</td>\n      <td>0.245192</td>\n      <td>models</td>\n      <td>0.238935</td>\n    </tr>\n    <tr>\n      <th>3</th>\n      <td>mourec</td>\n      <td>mou</td>\n      <td>0.832720</td>\n      <td>0.832720</td>\n      <td>0.607243</td>\n      <td>0.607243</td>\n      <td>0.711411</td>\n      <td>0.711411</td>\n      <td>mourec</td>\n      <td>0.607243</td>\n    </tr>\n    <tr>\n      <th>4</th>\n      <td>incmiss</td>\n      <td>creditcd</td>\n      <td>-0.819104</td>\n      <td>0.819104</td>\n      <td>0.078708</td>\n      <td>0.078708</td>\n      <td>-0.087428</td>\n      <td>0.087428</td>\n      <td>incmiss</td>\n      <td>0.078708</td>\n    </tr>\n  </tbody>\n</table>\n</div>"
     },
     "metadata": {},
     "execution_count": 21
    }
   ],
   "source": [
    "def columns_to_drop(row):\n",
    "    if row.corr_abs_V1_corr_with_label > row.corr_abs_V2_corr_with_label:\n",
    "        row[\"column_to_drop\"] = row.V2 \n",
    "        row[\"corr_with_label_column_to_drop\"] = row.corr_abs_V2_corr_with_label\n",
    "    \n",
    "    else:\n",
    "        row[\"column_to_drop\"] = row.V1 \n",
    "        row[\"corr_with_label_column_to_drop\"] = row.corr_abs_V1_corr_with_label\n",
    "    return row\n",
    "\n",
    "corr_wide = corr_wide.apply(columns_to_drop, axis=1)\n",
    "corr_wide.head()"
   ]
  },
  {
   "cell_type": "code",
   "execution_count": 22,
   "metadata": {},
   "outputs": [
    {
     "output_type": "execute_result",
     "data": {
      "text/plain": [
       "['mailord', 'retcall', 'models', 'mourec', 'incmiss', 'blckvce', 'creditcd']"
      ]
     },
     "metadata": {},
     "execution_count": 22
    }
   ],
   "source": [
    "columns_to_drop_high_corr = corr_wide[(corr_wide.corr_abs >= 0.8) ].column_to_drop.unique().tolist()\n",
    "columns_to_drop_high_corr"
   ]
  },
  {
   "source": [
    "## Columns with low corr. with the label columns."
   ],
   "cell_type": "markdown",
   "metadata": {}
  },
  {
   "cell_type": "code",
   "execution_count": 23,
   "metadata": {},
   "outputs": [
    {
     "output_type": "execute_result",
     "data": {
      "text/plain": [
       "<matplotlib.axes._subplots.AxesSubplot at 0x7f7f8714ff28>"
      ]
     },
     "metadata": {},
     "execution_count": 23
    },
    {
     "output_type": "display_data",
     "data": {
      "text/plain": "<Figure size 432x288 with 1 Axes>",
      "image/svg+xml": "<?xml version=\"1.0\" encoding=\"utf-8\" standalone=\"no\"?>\n<!DOCTYPE svg PUBLIC \"-//W3C//DTD SVG 1.1//EN\"\n  \"http://www.w3.org/Graphics/SVG/1.1/DTD/svg11.dtd\">\n<!-- Created with matplotlib (https://matplotlib.org/) -->\n<svg height=\"248.518125pt\" version=\"1.1\" viewBox=\"0 0 369.188772 248.518125\" width=\"369.188772pt\" xmlns=\"http://www.w3.org/2000/svg\" xmlns:xlink=\"http://www.w3.org/1999/xlink\">\n <defs>\n  <style type=\"text/css\">\n*{stroke-linecap:butt;stroke-linejoin:round;}\n  </style>\n </defs>\n <g id=\"figure_1\">\n  <g id=\"patch_1\">\n   <path d=\"M -0 248.518125 \nL 369.188772 248.518125 \nL 369.188772 0 \nL -0 0 \nz\n\" style=\"fill:none;\"/>\n  </g>\n  <g id=\"axes_1\">\n   <g id=\"patch_2\">\n    <path d=\"M 26.925 224.64 \nL 361.725 224.64 \nL 361.725 7.2 \nL 26.925 7.2 \nz\n\" style=\"fill:#ffffff;\"/>\n   </g>\n   <g id=\"patch_3\">\n    <path clip-path=\"url(#pd132b4b8c2)\" d=\"M 42.143182 224.64 \nL 72.579545 224.64 \nL 72.579545 150.680816 \nL 42.143182 150.680816 \nz\n\" style=\"fill:#1f77b4;\"/>\n   </g>\n   <g id=\"patch_4\">\n    <path clip-path=\"url(#pd132b4b8c2)\" d=\"M 72.579545 224.64 \nL 103.015909 224.64 \nL 103.015909 17.554286 \nL 72.579545 17.554286 \nz\n\" style=\"fill:#1f77b4;\"/>\n   </g>\n   <g id=\"patch_5\">\n    <path clip-path=\"url(#pd132b4b8c2)\" d=\"M 103.015909 224.64 \nL 133.452273 224.64 \nL 133.452273 195.056327 \nL 103.015909 195.056327 \nz\n\" style=\"fill:#1f77b4;\"/>\n   </g>\n   <g id=\"patch_6\">\n    <path clip-path=\"url(#pd132b4b8c2)\" d=\"M 133.452273 224.64 \nL 163.888636 224.64 \nL 163.888636 195.056327 \nL 133.452273 195.056327 \nz\n\" style=\"fill:#1f77b4;\"/>\n   </g>\n   <g id=\"patch_7\">\n    <path clip-path=\"url(#pd132b4b8c2)\" d=\"M 163.888636 224.64 \nL 194.325 224.64 \nL 194.325 135.88898 \nL 163.888636 135.88898 \nz\n\" style=\"fill:#1f77b4;\"/>\n   </g>\n   <g id=\"patch_8\">\n    <path clip-path=\"url(#pd132b4b8c2)\" d=\"M 194.325 224.64 \nL 224.761364 224.64 \nL 224.761364 209.848163 \nL 194.325 209.848163 \nz\n\" style=\"fill:#1f77b4;\"/>\n   </g>\n   <g id=\"patch_9\">\n    <path clip-path=\"url(#pd132b4b8c2)\" d=\"M 224.761364 224.64 \nL 255.197727 224.64 \nL 255.197727 224.64 \nL 224.761364 224.64 \nz\n\" style=\"fill:#1f77b4;\"/>\n   </g>\n   <g id=\"patch_10\">\n    <path clip-path=\"url(#pd132b4b8c2)\" d=\"M 255.197727 224.64 \nL 285.634091 224.64 \nL 285.634091 195.056327 \nL 255.197727 195.056327 \nz\n\" style=\"fill:#1f77b4;\"/>\n   </g>\n   <g id=\"patch_11\">\n    <path clip-path=\"url(#pd132b4b8c2)\" d=\"M 285.634091 224.64 \nL 316.070455 224.64 \nL 316.070455 150.680816 \nL 285.634091 150.680816 \nz\n\" style=\"fill:#1f77b4;\"/>\n   </g>\n   <g id=\"patch_12\">\n    <path clip-path=\"url(#pd132b4b8c2)\" d=\"M 316.070455 224.64 \nL 346.506818 224.64 \nL 346.506818 180.26449 \nL 316.070455 180.26449 \nz\n\" style=\"fill:#1f77b4;\"/>\n   </g>\n   <g id=\"matplotlib.axis_1\">\n    <g id=\"xtick_1\">\n     <g id=\"line2d_1\">\n      <path clip-path=\"url(#pd132b4b8c2)\" d=\"M 41.831185 224.64 \nL 41.831185 7.2 \n\" style=\"fill:none;stroke:#b0b0b0;stroke-linecap:square;stroke-width:0.8;\"/>\n     </g>\n     <g id=\"line2d_2\">\n      <defs>\n       <path d=\"M 0 0 \nL 0 3.5 \n\" id=\"m6f45b0dc67\" style=\"stroke:#000000;stroke-width:0.8;\"/>\n      </defs>\n      <g>\n       <use style=\"stroke:#000000;stroke-width:0.8;\" x=\"41.831185\" xlink:href=\"#m6f45b0dc67\" y=\"224.64\"/>\n      </g>\n     </g>\n     <g id=\"text_1\">\n      <!-- 0.00 -->\n      <defs>\n       <path d=\"M 31.78125 66.40625 \nQ 24.171875 66.40625 20.328125 58.90625 \nQ 16.5 51.421875 16.5 36.375 \nQ 16.5 21.390625 20.328125 13.890625 \nQ 24.171875 6.390625 31.78125 6.390625 \nQ 39.453125 6.390625 43.28125 13.890625 \nQ 47.125 21.390625 47.125 36.375 \nQ 47.125 51.421875 43.28125 58.90625 \nQ 39.453125 66.40625 31.78125 66.40625 \nz\nM 31.78125 74.21875 \nQ 44.046875 74.21875 50.515625 64.515625 \nQ 56.984375 54.828125 56.984375 36.375 \nQ 56.984375 17.96875 50.515625 8.265625 \nQ 44.046875 -1.421875 31.78125 -1.421875 \nQ 19.53125 -1.421875 13.0625 8.265625 \nQ 6.59375 17.96875 6.59375 36.375 \nQ 6.59375 54.828125 13.0625 64.515625 \nQ 19.53125 74.21875 31.78125 74.21875 \nz\n\" id=\"DejaVuSans-48\"/>\n       <path d=\"M 10.6875 12.40625 \nL 21 12.40625 \nL 21 0 \nL 10.6875 0 \nz\n\" id=\"DejaVuSans-46\"/>\n      </defs>\n      <g transform=\"translate(30.698373 239.238437)scale(0.1 -0.1)\">\n       <use xlink:href=\"#DejaVuSans-48\"/>\n       <use x=\"63.623047\" xlink:href=\"#DejaVuSans-46\"/>\n       <use x=\"95.410156\" xlink:href=\"#DejaVuSans-48\"/>\n       <use x=\"159.033203\" xlink:href=\"#DejaVuSans-48\"/>\n      </g>\n     </g>\n    </g>\n    <g id=\"xtick_2\">\n     <g id=\"line2d_3\">\n      <path clip-path=\"url(#pd132b4b8c2)\" d=\"M 103.63614 224.64 \nL 103.63614 7.2 \n\" style=\"fill:none;stroke:#b0b0b0;stroke-linecap:square;stroke-width:0.8;\"/>\n     </g>\n     <g id=\"line2d_4\">\n      <g>\n       <use style=\"stroke:#000000;stroke-width:0.8;\" x=\"103.63614\" xlink:href=\"#m6f45b0dc67\" y=\"224.64\"/>\n      </g>\n     </g>\n     <g id=\"text_2\">\n      <!-- 0.02 -->\n      <defs>\n       <path d=\"M 19.1875 8.296875 \nL 53.609375 8.296875 \nL 53.609375 0 \nL 7.328125 0 \nL 7.328125 8.296875 \nQ 12.9375 14.109375 22.625 23.890625 \nQ 32.328125 33.6875 34.8125 36.53125 \nQ 39.546875 41.84375 41.421875 45.53125 \nQ 43.3125 49.21875 43.3125 52.78125 \nQ 43.3125 58.59375 39.234375 62.25 \nQ 35.15625 65.921875 28.609375 65.921875 \nQ 23.96875 65.921875 18.8125 64.3125 \nQ 13.671875 62.703125 7.8125 59.421875 \nL 7.8125 69.390625 \nQ 13.765625 71.78125 18.9375 73 \nQ 24.125 74.21875 28.421875 74.21875 \nQ 39.75 74.21875 46.484375 68.546875 \nQ 53.21875 62.890625 53.21875 53.421875 \nQ 53.21875 48.921875 51.53125 44.890625 \nQ 49.859375 40.875 45.40625 35.40625 \nQ 44.1875 33.984375 37.640625 27.21875 \nQ 31.109375 20.453125 19.1875 8.296875 \nz\n\" id=\"DejaVuSans-50\"/>\n      </defs>\n      <g transform=\"translate(92.503328 239.238437)scale(0.1 -0.1)\">\n       <use xlink:href=\"#DejaVuSans-48\"/>\n       <use x=\"63.623047\" xlink:href=\"#DejaVuSans-46\"/>\n       <use x=\"95.410156\" xlink:href=\"#DejaVuSans-48\"/>\n       <use x=\"159.033203\" xlink:href=\"#DejaVuSans-50\"/>\n      </g>\n     </g>\n    </g>\n    <g id=\"xtick_3\">\n     <g id=\"line2d_5\">\n      <path clip-path=\"url(#pd132b4b8c2)\" d=\"M 165.441095 224.64 \nL 165.441095 7.2 \n\" style=\"fill:none;stroke:#b0b0b0;stroke-linecap:square;stroke-width:0.8;\"/>\n     </g>\n     <g id=\"line2d_6\">\n      <g>\n       <use style=\"stroke:#000000;stroke-width:0.8;\" x=\"165.441095\" xlink:href=\"#m6f45b0dc67\" y=\"224.64\"/>\n      </g>\n     </g>\n     <g id=\"text_3\">\n      <!-- 0.04 -->\n      <defs>\n       <path d=\"M 37.796875 64.3125 \nL 12.890625 25.390625 \nL 37.796875 25.390625 \nz\nM 35.203125 72.90625 \nL 47.609375 72.90625 \nL 47.609375 25.390625 \nL 58.015625 25.390625 \nL 58.015625 17.1875 \nL 47.609375 17.1875 \nL 47.609375 0 \nL 37.796875 0 \nL 37.796875 17.1875 \nL 4.890625 17.1875 \nL 4.890625 26.703125 \nz\n\" id=\"DejaVuSans-52\"/>\n      </defs>\n      <g transform=\"translate(154.308283 239.238437)scale(0.1 -0.1)\">\n       <use xlink:href=\"#DejaVuSans-48\"/>\n       <use x=\"63.623047\" xlink:href=\"#DejaVuSans-46\"/>\n       <use x=\"95.410156\" xlink:href=\"#DejaVuSans-48\"/>\n       <use x=\"159.033203\" xlink:href=\"#DejaVuSans-52\"/>\n      </g>\n     </g>\n    </g>\n    <g id=\"xtick_4\">\n     <g id=\"line2d_7\">\n      <path clip-path=\"url(#pd132b4b8c2)\" d=\"M 227.24605 224.64 \nL 227.24605 7.2 \n\" style=\"fill:none;stroke:#b0b0b0;stroke-linecap:square;stroke-width:0.8;\"/>\n     </g>\n     <g id=\"line2d_8\">\n      <g>\n       <use style=\"stroke:#000000;stroke-width:0.8;\" x=\"227.24605\" xlink:href=\"#m6f45b0dc67\" y=\"224.64\"/>\n      </g>\n     </g>\n     <g id=\"text_4\">\n      <!-- 0.06 -->\n      <defs>\n       <path d=\"M 33.015625 40.375 \nQ 26.375 40.375 22.484375 35.828125 \nQ 18.609375 31.296875 18.609375 23.390625 \nQ 18.609375 15.53125 22.484375 10.953125 \nQ 26.375 6.390625 33.015625 6.390625 \nQ 39.65625 6.390625 43.53125 10.953125 \nQ 47.40625 15.53125 47.40625 23.390625 \nQ 47.40625 31.296875 43.53125 35.828125 \nQ 39.65625 40.375 33.015625 40.375 \nz\nM 52.59375 71.296875 \nL 52.59375 62.3125 \nQ 48.875 64.0625 45.09375 64.984375 \nQ 41.3125 65.921875 37.59375 65.921875 \nQ 27.828125 65.921875 22.671875 59.328125 \nQ 17.53125 52.734375 16.796875 39.40625 \nQ 19.671875 43.65625 24.015625 45.921875 \nQ 28.375 48.1875 33.59375 48.1875 \nQ 44.578125 48.1875 50.953125 41.515625 \nQ 57.328125 34.859375 57.328125 23.390625 \nQ 57.328125 12.15625 50.6875 5.359375 \nQ 44.046875 -1.421875 33.015625 -1.421875 \nQ 20.359375 -1.421875 13.671875 8.265625 \nQ 6.984375 17.96875 6.984375 36.375 \nQ 6.984375 53.65625 15.1875 63.9375 \nQ 23.390625 74.21875 37.203125 74.21875 \nQ 40.921875 74.21875 44.703125 73.484375 \nQ 48.484375 72.75 52.59375 71.296875 \nz\n\" id=\"DejaVuSans-54\"/>\n      </defs>\n      <g transform=\"translate(216.113237 239.238437)scale(0.1 -0.1)\">\n       <use xlink:href=\"#DejaVuSans-48\"/>\n       <use x=\"63.623047\" xlink:href=\"#DejaVuSans-46\"/>\n       <use x=\"95.410156\" xlink:href=\"#DejaVuSans-48\"/>\n       <use x=\"159.033203\" xlink:href=\"#DejaVuSans-54\"/>\n      </g>\n     </g>\n    </g>\n    <g id=\"xtick_5\">\n     <g id=\"line2d_9\">\n      <path clip-path=\"url(#pd132b4b8c2)\" d=\"M 289.051005 224.64 \nL 289.051005 7.2 \n\" style=\"fill:none;stroke:#b0b0b0;stroke-linecap:square;stroke-width:0.8;\"/>\n     </g>\n     <g id=\"line2d_10\">\n      <g>\n       <use style=\"stroke:#000000;stroke-width:0.8;\" x=\"289.051005\" xlink:href=\"#m6f45b0dc67\" y=\"224.64\"/>\n      </g>\n     </g>\n     <g id=\"text_5\">\n      <!-- 0.08 -->\n      <defs>\n       <path d=\"M 31.78125 34.625 \nQ 24.75 34.625 20.71875 30.859375 \nQ 16.703125 27.09375 16.703125 20.515625 \nQ 16.703125 13.921875 20.71875 10.15625 \nQ 24.75 6.390625 31.78125 6.390625 \nQ 38.8125 6.390625 42.859375 10.171875 \nQ 46.921875 13.96875 46.921875 20.515625 \nQ 46.921875 27.09375 42.890625 30.859375 \nQ 38.875 34.625 31.78125 34.625 \nz\nM 21.921875 38.8125 \nQ 15.578125 40.375 12.03125 44.71875 \nQ 8.5 49.078125 8.5 55.328125 \nQ 8.5 64.0625 14.71875 69.140625 \nQ 20.953125 74.21875 31.78125 74.21875 \nQ 42.671875 74.21875 48.875 69.140625 \nQ 55.078125 64.0625 55.078125 55.328125 \nQ 55.078125 49.078125 51.53125 44.71875 \nQ 48 40.375 41.703125 38.8125 \nQ 48.828125 37.15625 52.796875 32.3125 \nQ 56.78125 27.484375 56.78125 20.515625 \nQ 56.78125 9.90625 50.3125 4.234375 \nQ 43.84375 -1.421875 31.78125 -1.421875 \nQ 19.734375 -1.421875 13.25 4.234375 \nQ 6.78125 9.90625 6.78125 20.515625 \nQ 6.78125 27.484375 10.78125 32.3125 \nQ 14.796875 37.15625 21.921875 38.8125 \nz\nM 18.3125 54.390625 \nQ 18.3125 48.734375 21.84375 45.5625 \nQ 25.390625 42.390625 31.78125 42.390625 \nQ 38.140625 42.390625 41.71875 45.5625 \nQ 45.3125 48.734375 45.3125 54.390625 \nQ 45.3125 60.0625 41.71875 63.234375 \nQ 38.140625 66.40625 31.78125 66.40625 \nQ 25.390625 66.40625 21.84375 63.234375 \nQ 18.3125 60.0625 18.3125 54.390625 \nz\n\" id=\"DejaVuSans-56\"/>\n      </defs>\n      <g transform=\"translate(277.918192 239.238437)scale(0.1 -0.1)\">\n       <use xlink:href=\"#DejaVuSans-48\"/>\n       <use x=\"63.623047\" xlink:href=\"#DejaVuSans-46\"/>\n       <use x=\"95.410156\" xlink:href=\"#DejaVuSans-48\"/>\n       <use x=\"159.033203\" xlink:href=\"#DejaVuSans-56\"/>\n      </g>\n     </g>\n    </g>\n    <g id=\"xtick_6\">\n     <g id=\"line2d_11\">\n      <path clip-path=\"url(#pd132b4b8c2)\" d=\"M 350.85596 224.64 \nL 350.85596 7.2 \n\" style=\"fill:none;stroke:#b0b0b0;stroke-linecap:square;stroke-width:0.8;\"/>\n     </g>\n     <g id=\"line2d_12\">\n      <g>\n       <use style=\"stroke:#000000;stroke-width:0.8;\" x=\"350.85596\" xlink:href=\"#m6f45b0dc67\" y=\"224.64\"/>\n      </g>\n     </g>\n     <g id=\"text_6\">\n      <!-- 0.10 -->\n      <defs>\n       <path d=\"M 12.40625 8.296875 \nL 28.515625 8.296875 \nL 28.515625 63.921875 \nL 10.984375 60.40625 \nL 10.984375 69.390625 \nL 28.421875 72.90625 \nL 38.28125 72.90625 \nL 38.28125 8.296875 \nL 54.390625 8.296875 \nL 54.390625 0 \nL 12.40625 0 \nz\n\" id=\"DejaVuSans-49\"/>\n      </defs>\n      <g transform=\"translate(339.723147 239.238437)scale(0.1 -0.1)\">\n       <use xlink:href=\"#DejaVuSans-48\"/>\n       <use x=\"63.623047\" xlink:href=\"#DejaVuSans-46\"/>\n       <use x=\"95.410156\" xlink:href=\"#DejaVuSans-49\"/>\n       <use x=\"159.033203\" xlink:href=\"#DejaVuSans-48\"/>\n      </g>\n     </g>\n    </g>\n   </g>\n   <g id=\"matplotlib.axis_2\">\n    <g id=\"ytick_1\">\n     <g id=\"line2d_13\">\n      <path clip-path=\"url(#pd132b4b8c2)\" d=\"M 26.925 224.64 \nL 361.725 224.64 \n\" style=\"fill:none;stroke:#b0b0b0;stroke-linecap:square;stroke-width:0.8;\"/>\n     </g>\n     <g id=\"line2d_14\">\n      <defs>\n       <path d=\"M 0 0 \nL -3.5 0 \n\" id=\"mc78efa48f6\" style=\"stroke:#000000;stroke-width:0.8;\"/>\n      </defs>\n      <g>\n       <use style=\"stroke:#000000;stroke-width:0.8;\" x=\"26.925\" xlink:href=\"#mc78efa48f6\" y=\"224.64\"/>\n      </g>\n     </g>\n     <g id=\"text_7\">\n      <!-- 0 -->\n      <g transform=\"translate(13.5625 228.439219)scale(0.1 -0.1)\">\n       <use xlink:href=\"#DejaVuSans-48\"/>\n      </g>\n     </g>\n    </g>\n    <g id=\"ytick_2\">\n     <g id=\"line2d_15\">\n      <path clip-path=\"url(#pd132b4b8c2)\" d=\"M 26.925 195.056327 \nL 361.725 195.056327 \n\" style=\"fill:none;stroke:#b0b0b0;stroke-linecap:square;stroke-width:0.8;\"/>\n     </g>\n     <g id=\"line2d_16\">\n      <g>\n       <use style=\"stroke:#000000;stroke-width:0.8;\" x=\"26.925\" xlink:href=\"#mc78efa48f6\" y=\"195.056327\"/>\n      </g>\n     </g>\n     <g id=\"text_8\">\n      <!-- 2 -->\n      <g transform=\"translate(13.5625 198.855545)scale(0.1 -0.1)\">\n       <use xlink:href=\"#DejaVuSans-50\"/>\n      </g>\n     </g>\n    </g>\n    <g id=\"ytick_3\">\n     <g id=\"line2d_17\">\n      <path clip-path=\"url(#pd132b4b8c2)\" d=\"M 26.925 165.472653 \nL 361.725 165.472653 \n\" style=\"fill:none;stroke:#b0b0b0;stroke-linecap:square;stroke-width:0.8;\"/>\n     </g>\n     <g id=\"line2d_18\">\n      <g>\n       <use style=\"stroke:#000000;stroke-width:0.8;\" x=\"26.925\" xlink:href=\"#mc78efa48f6\" y=\"165.472653\"/>\n      </g>\n     </g>\n     <g id=\"text_9\">\n      <!-- 4 -->\n      <g transform=\"translate(13.5625 169.271872)scale(0.1 -0.1)\">\n       <use xlink:href=\"#DejaVuSans-52\"/>\n      </g>\n     </g>\n    </g>\n    <g id=\"ytick_4\">\n     <g id=\"line2d_19\">\n      <path clip-path=\"url(#pd132b4b8c2)\" d=\"M 26.925 135.88898 \nL 361.725 135.88898 \n\" style=\"fill:none;stroke:#b0b0b0;stroke-linecap:square;stroke-width:0.8;\"/>\n     </g>\n     <g id=\"line2d_20\">\n      <g>\n       <use style=\"stroke:#000000;stroke-width:0.8;\" x=\"26.925\" xlink:href=\"#mc78efa48f6\" y=\"135.88898\"/>\n      </g>\n     </g>\n     <g id=\"text_10\">\n      <!-- 6 -->\n      <g transform=\"translate(13.5625 139.688198)scale(0.1 -0.1)\">\n       <use xlink:href=\"#DejaVuSans-54\"/>\n      </g>\n     </g>\n    </g>\n    <g id=\"ytick_5\">\n     <g id=\"line2d_21\">\n      <path clip-path=\"url(#pd132b4b8c2)\" d=\"M 26.925 106.305306 \nL 361.725 106.305306 \n\" style=\"fill:none;stroke:#b0b0b0;stroke-linecap:square;stroke-width:0.8;\"/>\n     </g>\n     <g id=\"line2d_22\">\n      <g>\n       <use style=\"stroke:#000000;stroke-width:0.8;\" x=\"26.925\" xlink:href=\"#mc78efa48f6\" y=\"106.305306\"/>\n      </g>\n     </g>\n     <g id=\"text_11\">\n      <!-- 8 -->\n      <g transform=\"translate(13.5625 110.104525)scale(0.1 -0.1)\">\n       <use xlink:href=\"#DejaVuSans-56\"/>\n      </g>\n     </g>\n    </g>\n    <g id=\"ytick_6\">\n     <g id=\"line2d_23\">\n      <path clip-path=\"url(#pd132b4b8c2)\" d=\"M 26.925 76.721633 \nL 361.725 76.721633 \n\" style=\"fill:none;stroke:#b0b0b0;stroke-linecap:square;stroke-width:0.8;\"/>\n     </g>\n     <g id=\"line2d_24\">\n      <g>\n       <use style=\"stroke:#000000;stroke-width:0.8;\" x=\"26.925\" xlink:href=\"#mc78efa48f6\" y=\"76.721633\"/>\n      </g>\n     </g>\n     <g id=\"text_12\">\n      <!-- 10 -->\n      <g transform=\"translate(7.2 80.520851)scale(0.1 -0.1)\">\n       <use xlink:href=\"#DejaVuSans-49\"/>\n       <use x=\"63.623047\" xlink:href=\"#DejaVuSans-48\"/>\n      </g>\n     </g>\n    </g>\n    <g id=\"ytick_7\">\n     <g id=\"line2d_25\">\n      <path clip-path=\"url(#pd132b4b8c2)\" d=\"M 26.925 47.137959 \nL 361.725 47.137959 \n\" style=\"fill:none;stroke:#b0b0b0;stroke-linecap:square;stroke-width:0.8;\"/>\n     </g>\n     <g id=\"line2d_26\">\n      <g>\n       <use style=\"stroke:#000000;stroke-width:0.8;\" x=\"26.925\" xlink:href=\"#mc78efa48f6\" y=\"47.137959\"/>\n      </g>\n     </g>\n     <g id=\"text_13\">\n      <!-- 12 -->\n      <g transform=\"translate(7.2 50.937178)scale(0.1 -0.1)\">\n       <use xlink:href=\"#DejaVuSans-49\"/>\n       <use x=\"63.623047\" xlink:href=\"#DejaVuSans-50\"/>\n      </g>\n     </g>\n    </g>\n    <g id=\"ytick_8\">\n     <g id=\"line2d_27\">\n      <path clip-path=\"url(#pd132b4b8c2)\" d=\"M 26.925 17.554286 \nL 361.725 17.554286 \n\" style=\"fill:none;stroke:#b0b0b0;stroke-linecap:square;stroke-width:0.8;\"/>\n     </g>\n     <g id=\"line2d_28\">\n      <g>\n       <use style=\"stroke:#000000;stroke-width:0.8;\" x=\"26.925\" xlink:href=\"#mc78efa48f6\" y=\"17.554286\"/>\n      </g>\n     </g>\n     <g id=\"text_14\">\n      <!-- 14 -->\n      <g transform=\"translate(7.2 21.353504)scale(0.1 -0.1)\">\n       <use xlink:href=\"#DejaVuSans-49\"/>\n       <use x=\"63.623047\" xlink:href=\"#DejaVuSans-52\"/>\n      </g>\n     </g>\n    </g>\n   </g>\n   <g id=\"patch_13\">\n    <path d=\"M 26.925 224.64 \nL 26.925 7.2 \n\" style=\"fill:none;stroke:#000000;stroke-linecap:square;stroke-linejoin:miter;stroke-width:0.8;\"/>\n   </g>\n   <g id=\"patch_14\">\n    <path d=\"M 361.725 224.64 \nL 361.725 7.2 \n\" style=\"fill:none;stroke:#000000;stroke-linecap:square;stroke-linejoin:miter;stroke-width:0.8;\"/>\n   </g>\n   <g id=\"patch_15\">\n    <path d=\"M 26.925 224.64 \nL 361.725 224.64 \n\" style=\"fill:none;stroke:#000000;stroke-linecap:square;stroke-linejoin:miter;stroke-width:0.8;\"/>\n   </g>\n   <g id=\"patch_16\">\n    <path d=\"M 26.925 7.2 \nL 361.725 7.2 \n\" style=\"fill:none;stroke:#000000;stroke-linecap:square;stroke-linejoin:miter;stroke-width:0.8;\"/>\n   </g>\n  </g>\n </g>\n <defs>\n  <clipPath id=\"pd132b4b8c2\">\n   <rect height=\"217.44\" width=\"334.8\" x=\"26.925\" y=\"7.2\"/>\n  </clipPath>\n </defs>\n</svg>\n",
      "image/png": "[encoded data removed]"
     },
     "metadata": {
      "needs_background": "light"
     }
    }
   ],
   "source": [
    "corr_with_label[corr_with_label.corr_abs<0.1].corr_abs.hist()"
   ]
  },
  {
   "cell_type": "code",
   "execution_count": 28,
   "metadata": {},
   "outputs": [
    {
     "output_type": "execute_result",
     "data": {
      "text/plain": [
       "['marryyes',\n",
       " 'mailres',\n",
       " 'mailord',\n",
       " 'ownrent',\n",
       " 'creditcd',\n",
       " 'income',\n",
       " 'marryun',\n",
       " 'pcown',\n",
       " 'incmiss',\n",
       " 'occprof',\n",
       " 'credita',\n",
       " 'children',\n",
       " 'refurb',\n",
       " 'newcelln',\n",
       " 'travel',\n",
       " 'actvsubs',\n",
       " 'truck',\n",
       " 'occret',\n",
       " 'prizmtwn',\n",
       " 'mailflag',\n",
       " 'prizmub',\n",
       " 'changem',\n",
       " 'retaccpt',\n",
       " 'changer',\n",
       " 'occcler',\n",
       " 'newcelly',\n",
       " 'retcalls',\n",
       " 'occcrft',\n",
       " 'retcall',\n",
       " 'uniqsubs',\n",
       " 'refer',\n",
       " 'callfwdv',\n",
       " 'rv',\n",
       " 'churn',\n",
       " 'prizmrur',\n",
       " 'occhmkr',\n",
       " 'occself',\n",
       " 'mcycle',\n",
       " 'occstud',\n",
       " 'months']"
      ]
     },
     "metadata": {},
     "execution_count": 28
    }
   ],
   "source": [
    "columns_to_drop_low_corr_with_label = corr_with_label[corr_with_label.corr_abs<0.1].V2.unique().tolist()\n",
    "columns_to_drop_low_corr_with_label"
   ]
  },
  {
   "source": [
    "## Experiments"
   ],
   "cell_type": "markdown",
   "metadata": {}
  },
  {
   "cell_type": "code",
   "execution_count": 25,
   "metadata": {},
   "outputs": [
    {
     "output_type": "stream",
     "name": "stdout",
     "text": [
      "\n",
      "Min mean_squared_error_test Test 196.05076414709063\n"
     ]
    },
    {
     "output_type": "execute_result",
     "data": {
      "text/plain": [
       "                                                    mean_squared_error_train  \\\n",
       "LassoCV(alphas=None, copy_X=True, cv=None, eps=...              1.691241e+02   \n",
       "RidgeCV(alphas=array([ 0.1,  1. , 10. ]), cv=No...              1.689200e+02   \n",
       "LinearRegression(copy_X=True, fit_intercept=Tru...              1.689199e+02   \n",
       "LinearSVR(C=1.0, dual=True, epsilon=0.0, fit_in...              1.844479e+02   \n",
       "DecisionTreeRegressor(ccp_alpha=0.0, criterion=...              5.693213e-11   \n",
       "\n",
       "                                                    mean_absolute_error_train  \\\n",
       "LassoCV(alphas=None, copy_X=True, cv=None, eps=...               6.688633e+00   \n",
       "RidgeCV(alphas=array([ 0.1,  1. , 10. ]), cv=No...               6.704664e+00   \n",
       "LinearRegression(copy_X=True, fit_intercept=Tru...               6.704298e+00   \n",
       "LinearSVR(C=1.0, dual=True, epsilon=0.0, fit_in...               6.314852e+00   \n",
       "DecisionTreeRegressor(ccp_alpha=0.0, criterion=...               6.830397e-08   \n",
       "\n",
       "                                                    max_error_train  \\\n",
       "LassoCV(alphas=None, copy_X=True, cv=None, eps=...       760.636494   \n",
       "RidgeCV(alphas=array([ 0.1,  1. , 10. ]), cv=No...       755.793396   \n",
       "LinearRegression(copy_X=True, fit_intercept=Tru...       756.032592   \n",
       "LinearSVR(C=1.0, dual=True, epsilon=0.0, fit_in...       939.584598   \n",
       "DecisionTreeRegressor(ccp_alpha=0.0, criterion=...         0.001621   \n",
       "\n",
       "                                                    r2_score_train  \\\n",
       "LassoCV(alphas=None, copy_X=True, cv=None, eps=...        0.913917   \n",
       "RidgeCV(alphas=array([ 0.1,  1. , 10. ]), cv=No...        0.914020   \n",
       "LinearRegression(copy_X=True, fit_intercept=Tru...        0.914021   \n",
       "LinearSVR(C=1.0, dual=True, epsilon=0.0, fit_in...        0.906117   \n",
       "DecisionTreeRegressor(ccp_alpha=0.0, criterion=...        1.000000   \n",
       "\n",
       "                                                    mean_squared_error_test  \\\n",
       "LassoCV(alphas=None, copy_X=True, cv=None, eps=...               196.050764   \n",
       "RidgeCV(alphas=array([ 0.1,  1. , 10. ]), cv=No...               196.223881   \n",
       "LinearRegression(copy_X=True, fit_intercept=Tru...               196.229172   \n",
       "LinearSVR(C=1.0, dual=True, epsilon=0.0, fit_in...               205.089085   \n",
       "DecisionTreeRegressor(ccp_alpha=0.0, criterion=...               279.161548   \n",
       "\n",
       "                                                    mean_absolute_error_test  \\\n",
       "LassoCV(alphas=None, copy_X=True, cv=None, eps=...                  6.807729   \n",
       "RidgeCV(alphas=array([ 0.1,  1. , 10. ]), cv=No...                  6.823008   \n",
       "LinearRegression(copy_X=True, fit_intercept=Tru...                  6.822532   \n",
       "LinearSVR(C=1.0, dual=True, epsilon=0.0, fit_in...                  6.440694   \n",
       "DecisionTreeRegressor(ccp_alpha=0.0, criterion=...                  7.445244   \n",
       "\n",
       "                                                    max_error_test  \\\n",
       "LassoCV(alphas=None, copy_X=True, cv=None, eps=...      632.258698   \n",
       "RidgeCV(alphas=array([ 0.1,  1. , 10. ]), cv=No...      635.457514   \n",
       "LinearRegression(copy_X=True, fit_intercept=Tru...      635.809888   \n",
       "LinearSVR(C=1.0, dual=True, epsilon=0.0, fit_in...      688.395099   \n",
       "DecisionTreeRegressor(ccp_alpha=0.0, criterion=...      568.607506   \n",
       "\n",
       "                                                    r2_score_test  \n",
       "LassoCV(alphas=None, copy_X=True, cv=None, eps=...       0.899088  \n",
       "RidgeCV(alphas=array([ 0.1,  1. , 10. ]), cv=No...       0.898999  \n",
       "LinearRegression(copy_X=True, fit_intercept=Tru...       0.898996  \n",
       "LinearSVR(C=1.0, dual=True, epsilon=0.0, fit_in...       0.894436  \n",
       "DecisionTreeRegressor(ccp_alpha=0.0, criterion=...       0.856309  "
      ],
      "text/html": "<div>\n<style scoped>\n    .dataframe tbody tr th:only-of-type {\n        vertical-align: middle;\n    }\n\n    .dataframe tbody tr th {\n        vertical-align: top;\n    }\n\n    .dataframe thead th {\n        text-align: right;\n    }\n</style>\n<table border=\"1\" class=\"dataframe\">\n  <thead>\n    <tr style=\"text-align: right;\">\n      <th></th>\n      <th>mean_squared_error_train</th>\n      <th>mean_absolute_error_train</th>\n      <th>max_error_train</th>\n      <th>r2_score_train</th>\n      <th>mean_squared_error_test</th>\n      <th>mean_absolute_error_test</th>\n      <th>max_error_test</th>\n      <th>r2_score_test</th>\n    </tr>\n  </thead>\n  <tbody>\n    <tr>\n      <th>LassoCV(alphas=None, copy_X=True, cv=None, eps=0.001, fit_intercept=True,\\n        max_iter=1000, n_alphas=100, n_jobs=None, normalize=False,\\n        positive=False, precompute='auto', random_state=None,\\n        selection='cyclic', tol=0.0001, verbose=False)</th>\n      <td>1.691241e+02</td>\n      <td>6.688633e+00</td>\n      <td>760.636494</td>\n      <td>0.913917</td>\n      <td>196.050764</td>\n      <td>6.807729</td>\n      <td>632.258698</td>\n      <td>0.899088</td>\n    </tr>\n    <tr>\n      <th>RidgeCV(alphas=array([ 0.1,  1. , 10. ]), cv=None, fit_intercept=True,\\n        gcv_mode=None, normalize=False, scoring=None, store_cv_values=False)</th>\n      <td>1.689200e+02</td>\n      <td>6.704664e+00</td>\n      <td>755.793396</td>\n      <td>0.914020</td>\n      <td>196.223881</td>\n      <td>6.823008</td>\n      <td>635.457514</td>\n      <td>0.898999</td>\n    </tr>\n    <tr>\n      <th>LinearRegression(copy_X=True, fit_intercept=True, n_jobs=None, normalize=False)</th>\n      <td>1.689199e+02</td>\n      <td>6.704298e+00</td>\n      <td>756.032592</td>\n      <td>0.914021</td>\n      <td>196.229172</td>\n      <td>6.822532</td>\n      <td>635.809888</td>\n      <td>0.898996</td>\n    </tr>\n    <tr>\n      <th>LinearSVR(C=1.0, dual=True, epsilon=0.0, fit_intercept=True,\\n          intercept_scaling=1.0, loss='epsilon_insensitive', max_iter=1000,\\n          random_state=None, tol=0.0001, verbose=0)</th>\n      <td>1.844479e+02</td>\n      <td>6.314852e+00</td>\n      <td>939.584598</td>\n      <td>0.906117</td>\n      <td>205.089085</td>\n      <td>6.440694</td>\n      <td>688.395099</td>\n      <td>0.894436</td>\n    </tr>\n    <tr>\n      <th>DecisionTreeRegressor(ccp_alpha=0.0, criterion='mse', max_depth=None,\\n                      max_features=None, max_leaf_nodes=None,\\n                      min_impurity_decrease=0.0, min_impurity_split=None,\\n                      min_samples_leaf=1, min_samples_split=2,\\n                      min_weight_fraction_leaf=0.0, presort='deprecated',\\n                      random_state=None, splitter='best')</th>\n      <td>5.693213e-11</td>\n      <td>6.830397e-08</td>\n      <td>0.001621</td>\n      <td>1.000000</td>\n      <td>279.161548</td>\n      <td>7.445244</td>\n      <td>568.607506</td>\n      <td>0.856309</td>\n    </tr>\n  </tbody>\n</table>\n</div>"
     },
     "metadata": {},
     "execution_count": 25
    }
   ],
   "source": [
    "run(exclude_columns=columns_to_drop_high_corr, name=\"Drop high corr. columns.\")\n"
   ]
  },
  {
   "cell_type": "code",
   "execution_count": 27,
   "metadata": {},
   "outputs": [
    {
     "output_type": "stream",
     "name": "stdout",
     "text": [
      "\n",
      "Min mean_squared_error_test Test 198.82223999760512\n"
     ]
    },
    {
     "output_type": "execute_result",
     "data": {
      "text/plain": [
       "                                                    mean_squared_error_train  \\\n",
       "LassoCV(alphas=None, copy_X=True, cv=None, eps=...              1.701614e+02   \n",
       "RidgeCV(alphas=array([ 0.1,  1. , 10. ]), cv=No...              1.700547e+02   \n",
       "LinearRegression(copy_X=True, fit_intercept=Tru...              1.700546e+02   \n",
       "LinearSVR(C=1.0, dual=True, epsilon=0.0, fit_in...              1.851530e+02   \n",
       "DecisionTreeRegressor(ccp_alpha=0.0, criterion=...              4.136804e-31   \n",
       "\n",
       "                                                    mean_absolute_error_train  \\\n",
       "LassoCV(alphas=None, copy_X=True, cv=None, eps=...               6.710614e+00   \n",
       "RidgeCV(alphas=array([ 0.1,  1. , 10. ]), cv=No...               6.718773e+00   \n",
       "LinearRegression(copy_X=True, fit_intercept=Tru...               6.718320e+00   \n",
       "LinearSVR(C=1.0, dual=True, epsilon=0.0, fit_in...               6.356519e+00   \n",
       "DecisionTreeRegressor(ccp_alpha=0.0, criterion=...               5.322314e-17   \n",
       "\n",
       "                                                    max_error_train  \\\n",
       "LassoCV(alphas=None, copy_X=True, cv=None, eps=...     7.496031e+02   \n",
       "RidgeCV(alphas=array([ 0.1,  1. , 10. ]), cv=No...     7.454259e+02   \n",
       "LinearRegression(copy_X=True, fit_intercept=Tru...     7.456657e+02   \n",
       "LinearSVR(C=1.0, dual=True, epsilon=0.0, fit_in...     9.355506e+02   \n",
       "DecisionTreeRegressor(ccp_alpha=0.0, criterion=...     1.421085e-14   \n",
       "\n",
       "                                                    r2_score_train  \\\n",
       "LassoCV(alphas=None, copy_X=True, cv=None, eps=...        0.913389   \n",
       "RidgeCV(alphas=array([ 0.1,  1. , 10. ]), cv=No...        0.913443   \n",
       "LinearRegression(copy_X=True, fit_intercept=Tru...        0.913443   \n",
       "LinearSVR(C=1.0, dual=True, epsilon=0.0, fit_in...        0.905758   \n",
       "DecisionTreeRegressor(ccp_alpha=0.0, criterion=...        1.000000   \n",
       "\n",
       "                                                    mean_squared_error_test  \\\n",
       "LassoCV(alphas=None, copy_X=True, cv=None, eps=...               198.822240   \n",
       "RidgeCV(alphas=array([ 0.1,  1. , 10. ]), cv=No...               199.203528   \n",
       "LinearRegression(copy_X=True, fit_intercept=Tru...               199.209646   \n",
       "LinearSVR(C=1.0, dual=True, epsilon=0.0, fit_in...               207.338583   \n",
       "DecisionTreeRegressor(ccp_alpha=0.0, criterion=...               339.655556   \n",
       "\n",
       "                                                    mean_absolute_error_test  \\\n",
       "LassoCV(alphas=None, copy_X=True, cv=None, eps=...                  6.830365   \n",
       "RidgeCV(alphas=array([ 0.1,  1. , 10. ]), cv=No...                  6.840473   \n",
       "LinearRegression(copy_X=True, fit_intercept=Tru...                  6.839894   \n",
       "LinearSVR(C=1.0, dual=True, epsilon=0.0, fit_in...                  6.482891   \n",
       "DecisionTreeRegressor(ccp_alpha=0.0, criterion=...                  8.360344   \n",
       "\n",
       "                                                    max_error_test  \\\n",
       "LassoCV(alphas=None, copy_X=True, cv=None, eps=...      642.342527   \n",
       "RidgeCV(alphas=array([ 0.1,  1. , 10. ]), cv=No...      646.202998   \n",
       "LinearRegression(copy_X=True, fit_intercept=Tru...      646.556552   \n",
       "LinearSVR(C=1.0, dual=True, epsilon=0.0, fit_in...      694.300500   \n",
       "DecisionTreeRegressor(ccp_alpha=0.0, criterion=...      541.967506   \n",
       "\n",
       "                                                    r2_score_test  \n",
       "LassoCV(alphas=None, copy_X=True, cv=None, eps=...       0.897661  \n",
       "RidgeCV(alphas=array([ 0.1,  1. , 10. ]), cv=No...       0.897465  \n",
       "LinearRegression(copy_X=True, fit_intercept=Tru...       0.897462  \n",
       "LinearSVR(C=1.0, dual=True, epsilon=0.0, fit_in...       0.893278  \n",
       "DecisionTreeRegressor(ccp_alpha=0.0, criterion=...       0.825171  "
      ],
      "text/html": "<div>\n<style scoped>\n    .dataframe tbody tr th:only-of-type {\n        vertical-align: middle;\n    }\n\n    .dataframe tbody tr th {\n        vertical-align: top;\n    }\n\n    .dataframe thead th {\n        text-align: right;\n    }\n</style>\n<table border=\"1\" class=\"dataframe\">\n  <thead>\n    <tr style=\"text-align: right;\">\n      <th></th>\n      <th>mean_squared_error_train</th>\n      <th>mean_absolute_error_train</th>\n      <th>max_error_train</th>\n      <th>r2_score_train</th>\n      <th>mean_squared_error_test</th>\n      <th>mean_absolute_error_test</th>\n      <th>max_error_test</th>\n      <th>r2_score_test</th>\n    </tr>\n  </thead>\n  <tbody>\n    <tr>\n      <th>LassoCV(alphas=None, copy_X=True, cv=None, eps=0.001, fit_intercept=True,\\n        max_iter=1000, n_alphas=100, n_jobs=None, normalize=False,\\n        positive=False, precompute='auto', random_state=None,\\n        selection='cyclic', tol=0.0001, verbose=False)</th>\n      <td>1.701614e+02</td>\n      <td>6.710614e+00</td>\n      <td>7.496031e+02</td>\n      <td>0.913389</td>\n      <td>198.822240</td>\n      <td>6.830365</td>\n      <td>642.342527</td>\n      <td>0.897661</td>\n    </tr>\n    <tr>\n      <th>RidgeCV(alphas=array([ 0.1,  1. , 10. ]), cv=None, fit_intercept=True,\\n        gcv_mode=None, normalize=False, scoring=None, store_cv_values=False)</th>\n      <td>1.700547e+02</td>\n      <td>6.718773e+00</td>\n      <td>7.454259e+02</td>\n      <td>0.913443</td>\n      <td>199.203528</td>\n      <td>6.840473</td>\n      <td>646.202998</td>\n      <td>0.897465</td>\n    </tr>\n    <tr>\n      <th>LinearRegression(copy_X=True, fit_intercept=True, n_jobs=None, normalize=False)</th>\n      <td>1.700546e+02</td>\n      <td>6.718320e+00</td>\n      <td>7.456657e+02</td>\n      <td>0.913443</td>\n      <td>199.209646</td>\n      <td>6.839894</td>\n      <td>646.556552</td>\n      <td>0.897462</td>\n    </tr>\n    <tr>\n      <th>LinearSVR(C=1.0, dual=True, epsilon=0.0, fit_intercept=True,\\n          intercept_scaling=1.0, loss='epsilon_insensitive', max_iter=1000,\\n          random_state=None, tol=0.0001, verbose=0)</th>\n      <td>1.851530e+02</td>\n      <td>6.356519e+00</td>\n      <td>9.355506e+02</td>\n      <td>0.905758</td>\n      <td>207.338583</td>\n      <td>6.482891</td>\n      <td>694.300500</td>\n      <td>0.893278</td>\n    </tr>\n    <tr>\n      <th>DecisionTreeRegressor(ccp_alpha=0.0, criterion='mse', max_depth=None,\\n                      max_features=None, max_leaf_nodes=None,\\n                      min_impurity_decrease=0.0, min_impurity_split=None,\\n                      min_samples_leaf=1, min_samples_split=2,\\n                      min_weight_fraction_leaf=0.0, presort='deprecated',\\n                      random_state=None, splitter='best')</th>\n      <td>4.136804e-31</td>\n      <td>5.322314e-17</td>\n      <td>1.421085e-14</td>\n      <td>1.000000</td>\n      <td>339.655556</td>\n      <td>8.360344</td>\n      <td>541.967506</td>\n      <td>0.825171</td>\n    </tr>\n  </tbody>\n</table>\n</div>"
     },
     "metadata": {},
     "execution_count": 27
    }
   ],
   "source": [
    "run(exclude_columns=columns_to_drop_low_corr_with_label, name=\"Drop low corr. columns.\")"
   ]
  },
  {
   "cell_type": "code",
   "execution_count": 29,
   "metadata": {},
   "outputs": [
    {
     "output_type": "stream",
     "name": "stdout",
     "text": [
      "\n",
      "Min mean_squared_error_test Test 198.00950518078446\n"
     ]
    },
    {
     "output_type": "execute_result",
     "data": {
      "text/plain": [
       "                                                    mean_squared_error_train  \\\n",
       "LassoCV(alphas=None, copy_X=True, cv=None, eps=...              1.704678e+02   \n",
       "RidgeCV(alphas=array([ 0.1,  1. , 10. ]), cv=No...              1.703951e+02   \n",
       "LinearRegression(copy_X=True, fit_intercept=Tru...              1.703949e+02   \n",
       "LinearSVR(C=1.0, dual=True, epsilon=0.0, fit_in...              1.859769e+02   \n",
       "DecisionTreeRegressor(ccp_alpha=0.0, criterion=...              3.763119e-31   \n",
       "\n",
       "                                                    mean_absolute_error_train  \\\n",
       "LassoCV(alphas=None, copy_X=True, cv=None, eps=...               6.724382e+00   \n",
       "RidgeCV(alphas=array([ 0.1,  1. , 10. ]), cv=No...               6.726942e+00   \n",
       "LinearRegression(copy_X=True, fit_intercept=Tru...               6.726466e+00   \n",
       "LinearSVR(C=1.0, dual=True, epsilon=0.0, fit_in...               6.365024e+00   \n",
       "DecisionTreeRegressor(ccp_alpha=0.0, criterion=...               4.977943e-17   \n",
       "\n",
       "                                                    max_error_train  \\\n",
       "LassoCV(alphas=None, copy_X=True, cv=None, eps=...     7.585609e+02   \n",
       "RidgeCV(alphas=array([ 0.1,  1. , 10. ]), cv=No...     7.549237e+02   \n",
       "LinearRegression(copy_X=True, fit_intercept=Tru...     7.551625e+02   \n",
       "LinearSVR(C=1.0, dual=True, epsilon=0.0, fit_in...     9.448338e+02   \n",
       "DecisionTreeRegressor(ccp_alpha=0.0, criterion=...     1.421085e-14   \n",
       "\n",
       "                                                    r2_score_train  \\\n",
       "LassoCV(alphas=None, copy_X=True, cv=None, eps=...        0.913233   \n",
       "RidgeCV(alphas=array([ 0.1,  1. , 10. ]), cv=No...        0.913270   \n",
       "LinearRegression(copy_X=True, fit_intercept=Tru...        0.913270   \n",
       "LinearSVR(C=1.0, dual=True, epsilon=0.0, fit_in...        0.905339   \n",
       "DecisionTreeRegressor(ccp_alpha=0.0, criterion=...        1.000000   \n",
       "\n",
       "                                                    mean_squared_error_test  \\\n",
       "LassoCV(alphas=None, copy_X=True, cv=None, eps=...               198.009505   \n",
       "RidgeCV(alphas=array([ 0.1,  1. , 10. ]), cv=No...               198.104389   \n",
       "LinearRegression(copy_X=True, fit_intercept=Tru...               198.109479   \n",
       "LinearSVR(C=1.0, dual=True, epsilon=0.0, fit_in...               207.224547   \n",
       "DecisionTreeRegressor(ccp_alpha=0.0, criterion=...               341.833425   \n",
       "\n",
       "                                                    mean_absolute_error_test  \\\n",
       "LassoCV(alphas=None, copy_X=True, cv=None, eps=...                  6.849096   \n",
       "RidgeCV(alphas=array([ 0.1,  1. , 10. ]), cv=No...                  6.850261   \n",
       "LinearRegression(copy_X=True, fit_intercept=Tru...                  6.849677   \n",
       "LinearSVR(C=1.0, dual=True, epsilon=0.0, fit_in...                  6.493972   \n",
       "DecisionTreeRegressor(ccp_alpha=0.0, criterion=...                  8.327395   \n",
       "\n",
       "                                                    max_error_test  \\\n",
       "LassoCV(alphas=None, copy_X=True, cv=None, eps=...      633.890679   \n",
       "RidgeCV(alphas=array([ 0.1,  1. , 10. ]), cv=No...      636.469822   \n",
       "LinearRegression(copy_X=True, fit_intercept=Tru...      636.824584   \n",
       "LinearSVR(C=1.0, dual=True, epsilon=0.0, fit_in...      691.158461   \n",
       "DecisionTreeRegressor(ccp_alpha=0.0, criterion=...      541.967506   \n",
       "\n",
       "                                                    r2_score_test  \n",
       "LassoCV(alphas=None, copy_X=True, cv=None, eps=...       0.898080  \n",
       "RidgeCV(alphas=array([ 0.1,  1. , 10. ]), cv=No...       0.898031  \n",
       "LinearRegression(copy_X=True, fit_intercept=Tru...       0.898028  \n",
       "LinearSVR(C=1.0, dual=True, epsilon=0.0, fit_in...       0.893336  \n",
       "DecisionTreeRegressor(ccp_alpha=0.0, criterion=...       0.824050  "
      ],
      "text/html": "<div>\n<style scoped>\n    .dataframe tbody tr th:only-of-type {\n        vertical-align: middle;\n    }\n\n    .dataframe tbody tr th {\n        vertical-align: top;\n    }\n\n    .dataframe thead th {\n        text-align: right;\n    }\n</style>\n<table border=\"1\" class=\"dataframe\">\n  <thead>\n    <tr style=\"text-align: right;\">\n      <th></th>\n      <th>mean_squared_error_train</th>\n      <th>mean_absolute_error_train</th>\n      <th>max_error_train</th>\n      <th>r2_score_train</th>\n      <th>mean_squared_error_test</th>\n      <th>mean_absolute_error_test</th>\n      <th>max_error_test</th>\n      <th>r2_score_test</th>\n    </tr>\n  </thead>\n  <tbody>\n    <tr>\n      <th>LassoCV(alphas=None, copy_X=True, cv=None, eps=0.001, fit_intercept=True,\\n        max_iter=1000, n_alphas=100, n_jobs=None, normalize=False,\\n        positive=False, precompute='auto', random_state=None,\\n        selection='cyclic', tol=0.0001, verbose=False)</th>\n      <td>1.704678e+02</td>\n      <td>6.724382e+00</td>\n      <td>7.585609e+02</td>\n      <td>0.913233</td>\n      <td>198.009505</td>\n      <td>6.849096</td>\n      <td>633.890679</td>\n      <td>0.898080</td>\n    </tr>\n    <tr>\n      <th>RidgeCV(alphas=array([ 0.1,  1. , 10. ]), cv=None, fit_intercept=True,\\n        gcv_mode=None, normalize=False, scoring=None, store_cv_values=False)</th>\n      <td>1.703951e+02</td>\n      <td>6.726942e+00</td>\n      <td>7.549237e+02</td>\n      <td>0.913270</td>\n      <td>198.104389</td>\n      <td>6.850261</td>\n      <td>636.469822</td>\n      <td>0.898031</td>\n    </tr>\n    <tr>\n      <th>LinearRegression(copy_X=True, fit_intercept=True, n_jobs=None, normalize=False)</th>\n      <td>1.703949e+02</td>\n      <td>6.726466e+00</td>\n      <td>7.551625e+02</td>\n      <td>0.913270</td>\n      <td>198.109479</td>\n      <td>6.849677</td>\n      <td>636.824584</td>\n      <td>0.898028</td>\n    </tr>\n    <tr>\n      <th>LinearSVR(C=1.0, dual=True, epsilon=0.0, fit_intercept=True,\\n          intercept_scaling=1.0, loss='epsilon_insensitive', max_iter=1000,\\n          random_state=None, tol=0.0001, verbose=0)</th>\n      <td>1.859769e+02</td>\n      <td>6.365024e+00</td>\n      <td>9.448338e+02</td>\n      <td>0.905339</td>\n      <td>207.224547</td>\n      <td>6.493972</td>\n      <td>691.158461</td>\n      <td>0.893336</td>\n    </tr>\n    <tr>\n      <th>DecisionTreeRegressor(ccp_alpha=0.0, criterion='mse', max_depth=None,\\n                      max_features=None, max_leaf_nodes=None,\\n                      min_impurity_decrease=0.0, min_impurity_split=None,\\n                      min_samples_leaf=1, min_samples_split=2,\\n                      min_weight_fraction_leaf=0.0, presort='deprecated',\\n                      random_state=None, splitter='best')</th>\n      <td>3.763119e-31</td>\n      <td>4.977943e-17</td>\n      <td>1.421085e-14</td>\n      <td>1.000000</td>\n      <td>341.833425</td>\n      <td>8.327395</td>\n      <td>541.967506</td>\n      <td>0.824050</td>\n    </tr>\n  </tbody>\n</table>\n</div>"
     },
     "metadata": {},
     "execution_count": 29
    }
   ],
   "source": [
    "run(exclude_columns=list(set(columns_to_drop_high_corr+columns_to_drop_low_corr_with_label)))"
   ]
  },
  {
   "source": [
    "## Result"
   ],
   "cell_type": "markdown",
   "metadata": {}
  },
  {
   "source": [
    "### Min mean_squared_error_test Test\n",
    "* Base                                              :196.891\n",
    "* Drop one of high corr. columns with each other    :196.050\n",
    "* Drop columns that have low corr with label        :198.822\n",
    "* Drop both of the above combined                   :198.009"
   ],
   "cell_type": "markdown",
   "metadata": {}
  },
  {
   "source": [
    "# (ii) variable transformation"
   ],
   "cell_type": "markdown",
   "metadata": {}
  },
  {
   "source": [
    "# (iii)multi-collinearity issues"
   ],
   "cell_type": "markdown",
   "metadata": {}
  },
  {
   "source": [
    "# (iv) feature elimination & selection"
   ],
   "cell_type": "markdown",
   "metadata": {}
  },
  {
   "source": [
    "# (v) model selection"
   ],
   "cell_type": "markdown",
   "metadata": {}
  }
 ]
}