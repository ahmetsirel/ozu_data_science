{
 "cells": [
  {
   "cell_type": "code",
   "execution_count": 1,
   "metadata": {},
   "outputs": [
    {
     "name": "stdout",
     "output_type": "stream",
     "text": [
      "Sample Size: 420\n",
      "Test Score Mean: 654.156548055013\n",
      "Test Score Median: 654.4499816894536\n",
      "Test Score Std Dev: 19.053347643618803\n",
      "STRatio Mean: 19.64042526199704\n",
      "STRatio Median: 19.7232084274292\n",
      "STRatio Std Dev: 1.8918117872336768\n",
      "Sample Size: 420\n",
      "ELPCT Mean: 15.768155158630439\n",
      "ELPCT Median: 8.777633666992191\n",
      "ELPCT Std Dev: 18.28592746747183\n"
     ]
    }
   ],
   "source": [
    "from IPython.display import HTML, display\n",
    "\n",
    "import statsmodels.api as sm\n",
    "from statsmodels.formula.api import ols\n",
    "from statsmodels.sandbox.regression.predstd import wls_prediction_std\n",
    "\n",
    "from scipy import stats\n",
    "\n",
    "import matplotlib.pyplot as plt\n",
    "import seaborn as sns\n",
    "\n",
    "sns.set_style(\"darkgrid\")\n",
    "\n",
    "import pandas as pd\n",
    "import numpy as np\n",
    "import ast\n",
    "import random\n",
    "import math \n",
    "import time\n",
    "import sys \n",
    "\n",
    "df = pd.read_csv('Caschool.csv', encoding='latin-1')\n",
    "\n",
    "print(\"Sample Size:\", len(df))\n",
    "print(\"Test Score Mean:\", df[\"testscr\"].mean())\n",
    "print(\"Test Score Median:\",df[\"testscr\"].median())\n",
    "print(\"Test Score Std Dev:\",df[\"testscr\"].std())\n",
    "\n",
    "print(\"STRatio Mean:\", df[\"str\"].mean())\n",
    "print(\"STRatio Median:\",df[\"str\"].median())\n",
    "print(\"STRatio Std Dev:\",df[\"str\"].std())\n",
    "\n",
    "\n",
    "print(\"Sample Size:\", len(df))\n",
    "print(\"ELPCT Mean:\", df[\"elpct\"].mean())\n",
    "print(\"ELPCT Median:\",df[\"elpct\"].median())\n",
    "print(\"ELPCT Std Dev:\",df[\"elpct\"].std())"
   ]
  },
  {
   "cell_type": "code",
   "execution_count": 2,
   "metadata": {},
   "outputs": [
    {
     "name": "stdout",
     "output_type": "stream",
     "text": [
      "                            OLS Regression Results                            \n",
      "==============================================================================\n",
      "Dep. Variable:                testscr   R-squared:                       0.426\n",
      "Model:                            OLS   Adj. R-squared:                  0.424\n",
      "Method:                 Least Squares   F-statistic:                     155.0\n",
      "Date:                Wed, 23 Sep 2020   Prob (F-statistic):           4.62e-51\n",
      "Time:                        11:46:41   Log-Likelihood:                -1716.6\n",
      "No. Observations:                 420   AIC:                             3439.\n",
      "Df Residuals:                     417   BIC:                             3451.\n",
      "Df Model:                           2                                         \n",
      "Covariance Type:            nonrobust                                         \n",
      "==============================================================================\n",
      "                 coef    std err          t      P>|t|      [0.025      0.975]\n",
      "------------------------------------------------------------------------------\n",
      "const        686.0322      7.411     92.566      0.000     671.464     700.600\n",
      "str           -1.1013      0.380     -2.896      0.004      -1.849      -0.354\n",
      "elpct         -0.6498      0.039    -16.516      0.000      -0.727      -0.572\n",
      "==============================================================================\n",
      "Omnibus:                        0.631   Durbin-Watson:                   0.686\n",
      "Prob(Omnibus):                  0.729   Jarque-Bera (JB):                0.550\n",
      "Skew:                           0.088   Prob(JB):                        0.760\n",
      "Kurtosis:                       3.024   Cond. No.                         301.\n",
      "==============================================================================\n",
      "\n",
      "Warnings:\n",
      "[1] Standard Errors assume that the covariance matrix of the errors is correctly specified.\n"
     ]
    }
   ],
   "source": [
    "df = sm.add_constant(df) \n",
    "\n",
    "#small = df[df[\"str\"]<20]\n",
    "#large = df[df[\"str\"]>=20]\n",
    "\n",
    "\n",
    "reg1 = sm.OLS(endog=df['testscr'], exog=df[['const','str','elpct']], missing='drop')\n",
    "type(reg1)\n",
    "\n",
    "results = reg1.fit()\n",
    "type(results)\n",
    "\n",
    "print(results.summary())\n"
   ]
  },
  {
   "cell_type": "code",
   "execution_count": 3,
   "metadata": {},
   "outputs": [
    {
     "name": "stdout",
     "output_type": "stream",
     "text": [
      "                            OLS Regression Results                            \n",
      "==============================================================================\n",
      "Dep. Variable:                testscr   R-squared:                       0.051\n",
      "Model:                            OLS   Adj. R-squared:                  0.049\n",
      "Method:                 Least Squares   F-statistic:                     22.58\n",
      "Date:                Wed, 23 Sep 2020   Prob (F-statistic):           2.78e-06\n",
      "Time:                        11:46:41   Log-Likelihood:                -1822.2\n",
      "No. Observations:                 420   AIC:                             3648.\n",
      "Df Residuals:                     418   BIC:                             3657.\n",
      "Df Model:                           1                                         \n",
      "Covariance Type:            nonrobust                                         \n",
      "==============================================================================\n",
      "                 coef    std err          t      P>|t|      [0.025      0.975]\n",
      "------------------------------------------------------------------------------\n",
      "const        698.9330      9.467     73.825      0.000     680.323     717.543\n",
      "str           -1.1399      0.240     -4.751      0.000      -1.611      -0.668\n",
      "str           -1.1399      0.240     -4.751      0.000      -1.611      -0.668\n",
      "==============================================================================\n",
      "Omnibus:                        5.390   Durbin-Watson:                   0.129\n",
      "Prob(Omnibus):                  0.068   Jarque-Bera (JB):                3.589\n",
      "Skew:                          -0.012   Prob(JB):                        0.166\n",
      "Kurtosis:                       2.548   Cond. No.                     2.41e+17\n",
      "==============================================================================\n",
      "\n",
      "Warnings:\n",
      "[1] Standard Errors assume that the covariance matrix of the errors is correctly specified.\n",
      "[2] The smallest eigenvalue is 5.65e-30. This might indicate that there are\n",
      "strong multicollinearity problems or that the design matrix is singular.\n"
     ]
    }
   ],
   "source": [
    "reg1 = sm.OLS(endog=df['testscr'], exog=df[['const','str','str']], missing='drop')\n",
    "type(reg1)\n",
    "\n",
    "results = reg1.fit()\n",
    "type(results)\n",
    "\n",
    "print(results.summary())\n"
   ]
  },
  {
   "cell_type": "code",
   "execution_count": null,
   "metadata": {},
   "outputs": [],
   "source": []
  }
 ],
 "metadata": {
  "kernelspec": {
   "display_name": "Python 3",
   "language": "python",
   "name": "python3"
  },
  "language_info": {
   "codemirror_mode": {
    "name": "ipython",
    "version": 3
   },
   "file_extension": ".py",
   "mimetype": "text/x-python",
   "name": "python",
   "nbconvert_exporter": "python",
   "pygments_lexer": "ipython3",
   "version": "3.7.6"
  }
 },
 "nbformat": 4,
 "nbformat_minor": 2
}
